{
 "cells": [
  {
   "cell_type": "code",
   "execution_count": 2,
   "id": "5d15ed5c-6917-461a-8979-cc4a0b9dc83b",
   "metadata": {},
   "outputs": [],
   "source": [
    "import sys, os, numpy as np, pandas as pd\n",
    "sys.path.append(os.path.abspath(os.path.join(os.getcwd(), \"..\", \"src\")))\n",
    "from metrics import pdw, pdw2, cf2, make_folds\n",
    "from features_glm import build_glm_features\n",
    "\n",
    "df = pd.read_parquet(\"../data/work/freMTPL2_joined_capped.parquet\").copy()\n",
    "df.head()\n",
    "df_glm = build_glm_features(df)\n"
   ]
  },
  {
   "cell_type": "code",
   "execution_count": 3,
   "id": "51d90393-4e00-4c3a-8724-8b73d30feea1",
   "metadata": {},
   "outputs": [
    {
     "data": {
      "text/html": [
       "<div>\n",
       "<style scoped>\n",
       "    .dataframe tbody tr th:only-of-type {\n",
       "        vertical-align: middle;\n",
       "    }\n",
       "\n",
       "    .dataframe tbody tr th {\n",
       "        vertical-align: top;\n",
       "    }\n",
       "\n",
       "    .dataframe thead th {\n",
       "        text-align: right;\n",
       "    }\n",
       "</style>\n",
       "<table border=\"1\" class=\"dataframe\">\n",
       "  <thead>\n",
       "    <tr style=\"text-align: right;\">\n",
       "      <th></th>\n",
       "      <th>IDpol</th>\n",
       "      <th>Exposure</th>\n",
       "      <th>VehPower</th>\n",
       "      <th>VehAge</th>\n",
       "      <th>DrivAge</th>\n",
       "      <th>BonusMalus</th>\n",
       "      <th>VehBrand</th>\n",
       "      <th>VehGas</th>\n",
       "      <th>Area</th>\n",
       "      <th>Density</th>\n",
       "      <th>Region</th>\n",
       "      <th>ClaimNb</th>\n",
       "      <th>AreaGLM</th>\n",
       "      <th>VehPowerGLM</th>\n",
       "      <th>VehAgeGLM</th>\n",
       "      <th>DrivAgeGLM</th>\n",
       "      <th>BonusMalusGLM</th>\n",
       "      <th>DensityGLM</th>\n",
       "    </tr>\n",
       "  </thead>\n",
       "  <tbody>\n",
       "    <tr>\n",
       "      <th>0</th>\n",
       "      <td>1</td>\n",
       "      <td>0.10</td>\n",
       "      <td>5</td>\n",
       "      <td>0</td>\n",
       "      <td>55</td>\n",
       "      <td>50</td>\n",
       "      <td>B12</td>\n",
       "      <td>Regular</td>\n",
       "      <td>D</td>\n",
       "      <td>1217</td>\n",
       "      <td>Rhone-Alpes</td>\n",
       "      <td>0</td>\n",
       "      <td>4</td>\n",
       "      <td>5</td>\n",
       "      <td>1</td>\n",
       "      <td>6</td>\n",
       "      <td>50</td>\n",
       "      <td>7.104144</td>\n",
       "    </tr>\n",
       "    <tr>\n",
       "      <th>1</th>\n",
       "      <td>3</td>\n",
       "      <td>0.77</td>\n",
       "      <td>5</td>\n",
       "      <td>0</td>\n",
       "      <td>55</td>\n",
       "      <td>50</td>\n",
       "      <td>B12</td>\n",
       "      <td>Regular</td>\n",
       "      <td>D</td>\n",
       "      <td>1217</td>\n",
       "      <td>Rhone-Alpes</td>\n",
       "      <td>0</td>\n",
       "      <td>4</td>\n",
       "      <td>5</td>\n",
       "      <td>1</td>\n",
       "      <td>6</td>\n",
       "      <td>50</td>\n",
       "      <td>7.104144</td>\n",
       "    </tr>\n",
       "    <tr>\n",
       "      <th>2</th>\n",
       "      <td>5</td>\n",
       "      <td>0.75</td>\n",
       "      <td>6</td>\n",
       "      <td>2</td>\n",
       "      <td>52</td>\n",
       "      <td>50</td>\n",
       "      <td>B12</td>\n",
       "      <td>Diesel</td>\n",
       "      <td>B</td>\n",
       "      <td>54</td>\n",
       "      <td>Picardie</td>\n",
       "      <td>0</td>\n",
       "      <td>2</td>\n",
       "      <td>6</td>\n",
       "      <td>2</td>\n",
       "      <td>6</td>\n",
       "      <td>50</td>\n",
       "      <td>3.988984</td>\n",
       "    </tr>\n",
       "    <tr>\n",
       "      <th>3</th>\n",
       "      <td>10</td>\n",
       "      <td>0.09</td>\n",
       "      <td>7</td>\n",
       "      <td>0</td>\n",
       "      <td>46</td>\n",
       "      <td>50</td>\n",
       "      <td>B12</td>\n",
       "      <td>Diesel</td>\n",
       "      <td>B</td>\n",
       "      <td>76</td>\n",
       "      <td>Aquitaine</td>\n",
       "      <td>0</td>\n",
       "      <td>2</td>\n",
       "      <td>7</td>\n",
       "      <td>1</td>\n",
       "      <td>5</td>\n",
       "      <td>50</td>\n",
       "      <td>4.330733</td>\n",
       "    </tr>\n",
       "    <tr>\n",
       "      <th>4</th>\n",
       "      <td>11</td>\n",
       "      <td>0.84</td>\n",
       "      <td>7</td>\n",
       "      <td>0</td>\n",
       "      <td>46</td>\n",
       "      <td>50</td>\n",
       "      <td>B12</td>\n",
       "      <td>Diesel</td>\n",
       "      <td>B</td>\n",
       "      <td>76</td>\n",
       "      <td>Aquitaine</td>\n",
       "      <td>0</td>\n",
       "      <td>2</td>\n",
       "      <td>7</td>\n",
       "      <td>1</td>\n",
       "      <td>5</td>\n",
       "      <td>50</td>\n",
       "      <td>4.330733</td>\n",
       "    </tr>\n",
       "  </tbody>\n",
       "</table>\n",
       "</div>"
      ],
      "text/plain": [
       "   IDpol  Exposure  VehPower  VehAge  DrivAge  BonusMalus VehBrand   VehGas  \\\n",
       "0      1      0.10         5       0       55          50      B12  Regular   \n",
       "1      3      0.77         5       0       55          50      B12  Regular   \n",
       "2      5      0.75         6       2       52          50      B12   Diesel   \n",
       "3     10      0.09         7       0       46          50      B12   Diesel   \n",
       "4     11      0.84         7       0       46          50      B12   Diesel   \n",
       "\n",
       "  Area  Density       Region  ClaimNb  AreaGLM VehPowerGLM VehAgeGLM  \\\n",
       "0    D     1217  Rhone-Alpes        0        4           5         1   \n",
       "1    D     1217  Rhone-Alpes        0        4           5         1   \n",
       "2    B       54     Picardie        0        2           6         2   \n",
       "3    B       76    Aquitaine        0        2           7         1   \n",
       "4    B       76    Aquitaine        0        2           7         1   \n",
       "\n",
       "  DrivAgeGLM  BonusMalusGLM  DensityGLM  \n",
       "0          6             50    7.104144  \n",
       "1          6             50    7.104144  \n",
       "2          6             50    3.988984  \n",
       "3          5             50    4.330733  \n",
       "4          5             50    4.330733  "
      ]
     },
     "execution_count": 3,
     "metadata": {},
     "output_type": "execute_result"
    }
   ],
   "source": [
    "df_glm.head()"
   ]
  },
  {
   "cell_type": "code",
   "execution_count": 57,
   "id": "15a34ac7-4411-46aa-bd6a-afefaf944473",
   "metadata": {},
   "outputs": [
    {
     "name": "stdout",
     "output_type": "stream",
     "text": [
      "Overall freq: 0.07368 | Baseline region: Centre\n",
      "Claim Frequency (Actual) Learn/Test: 7.37% / 7.38%\n",
      "Poisson Deviance INT, Learn/Test: 31.14% / 31.26%\n"
     ]
    }
   ],
   "source": [
    "# Region als Kategorie + Baseline nach größter Exposure\n",
    "df_glm[\"Region\"] = df_glm[\"Region\"].astype(\"category\")\n",
    "\n",
    "overall_freq = df_glm[\"ClaimNb\"].sum() / df_glm[\"Exposure\"].sum()\n",
    "reg = (df_glm.groupby(\"Region\", observed=True)\n",
    "       .agg(expo=(\"Exposure\",\"sum\"), claims=(\"ClaimNb\",\"sum\"))\n",
    "       .assign(freq=lambda x: x[\"claims\"]/x[\"expo\"])\n",
    "       .sort_values(\"expo\", ascending=False))\n",
    "baseline_region = reg.index[0]\n",
    "print(f\"Overall freq: {overall_freq:.5f} | Baseline region: {baseline_region}\")\n",
    "\n",
    "# AreaGLM numerisch (nur für Replikation des R-Setups)\n",
    "area_cat = df_glm[\"Area\"].astype(\"category\")\n",
    "cats = sorted(area_cat.cat.categories)               # deterministische Reihenfolge\n",
    "df_glm[\"AreaGLM\"] = area_cat.cat.set_categories(cats, ordered=True).cat.codes + 1  # 1..K\n",
    "\n",
    "# Folds (5, Seed=42), Fold 5 = Test\n",
    "if \"fold\" not in df_glm.columns:\n",
    "    df_glm[\"fold\"] = make_folds(len(df_glm), k=5, seed=42)\n",
    "learn = df_glm[df_glm[\"fold\"] != 5].copy()\n",
    "test  = df_glm[df_glm[\"fold\"] == 5].copy()\n",
    "\n",
    "print(cf2(\"Claim Frequency (Actual) Learn/Test\",\n",
    "          learn[\"ClaimNb\"], learn[\"Exposure\"],\n",
    "          test[\"ClaimNb\"],  test[\"Exposure\"]))\n",
    "\n",
    "cf = learn[\"ClaimNb\"].sum() / learn[\"Exposure\"].sum()\n",
    "learn_pred = cf * learn[\"Exposure\"]\n",
    "test_pred  = cf * test[\"Exposure\"]\n",
    "\n",
    "print(pdw2(\"Poisson Deviance INT\",\n",
    "           learn_pred, learn[\"ClaimNb\"], learn[\"Exposure\"],\n",
    "           test_pred,  test[\"ClaimNb\"],  test[\"Exposure\"]))"
   ]
  },
  {
   "cell_type": "code",
   "execution_count": 5,
   "id": "cdb0d4f7-a1cf-477f-b972-d00ef6beb01e",
   "metadata": {},
   "outputs": [
    {
     "name": "stdout",
     "output_type": "stream",
     "text": [
      "                 Generalized Linear Model Regression Results                  \n",
      "==============================================================================\n",
      "Dep. Variable:                ClaimNb   No. Observations:               542741\n",
      "Model:                            GLM   Df Residuals:                   542693\n",
      "Model Family:                 Poisson   Df Model:                           47\n",
      "Link Function:                    Log   Scale:                          1.0000\n",
      "Method:                          IRLS   Log-Likelihood:                -85960.\n",
      "Date:                Sat, 11 Oct 2025   Deviance:                   1.3129e+05\n",
      "Time:                        09:25:02   Pearson chi2:                 9.34e+05\n",
      "No. Iterations:                     7   Pseudo R-squ. (CS):            0.01100\n",
      "Covariance Type:            nonrobust                                         \n",
      "===========================================================================================================================================\n",
      "                                                                              coef    std err          z      P>|z|      [0.025      0.975]\n",
      "-------------------------------------------------------------------------------------------------------------------------------------------\n",
      "Intercept                                                                  -4.4952      0.047    -94.961      0.000      -4.588      -4.402\n",
      "C(VehPowerGLM)[T.5]                                                         0.0410      0.024      1.681      0.093      -0.007       0.089\n",
      "C(VehPowerGLM)[T.6]                                                         0.0787      0.024      3.302      0.001       0.032       0.125\n",
      "C(VehPowerGLM)[T.7]                                                         0.0660      0.024      2.788      0.005       0.020       0.112\n",
      "C(VehPowerGLM)[T.8]                                                         0.0840      0.034      2.488      0.013       0.018       0.150\n",
      "C(VehPowerGLM)[T.9]                                                         0.2355      0.026      8.886      0.000       0.184       0.287\n",
      "C(VehAgeGLM, Treatment(reference='2'))[T.1]                                -0.0208      0.034     -0.606      0.544      -0.088       0.046\n",
      "C(VehAgeGLM, Treatment(reference='2'))[T.3]                                -0.1864      0.016    -11.431      0.000      -0.218      -0.154\n",
      "C(DrivAgeGLM, Treatment(reference='5'))[T.1]                                0.1042      0.050      2.091      0.037       0.007       0.202\n",
      "C(DrivAgeGLM, Treatment(reference='5'))[T.2]                               -0.3396      0.033    -10.312      0.000      -0.404      -0.275\n",
      "C(DrivAgeGLM, Treatment(reference='5'))[T.3]                               -0.4640      0.028    -16.535      0.000      -0.519      -0.409\n",
      "C(DrivAgeGLM, Treatment(reference='5'))[T.4]                               -0.2841      0.020    -13.964      0.000      -0.324      -0.244\n",
      "C(DrivAgeGLM, Treatment(reference='5'))[T.6]                               -0.0807      0.019     -4.279      0.000      -0.118      -0.044\n",
      "C(DrivAgeGLM, Treatment(reference='5'))[T.7]                               -0.0788      0.031     -2.514      0.012      -0.140      -0.017\n",
      "C(VehBrand)[T.B10]                                                          0.0041      0.044      0.094      0.925      -0.083       0.091\n",
      "C(VehBrand)[T.B11]                                                          0.1613      0.047      3.431      0.001       0.069       0.254\n",
      "C(VehBrand)[T.B12]                                                         -0.2582      0.024    -10.572      0.000      -0.306      -0.210\n",
      "C(VehBrand)[T.B13]                                                          0.0504      0.050      1.007      0.314      -0.048       0.149\n",
      "C(VehBrand)[T.B14]                                                         -0.2339      0.101     -2.312      0.021      -0.432      -0.036\n",
      "C(VehBrand)[T.B2]                                                          -0.0078      0.019     -0.404      0.686      -0.046       0.030\n",
      "C(VehBrand)[T.B3]                                                           0.0417      0.027      1.557      0.119      -0.011       0.094\n",
      "C(VehBrand)[T.B4]                                                           0.0266      0.037      0.724      0.469      -0.045       0.098\n",
      "C(VehBrand)[T.B5]                                                           0.0713      0.031      2.301      0.021       0.011       0.132\n",
      "C(VehBrand)[T.B6]                                                           0.0476      0.034      1.382      0.167      -0.020       0.115\n",
      "C(VehGas)[T.Regular]                                                       -0.1694      0.015    -11.358      0.000      -0.199      -0.140\n",
      "C(Region, Treatment(reference='Centre'))[T.Alsace]                         -0.0005      0.117     -0.004      0.997      -0.229       0.228\n",
      "C(Region, Treatment(reference='Centre'))[T.Aquitaine]                       0.0753      0.037      2.014      0.044       0.002       0.149\n",
      "C(Region, Treatment(reference='Centre'))[T.Auvergne]                       -0.0773      0.098     -0.792      0.429      -0.269       0.114\n",
      "C(Region, Treatment(reference='Centre'))[T.Basse-Normandie]                -0.0362      0.055     -0.658      0.510      -0.144       0.072\n",
      "C(Region, Treatment(reference='Centre'))[T.Bourgogne]                       0.0341      0.061      0.555      0.579      -0.086       0.155\n",
      "C(Region, Treatment(reference='Centre'))[T.Bretagne]                       -0.0118      0.030     -0.399      0.690      -0.070       0.046\n",
      "C(Region, Treatment(reference='Centre'))[T.Champagne-Ardenne]              -0.0145      0.130     -0.111      0.912      -0.270       0.241\n",
      "C(Region, Treatment(reference='Centre'))[T.Corse]                           0.1246      0.098      1.265      0.206      -0.068       0.317\n",
      "C(Region, Treatment(reference='Centre'))[T.Franche-Comte]                  -0.0321      0.180     -0.178      0.859      -0.385       0.321\n",
      "C(Region, Treatment(reference='Centre'))[T.Haute-Normandie]                -0.0327      0.077     -0.423      0.672      -0.184       0.119\n",
      "C(Region, Treatment(reference='Centre'))[T.Ile-de-France]                  -0.0269      0.031     -0.870      0.384      -0.088       0.034\n",
      "C(Region, Treatment(reference='Centre'))[T.Languedoc-Roussillon]            0.0096      0.038      0.253      0.800      -0.065       0.084\n",
      "C(Region, Treatment(reference='Centre'))[T.Limousin]                        0.3413      0.081      4.229      0.000       0.183       0.499\n",
      "C(Region, Treatment(reference='Centre'))[T.Midi-Pyrenees]                  -0.2316      0.061     -3.820      0.000      -0.350      -0.113\n",
      "C(Region, Treatment(reference='Centre'))[T.Nord-Pas-de-Calais]             -0.0288      0.034     -0.849      0.396      -0.095       0.038\n",
      "C(Region, Treatment(reference='Centre'))[T.Pays-de-la-Loire]                0.0004      0.032      0.012      0.990      -0.062       0.063\n",
      "C(Region, Treatment(reference='Centre'))[T.Picardie]                        0.1333      0.065      2.042      0.041       0.005       0.261\n",
      "C(Region, Treatment(reference='Centre'))[T.Poitou-Charentes]                0.0611      0.042      1.466      0.143      -0.021       0.143\n",
      "C(Region, Treatment(reference='Centre'))[T.Provence-Alpes-Cotes-D'Azur]     0.1064      0.027      3.979      0.000       0.054       0.159\n",
      "C(Region, Treatment(reference='Centre'))[T.Rhone-Alpes]                     0.1827      0.024      7.705      0.000       0.136       0.229\n",
      "BonusMalusGLM                                                               0.0273      0.000     66.648      0.000       0.026       0.028\n",
      "DensityGLM                                                                  0.0521      0.016      3.296      0.001       0.021       0.083\n",
      "AreaGLM                                                                     0.0349      0.021      1.639      0.101      -0.007       0.077\n",
      "===========================================================================================================================================\n"
     ]
    }
   ],
   "source": [
    "import statsmodels.formula.api as smf\n",
    "from statsmodels.genmod import families\n",
    "\n",
    "formula = (\n",
    "    \"ClaimNb ~ \"\n",
    "    \"C(VehPowerGLM) + C(VehAgeGLM, Treatment(reference='2')) \"\n",
    "    \"+ C(DrivAgeGLM, Treatment(reference='5')) \"\n",
    "    \"+ BonusMalusGLM + C(VehBrand) + C(VehGas) + DensityGLM \"\n",
    "    f\"+ C(Region, Treatment(reference='{baseline_region}')) \"\n",
    "    \"+ AreaGLM\"   \n",
    ")\n",
    "\n",
    "glm1 = smf.glm(\n",
    "    formula=formula,\n",
    "    data=learn,\n",
    "    family=families.Poisson(),\n",
    "    offset=np.log(learn[\"Exposure\"])\n",
    ").fit()\n",
    "\n",
    "print(glm1.summary())\n"
   ]
  },
  {
   "cell_type": "code",
   "execution_count": 6,
   "id": "cb990f36-8166-4b59-ac2e-5bf57bc6c361",
   "metadata": {},
   "outputs": [
    {
     "name": "stdout",
     "output_type": "stream",
     "text": [
      "Poisson Deviance GLM1, Learn/Test: 29.54% / 29.55%\n",
      "Claim Frequency GLM1, Test-Sample, Actual/Predicted: 7.38% / 7.36%\n"
     ]
    }
   ],
   "source": [
    "# Learn: fittedvalues enthalten Offset bereits\n",
    "learn_pred = glm1.fittedvalues\n",
    "\n",
    "# Test: Offset explizit mitgeben\n",
    "test_pred = glm1.predict(test, offset=np.log(test[\"Exposure\"]))\n",
    "\n",
    "print(pdw2(\"Poisson Deviance GLM1\",\n",
    "           learn_pred, learn[\"ClaimNb\"], learn[\"Exposure\"],\n",
    "           test_pred,  test[\"ClaimNb\"],  test[\"Exposure\"]))\n",
    "\n",
    "print(cf2(\"Claim Frequency GLM1, Test-Sample, Actual/Predicted\",\n",
    "          test[\"ClaimNb\"], test[\"Exposure\"],\n",
    "          test_pred,      test[\"Exposure\"]))\n"
   ]
  },
  {
   "cell_type": "code",
   "execution_count": 7,
   "id": "36af9cb4-2139-46d9-a0bb-38e54d40bf7b",
   "metadata": {},
   "outputs": [
    {
     "data": {
      "image/png": "[encoded data removed]",
      "text/plain": [
       "<Figure size 640x480 with 1 Axes>"
      ]
     },
     "metadata": {},
     "output_type": "display_data"
    }
   ],
   "source": [
    "import matplotlib.pyplot as plt\n",
    "\n",
    "\n",
    "test = df_glm[df_glm[\"fold\"]==5].copy()\n",
    "# Vorhergesagte Counts aus GLM1:\n",
    "test_pred = glm1.predict(test, offset=np.log(test[\"Exposure\"]))\n",
    "\n",
    "# Predicted rate = μ / Exposure\n",
    "pred_rate = test_pred / test[\"Exposure\"]\n",
    "\n",
    "# Dezile bilden\n",
    "dec = pd.qcut(pred_rate, q=10, duplicates=\"drop\")\n",
    "cal = (pd.DataFrame({\n",
    "        \"decile\": dec,\n",
    "        \"expo\": test[\"Exposure\"].to_numpy(),\n",
    "        \"claims\": test[\"ClaimNb\"].to_numpy(),\n",
    "        \"pred\": test_pred.to_numpy()\n",
    "      })\n",
    "      .groupby(\"decile\",observed=False)\n",
    "      .agg(expo=(\"expo\",\"sum\"), claims=(\"claims\",\"sum\"), pred=(\"pred\",\"sum\"))\n",
    "      .assign(obs_rate=lambda d: d[\"claims\"]/d[\"expo\"],\n",
    "              pred_rate=lambda d: d[\"pred\"]/d[\"expo\"])\n",
    "      .reset_index())\n",
    "\n",
    "plt.figure()\n",
    "plt.plot(range(1, len(cal)+1), cal[\"obs_rate\"], marker=\"o\", label=\"Observed\")\n",
    "plt.plot(range(1, len(cal)+1), cal[\"pred_rate\"], marker=\"s\", label=\"Predicted\")\n",
    "plt.xlabel(\"Decile of predicted rate (low → high)\")\n",
    "plt.ylabel(\"Claim rate (claims per exposure)\")\n",
    "plt.title(\"Calibration (reliability) — GLM1 (Test)\")\n",
    "plt.legend()\n",
    "plt.tight_layout()\n",
    "plt.show()\n"
   ]
  },
  {
   "cell_type": "code",
   "execution_count": 8,
   "id": "cf3d01c6-9848-4049-9a6e-9abe6ab50f11",
   "metadata": {},
   "outputs": [
    {
     "name": "stdout",
     "output_type": "stream",
     "text": [
      "Test PDW — GLM1 (AreaGLM numeric): 29.55%\n",
      "Test PDW — GLM1 (C(Area) categorical): 29.55%\n",
      "ΔPDW (categorical - numeric): +0.00 pp\n"
     ]
    }
   ],
   "source": [
    "import statsmodels.formula.api as smf\n",
    "from statsmodels.genmod import families\n",
    "from metrics import pdw\n",
    "\n",
    "# 1) Modell mit AreaGLM : Test-PDW als Referenz\n",
    "test_pred_glm1 = glm1.predict(test, offset=np.log(test[\"Exposure\"]))\n",
    "pdw_glm1_test = pdw(test_pred_glm1, test[\"ClaimNb\"], test[\"Exposure\"])\n",
    "\n",
    "# 2) Gleiches Modell, aber Area als Kategorie \n",
    "formula_area_cat = (\n",
    "    \"ClaimNb ~ \"\n",
    "    \"C(VehPowerGLM) + C(VehAgeGLM, Treatment(reference='2')) \"\n",
    "    \"+ C(DrivAgeGLM, Treatment(reference='5')) \"\n",
    "    \"+ BonusMalusGLM + C(VehBrand) + C(VehGas) + DensityGLM \"\n",
    "    f\"+ C(Region, Treatment(reference='{baseline_region}')) \"\n",
    "    \"+ C(Area)\"  \n",
    ")\n",
    "\n",
    "glm1_areaC = smf.glm(formula=formula_area_cat, data=learn,\n",
    "                     family=families.Poisson(),\n",
    "                     offset=np.log(learn[\"Exposure\"])).fit()\n",
    "\n",
    "test_pred_areaC = glm1_areaC.predict(test, offset=np.log(test[\"Exposure\"]))\n",
    "pdw_areaC_test = pdw(test_pred_areaC, test[\"ClaimNb\"], test[\"Exposure\"])\n",
    "\n",
    "print(f\"Test PDW — GLM1 (AreaGLM numeric): {pdw_glm1_test:.2f}%\")\n",
    "print(f\"Test PDW — GLM1 (C(Area) categorical): {pdw_areaC_test:.2f}%\")\n",
    "print(f\"ΔPDW (categorical - numeric): {pdw_areaC_test - pdw_glm1_test:+.2f} pp\")\n"
   ]
  },
  {
   "cell_type": "code",
   "execution_count": 9,
   "id": "90304eee-36cd-4cdb-8458-6e476cd181c9",
   "metadata": {},
   "outputs": [
    {
     "name": "stdout",
     "output_type": "stream",
     "text": [
      "LR stat = 6.045, df = 4, p = 0.1958\n",
      "AIC  numeric = 172016.0 | categorical = 172018.0 | del AIC = +1.955\n",
      "BIC  numeric = -7034633.9 | categorical = -7034587.2\n"
     ]
    },
    {
     "name": "stderr",
     "output_type": "stream",
     "text": [
      "/home/steve/code/freMTPL2-pricing/.venv/lib/python3.12/site-packages/statsmodels/genmod/generalized_linear_model.py:1923: FutureWarning: The bic value is computed using the deviance formula. After 0.13 this will change to the log-likelihood based formula. This change has no impact on the relative rank of models compared using BIC. You can directly access the log-likelihood version using the `bic_llf` attribute. You can suppress this message by calling statsmodels.genmod.generalized_linear_model.SET_USE_BIC_LLF with True to get the LLF-based version now or False to retainthe deviance version.\n",
      "  warnings.warn(\n"
     ]
    }
   ],
   "source": [
    "from scipy.stats import chi2\n",
    "\n",
    "# Zahl der Area-Stufen (für DF-Differenz)\n",
    "n_levels_area = df_glm[\"Area\"].astype(\"category\").cat.categories.size\n",
    "df_diff = (n_levels_area - 1) - 1  # (K-1) Dummies vs. 1 Numerik\n",
    "\n",
    "LR = 2.0 * (glm1_areaC.llf - glm1.llf)\n",
    "pval = 1.0 - chi2.cdf(LR, df_diff)\n",
    "\n",
    "print(f\"LR stat = {LR:.3f}, df = {df_diff}, p = {pval:.4g}\")\n",
    "print(f\"AIC  numeric = {glm1.aic:.1f} | categorical = {glm1_areaC.aic:.1f} | del AIC = {glm1_areaC.aic - glm1.aic:+.3f}\")\n",
    "print(f\"BIC  numeric = {glm1.bic if hasattr(glm1,'bic') else float('nan'):.1f} \"\n",
    "      f\"| categorical = {glm1_areaC.bic if hasattr(glm1_areaC,'bic') else float('nan'):.1f}\")\n"
   ]
  },
  {
   "cell_type": "markdown",
   "id": "0893ce7a-da0b-4118-b3aa-d53020d942b3",
   "metadata": {},
   "source": [
    "## GLM1 – Kurzbericht \n",
    "**Setup.**  \n",
    "Poisson-GLM für $\\,\\text{ClaimNb}\\,$ mit **Offset** $\\log(\\text{Exposure})$.  \n",
    "Features nach Schelldorfer & Wüthrich (2019):  \n",
    "$VehPowerGLM,\\; VehAgeGLM,\\; DrivAgeGLM,\\; BonusMalusGLM,\\; VehBrand,\\; VehGas,\\; DensityGLM,\\; Region,\\; AreaGLM.$  \n",
    "Split: 5 Folds (Seed 42), **Fold 5 = Test (~20 %)**.\n",
    "\n",
    "---\n",
    "\n",
    "### Baselines\n",
    "- Claim Frequency (Actual) Learn/Test: **7.38 % / 7.36 %**  \n",
    "- **INT** (Intercept-only) Poisson-Deviance Test: **≈ 31 %** *(Referenzniveau)*\n",
    "\n",
    "---\n",
    "\n",
    "### GLM1 (klassenbasiert, wie Quelle)\n",
    "- **Poisson Deviance Learn/Test:** **29.54 % / 29.55 %**  \n",
    "  $$\\Downarrow\\quad\\text{Verbesserung ggü. INT um ca. }1.5\\ \\text{pp (Test).}$$\n",
    "- **Claim Frequency (Test, Actual/Predicted):** **7.38 % / 7.36 %**  \n",
    "  → **Niveau-Kalibrierung passt** (durchschnittliche Rate korrekt).\n",
    "\n",
    "---\n",
    "\n",
    "### Area-Kodierung (Sanity-Check)\n",
    "Vergleich $AreaGLM$ (numerisch) vs. $C(Area)$ (kategorisch/Dummy):\n",
    "- **Test-PDW:** **29.55 % vs. 29.55 %** ($\\Delta = 0.00$ pp)\n",
    "- **LR-Test:** $\\chi^2=6.045,\\ \\text{df}=4,\\ p=0.1958$ → *kein signifikanter Gewinn* durch $C(Area)$  \n",
    "- **AIC:** numerisch $=172016.0$ | kategorisch $=172018.0$ → $\\Delta \\text{AIC} = +1.955$ *(kategorisch minus numerisch)*\n",
    "\n",
    "**Fazit:** $Area$ trägt in diesem Setup **kaum**; wir behalten **$AreaGLM$**.\n",
    "\n",
    "---\n",
    "\n",
    "### Exkurs: AIC \n",
    "Der **Akaike Information Criterion** misst Güte vs. Komplexität:\n",
    "$$\n",
    "\\text{AIC} = 2k \\;-\\; 2\\ell,\n",
    "$$\n",
    "mit $k=$ Anzahl freier Parameter und $\\ell=$ maximierter Log-Likelihood.  \n",
    "**Kleiner** ist **besser**. Richtwerte:\n",
    "- $\\Delta \\text{AIC} < 2$: Modelle sind **praktisch gleichwertig**.  \n",
    "- $4\\text{–}7$: **schwacher** Vorteil.  \n",
    "- $>10$: **klarer** Vorteil.\n",
    "\n",
    "Hier ist $\\Delta \\text{AIC}\\approx 2$ → **keine** belastbare Verbesserung durch die Dummy-Kodierung; der einfachere $AreaGLM$ ist angemessen.\n",
    "\n"
   ]
  },
  {
   "cell_type": "code",
   "execution_count": 10,
   "id": "8df393d2-4683-488a-8e97-f6dad47fc9cf",
   "metadata": {},
   "outputs": [],
   "source": [
    "###GLM2 setup\n",
    "\n",
    "for part in (learn, test):\n",
    "    part[\"log_DrivAge\"] = np.log(part[\"DrivAge\"].astype(float))\n",
    "    part[\"DrivAge2\"] = part[\"DrivAge\"].astype(float)**2\n",
    "    part[\"DrivAge3\"] = part[\"DrivAge\"].astype(float)**3\n",
    "    part[\"DrivAge4\"] = part[\"DrivAge\"].astype(float)**4"
   ]
  },
  {
   "cell_type": "code",
   "execution_count": 11,
   "id": "82db7d14-08ee-49d5-81ba-445d3dd2c0f3",
   "metadata": {},
   "outputs": [
    {
     "name": "stdout",
     "output_type": "stream",
     "text": [
      "                 Generalized Linear Model Regression Results                  \n",
      "==============================================================================\n",
      "Dep. Variable:                ClaimNb   No. Observations:               542741\n",
      "Model:                            GLM   Df Residuals:                   542695\n",
      "Model Family:                 Poisson   Df Model:                           45\n",
      "Link Function:                    Log   Scale:                          1.0000\n",
      "Method:                          IRLS   Log-Likelihood:                -85931.\n",
      "Date:                Sat, 11 Oct 2025   Deviance:                   1.3124e+05\n",
      "Time:                        09:25:28   Pearson chi2:                 9.32e+05\n",
      "No. Iterations:                     7   Pseudo R-squ. (CS):            0.01110\n",
      "Covariance Type:            nonrobust                                         \n",
      "===========================================================================================================================================\n",
      "                                                                              coef    std err          z      P>|z|      [0.025      0.975]\n",
      "-------------------------------------------------------------------------------------------------------------------------------------------\n",
      "Intercept                                                                  75.1460      6.899     10.892      0.000      61.624      88.668\n",
      "C(VehPowerGLM)[T.5]                                                         0.0422      0.024      1.732      0.083      -0.006       0.090\n",
      "C(VehPowerGLM)[T.6]                                                         0.0807      0.024      3.383      0.001       0.034       0.127\n",
      "C(VehPowerGLM)[T.7]                                                         0.0655      0.024      2.767      0.006       0.019       0.112\n",
      "C(VehPowerGLM)[T.8]                                                         0.0810      0.034      2.401      0.016       0.015       0.147\n",
      "C(VehPowerGLM)[T.9]                                                         0.2340      0.026      8.832      0.000       0.182       0.286\n",
      "C(VehAgeGLM, Treatment(reference='2'))[T.1]                                -0.0206      0.034     -0.602      0.547      -0.088       0.047\n",
      "C(VehAgeGLM, Treatment(reference='2'))[T.3]                                -0.1906      0.016    -11.682      0.000      -0.223      -0.159\n",
      "C(VehBrand)[T.B10]                                                          0.0029      0.044      0.066      0.947      -0.084       0.090\n",
      "C(VehBrand)[T.B11]                                                          0.1623      0.047      3.451      0.001       0.070       0.255\n",
      "C(VehBrand)[T.B12]                                                         -0.2557      0.024    -10.469      0.000      -0.304      -0.208\n",
      "C(VehBrand)[T.B13]                                                          0.0467      0.050      0.932      0.351      -0.051       0.145\n",
      "C(VehBrand)[T.B14]                                                         -0.2339      0.101     -2.311      0.021      -0.432      -0.036\n",
      "C(VehBrand)[T.B2]                                                          -0.0068      0.019     -0.352      0.725      -0.045       0.031\n",
      "C(VehBrand)[T.B3]                                                           0.0425      0.027      1.586      0.113      -0.010       0.095\n",
      "C(VehBrand)[T.B4]                                                           0.0260      0.037      0.710      0.478      -0.046       0.098\n",
      "C(VehBrand)[T.B5]                                                           0.0713      0.031      2.301      0.021       0.011       0.132\n",
      "C(VehBrand)[T.B6]                                                           0.0483      0.034      1.402      0.161      -0.019       0.116\n",
      "C(VehGas)[T.Regular]                                                       -0.1685      0.015    -11.285      0.000      -0.198      -0.139\n",
      "C(Region, Treatment(reference='Centre'))[T.Alsace]                          0.0041      0.117      0.035      0.972      -0.225       0.233\n",
      "C(Region, Treatment(reference='Centre'))[T.Aquitaine]                       0.0772      0.037      2.065      0.039       0.004       0.151\n",
      "C(Region, Treatment(reference='Centre'))[T.Auvergne]                       -0.0731      0.098     -0.749      0.454      -0.264       0.118\n",
      "C(Region, Treatment(reference='Centre'))[T.Basse-Normandie]                -0.0356      0.055     -0.648      0.517      -0.143       0.072\n",
      "C(Region, Treatment(reference='Centre'))[T.Bourgogne]                       0.0339      0.061      0.552      0.581      -0.087       0.154\n",
      "C(Region, Treatment(reference='Centre'))[T.Bretagne]                       -0.0104      0.030     -0.349      0.727      -0.068       0.048\n",
      "C(Region, Treatment(reference='Centre'))[T.Champagne-Ardenne]              -0.0074      0.130     -0.057      0.955      -0.263       0.248\n",
      "C(Region, Treatment(reference='Centre'))[T.Corse]                           0.1287      0.098      1.308      0.191      -0.064       0.322\n",
      "C(Region, Treatment(reference='Centre'))[T.Franche-Comte]                  -0.0287      0.180     -0.159      0.874      -0.382       0.325\n",
      "C(Region, Treatment(reference='Centre'))[T.Haute-Normandie]                -0.0319      0.077     -0.413      0.680      -0.184       0.120\n",
      "C(Region, Treatment(reference='Centre'))[T.Ile-de-France]                  -0.0272      0.031     -0.878      0.380      -0.088       0.034\n",
      "C(Region, Treatment(reference='Centre'))[T.Languedoc-Roussillon]            0.0083      0.038      0.218      0.828      -0.066       0.083\n",
      "C(Region, Treatment(reference='Centre'))[T.Limousin]                        0.3406      0.081      4.220      0.000       0.182       0.499\n",
      "C(Region, Treatment(reference='Centre'))[T.Midi-Pyrenees]                  -0.2297      0.061     -3.788      0.000      -0.348      -0.111\n",
      "C(Region, Treatment(reference='Centre'))[T.Nord-Pas-de-Calais]             -0.0229      0.034     -0.675      0.500      -0.089       0.044\n",
      "C(Region, Treatment(reference='Centre'))[T.Pays-de-la-Loire]               -0.0019      0.032     -0.060      0.952      -0.065       0.061\n",
      "C(Region, Treatment(reference='Centre'))[T.Picardie]                        0.1386      0.065      2.123      0.034       0.011       0.267\n",
      "C(Region, Treatment(reference='Centre'))[T.Poitou-Charentes]                0.0609      0.042      1.461      0.144      -0.021       0.143\n",
      "C(Region, Treatment(reference='Centre'))[T.Provence-Alpes-Cotes-D'Azur]     0.1060      0.027      3.965      0.000       0.054       0.158\n",
      "C(Region, Treatment(reference='Centre'))[T.Rhone-Alpes]                     0.1815      0.024      7.652      0.000       0.135       0.228\n",
      "BonusMalusGLM                                                               0.0275      0.000     66.711      0.000       0.027       0.028\n",
      "DensityGLM                                                                  0.0521      0.016      3.291      0.001       0.021       0.083\n",
      "AreaGLM                                                                     0.0348      0.021      1.634      0.102      -0.007       0.076\n",
      "DrivAge                                                                     3.8011      0.400      9.498      0.000       3.017       4.586\n",
      "log_DrivAge                                                               -45.7863      4.225    -10.836      0.000     -54.068     -37.505\n",
      "DrivAge2                                                                   -0.0543      0.007     -8.084      0.000      -0.067      -0.041\n",
      "DrivAge3                                                                    0.0004   6.35e-05      6.754      0.000       0.000       0.001\n",
      "DrivAge4                                                                -1.347e-06   2.42e-07     -5.568      0.000   -1.82e-06   -8.73e-07\n",
      "===========================================================================================================================================\n"
     ]
    }
   ],
   "source": [
    "baseline_region = \"Centre\"\n",
    "\n",
    "formula_glm2 = (\n",
    "    \"ClaimNb ~ \"\n",
    "    \"C(VehPowerGLM)\"\n",
    "    \" + C(VehAgeGLM, Treatment(reference='2'))\"\n",
    "    \" + BonusMalusGLM\"\n",
    "    \" + C(VehBrand) + C(VehGas)\"\n",
    "    \" + DensityGLM\"\n",
    "    f\" + C(Region, Treatment(reference='{baseline_region}'))\"\n",
    "    \" + AreaGLM\"\n",
    "    \" + DrivAge + log_DrivAge + DrivAge2 + DrivAge3 + DrivAge4\"\n",
    ")\n",
    "\n",
    "glm2 = smf.glm(\n",
    "    formula=formula_glm2,\n",
    "    data=learn,\n",
    "    family=families.Poisson(),\n",
    "    offset=np.log(learn[\"Exposure\"])\n",
    ").fit()\n",
    "\n",
    "print(glm2.summary())  "
   ]
  },
  {
   "cell_type": "code",
   "execution_count": 12,
   "id": "9ee4bc7d-9b11-4848-8add-1de81706654d",
   "metadata": {},
   "outputs": [
    {
     "name": "stdout",
     "output_type": "stream",
     "text": [
      "Poisson Deviance GLM1, Learn/Test: 29.54% / 29.55%\n",
      "Poisson Deviance GLM2, Learn/Test: 29.53% / 29.52%\n",
      "Claim Frequency GLM2, Test (Actual/Predicted): 7.38% / 7.36%\n",
      "PDW(Test) INT=31.26% | GLM1=29.55% | GLM2=29.52% | Δ(GLM2-GLM1)=-0.03 pp\n"
     ]
    }
   ],
   "source": [
    "# GLM2: Learn/Test-Predictions\n",
    "learn_pred_glm2 = glm2.fittedvalues\n",
    "test_pred_glm2  = glm2.predict(test, offset=np.log(test[\"Exposure\"]))\n",
    "\n",
    "# INT-Baseline (wie zuvor)\n",
    "cf = learn[\"ClaimNb\"].sum() / learn[\"Exposure\"].sum()\n",
    "test_pred_int = cf * test[\"Exposure\"]\n",
    "test_pred_glm1 = glm1.predict(test, offset=np.log(test[\"Exposure\"]))\n",
    "\n",
    "# PDW/CF report\n",
    "print(pdw2(\"Poisson Deviance GLM1\",\n",
    "           glm1.fittedvalues, learn[\"ClaimNb\"], learn[\"Exposure\"],\n",
    "           test_pred_glm1,  test[\"ClaimNb\"],  test[\"Exposure\"]))\n",
    "\n",
    "print(pdw2(\"Poisson Deviance GLM2\",\n",
    "           learn_pred_glm2, learn[\"ClaimNb\"], learn[\"Exposure\"],\n",
    "           test_pred_glm2,  test[\"ClaimNb\"],  test[\"Exposure\"]))\n",
    "\n",
    "print(cf2(\"Claim Frequency GLM2, Test (Actual/Predicted)\",\n",
    "          test[\"ClaimNb\"], test[\"Exposure\"],\n",
    "          test_pred_glm2,  test[\"Exposure\"]))\n",
    "\n",
    "# Verbesserung gg. INT (auf Test)\n",
    "pdw_int  = pdw(test_pred_int,  test[\"ClaimNb\"], test[\"Exposure\"])\n",
    "pdw_g1   = pdw(test_pred_glm1, test[\"ClaimNb\"], test[\"Exposure\"])\n",
    "pdw_g2   = pdw(test_pred_glm2, test[\"ClaimNb\"], test[\"Exposure\"])\n",
    "\n",
    "print(f\"PDW(Test) INT={pdw_int:.2f}% | GLM1={pdw_g1:.2f}% | GLM2={pdw_g2:.2f}% \"\n",
    "      f\"| Δ(GLM2-GLM1)={pdw_g2 - pdw_g1:+.2f} pp\")"
   ]
  },
  {
   "cell_type": "markdown",
   "id": "ff31360d-274b-4e32-af42-1318d27d456d",
   "metadata": {},
   "source": [
    "## GLM2 – Kurzfazit & Vergleich zu GLM1 \n",
    "\n",
    "**Setup.** Wie GLM1 (Poisson mit Offset $\\log(\\text{Exposure})$), zusätzlich kontinuierliche Terme für $\\,\\text{DrivAge}\\,$:\n",
    "\\[\n",
    "\\log(\\text{DrivAge}),\\quad \\text{DrivAge}^2,\\ \\text{DrivAge}^3,\\ \\text{DrivAge}^4.\n",
    "\\]\n",
    "\n",
    "**Ergebnisse.**\n",
    "- **Poisson-Deviance (Learn/Test):**  \n",
    "  GLM1 **29.54 % / 29.55 %**  \n",
    "  GLM2 **29.53 % / 29.52 %**  $\\Rightarrow$ **$\\Delta$ Test = −0.03 pp** (minimal besser)\n",
    "- **Claim Frequency (Test, Actual/Pred):** **7.38 % / 7.36 %**\n",
    "- **vs. INT (Test-PDW 31.26 %)**:  \n",
    "  GLM1 verbessert um **1.71 pp**, GLM2 um **1.74 pp**.\n",
    "\n",
    "**Interpretation.**  \n",
    "Die zusätzlichen nichtlinearen $\\,\\text{DrivAge}$-Terme liefern einen **kleinen, aber konsistenten** Gewinn ggü. GLM1. Das deutet auf leichte Nichtlinearität in der Alterswirkung hin; größere Sprünge sind ohne weitere Glättung/Interaktionen nicht zu erwarten. Für mehr Flexibilität bietet sich als nächstes ein **GAM** mit Splines an (oder Interaktionen wie $\\text{DrivAge}\\times\\text{BonusMalus}$ – stets out-of-sample prüfen).\n"
   ]
  },
  {
   "cell_type": "code",
   "execution_count": 14,
   "id": "40f04c9f-d726-46a9-a83c-c63d19c52e47",
   "metadata": {
    "scrolled": true
   },
   "outputs": [
    {
     "name": "stderr",
     "output_type": "stream",
     "text": [
      "Iteration 0: |                              | 0/? [s/it, gradient norm=1.734723475976807e-18]\n"
     ]
    },
    {
     "name": "stdout",
     "output_type": "stream",
     "text": [
      "alpha=5.490e-01, time=0.07s, n_iter=0\n"
     ]
    },
    {
     "name": "stderr",
     "output_type": "stream",
     "text": [
      "Iteration 1:  61%|██████████▎      | 1.22/2.0 [0.16s/it, gradient norm=0.0005961086105021175]\n"
     ]
    },
    {
     "name": "stdout",
     "output_type": "stream",
     "text": [
      "alpha=4.344e-01, time=0.37s, n_iter=2\n"
     ]
    },
    {
     "name": "stderr",
     "output_type": "stream",
     "text": [
      "Iteration 1:  54%|█████████        | 1.07/2.0 [0.11s/it, gradient norm=0.0008521741085897965]\n"
     ]
    },
    {
     "name": "stdout",
     "output_type": "stream",
     "text": [
      "alpha=3.437e-01, time=0.33s, n_iter=2\n"
     ]
    },
    {
     "name": "stderr",
     "output_type": "stream",
     "text": [
      "Iteration 1:  67%|███████████▍     | 1.34/2.0 [0.11s/it, gradient norm=0.0004561222282531258]\n"
     ]
    },
    {
     "name": "stdout",
     "output_type": "stream",
     "text": [
      "alpha=2.720e-01, time=0.35s, n_iter=2\n"
     ]
    },
    {
     "name": "stderr",
     "output_type": "stream",
     "text": [
      "Iteration 1:  80%|█████████████▌   | 1.59/2.0 [0.14s/it, gradient norm=0.0002573458583267148]\n"
     ]
    },
    {
     "name": "stdout",
     "output_type": "stream",
     "text": [
      "alpha=2.152e-01, time=0.35s, n_iter=2\n"
     ]
    },
    {
     "name": "stderr",
     "output_type": "stream",
     "text": [
      "Iteration 1:  91%|██████████████▌ | 1.82/2.0 [0.14s/it, gradient norm=0.00014969112428200914]\n"
     ]
    },
    {
     "name": "stdout",
     "output_type": "stream",
     "text": [
      "alpha=1.703e-01, time=0.51s, n_iter=2\n"
     ]
    },
    {
     "name": "stderr",
     "output_type": "stream",
     "text": [
      "Iteration 0:  30%|█████▋             | 0.6/2.0 [0.17s/it, gradient norm=0.002507608003206223]\n"
     ]
    },
    {
     "name": "stdout",
     "output_type": "stream",
     "text": [
      "alpha=1.347e-01, time=0.49s, n_iter=1\n"
     ]
    },
    {
     "name": "stderr",
     "output_type": "stream",
     "text": [
      "Iteration 0:  36%|██████▋            | 0.71/2.0 [0.14s/it, gradient norm=0.00194879209757494]\n"
     ]
    },
    {
     "name": "stdout",
     "output_type": "stream",
     "text": [
      "alpha=1.066e-01, time=0.45s, n_iter=1\n"
     ]
    },
    {
     "name": "stderr",
     "output_type": "stream",
     "text": [
      "Iteration 0:  40%|███████▎          | 0.81/2.0 [0.18s/it, gradient norm=0.001550384754360238]\n"
     ]
    },
    {
     "name": "stdout",
     "output_type": "stream",
     "text": [
      "alpha=8.434e-02, time=0.38s, n_iter=1\n"
     ]
    },
    {
     "name": "stderr",
     "output_type": "stream",
     "text": [
      "Iteration 0:  46%|███████▋         | 0.91/2.0 [0.17s/it, gradient norm=0.0012299144395120408]\n"
     ]
    },
    {
     "name": "stdout",
     "output_type": "stream",
     "text": [
      "alpha=6.673e-02, time=0.43s, n_iter=1\n"
     ]
    },
    {
     "name": "stderr",
     "output_type": "stream",
     "text": [
      "Iteration 0:   1%|▏                | 0.01/1.0 [0.13s/it, gradient norm=0.0009752144584006448]\n"
     ]
    },
    {
     "name": "stdout",
     "output_type": "stream",
     "text": [
      "alpha=5.280e-02, time=0.34s, n_iter=1\n"
     ]
    },
    {
     "name": "stderr",
     "output_type": "stream",
     "text": [
      "Iteration 0:  11%|█▊               | 0.11/1.0 [0.17s/it, gradient norm=0.0007729048510843452]\n"
     ]
    },
    {
     "name": "stdout",
     "output_type": "stream",
     "text": [
      "alpha=4.178e-02, time=0.38s, n_iter=1\n"
     ]
    },
    {
     "name": "stderr",
     "output_type": "stream",
     "text": [
      "Iteration 0:  21%|███▌             | 0.21/1.0 [0.16s/it, gradient norm=0.0006137755121482299]\n"
     ]
    },
    {
     "name": "stdout",
     "output_type": "stream",
     "text": [
      "alpha=3.306e-02, time=0.36s, n_iter=1\n"
     ]
    },
    {
     "name": "stderr",
     "output_type": "stream",
     "text": [
      "Iteration 0:  31%|█████▎           | 0.31/1.0 [0.12s/it, gradient norm=0.0004862382140395534]\n"
     ]
    },
    {
     "name": "stdout",
     "output_type": "stream",
     "text": [
      "alpha=2.616e-02, time=0.28s, n_iter=1\n"
     ]
    },
    {
     "name": "stderr",
     "output_type": "stream",
     "text": [
      "Iteration 0:  41%|██████▉          | 0.41/1.0 [0.13s/it, gradient norm=0.0003850970415115167]\n"
     ]
    },
    {
     "name": "stdout",
     "output_type": "stream",
     "text": [
      "alpha=2.069e-02, time=0.34s, n_iter=1\n"
     ]
    },
    {
     "name": "stderr",
     "output_type": "stream",
     "text": [
      "Iteration 0:  40%|██████▉          | 0.81/2.0 [0.18s/it, gradient norm=0.0015369590494680528]\n"
     ]
    },
    {
     "name": "stdout",
     "output_type": "stream",
     "text": [
      "alpha=1.637e-02, time=0.45s, n_iter=1\n"
     ]
    },
    {
     "name": "stderr",
     "output_type": "stream",
     "text": [
      "Iteration 0:  34%|█████▊           | 0.68/2.0 [0.17s/it, gradient norm=0.0020704293086008883]\n"
     ]
    },
    {
     "name": "stdout",
     "output_type": "stream",
     "text": [
      "alpha=1.296e-02, time=0.48s, n_iter=1\n"
     ]
    },
    {
     "name": "stderr",
     "output_type": "stream",
     "text": [
      "Iteration 0:  39%|██████▋          | 0.78/2.0 [0.18s/it, gradient norm=0.0016439959501863826]\n"
     ]
    },
    {
     "name": "stdout",
     "output_type": "stream",
     "text": [
      "alpha=1.025e-02, time=0.46s, n_iter=1\n"
     ]
    },
    {
     "name": "stderr",
     "output_type": "stream",
     "text": [
      "Iteration 0:  44%|███████▌         | 0.89/2.0 [0.18s/it, gradient norm=0.0012995455864404644]\n"
     ]
    },
    {
     "name": "stdout",
     "output_type": "stream",
     "text": [
      "alpha=8.111e-03, time=0.31s, n_iter=1\n"
     ]
    },
    {
     "name": "stderr",
     "output_type": "stream",
     "text": [
      "Iteration 0:  50%|████████▍        | 0.99/2.0 [0.09s/it, gradient norm=0.0010271219499454426]\n"
     ]
    },
    {
     "name": "stdout",
     "output_type": "stream",
     "text": [
      "alpha=6.418e-03, time=0.23s, n_iter=1\n"
     ]
    },
    {
     "name": "stderr",
     "output_type": "stream",
     "text": [
      "Iteration 0:   9%|█▌               | 0.09/1.0 [0.09s/it, gradient norm=0.0008120008480523551]\n"
     ]
    },
    {
     "name": "stdout",
     "output_type": "stream",
     "text": [
      "alpha=5.078e-03, time=0.21s, n_iter=1\n"
     ]
    },
    {
     "name": "stderr",
     "output_type": "stream",
     "text": [
      "Iteration 0:  19%|███▏             | 0.19/1.0 [0.09s/it, gradient norm=0.0006420543985727828]\n"
     ]
    },
    {
     "name": "stdout",
     "output_type": "stream",
     "text": [
      "alpha=4.018e-03, time=0.22s, n_iter=1\n"
     ]
    },
    {
     "name": "stderr",
     "output_type": "stream",
     "text": [
      "Iteration 0:  27%|████▌            | 0.27/1.0 [0.10s/it, gradient norm=0.0005378634093154548]\n"
     ]
    },
    {
     "name": "stdout",
     "output_type": "stream",
     "text": [
      "alpha=3.179e-03, time=0.22s, n_iter=1\n"
     ]
    },
    {
     "name": "stderr",
     "output_type": "stream",
     "text": [
      "Iteration 0:  25%|████▊              | 0.5/2.0 [0.09s/it, gradient norm=0.003135255601162968]\n"
     ]
    },
    {
     "name": "stdout",
     "output_type": "stream",
     "text": [
      "alpha=2.515e-03, time=0.28s, n_iter=1\n"
     ]
    },
    {
     "name": "stderr",
     "output_type": "stream",
     "text": [
      "Iteration 0:  22%|███▊             | 0.45/2.0 [0.11s/it, gradient norm=0.0035412338122638594]\n"
     ]
    },
    {
     "name": "stdout",
     "output_type": "stream",
     "text": [
      "alpha=1.990e-03, time=0.31s, n_iter=1\n"
     ]
    },
    {
     "name": "stderr",
     "output_type": "stream",
     "text": [
      "Iteration 0:  12%|██                | 0.23/2.0 [0.06s/it, gradient norm=0.005879080335589641]\n"
     ]
    },
    {
     "name": "stdout",
     "output_type": "stream",
     "text": [
      "alpha=1.575e-03, time=0.31s, n_iter=1\n"
     ]
    },
    {
     "name": "stderr",
     "output_type": "stream",
     "text": [
      "Iteration 1:  93%|██████████████▉ | 1.86/2.0 [0.21s/it, gradient norm=0.00013951649044314065]\n"
     ]
    },
    {
     "name": "stdout",
     "output_type": "stream",
     "text": [
      "alpha=1.246e-03, time=0.52s, n_iter=2\n"
     ]
    },
    {
     "name": "stderr",
     "output_type": "stream",
     "text": [
      "Iteration 1:  94%|███████████████ | 1.88/2.0 [0.21s/it, gradient norm=0.00013105637699554296]\n"
     ]
    },
    {
     "name": "stdout",
     "output_type": "stream",
     "text": [
      "alpha=9.859e-04, time=0.50s, n_iter=2\n"
     ]
    },
    {
     "name": "stderr",
     "output_type": "stream",
     "text": [
      "Iteration 0:  11%|█▉                | 0.22/2.0 [0.16s/it, gradient norm=0.006038364424111322]\n"
     ]
    },
    {
     "name": "stdout",
     "output_type": "stream",
     "text": [
      "alpha=7.801e-04, time=0.37s, n_iter=1\n"
     ]
    },
    {
     "name": "stderr",
     "output_type": "stream",
     "text": [
      "Iteration 0:  15%|██▊                | 0.3/2.0 [0.09s/it, gradient norm=0.005052463723925324]\n"
     ]
    },
    {
     "name": "stdout",
     "output_type": "stream",
     "text": [
      "alpha=6.172e-04, time=0.28s, n_iter=1\n"
     ]
    },
    {
     "name": "stderr",
     "output_type": "stream",
     "text": [
      "Iteration 0:  15%|██▊                | 0.3/2.0 [0.11s/it, gradient norm=0.004995634341433692]\n"
     ]
    },
    {
     "name": "stdout",
     "output_type": "stream",
     "text": [
      "alpha=4.884e-04, time=0.32s, n_iter=1\n"
     ]
    },
    {
     "name": "stderr",
     "output_type": "stream",
     "text": [
      "Iteration 0:  20%|███▊               | 0.4/2.0 [0.07s/it, gradient norm=0.003993172403949475]\n"
     ]
    },
    {
     "name": "stdout",
     "output_type": "stream",
     "text": [
      "alpha=3.864e-04, time=0.28s, n_iter=1\n"
     ]
    },
    {
     "name": "stderr",
     "output_type": "stream",
     "text": [
      "Iteration 0:  19%|███▍              | 0.38/2.0 [0.08s/it, gradient norm=0.004172549640392858]\n"
     ]
    },
    {
     "name": "stdout",
     "output_type": "stream",
     "text": [
      "alpha=3.057e-04, time=0.36s, n_iter=1\n"
     ]
    },
    {
     "name": "stderr",
     "output_type": "stream",
     "text": [
      "Iteration 0:  18%|███              | 0.36/2.0 [0.17s/it, gradient norm=0.0043412134365164706]\n"
     ]
    },
    {
     "name": "stdout",
     "output_type": "stream",
     "text": [
      "alpha=2.419e-04, time=0.46s, n_iter=1\n"
     ]
    },
    {
     "name": "stderr",
     "output_type": "stream",
     "text": [
      "Iteration 0:  21%|███▌             | 0.42/2.0 [0.16s/it, gradient norm=0.0037885650518095296]\n"
     ]
    },
    {
     "name": "stdout",
     "output_type": "stream",
     "text": [
      "alpha=1.914e-04, time=0.44s, n_iter=1\n"
     ]
    },
    {
     "name": "stderr",
     "output_type": "stream",
     "text": [
      "Iteration 0:  24%|████▍             | 0.49/2.0 [0.09s/it, gradient norm=0.003243800877293565]\n"
     ]
    },
    {
     "name": "stdout",
     "output_type": "stream",
     "text": [
      "alpha=1.515e-04, time=0.36s, n_iter=1\n"
     ]
    },
    {
     "name": "stderr",
     "output_type": "stream",
     "text": [
      "Iteration 0:  26%|████▊             | 0.53/2.0 [0.09s/it, gradient norm=0.002922518640781348]\n"
     ]
    },
    {
     "name": "stdout",
     "output_type": "stream",
     "text": [
      "alpha=1.198e-04, time=0.32s, n_iter=1\n"
     ]
    },
    {
     "name": "stderr",
     "output_type": "stream",
     "text": [
      "Iteration 0:  27%|████▌            | 0.54/2.0 [0.07s/it, gradient norm=0.0028837367893274845]\n"
     ]
    },
    {
     "name": "stdout",
     "output_type": "stream",
     "text": [
      "alpha=9.482e-05, time=0.38s, n_iter=1\n"
     ]
    },
    {
     "name": "stderr",
     "output_type": "stream",
     "text": [
      "Iteration 0:  28%|████▊            | 0.56/2.0 [0.18s/it, gradient norm=0.0027788069016082854]\n"
     ]
    },
    {
     "name": "stdout",
     "output_type": "stream",
     "text": [
      "alpha=7.502e-05, time=0.55s, n_iter=1\n"
     ]
    },
    {
     "name": "stderr",
     "output_type": "stream",
     "text": [
      "Iteration 0:  32%|█████▋            | 0.63/2.0 [0.15s/it, gradient norm=0.002345636931586615]\n"
     ]
    },
    {
     "name": "stdout",
     "output_type": "stream",
     "text": [
      "alpha=5.936e-05, time=0.43s, n_iter=1\n"
     ]
    },
    {
     "name": "stderr",
     "output_type": "stream",
     "text": [
      "Iteration 0:  34%|██████▏           | 0.69/2.0 [0.13s/it, gradient norm=0.002030684057831916]\n"
     ]
    },
    {
     "name": "stdout",
     "output_type": "stream",
     "text": [
      "alpha=4.697e-05, time=0.47s, n_iter=1\n"
     ]
    },
    {
     "name": "stderr",
     "output_type": "stream",
     "text": [
      "Iteration 0:  38%|██████▍          | 0.76/2.0 [0.15s/it, gradient norm=0.0017328936557476087]\n"
     ]
    },
    {
     "name": "stdout",
     "output_type": "stream",
     "text": [
      "alpha=3.716e-05, time=0.51s, n_iter=1\n"
     ]
    },
    {
     "name": "stderr",
     "output_type": "stream",
     "text": [
      "Iteration 0:  42%|███████▏         | 0.84/2.0 [0.18s/it, gradient norm=0.0014467038570721927]\n"
     ]
    },
    {
     "name": "stdout",
     "output_type": "stream",
     "text": [
      "alpha=2.940e-05, time=0.50s, n_iter=1\n"
     ]
    },
    {
     "name": "stderr",
     "output_type": "stream",
     "text": [
      "Iteration 0:  45%|████████▌          | 0.9/2.0 [0.17s/it, gradient norm=0.001265403754054942]\n"
     ]
    },
    {
     "name": "stdout",
     "output_type": "stream",
     "text": [
      "alpha=2.327e-05, time=0.50s, n_iter=1\n"
     ]
    },
    {
     "name": "stderr",
     "output_type": "stream",
     "text": [
      "Iteration 0:  50%|████████▍        | 0.99/2.0 [0.15s/it, gradient norm=0.0010324417033797675]\n"
     ]
    },
    {
     "name": "stdout",
     "output_type": "stream",
     "text": [
      "alpha=1.841e-05, time=0.46s, n_iter=1\n"
     ]
    },
    {
     "name": "stderr",
     "output_type": "stream",
     "text": [
      "Iteration 0:   7%|█▏               | 0.07/1.0 [0.16s/it, gradient norm=0.0008439312309464434]\n"
     ]
    },
    {
     "name": "stdout",
     "output_type": "stream",
     "text": [
      "alpha=1.457e-05, time=0.47s, n_iter=1\n"
     ]
    },
    {
     "name": "stderr",
     "output_type": "stream",
     "text": [
      "Iteration 0:  13%|██▏              | 0.13/1.0 [0.12s/it, gradient norm=0.0007453239952526427]\n"
     ]
    },
    {
     "name": "stdout",
     "output_type": "stream",
     "text": [
      "alpha=1.152e-05, time=0.46s, n_iter=1\n"
     ]
    },
    {
     "name": "stderr",
     "output_type": "stream",
     "text": [
      "Iteration 0:  23%|███▉             | 0.23/1.0 [0.15s/it, gradient norm=0.0005923990675799804]\n"
     ]
    },
    {
     "name": "stdout",
     "output_type": "stream",
     "text": [
      "alpha=9.119e-06, time=0.48s, n_iter=1\n"
     ]
    },
    {
     "name": "stderr",
     "output_type": "stream",
     "text": [
      "Iteration 0:  33%|█████▎          | 0.33/1.0 [0.16s/it, gradient norm=0.00047043428099396084]\n"
     ]
    },
    {
     "name": "stdout",
     "output_type": "stream",
     "text": [
      "alpha=7.215e-06, time=0.49s, n_iter=1\n"
     ]
    },
    {
     "name": "stderr",
     "output_type": "stream",
     "text": [
      "Iteration 0:  41%|██████▉          | 0.41/1.0 [0.18s/it, gradient norm=0.0003875968856097304]\n"
     ]
    },
    {
     "name": "stdout",
     "output_type": "stream",
     "text": [
      "alpha=5.709e-06, time=0.48s, n_iter=1\n"
     ]
    },
    {
     "name": "stderr",
     "output_type": "stream",
     "text": [
      "Iteration 0:  49%|████████▎        | 0.49/1.0 [0.16s/it, gradient norm=0.0003263853015000564]\n"
     ]
    },
    {
     "name": "stdout",
     "output_type": "stream",
     "text": [
      "alpha=4.517e-06, time=0.47s, n_iter=1\n"
     ]
    },
    {
     "name": "stderr",
     "output_type": "stream",
     "text": [
      "Iteration 0:  59%|█████████▍      | 0.59/1.0 [0.16s/it, gradient norm=0.00025806970176621533]\n"
     ]
    },
    {
     "name": "stdout",
     "output_type": "stream",
     "text": [
      "alpha=3.574e-06, time=0.43s, n_iter=1\n"
     ]
    },
    {
     "name": "stderr",
     "output_type": "stream",
     "text": [
      "Iteration 0:  69%|███████████▋     | 0.69/1.0 [0.14s/it, gradient norm=0.0002040795968333153]\n"
     ]
    },
    {
     "name": "stdout",
     "output_type": "stream",
     "text": [
      "alpha=2.828e-06, time=0.60s, n_iter=1\n"
     ]
    },
    {
     "name": "stderr",
     "output_type": "stream",
     "text": [
      "Iteration 0:  77%|█████████████    | 0.77/1.0 [0.18s/it, gradient norm=0.0001693072688602134]\n"
     ]
    },
    {
     "name": "stdout",
     "output_type": "stream",
     "text": [
      "alpha=2.237e-06, time=0.66s, n_iter=1\n"
     ]
    },
    {
     "name": "stderr",
     "output_type": "stream",
     "text": [
      "Iteration 0:  85%|█████████████▌  | 0.85/1.0 [0.16s/it, gradient norm=0.00014219290611801655]\n"
     ]
    },
    {
     "name": "stdout",
     "output_type": "stream",
     "text": [
      "alpha=1.770e-06, time=0.51s, n_iter=1\n"
     ]
    },
    {
     "name": "stderr",
     "output_type": "stream",
     "text": [
      "Iteration 0:  93%|██████████████▉ | 0.93/1.0 [0.15s/it, gradient norm=0.00011750340856354529]\n"
     ]
    },
    {
     "name": "stdout",
     "output_type": "stream",
     "text": [
      "alpha=1.401e-06, time=0.52s, n_iter=1\n"
     ]
    },
    {
     "name": "stderr",
     "output_type": "stream",
     "text": [
      "Iteration 0: |                           | 0/-0.0 [s/it, gradient norm=9.402627618387985e-05]\n"
     ]
    },
    {
     "name": "stdout",
     "output_type": "stream",
     "text": [
      "alpha=1.108e-06, time=0.15s, n_iter=0\n"
     ]
    },
    {
     "name": "stderr",
     "output_type": "stream",
     "text": [
      "Iteration 0:  80%|█████████████▌   | 0.8/1.0 [0.18s/it, gradient norm=0.00015985411872405407]\n"
     ]
    },
    {
     "name": "stdout",
     "output_type": "stream",
     "text": [
      "alpha=8.770e-07, time=0.53s, n_iter=1\n"
     ]
    },
    {
     "name": "stderr",
     "output_type": "stream",
     "text": [
      "Iteration 0: |                           | 0/-0.0 [s/it, gradient norm=6.469490526021723e-05]\n"
     ]
    },
    {
     "name": "stdout",
     "output_type": "stream",
     "text": [
      "alpha=6.939e-07, time=0.17s, n_iter=0\n"
     ]
    },
    {
     "name": "stderr",
     "output_type": "stream",
     "text": [
      "Iteration 0:  98%|████████████████▋| 0.98/1.0 [0.18s/it, gradient norm=0.0001057659766498296]\n"
     ]
    },
    {
     "name": "stdout",
     "output_type": "stream",
     "text": [
      "alpha=5.490e-07, time=0.53s, n_iter=1\n"
     ]
    },
    {
     "name": "stderr",
     "output_type": "stream",
     "text": [
      "Iteration 0: |                             | 0/? [s/it, gradient norm=1.9081958235744878e-17]\n"
     ]
    },
    {
     "name": "stdout",
     "output_type": "stream",
     "text": [
      "alpha=5.490e-01, time=0.10s, n_iter=0\n"
     ]
    },
    {
     "name": "stderr",
     "output_type": "stream",
     "text": [
      "Iteration 1:  46%|███████▊         | 0.92/2.0 [0.12s/it, gradient norm=0.0011992639137796799]\n"
     ]
    },
    {
     "name": "stdout",
     "output_type": "stream",
     "text": [
      "alpha=4.344e-01, time=0.34s, n_iter=2\n"
     ]
    },
    {
     "name": "stderr",
     "output_type": "stream",
     "text": [
      "Iteration 1:  55%|█████████▉        | 1.1/2.0 [0.16s/it, gradient norm=0.0007932002256799144]\n"
     ]
    },
    {
     "name": "stdout",
     "output_type": "stream",
     "text": [
      "alpha=3.437e-01, time=0.39s, n_iter=2\n"
     ]
    },
    {
     "name": "stderr",
     "output_type": "stream",
     "text": [
      "Iteration 1:  68%|█████████████      | 1.37/2.0 [0.15s/it, gradient norm=0.00043060340498426]\n"
     ]
    },
    {
     "name": "stdout",
     "output_type": "stream",
     "text": [
      "alpha=2.720e-01, time=0.35s, n_iter=2\n"
     ]
    },
    {
     "name": "stderr",
     "output_type": "stream",
     "text": [
      "Iteration 1:  80%|█████████████▋   | 1.61/2.0 [0.14s/it, gradient norm=0.0002442161547375737]\n"
     ]
    },
    {
     "name": "stdout",
     "output_type": "stream",
     "text": [
      "alpha=2.152e-01, time=0.34s, n_iter=2\n"
     ]
    },
    {
     "name": "stderr",
     "output_type": "stream",
     "text": [
      "Iteration 1:  92%|██████████████▊ | 1.85/2.0 [0.09s/it, gradient norm=0.00014259720975099257]\n"
     ]
    },
    {
     "name": "stdout",
     "output_type": "stream",
     "text": [
      "alpha=1.703e-01, time=0.28s, n_iter=2\n"
     ]
    },
    {
     "name": "stderr",
     "output_type": "stream",
     "text": [
      "Iteration 0:  30%|██████              | 0.6/2.0 [0.08s/it, gradient norm=0.00249264299299252]\n"
     ]
    },
    {
     "name": "stdout",
     "output_type": "stream",
     "text": [
      "alpha=1.347e-01, time=0.22s, n_iter=1\n"
     ]
    },
    {
     "name": "stderr",
     "output_type": "stream",
     "text": [
      "Iteration 0:  36%|██████           | 0.71/2.0 [0.09s/it, gradient norm=0.0019376036909457993]\n"
     ]
    },
    {
     "name": "stdout",
     "output_type": "stream",
     "text": [
      "alpha=1.066e-01, time=0.21s, n_iter=1\n"
     ]
    },
    {
     "name": "stderr",
     "output_type": "stream",
     "text": [
      "Iteration 0:  40%|██████▉          | 0.81/2.0 [0.06s/it, gradient norm=0.0015412513490749694]\n"
     ]
    },
    {
     "name": "stdout",
     "output_type": "stream",
     "text": [
      "alpha=8.434e-02, time=0.18s, n_iter=1\n"
     ]
    },
    {
     "name": "stderr",
     "output_type": "stream",
     "text": [
      "Iteration 0:  46%|███████▋         | 0.91/2.0 [0.10s/it, gradient norm=0.0012226575317946468]\n"
     ]
    },
    {
     "name": "stdout",
     "output_type": "stream",
     "text": [
      "alpha=6.673e-02, time=0.19s, n_iter=1\n"
     ]
    },
    {
     "name": "stderr",
     "output_type": "stream",
     "text": [
      "Iteration 0:   1%|▏                | 0.01/1.0 [0.11s/it, gradient norm=0.0009694466795053354]\n"
     ]
    },
    {
     "name": "stdout",
     "output_type": "stream",
     "text": [
      "alpha=5.280e-02, time=0.22s, n_iter=1\n"
     ]
    },
    {
     "name": "stderr",
     "output_type": "stream",
     "text": [
      "Iteration 0:  11%|█▊               | 0.11/1.0 [0.08s/it, gradient norm=0.0007683258381129582]\n"
     ]
    },
    {
     "name": "stdout",
     "output_type": "stream",
     "text": [
      "alpha=4.178e-02, time=0.20s, n_iter=1\n"
     ]
    },
    {
     "name": "stderr",
     "output_type": "stream",
     "text": [
      "Iteration 0:  21%|███▌             | 0.21/1.0 [0.08s/it, gradient norm=0.0006102635252730015]\n"
     ]
    },
    {
     "name": "stdout",
     "output_type": "stream",
     "text": [
      "alpha=3.306e-02, time=0.23s, n_iter=1\n"
     ]
    },
    {
     "name": "stderr",
     "output_type": "stream",
     "text": [
      "Iteration 0:  32%|█████           | 0.32/1.0 [0.14s/it, gradient norm=0.00048345382596009243]\n"
     ]
    },
    {
     "name": "stdout",
     "output_type": "stream",
     "text": [
      "alpha=2.616e-02, time=0.31s, n_iter=1\n"
     ]
    },
    {
     "name": "stderr",
     "output_type": "stream",
     "text": [
      "Iteration 0:  42%|██████▋         | 0.42/1.0 [0.11s/it, gradient norm=0.00038288986304002635]\n"
     ]
    },
    {
     "name": "stdout",
     "output_type": "stream",
     "text": [
      "alpha=2.069e-02, time=0.26s, n_iter=1\n"
     ]
    },
    {
     "name": "stderr",
     "output_type": "stream",
     "text": [
      "Iteration 0:  41%|███████▍          | 0.82/2.0 [0.09s/it, gradient norm=0.001504684568727861]\n"
     ]
    },
    {
     "name": "stdout",
     "output_type": "stream",
     "text": [
      "alpha=1.637e-02, time=0.22s, n_iter=1\n"
     ]
    },
    {
     "name": "stderr",
     "output_type": "stream",
     "text": [
      "Iteration 0:  34%|█████▊           | 0.68/2.0 [0.08s/it, gradient norm=0.0020729882101493654]\n"
     ]
    },
    {
     "name": "stdout",
     "output_type": "stream",
     "text": [
      "alpha=1.296e-02, time=0.21s, n_iter=1\n"
     ]
    },
    {
     "name": "stderr",
     "output_type": "stream",
     "text": [
      "Iteration 0:  39%|██████▋          | 0.78/2.0 [0.10s/it, gradient norm=0.0016451858832425296]\n"
     ]
    },
    {
     "name": "stdout",
     "output_type": "stream",
     "text": [
      "alpha=1.025e-02, time=0.37s, n_iter=1\n"
     ]
    },
    {
     "name": "stderr",
     "output_type": "stream",
     "text": [
      "Iteration 0:  44%|███████▌         | 0.89/2.0 [0.12s/it, gradient norm=0.0013007096549109381]\n"
     ]
    },
    {
     "name": "stdout",
     "output_type": "stream",
     "text": [
      "alpha=8.111e-03, time=0.41s, n_iter=1\n"
     ]
    },
    {
     "name": "stderr",
     "output_type": "stream",
     "text": [
      "Iteration 0:  50%|████████▍        | 0.99/2.0 [0.08s/it, gradient norm=0.0010281919943711082]\n"
     ]
    },
    {
     "name": "stdout",
     "output_type": "stream",
     "text": [
      "alpha=6.418e-03, time=0.21s, n_iter=1\n"
     ]
    },
    {
     "name": "stderr",
     "output_type": "stream",
     "text": [
      "Iteration 0:   9%|█▌               | 0.09/1.0 [0.10s/it, gradient norm=0.0008129419733145568]\n"
     ]
    },
    {
     "name": "stdout",
     "output_type": "stream",
     "text": [
      "alpha=5.078e-03, time=0.24s, n_iter=1\n"
     ]
    },
    {
     "name": "stderr",
     "output_type": "stream",
     "text": [
      "Iteration 0:  19%|███▏             | 0.19/1.0 [0.08s/it, gradient norm=0.0006428584612539815]\n"
     ]
    },
    {
     "name": "stdout",
     "output_type": "stream",
     "text": [
      "alpha=4.018e-03, time=0.22s, n_iter=1\n"
     ]
    },
    {
     "name": "stderr",
     "output_type": "stream",
     "text": [
      "Iteration 0:  29%|████▉            | 0.29/1.0 [0.08s/it, gradient norm=0.0005084233253257686]\n"
     ]
    },
    {
     "name": "stdout",
     "output_type": "stream",
     "text": [
      "alpha=3.179e-03, time=0.20s, n_iter=1\n"
     ]
    },
    {
     "name": "stderr",
     "output_type": "stream",
     "text": [
      "Iteration 0:  28%|█████▏            | 0.57/2.0 [0.08s/it, gradient norm=0.002717202898460263]\n"
     ]
    },
    {
     "name": "stdout",
     "output_type": "stream",
     "text": [
      "alpha=2.515e-03, time=0.29s, n_iter=1\n"
     ]
    },
    {
     "name": "stderr",
     "output_type": "stream",
     "text": [
      "Iteration 0:  18%|███▏              | 0.36/2.0 [0.07s/it, gradient norm=0.004355015306318008]\n"
     ]
    },
    {
     "name": "stdout",
     "output_type": "stream",
     "text": [
      "alpha=1.990e-03, time=0.28s, n_iter=1\n"
     ]
    },
    {
     "name": "stderr",
     "output_type": "stream",
     "text": [
      "Iteration 1:  90%|███████████████▎ | 1.8/2.0 [0.20s/it, gradient norm=0.00015857399062223942]\n"
     ]
    },
    {
     "name": "stdout",
     "output_type": "stream",
     "text": [
      "alpha=1.575e-03, time=0.43s, n_iter=2\n"
     ]
    },
    {
     "name": "stderr",
     "output_type": "stream",
     "text": [
      "Iteration 1:  89%|██████████████▏ | 1.78/2.0 [0.19s/it, gradient norm=0.00016765217700096818]\n"
     ]
    },
    {
     "name": "stdout",
     "output_type": "stream",
     "text": [
      "alpha=1.246e-03, time=0.41s, n_iter=2\n"
     ]
    },
    {
     "name": "stderr",
     "output_type": "stream",
     "text": [
      "Iteration 1:  92%|██████████████▋ | 1.83/2.0 [0.21s/it, gradient norm=0.00014813521063242234]\n"
     ]
    },
    {
     "name": "stdout",
     "output_type": "stream",
     "text": [
      "alpha=9.859e-04, time=0.51s, n_iter=2\n"
     ]
    },
    {
     "name": "stderr",
     "output_type": "stream",
     "text": [
      "Iteration 0:  10%|█▋                | 0.19/2.0 [0.16s/it, gradient norm=0.006423515202896056]\n"
     ]
    },
    {
     "name": "stdout",
     "output_type": "stream",
     "text": [
      "alpha=7.801e-04, time=0.37s, n_iter=1\n"
     ]
    },
    {
     "name": "stderr",
     "output_type": "stream",
     "text": [
      "Iteration 0:  12%|██▏               | 0.24/2.0 [0.08s/it, gradient norm=0.005750663607457372]\n"
     ]
    },
    {
     "name": "stdout",
     "output_type": "stream",
     "text": [
      "alpha=6.172e-04, time=0.34s, n_iter=1\n"
     ]
    },
    {
     "name": "stderr",
     "output_type": "stream",
     "text": [
      "Iteration 0:  14%|██▌               | 0.29/2.0 [0.15s/it, gradient norm=0.005184665447340878]\n"
     ]
    },
    {
     "name": "stdout",
     "output_type": "stream",
     "text": [
      "alpha=4.884e-04, time=0.35s, n_iter=1\n"
     ]
    },
    {
     "name": "stderr",
     "output_type": "stream",
     "text": [
      "Iteration 0:  18%|███▏              | 0.36/2.0 [0.14s/it, gradient norm=0.004340331107474432]\n"
     ]
    },
    {
     "name": "stdout",
     "output_type": "stream",
     "text": [
      "alpha=3.864e-04, time=0.35s, n_iter=1\n"
     ]
    },
    {
     "name": "stderr",
     "output_type": "stream",
     "text": [
      "Iteration 0:  20%|███▋              | 0.41/2.0 [0.10s/it, gradient norm=0.003930383274711134]\n"
     ]
    },
    {
     "name": "stdout",
     "output_type": "stream",
     "text": [
      "alpha=3.057e-04, time=0.35s, n_iter=1\n"
     ]
    },
    {
     "name": "stderr",
     "output_type": "stream",
     "text": [
      "Iteration 0:  20%|████                | 0.4/2.0 [0.13s/it, gradient norm=0.00400805147326785]\n"
     ]
    },
    {
     "name": "stdout",
     "output_type": "stream",
     "text": [
      "alpha=2.419e-04, time=0.31s, n_iter=1\n"
     ]
    },
    {
     "name": "stderr",
     "output_type": "stream",
     "text": [
      "Iteration 0:  22%|███▉              | 0.44/2.0 [0.13s/it, gradient norm=0.003629733393896272]\n"
     ]
    },
    {
     "name": "stdout",
     "output_type": "stream",
     "text": [
      "alpha=1.914e-04, time=0.44s, n_iter=1\n"
     ]
    },
    {
     "name": "stderr",
     "output_type": "stream",
     "text": [
      "Iteration 0:  23%|███▉             | 0.46/2.0 [0.18s/it, gradient norm=0.0034351592347691196]\n"
     ]
    },
    {
     "name": "stdout",
     "output_type": "stream",
     "text": [
      "alpha=1.515e-04, time=0.43s, n_iter=1\n"
     ]
    },
    {
     "name": "stderr",
     "output_type": "stream",
     "text": [
      "Iteration 0:  24%|████▍             | 0.49/2.0 [0.16s/it, gradient norm=0.003205087064118208]\n"
     ]
    },
    {
     "name": "stdout",
     "output_type": "stream",
     "text": [
      "alpha=1.198e-04, time=0.42s, n_iter=1\n"
     ]
    },
    {
     "name": "stderr",
     "output_type": "stream",
     "text": [
      "Iteration 0:  28%|████▋            | 0.55/2.0 [0.13s/it, gradient norm=0.0027880838056446146]\n"
     ]
    },
    {
     "name": "stdout",
     "output_type": "stream",
     "text": [
      "alpha=9.482e-05, time=0.42s, n_iter=1\n"
     ]
    },
    {
     "name": "stderr",
     "output_type": "stream",
     "text": [
      "Iteration 0:  28%|████▋            | 0.55/2.0 [0.15s/it, gradient norm=0.0027862900236056277]\n"
     ]
    },
    {
     "name": "stdout",
     "output_type": "stream",
     "text": [
      "alpha=7.502e-05, time=0.42s, n_iter=1\n"
     ]
    },
    {
     "name": "stderr",
     "output_type": "stream",
     "text": [
      "Iteration 0:  30%|█████▌             | 0.59/2.0 [0.08s/it, gradient norm=0.00256507554752829]\n"
     ]
    },
    {
     "name": "stdout",
     "output_type": "stream",
     "text": [
      "alpha=5.936e-05, time=0.34s, n_iter=1\n"
     ]
    },
    {
     "name": "stderr",
     "output_type": "stream",
     "text": [
      "Iteration 0:  34%|██████▏           | 0.69/2.0 [0.08s/it, gradient norm=0.002035339220633533]\n"
     ]
    },
    {
     "name": "stdout",
     "output_type": "stream",
     "text": [
      "alpha=4.697e-05, time=0.33s, n_iter=1\n"
     ]
    },
    {
     "name": "stderr",
     "output_type": "stream",
     "text": [
      "Iteration 0:  38%|██████▍          | 0.76/2.0 [0.08s/it, gradient norm=0.0017197281661439296]\n"
     ]
    },
    {
     "name": "stdout",
     "output_type": "stream",
     "text": [
      "alpha=3.716e-05, time=0.35s, n_iter=1\n"
     ]
    },
    {
     "name": "stderr",
     "output_type": "stream",
     "text": [
      "Iteration 0:  43%|███████▎         | 0.86/2.0 [0.08s/it, gradient norm=0.0013857656062011355]\n"
     ]
    },
    {
     "name": "stdout",
     "output_type": "stream",
     "text": [
      "alpha=2.940e-05, time=0.33s, n_iter=1\n"
     ]
    },
    {
     "name": "stderr",
     "output_type": "stream",
     "text": [
      "Iteration 0:  47%|███████▉         | 0.94/2.0 [0.06s/it, gradient norm=0.0011455290029030712]\n"
     ]
    },
    {
     "name": "stdout",
     "output_type": "stream",
     "text": [
      "alpha=2.327e-05, time=0.33s, n_iter=1\n"
     ]
    },
    {
     "name": "stderr",
     "output_type": "stream",
     "text": [
      "Iteration 0:   3%|▌                | 0.03/1.0 [0.11s/it, gradient norm=0.0009313682168012198]\n"
     ]
    },
    {
     "name": "stdout",
     "output_type": "stream",
     "text": [
      "alpha=1.841e-05, time=0.38s, n_iter=1\n"
     ]
    },
    {
     "name": "stderr",
     "output_type": "stream",
     "text": [
      "Iteration 0:  10%|█▊                | 0.1/1.0 [0.08s/it, gradient norm=0.0007885207307820108]\n"
     ]
    },
    {
     "name": "stdout",
     "output_type": "stream",
     "text": [
      "alpha=1.457e-05, time=0.37s, n_iter=1\n"
     ]
    },
    {
     "name": "stderr",
     "output_type": "stream",
     "text": [
      "Iteration 0:  13%|██▎               | 0.13/1.0 [0.06s/it, gradient norm=0.000743098491084556]\n"
     ]
    },
    {
     "name": "stdout",
     "output_type": "stream",
     "text": [
      "alpha=1.152e-05, time=0.34s, n_iter=1\n"
     ]
    },
    {
     "name": "stderr",
     "output_type": "stream",
     "text": [
      "Iteration 0:  21%|███▌             | 0.21/1.0 [0.10s/it, gradient norm=0.0006145224912620945]\n"
     ]
    },
    {
     "name": "stdout",
     "output_type": "stream",
     "text": [
      "alpha=9.119e-06, time=0.36s, n_iter=1\n"
     ]
    },
    {
     "name": "stderr",
     "output_type": "stream",
     "text": [
      "Iteration 0:  30%|█████▍            | 0.3/1.0 [0.08s/it, gradient norm=0.0005003522228870812]\n"
     ]
    },
    {
     "name": "stdout",
     "output_type": "stream",
     "text": [
      "alpha=7.215e-06, time=0.36s, n_iter=1\n"
     ]
    },
    {
     "name": "stderr",
     "output_type": "stream",
     "text": [
      "Iteration 0:  38%|██████          | 0.38/1.0 [0.09s/it, gradient norm=0.00041447729290664513]\n"
     ]
    },
    {
     "name": "stdout",
     "output_type": "stream",
     "text": [
      "alpha=5.709e-06, time=0.37s, n_iter=1\n"
     ]
    },
    {
     "name": "stderr",
     "output_type": "stream",
     "text": [
      "Iteration 0:  47%|███████▉         | 0.47/1.0 [0.06s/it, gradient norm=0.0003363104320461614]\n"
     ]
    },
    {
     "name": "stdout",
     "output_type": "stream",
     "text": [
      "alpha=4.517e-06, time=0.37s, n_iter=1\n"
     ]
    },
    {
     "name": "stderr",
     "output_type": "stream",
     "text": [
      "Iteration 0:  57%|█████████       | 0.57/1.0 [0.09s/it, gradient norm=0.00027180255737643957]\n"
     ]
    },
    {
     "name": "stdout",
     "output_type": "stream",
     "text": [
      "alpha=3.574e-06, time=0.32s, n_iter=1\n"
     ]
    },
    {
     "name": "stderr",
     "output_type": "stream",
     "text": [
      "Iteration 0:  64%|██████████▏     | 0.64/1.0 [0.08s/it, gradient norm=0.00022751912205042974]\n"
     ]
    },
    {
     "name": "stdout",
     "output_type": "stream",
     "text": [
      "alpha=2.828e-06, time=0.37s, n_iter=1\n"
     ]
    },
    {
     "name": "stderr",
     "output_type": "stream",
     "text": [
      "Iteration 0:  74%|███████████▊    | 0.74/1.0 [0.09s/it, gradient norm=0.00018235724197013898]\n"
     ]
    },
    {
     "name": "stdout",
     "output_type": "stream",
     "text": [
      "alpha=2.237e-06, time=0.35s, n_iter=1\n"
     ]
    },
    {
     "name": "stderr",
     "output_type": "stream",
     "text": [
      "Iteration 0:  83%|█████████████▎  | 0.83/1.0 [0.08s/it, gradient norm=0.00014915061047987967]\n"
     ]
    },
    {
     "name": "stdout",
     "output_type": "stream",
     "text": [
      "alpha=1.770e-06, time=0.36s, n_iter=1\n"
     ]
    },
    {
     "name": "stderr",
     "output_type": "stream",
     "text": [
      "Iteration 0:  92%|██████████████▋ | 0.92/1.0 [0.08s/it, gradient norm=0.00012028223146641648]\n"
     ]
    },
    {
     "name": "stdout",
     "output_type": "stream",
     "text": [
      "alpha=1.401e-06, time=0.36s, n_iter=1\n"
     ]
    },
    {
     "name": "stderr",
     "output_type": "stream",
     "text": [
      "Iteration 0: |                           | 0/-0.0 [s/it, gradient norm=9.619470694636407e-05]\n"
     ]
    },
    {
     "name": "stdout",
     "output_type": "stream",
     "text": [
      "alpha=1.108e-06, time=0.08s, n_iter=0\n"
     ]
    },
    {
     "name": "stderr",
     "output_type": "stream",
     "text": [
      "Iteration 0:  79%|████████████▋   | 0.79/1.0 [0.09s/it, gradient norm=0.00016333561148227708]\n"
     ]
    },
    {
     "name": "stdout",
     "output_type": "stream",
     "text": [
      "alpha=8.770e-07, time=0.35s, n_iter=1\n"
     ]
    },
    {
     "name": "stderr",
     "output_type": "stream",
     "text": [
      "Iteration 0: |                           | 0/-0.0 [s/it, gradient norm=6.580566380890911e-05]\n"
     ]
    },
    {
     "name": "stdout",
     "output_type": "stream",
     "text": [
      "alpha=6.939e-07, time=0.09s, n_iter=0\n"
     ]
    },
    {
     "name": "stderr",
     "output_type": "stream",
     "text": [
      "Iteration 0:  97%|███████████████▌| 0.97/1.0 [0.06s/it, gradient norm=0.00010818377130466379]\n"
     ]
    },
    {
     "name": "stdout",
     "output_type": "stream",
     "text": [
      "alpha=5.490e-07, time=0.34s, n_iter=1\n"
     ]
    },
    {
     "name": "stderr",
     "output_type": "stream",
     "text": [
      "Iteration 1:  94%|████████████████ | 1.89/2.0 [0.12s/it, gradient norm=0.0001275967488888214]\n"
     ]
    },
    {
     "name": "stdout",
     "output_type": "stream",
     "text": [
      "alpha=5.490e-01, time=0.34s, n_iter=2\n"
     ]
    },
    {
     "name": "stderr",
     "output_type": "stream",
     "text": [
      "Iteration 1:  44%|███████▍         | 0.87/2.0 [0.11s/it, gradient norm=0.0013517938921752196]\n"
     ]
    },
    {
     "name": "stdout",
     "output_type": "stream",
     "text": [
      "alpha=4.344e-01, time=0.37s, n_iter=2\n"
     ]
    },
    {
     "name": "stderr",
     "output_type": "stream",
     "text": [
      "Iteration 1:  58%|█████████▊       | 1.16/2.0 [0.14s/it, gradient norm=0.0006927350482914211]\n"
     ]
    },
    {
     "name": "stdout",
     "output_type": "stream",
     "text": [
      "alpha=3.437e-01, time=0.34s, n_iter=2\n"
     ]
    },
    {
     "name": "stderr",
     "output_type": "stream",
     "text": [
      "Iteration 1:  71%|███████████▎    | 1.42/2.0 [0.12s/it, gradient norm=0.00038300298022639345]\n"
     ]
    },
    {
     "name": "stdout",
     "output_type": "stream",
     "text": [
      "alpha=2.720e-01, time=0.35s, n_iter=2\n"
     ]
    },
    {
     "name": "stderr",
     "output_type": "stream",
     "text": [
      "Iteration 1:  83%|█████████████▎  | 1.66/2.0 [0.14s/it, gradient norm=0.00021977218398002612]\n"
     ]
    },
    {
     "name": "stdout",
     "output_type": "stream",
     "text": [
      "alpha=2.152e-01, time=0.32s, n_iter=2\n"
     ]
    },
    {
     "name": "stderr",
     "output_type": "stream",
     "text": [
      "Iteration 1:  94%|███████████████ | 1.89/2.0 [0.18s/it, gradient norm=0.00012927858438967167]\n"
     ]
    },
    {
     "name": "stdout",
     "output_type": "stream",
     "text": [
      "alpha=1.703e-01, time=0.34s, n_iter=2\n"
     ]
    },
    {
     "name": "stderr",
     "output_type": "stream",
     "text": [
      "Iteration 0:  30%|█████▍            | 0.61/2.0 [0.10s/it, gradient norm=0.002469858347596307]\n"
     ]
    },
    {
     "name": "stdout",
     "output_type": "stream",
     "text": [
      "alpha=1.347e-01, time=0.20s, n_iter=1\n"
     ]
    },
    {
     "name": "stderr",
     "output_type": "stream",
     "text": [
      "Iteration 0:  36%|██████▊            | 0.72/2.0 [0.10s/it, gradient norm=0.00192271244207666]\n"
     ]
    },
    {
     "name": "stdout",
     "output_type": "stream",
     "text": [
      "alpha=1.066e-01, time=0.27s, n_iter=1\n"
     ]
    },
    {
     "name": "stderr",
     "output_type": "stream",
     "text": [
      "Iteration 0:  41%|██████▉          | 0.82/2.0 [0.09s/it, gradient norm=0.0015285637322455929]\n"
     ]
    },
    {
     "name": "stdout",
     "output_type": "stream",
     "text": [
      "alpha=8.434e-02, time=0.22s, n_iter=1\n"
     ]
    },
    {
     "name": "stderr",
     "output_type": "stream",
     "text": [
      "Iteration 0:  46%|███████▊         | 0.92/2.0 [0.08s/it, gradient norm=0.0012123747354401216]\n"
     ]
    },
    {
     "name": "stdout",
     "output_type": "stream",
     "text": [
      "alpha=6.673e-02, time=0.21s, n_iter=1\n"
     ]
    },
    {
     "name": "stderr",
     "output_type": "stream",
     "text": [
      "Iteration 0:   2%|▎                 | 0.02/1.0 [0.09s/it, gradient norm=0.000961145654488807]\n"
     ]
    },
    {
     "name": "stdout",
     "output_type": "stream",
     "text": [
      "alpha=5.280e-02, time=0.21s, n_iter=1\n"
     ]
    },
    {
     "name": "stderr",
     "output_type": "stream",
     "text": [
      "Iteration 0:  12%|██               | 0.12/1.0 [0.09s/it, gradient norm=0.0007616572918176219]\n"
     ]
    },
    {
     "name": "stdout",
     "output_type": "stream",
     "text": [
      "alpha=4.178e-02, time=0.22s, n_iter=1\n"
     ]
    },
    {
     "name": "stderr",
     "output_type": "stream",
     "text": [
      "Iteration 0:  22%|███▋             | 0.22/1.0 [0.08s/it, gradient norm=0.0006051223072775671]\n"
     ]
    },
    {
     "name": "stdout",
     "output_type": "stream",
     "text": [
      "alpha=3.306e-02, time=0.21s, n_iter=1\n"
     ]
    },
    {
     "name": "stderr",
     "output_type": "stream",
     "text": [
      "Iteration 0:  32%|█████▍           | 0.32/1.0 [0.07s/it, gradient norm=0.0004793492415009282]\n"
     ]
    },
    {
     "name": "stdout",
     "output_type": "stream",
     "text": [
      "alpha=2.616e-02, time=0.20s, n_iter=1\n"
     ]
    },
    {
     "name": "stderr",
     "output_type": "stream",
     "text": [
      "Iteration 0:  42%|███████▏         | 0.42/1.0 [0.08s/it, gradient norm=0.0003796185076908375]\n"
     ]
    },
    {
     "name": "stdout",
     "output_type": "stream",
     "text": [
      "alpha=2.069e-02, time=0.21s, n_iter=1\n"
     ]
    },
    {
     "name": "stderr",
     "output_type": "stream",
     "text": [
      "Iteration 0:  36%|██████▏          | 0.73/2.0 [0.08s/it, gradient norm=0.0018475876772540967]\n"
     ]
    },
    {
     "name": "stdout",
     "output_type": "stream",
     "text": [
      "alpha=1.637e-02, time=0.22s, n_iter=1\n"
     ]
    },
    {
     "name": "stderr",
     "output_type": "stream",
     "text": [
      "Iteration 0:  34%|█████▊           | 0.68/2.0 [0.06s/it, gradient norm=0.0020781174151758967]\n"
     ]
    },
    {
     "name": "stdout",
     "output_type": "stream",
     "text": [
      "alpha=1.296e-02, time=0.18s, n_iter=1\n"
     ]
    },
    {
     "name": "stderr",
     "output_type": "stream",
     "text": [
      "Iteration 0:  39%|███████           | 0.78/2.0 [0.08s/it, gradient norm=0.001647324803600624]\n"
     ]
    },
    {
     "name": "stdout",
     "output_type": "stream",
     "text": [
      "alpha=1.025e-02, time=0.16s, n_iter=1\n"
     ]
    },
    {
     "name": "stderr",
     "output_type": "stream",
     "text": [
      "Iteration 0:  44%|███████▌         | 0.89/2.0 [0.12s/it, gradient norm=0.0013023898837472517]\n"
     ]
    },
    {
     "name": "stdout",
     "output_type": "stream",
     "text": [
      "alpha=8.111e-03, time=0.25s, n_iter=1\n"
     ]
    },
    {
     "name": "stderr",
     "output_type": "stream",
     "text": [
      "Iteration 0:  50%|████████▍        | 0.99/2.0 [0.12s/it, gradient norm=0.0010296217728743584]\n"
     ]
    },
    {
     "name": "stdout",
     "output_type": "stream",
     "text": [
      "alpha=6.418e-03, time=0.24s, n_iter=1\n"
     ]
    },
    {
     "name": "stderr",
     "output_type": "stream",
     "text": [
      "Iteration 0:   9%|█▌               | 0.09/1.0 [0.08s/it, gradient norm=0.0008141363686650832]\n"
     ]
    },
    {
     "name": "stdout",
     "output_type": "stream",
     "text": [
      "alpha=5.078e-03, time=0.20s, n_iter=1\n"
     ]
    },
    {
     "name": "stderr",
     "output_type": "stream",
     "text": [
      "Iteration 0:  19%|███▏             | 0.19/1.0 [0.07s/it, gradient norm=0.0006438429687418397]\n"
     ]
    },
    {
     "name": "stdout",
     "output_type": "stream",
     "text": [
      "alpha=4.018e-03, time=0.21s, n_iter=1\n"
     ]
    },
    {
     "name": "stderr",
     "output_type": "stream",
     "text": [
      "Iteration 0:  49%|████████▊         | 0.98/2.0 [0.10s/it, gradient norm=0.001054607130649405]\n"
     ]
    },
    {
     "name": "stdout",
     "output_type": "stream",
     "text": [
      "alpha=3.179e-03, time=0.22s, n_iter=1\n"
     ]
    },
    {
     "name": "stderr",
     "output_type": "stream",
     "text": [
      "Iteration 0:  24%|███▉             | 0.47/2.0 [0.10s/it, gradient norm=0.0033979975445667214]\n"
     ]
    },
    {
     "name": "stdout",
     "output_type": "stream",
     "text": [
      "alpha=2.515e-03, time=0.29s, n_iter=1\n"
     ]
    },
    {
     "name": "stderr",
     "output_type": "stream",
     "text": [
      "Iteration 0:  16%|██▋              | 0.32/2.0 [0.06s/it, gradient norm=0.0048230884003718786]\n"
     ]
    },
    {
     "name": "stdout",
     "output_type": "stream",
     "text": [
      "alpha=1.990e-03, time=0.26s, n_iter=1\n"
     ]
    },
    {
     "name": "stderr",
     "output_type": "stream",
     "text": [
      "Iteration 1:  94%|██████████████▉ | 1.87/2.0 [0.22s/it, gradient norm=0.00013399498558583234]\n"
     ]
    },
    {
     "name": "stdout",
     "output_type": "stream",
     "text": [
      "alpha=1.575e-03, time=0.44s, n_iter=2\n"
     ]
    },
    {
     "name": "stderr",
     "output_type": "stream",
     "text": [
      "Iteration 1:  87%|█████████████▉  | 1.74/2.0 [0.21s/it, gradient norm=0.00018139208801037817]\n"
     ]
    },
    {
     "name": "stdout",
     "output_type": "stream",
     "text": [
      "alpha=1.246e-03, time=0.42s, n_iter=2\n"
     ]
    },
    {
     "name": "stderr",
     "output_type": "stream",
     "text": [
      "Iteration 1:  96%|███████████████▎| 1.91/2.0 [0.24s/it, gradient norm=0.00012249762184768858]\n"
     ]
    },
    {
     "name": "stdout",
     "output_type": "stream",
     "text": [
      "alpha=9.859e-04, time=0.45s, n_iter=2\n"
     ]
    },
    {
     "name": "stderr",
     "output_type": "stream",
     "text": [
      "Iteration 1:  98%|████████████████████▋| 1.97/2.0 [0.19s/it, gradient norm=0.000108000463203]\n"
     ]
    },
    {
     "name": "stdout",
     "output_type": "stream",
     "text": [
      "alpha=7.801e-04, time=0.47s, n_iter=2\n"
     ]
    },
    {
     "name": "stderr",
     "output_type": "stream",
     "text": [
      "Iteration 1:  92%|██████████████▋ | 1.83/2.0 [0.22s/it, gradient norm=0.00014826534315627108]\n"
     ]
    },
    {
     "name": "stdout",
     "output_type": "stream",
     "text": [
      "alpha=6.172e-04, time=0.53s, n_iter=2\n"
     ]
    },
    {
     "name": "stderr",
     "output_type": "stream",
     "text": [
      "Iteration 1:  98%|███████████████▋| 1.96/2.0 [0.22s/it, gradient norm=0.00011027025050563377]\n"
     ]
    },
    {
     "name": "stdout",
     "output_type": "stream",
     "text": [
      "alpha=4.884e-04, time=0.55s, n_iter=2\n"
     ]
    },
    {
     "name": "stderr",
     "output_type": "stream",
     "text": [
      "Iteration 0:  17%|███▏               | 0.34/2.0 [0.06s/it, gradient norm=0.00454828448228985]\n"
     ]
    },
    {
     "name": "stdout",
     "output_type": "stream",
     "text": [
      "alpha=3.864e-04, time=0.28s, n_iter=1\n"
     ]
    },
    {
     "name": "stderr",
     "output_type": "stream",
     "text": [
      "Iteration 0:  18%|███              | 0.36/2.0 [0.09s/it, gradient norm=0.0043738700586130955]\n"
     ]
    },
    {
     "name": "stdout",
     "output_type": "stream",
     "text": [
      "alpha=3.057e-04, time=0.29s, n_iter=1\n"
     ]
    },
    {
     "name": "stderr",
     "output_type": "stream",
     "text": [
      "Iteration 0:  19%|███▍              | 0.38/2.0 [0.08s/it, gradient norm=0.004185067156608143]\n"
     ]
    },
    {
     "name": "stdout",
     "output_type": "stream",
     "text": [
      "alpha=2.419e-04, time=0.32s, n_iter=1\n"
     ]
    },
    {
     "name": "stderr",
     "output_type": "stream",
     "text": [
      "Iteration 0:  20%|███▊               | 0.4/2.0 [0.09s/it, gradient norm=0.003942681996241188]\n"
     ]
    },
    {
     "name": "stdout",
     "output_type": "stream",
     "text": [
      "alpha=1.914e-04, time=0.30s, n_iter=1\n"
     ]
    },
    {
     "name": "stderr",
     "output_type": "stream",
     "text": [
      "Iteration 0:  22%|███▊             | 0.45/2.0 [0.07s/it, gradient norm=0.0035707965595964484]\n"
     ]
    },
    {
     "name": "stdout",
     "output_type": "stream",
     "text": [
      "alpha=1.515e-04, time=0.30s, n_iter=1\n"
     ]
    },
    {
     "name": "stderr",
     "output_type": "stream",
     "text": [
      "Iteration 1:  96%|███████████████▎| 1.92/2.0 [0.22s/it, gradient norm=0.00011909168083573488]\n"
     ]
    },
    {
     "name": "stdout",
     "output_type": "stream",
     "text": [
      "alpha=1.198e-04, time=0.46s, n_iter=2\n"
     ]
    },
    {
     "name": "stderr",
     "output_type": "stream",
     "text": [
      "Iteration 0:  25%|████▊              | 0.5/2.0 [0.08s/it, gradient norm=0.003194043258962084]\n"
     ]
    },
    {
     "name": "stdout",
     "output_type": "stream",
     "text": [
      "alpha=9.482e-05, time=0.35s, n_iter=1\n"
     ]
    },
    {
     "name": "stderr",
     "output_type": "stream",
     "text": [
      "Iteration 0:  28%|█████             | 0.56/2.0 [0.09s/it, gradient norm=0.002750322937537124]\n"
     ]
    },
    {
     "name": "stdout",
     "output_type": "stream",
     "text": [
      "alpha=7.502e-05, time=0.34s, n_iter=1\n"
     ]
    },
    {
     "name": "stderr",
     "output_type": "stream",
     "text": [
      "Iteration 0:  33%|█████▉            | 0.66/2.0 [0.08s/it, gradient norm=0.002197540139152184]\n"
     ]
    },
    {
     "name": "stdout",
     "output_type": "stream",
     "text": [
      "alpha=5.936e-05, time=0.31s, n_iter=1\n"
     ]
    },
    {
     "name": "stderr",
     "output_type": "stream",
     "text": [
      "Iteration 0:  35%|██████▎           | 0.7/2.0 [0.08s/it, gradient norm=0.0019798434747210253]\n"
     ]
    },
    {
     "name": "stdout",
     "output_type": "stream",
     "text": [
      "alpha=4.697e-05, time=0.33s, n_iter=1\n"
     ]
    },
    {
     "name": "stderr",
     "output_type": "stream",
     "text": [
      "Iteration 0:  38%|██████▍          | 0.76/2.0 [0.07s/it, gradient norm=0.0017324814695691177]\n"
     ]
    },
    {
     "name": "stdout",
     "output_type": "stream",
     "text": [
      "alpha=3.716e-05, time=0.33s, n_iter=1\n"
     ]
    },
    {
     "name": "stderr",
     "output_type": "stream",
     "text": [
      "Iteration 0:  42%|███████▏         | 0.85/2.0 [0.10s/it, gradient norm=0.0014131898431626842]\n"
     ]
    },
    {
     "name": "stdout",
     "output_type": "stream",
     "text": [
      "alpha=2.940e-05, time=0.41s, n_iter=1\n"
     ]
    },
    {
     "name": "stderr",
     "output_type": "stream",
     "text": [
      "Iteration 0:  46%|███████▋         | 0.91/2.0 [0.09s/it, gradient norm=0.0012260007913936725]\n"
     ]
    },
    {
     "name": "stdout",
     "output_type": "stream",
     "text": [
      "alpha=2.327e-05, time=0.43s, n_iter=1\n"
     ]
    },
    {
     "name": "stderr",
     "output_type": "stream",
     "text": [
      "Iteration 0:  49%|████████▊         | 0.98/2.0 [0.13s/it, gradient norm=0.001055482577904863]\n"
     ]
    },
    {
     "name": "stdout",
     "output_type": "stream",
     "text": [
      "alpha=1.841e-05, time=0.39s, n_iter=1\n"
     ]
    },
    {
     "name": "stderr",
     "output_type": "stream",
     "text": [
      "Iteration 0:   0%|                  | 0.0/1.0 [0.07s/it, gradient norm=0.0009962879012792973]\n"
     ]
    },
    {
     "name": "stdout",
     "output_type": "stream",
     "text": [
      "alpha=1.457e-05, time=0.38s, n_iter=1\n"
     ]
    },
    {
     "name": "stderr",
     "output_type": "stream",
     "text": [
      "Iteration 0:   9%|█▌               | 0.09/1.0 [0.09s/it, gradient norm=0.0008175113659439327]\n"
     ]
    },
    {
     "name": "stdout",
     "output_type": "stream",
     "text": [
      "alpha=1.152e-05, time=0.39s, n_iter=1\n"
     ]
    },
    {
     "name": "stderr",
     "output_type": "stream",
     "text": [
      "Iteration 0:  19%|███▏             | 0.19/1.0 [0.09s/it, gradient norm=0.0006496003178275633]\n"
     ]
    },
    {
     "name": "stdout",
     "output_type": "stream",
     "text": [
      "alpha=9.119e-06, time=0.34s, n_iter=1\n"
     ]
    },
    {
     "name": "stderr",
     "output_type": "stream",
     "text": [
      "Iteration 0:  28%|████▊            | 0.28/1.0 [0.08s/it, gradient norm=0.0005218230762312417]\n"
     ]
    },
    {
     "name": "stdout",
     "output_type": "stream",
     "text": [
      "alpha=7.215e-06, time=0.34s, n_iter=1\n"
     ]
    },
    {
     "name": "stderr",
     "output_type": "stream",
     "text": [
      "Iteration 0:  37%|██████▎          | 0.37/1.0 [0.08s/it, gradient norm=0.0004217998736817273]\n"
     ]
    },
    {
     "name": "stdout",
     "output_type": "stream",
     "text": [
      "alpha=5.709e-06, time=0.38s, n_iter=1\n"
     ]
    },
    {
     "name": "stderr",
     "output_type": "stream",
     "text": [
      "Iteration 0:  47%|███████▉         | 0.47/1.0 [0.08s/it, gradient norm=0.0003376377335393645]\n"
     ]
    },
    {
     "name": "stdout",
     "output_type": "stream",
     "text": [
      "alpha=4.517e-06, time=0.33s, n_iter=1\n"
     ]
    },
    {
     "name": "stderr",
     "output_type": "stream",
     "text": [
      "Iteration 0:  56%|█████████▌       | 0.56/1.0 [0.10s/it, gradient norm=0.0002785014770399672]\n"
     ]
    },
    {
     "name": "stdout",
     "output_type": "stream",
     "text": [
      "alpha=3.574e-06, time=0.38s, n_iter=1\n"
     ]
    },
    {
     "name": "stderr",
     "output_type": "stream",
     "text": [
      "Iteration 0:  64%|██████████▏     | 0.64/1.0 [0.09s/it, gradient norm=0.00022796612250645525]\n"
     ]
    },
    {
     "name": "stdout",
     "output_type": "stream",
     "text": [
      "alpha=2.828e-06, time=0.36s, n_iter=1\n"
     ]
    },
    {
     "name": "stderr",
     "output_type": "stream",
     "text": [
      "Iteration 0:  72%|███████████▌    | 0.72/1.0 [0.06s/it, gradient norm=0.00019217030930165322]\n"
     ]
    },
    {
     "name": "stdout",
     "output_type": "stream",
     "text": [
      "alpha=2.237e-06, time=0.36s, n_iter=1\n"
     ]
    },
    {
     "name": "stderr",
     "output_type": "stream",
     "text": [
      "Iteration 0:  81%|█████████████▊   | 0.81/1.0 [0.09s/it, gradient norm=0.0001558127946318024]\n"
     ]
    },
    {
     "name": "stdout",
     "output_type": "stream",
     "text": [
      "alpha=1.770e-06, time=0.39s, n_iter=1\n"
     ]
    },
    {
     "name": "stderr",
     "output_type": "stream",
     "text": [
      "Iteration 0:  90%|███████████████▎ | 0.9/1.0 [0.07s/it, gradient norm=0.00012521091442811795]\n"
     ]
    },
    {
     "name": "stdout",
     "output_type": "stream",
     "text": [
      "alpha=1.401e-06, time=0.34s, n_iter=1\n"
     ]
    },
    {
     "name": "stderr",
     "output_type": "stream",
     "text": [
      "Iteration 0: 100%|█████████████████| 1.0/1.0 [0.08s/it, gradient norm=0.00010077202349239897]\n"
     ]
    },
    {
     "name": "stdout",
     "output_type": "stream",
     "text": [
      "alpha=1.108e-06, time=0.36s, n_iter=1\n"
     ]
    },
    {
     "name": "stderr",
     "output_type": "stream",
     "text": [
      "Iteration 0: |                            | 0/-0.0 [s/it, gradient norm=8.12562405715146e-05]\n"
     ]
    },
    {
     "name": "stdout",
     "output_type": "stream",
     "text": [
      "alpha=8.770e-07, time=0.09s, n_iter=0\n"
     ]
    },
    {
     "name": "stderr",
     "output_type": "stream",
     "text": [
      "Iteration 0:  87%|█████████████▉  | 0.87/1.0 [0.07s/it, gradient norm=0.00013532128493321446]\n"
     ]
    },
    {
     "name": "stdout",
     "output_type": "stream",
     "text": [
      "alpha=6.939e-07, time=0.35s, n_iter=1\n"
     ]
    },
    {
     "name": "stderr",
     "output_type": "stream",
     "text": [
      "Iteration 0: |                            | 0/-0.0 [s/it, gradient norm=5.65744572316649e-05]\n"
     ]
    },
    {
     "name": "stdout",
     "output_type": "stream",
     "text": [
      "alpha=5.490e-07, time=0.10s, n_iter=0\n"
     ]
    },
    {
     "name": "stderr",
     "output_type": "stream",
     "text": [
      "Iteration 0: |                             | 0/? [s/it, gradient norm=2.6020852139652106e-17]\n"
     ]
    },
    {
     "name": "stdout",
     "output_type": "stream",
     "text": [
      "alpha=5.490e-01, time=0.09s, n_iter=0\n"
     ]
    },
    {
     "name": "stderr",
     "output_type": "stream",
     "text": [
      "Iteration 1:  44%|███████▍         | 0.88/2.0 [0.10s/it, gradient norm=0.0013063316569438522]\n"
     ]
    },
    {
     "name": "stdout",
     "output_type": "stream",
     "text": [
      "alpha=4.344e-01, time=0.33s, n_iter=2\n"
     ]
    },
    {
     "name": "stderr",
     "output_type": "stream",
     "text": [
      "Iteration 1:  56%|█████████▍       | 1.11/2.0 [0.12s/it, gradient norm=0.0007682915327594094]\n"
     ]
    },
    {
     "name": "stdout",
     "output_type": "stream",
     "text": [
      "alpha=3.437e-01, time=0.33s, n_iter=2\n"
     ]
    },
    {
     "name": "stderr",
     "output_type": "stream",
     "text": [
      "Iteration 1:  69%|███████████     | 1.38/2.0 [0.12s/it, gradient norm=0.00042015464448251884]\n"
     ]
    },
    {
     "name": "stdout",
     "output_type": "stream",
     "text": [
      "alpha=2.720e-01, time=0.35s, n_iter=2\n"
     ]
    },
    {
     "name": "stderr",
     "output_type": "stream",
     "text": [
      "Iteration 1:  81%|████████████▉   | 1.62/2.0 [0.15s/it, gradient norm=0.00023917088780260262]\n"
     ]
    },
    {
     "name": "stdout",
     "output_type": "stream",
     "text": [
      "alpha=2.152e-01, time=0.34s, n_iter=2\n"
     ]
    },
    {
     "name": "stderr",
     "output_type": "stream",
     "text": [
      "Iteration 1:  92%|██████████████▊ | 1.85/2.0 [0.13s/it, gradient norm=0.00013998516897674104]\n"
     ]
    },
    {
     "name": "stdout",
     "output_type": "stream",
     "text": [
      "alpha=1.703e-01, time=0.31s, n_iter=2\n"
     ]
    },
    {
     "name": "stderr",
     "output_type": "stream",
     "text": [
      "Iteration 0:  30%|█████▍            | 0.6/2.0 [0.10s/it, gradient norm=0.0025048995996674863]\n"
     ]
    },
    {
     "name": "stdout",
     "output_type": "stream",
     "text": [
      "alpha=1.347e-01, time=0.22s, n_iter=1\n"
     ]
    },
    {
     "name": "stderr",
     "output_type": "stream",
     "text": [
      "Iteration 0:  36%|██████▍           | 0.71/2.0 [0.09s/it, gradient norm=0.001947646341670951]\n"
     ]
    },
    {
     "name": "stdout",
     "output_type": "stream",
     "text": [
      "alpha=1.066e-01, time=0.21s, n_iter=1\n"
     ]
    },
    {
     "name": "stderr",
     "output_type": "stream",
     "text": [
      "Iteration 0:  40%|██████▉          | 0.81/2.0 [0.06s/it, gradient norm=0.0015490326121953887]\n"
     ]
    },
    {
     "name": "stdout",
     "output_type": "stream",
     "text": [
      "alpha=8.434e-02, time=0.22s, n_iter=1\n"
     ]
    },
    {
     "name": "stderr",
     "output_type": "stream",
     "text": [
      "Iteration 0:  46%|████████▏         | 0.91/2.0 [0.07s/it, gradient norm=0.001228787362321882]\n"
     ]
    },
    {
     "name": "stdout",
     "output_type": "stream",
     "text": [
      "alpha=6.673e-02, time=0.22s, n_iter=1\n"
     ]
    },
    {
     "name": "stderr",
     "output_type": "stream",
     "text": [
      "Iteration 0:   1%|▏                | 0.01/1.0 [0.08s/it, gradient norm=0.0009742785387820423]\n"
     ]
    },
    {
     "name": "stdout",
     "output_type": "stream",
     "text": [
      "alpha=5.280e-02, time=0.21s, n_iter=1\n"
     ]
    },
    {
     "name": "stderr",
     "output_type": "stream",
     "text": [
      "Iteration 0:  11%|█▊               | 0.11/1.0 [0.06s/it, gradient norm=0.0007738198409127386]\n"
     ]
    },
    {
     "name": "stdout",
     "output_type": "stream",
     "text": [
      "alpha=4.178e-02, time=0.19s, n_iter=1\n"
     ]
    },
    {
     "name": "stderr",
     "output_type": "stream",
     "text": [
      "Iteration 0:  21%|███▌             | 0.21/1.0 [0.09s/it, gradient norm=0.0006131969431852533]\n"
     ]
    },
    {
     "name": "stdout",
     "output_type": "stream",
     "text": [
      "alpha=3.306e-02, time=0.21s, n_iter=1\n"
     ]
    },
    {
     "name": "stderr",
     "output_type": "stream",
     "text": [
      "Iteration 0:  31%|█████▎           | 0.31/1.0 [0.08s/it, gradient norm=0.0004857538787800045]\n"
     ]
    },
    {
     "name": "stdout",
     "output_type": "stream",
     "text": [
      "alpha=2.616e-02, time=0.21s, n_iter=1\n"
     ]
    },
    {
     "name": "stderr",
     "output_type": "stream",
     "text": [
      "Iteration 0:  41%|██████▌         | 0.41/1.0 [0.08s/it, gradient norm=0.00038470385564502805]\n"
     ]
    },
    {
     "name": "stdout",
     "output_type": "stream",
     "text": [
      "alpha=2.069e-02, time=0.20s, n_iter=1\n"
     ]
    },
    {
     "name": "stderr",
     "output_type": "stream",
     "text": [
      "Iteration 0:  44%|███████▍         | 0.88/2.0 [0.09s/it, gradient norm=0.0013247039883736613]\n"
     ]
    },
    {
     "name": "stdout",
     "output_type": "stream",
     "text": [
      "alpha=1.637e-02, time=0.21s, n_iter=1\n"
     ]
    },
    {
     "name": "stderr",
     "output_type": "stream",
     "text": [
      "Iteration 0:  34%|█████▊           | 0.68/2.0 [0.07s/it, gradient norm=0.0020783479380292453]\n"
     ]
    },
    {
     "name": "stdout",
     "output_type": "stream",
     "text": [
      "alpha=1.296e-02, time=0.19s, n_iter=1\n"
     ]
    },
    {
     "name": "stderr",
     "output_type": "stream",
     "text": [
      "Iteration 0:  39%|██████▋          | 0.78/2.0 [0.08s/it, gradient norm=0.0016501910126356216]\n"
     ]
    },
    {
     "name": "stdout",
     "output_type": "stream",
     "text": [
      "alpha=1.025e-02, time=0.21s, n_iter=1\n"
     ]
    },
    {
     "name": "stderr",
     "output_type": "stream",
     "text": [
      "Iteration 0:  44%|███████▍         | 0.88/2.0 [0.08s/it, gradient norm=0.0013046982776779678]\n"
     ]
    },
    {
     "name": "stdout",
     "output_type": "stream",
     "text": [
      "alpha=8.111e-03, time=0.20s, n_iter=1\n"
     ]
    },
    {
     "name": "stderr",
     "output_type": "stream",
     "text": [
      "Iteration 0:  50%|████████▍        | 0.99/2.0 [0.09s/it, gradient norm=0.0010313536565553854]\n"
     ]
    },
    {
     "name": "stdout",
     "output_type": "stream",
     "text": [
      "alpha=6.418e-03, time=0.21s, n_iter=1\n"
     ]
    },
    {
     "name": "stderr",
     "output_type": "stream",
     "text": [
      "Iteration 0:   9%|█▌               | 0.09/1.0 [0.08s/it, gradient norm=0.0008154475146110096]\n"
     ]
    },
    {
     "name": "stdout",
     "output_type": "stream",
     "text": [
      "alpha=5.078e-03, time=0.21s, n_iter=1\n"
     ]
    },
    {
     "name": "stderr",
     "output_type": "stream",
     "text": [
      "Iteration 0:  19%|███▏             | 0.19/1.0 [0.08s/it, gradient norm=0.0006448436711083937]\n"
     ]
    },
    {
     "name": "stdout",
     "output_type": "stream",
     "text": [
      "alpha=4.018e-03, time=0.19s, n_iter=1\n"
     ]
    },
    {
     "name": "stderr",
     "output_type": "stream",
     "text": [
      "Iteration 0:   2%|▎                | 0.02/1.0 [0.09s/it, gradient norm=0.0009467716823841835]\n"
     ]
    },
    {
     "name": "stdout",
     "output_type": "stream",
     "text": [
      "alpha=3.179e-03, time=0.20s, n_iter=1\n"
     ]
    },
    {
     "name": "stderr",
     "output_type": "stream",
     "text": [
      "Iteration 0:  26%|████▎            | 0.51/2.0 [0.09s/it, gradient norm=0.0031060315199569954]\n"
     ]
    },
    {
     "name": "stdout",
     "output_type": "stream",
     "text": [
      "alpha=2.515e-03, time=0.34s, n_iter=1\n"
     ]
    },
    {
     "name": "stderr",
     "output_type": "stream",
     "text": [
      "Iteration 0:  16%|██▉               | 0.33/2.0 [0.09s/it, gradient norm=0.004634105285628883]\n"
     ]
    },
    {
     "name": "stdout",
     "output_type": "stream",
     "text": [
      "alpha=1.990e-03, time=0.26s, n_iter=1\n"
     ]
    },
    {
     "name": "stderr",
     "output_type": "stream",
     "text": [
      "Iteration 1:  99%|███████████████▊| 1.98/2.0 [0.21s/it, gradient norm=0.00010578753004915673]\n"
     ]
    },
    {
     "name": "stdout",
     "output_type": "stream",
     "text": [
      "alpha=1.575e-03, time=0.43s, n_iter=2\n"
     ]
    },
    {
     "name": "stderr",
     "output_type": "stream",
     "text": [
      "Iteration 1:  94%|███████████████▉ | 1.87/2.0 [0.20s/it, gradient norm=0.0001352945610272116]\n"
     ]
    },
    {
     "name": "stdout",
     "output_type": "stream",
     "text": [
      "alpha=1.246e-03, time=0.41s, n_iter=2\n"
     ]
    },
    {
     "name": "stderr",
     "output_type": "stream",
     "text": [
      "Iteration 1:  94%|███████████████ | 1.89/2.0 [0.19s/it, gradient norm=0.00012861614769311096]\n"
     ]
    },
    {
     "name": "stdout",
     "output_type": "stream",
     "text": [
      "alpha=9.859e-04, time=0.42s, n_iter=2\n"
     ]
    },
    {
     "name": "stderr",
     "output_type": "stream",
     "text": [
      "Iteration 0:  10%|█▉                 | 0.2/2.0 [0.10s/it, gradient norm=0.006363071183530699]\n"
     ]
    },
    {
     "name": "stdout",
     "output_type": "stream",
     "text": [
      "alpha=7.801e-04, time=0.29s, n_iter=1\n"
     ]
    },
    {
     "name": "stderr",
     "output_type": "stream",
     "text": [
      "Iteration 0:  14%|██▍               | 0.27/2.0 [0.09s/it, gradient norm=0.005309285790890117]\n"
     ]
    },
    {
     "name": "stdout",
     "output_type": "stream",
     "text": [
      "alpha=6.172e-04, time=0.31s, n_iter=1\n"
     ]
    },
    {
     "name": "stderr",
     "output_type": "stream",
     "text": [
      "Iteration 0:  16%|██▉               | 0.32/2.0 [0.17s/it, gradient norm=0.004740964278868375]\n"
     ]
    },
    {
     "name": "stdout",
     "output_type": "stream",
     "text": [
      "alpha=4.884e-04, time=0.40s, n_iter=1\n"
     ]
    },
    {
     "name": "stderr",
     "output_type": "stream",
     "text": [
      "Iteration 0:  16%|██▉               | 0.33/2.0 [0.18s/it, gradient norm=0.004677022761758833]\n"
     ]
    },
    {
     "name": "stdout",
     "output_type": "stream",
     "text": [
      "alpha=3.864e-04, time=0.38s, n_iter=1\n"
     ]
    },
    {
     "name": "stderr",
     "output_type": "stream",
     "text": [
      "Iteration 1:  98%|███████████████▋| 1.96/2.0 [0.21s/it, gradient norm=0.00010922999315020176]\n"
     ]
    },
    {
     "name": "stdout",
     "output_type": "stream",
     "text": [
      "alpha=3.057e-04, time=0.52s, n_iter=2\n"
     ]
    },
    {
     "name": "stderr",
     "output_type": "stream",
     "text": [
      "Iteration 1:  99%|███████████████▊| 1.98/2.0 [0.17s/it, gradient norm=0.00010481273970290135]\n"
     ]
    },
    {
     "name": "stdout",
     "output_type": "stream",
     "text": [
      "alpha=2.419e-04, time=0.55s, n_iter=2\n"
     ]
    },
    {
     "name": "stderr",
     "output_type": "stream",
     "text": [
      "Iteration 1: 100%|█████████████████| 2.0/2.0 [0.22s/it, gradient norm=0.00010049019695848463]\n"
     ]
    },
    {
     "name": "stdout",
     "output_type": "stream",
     "text": [
      "alpha=1.914e-04, time=0.61s, n_iter=2\n"
     ]
    },
    {
     "name": "stderr",
     "output_type": "stream",
     "text": [
      "Iteration 0:  22%|███▋             | 0.44/2.0 [0.14s/it, gradient norm=0.0036600789816970277]\n"
     ]
    },
    {
     "name": "stdout",
     "output_type": "stream",
     "text": [
      "alpha=1.515e-04, time=0.34s, n_iter=1\n"
     ]
    },
    {
     "name": "stderr",
     "output_type": "stream",
     "text": [
      "Iteration 0:  24%|████             | 0.48/2.0 [0.13s/it, gradient norm=0.0032988270086086085]\n"
     ]
    },
    {
     "name": "stdout",
     "output_type": "stream",
     "text": [
      "alpha=1.198e-04, time=0.33s, n_iter=1\n"
     ]
    },
    {
     "name": "stderr",
     "output_type": "stream",
     "text": [
      "Iteration 0:  25%|████▊              | 0.5/2.0 [0.15s/it, gradient norm=0.003132062520309564]\n"
     ]
    },
    {
     "name": "stdout",
     "output_type": "stream",
     "text": [
      "alpha=9.482e-05, time=0.35s, n_iter=1\n"
     ]
    },
    {
     "name": "stderr",
     "output_type": "stream",
     "text": [
      "Iteration 1:  99%|███████████████▊| 1.98/2.0 [0.22s/it, gradient norm=0.00010577996482911983]\n"
     ]
    },
    {
     "name": "stdout",
     "output_type": "stream",
     "text": [
      "alpha=7.502e-05, time=0.54s, n_iter=2\n"
     ]
    },
    {
     "name": "stderr",
     "output_type": "stream",
     "text": [
      "Iteration 0:  32%|█████▋            | 0.63/2.0 [0.13s/it, gradient norm=0.002325330307884722]\n"
     ]
    },
    {
     "name": "stdout",
     "output_type": "stream",
     "text": [
      "alpha=5.936e-05, time=0.35s, n_iter=1\n"
     ]
    },
    {
     "name": "stderr",
     "output_type": "stream",
     "text": [
      "Iteration 0:  34%|██████            | 0.68/2.0 [0.16s/it, gradient norm=0.002092756318736288]\n"
     ]
    },
    {
     "name": "stdout",
     "output_type": "stream",
     "text": [
      "alpha=4.697e-05, time=0.40s, n_iter=1\n"
     ]
    },
    {
     "name": "stderr",
     "output_type": "stream",
     "text": [
      "Iteration 0:  36%|██████▏          | 0.73/2.0 [0.15s/it, gradient norm=0.0018834159361735135]\n"
     ]
    },
    {
     "name": "stdout",
     "output_type": "stream",
     "text": [
      "alpha=3.716e-05, time=0.39s, n_iter=1\n"
     ]
    },
    {
     "name": "stderr",
     "output_type": "stream",
     "text": [
      "Iteration 0:  40%|███████           | 0.79/2.0 [0.13s/it, gradient norm=0.001632693679289611]\n"
     ]
    },
    {
     "name": "stdout",
     "output_type": "stream",
     "text": [
      "alpha=2.940e-05, time=0.43s, n_iter=1\n"
     ]
    },
    {
     "name": "stderr",
     "output_type": "stream",
     "text": [
      "Iteration 0:  44%|███████▌         | 0.89/2.0 [0.16s/it, gradient norm=0.0012978347133880714]\n"
     ]
    },
    {
     "name": "stdout",
     "output_type": "stream",
     "text": [
      "alpha=2.327e-05, time=0.39s, n_iter=1\n"
     ]
    },
    {
     "name": "stderr",
     "output_type": "stream",
     "text": [
      "Iteration 0:  48%|████████▏        | 0.97/2.0 [0.15s/it, gradient norm=0.0010609751973685154]\n"
     ]
    },
    {
     "name": "stdout",
     "output_type": "stream",
     "text": [
      "alpha=1.841e-05, time=0.41s, n_iter=1\n"
     ]
    },
    {
     "name": "stderr",
     "output_type": "stream",
     "text": [
      "Iteration 0:   7%|█▏               | 0.07/1.0 [0.15s/it, gradient norm=0.0008512066323202429]\n"
     ]
    },
    {
     "name": "stdout",
     "output_type": "stream",
     "text": [
      "alpha=1.457e-05, time=0.45s, n_iter=1\n"
     ]
    },
    {
     "name": "stderr",
     "output_type": "stream",
     "text": [
      "Iteration 0:  17%|██▉              | 0.17/1.0 [0.15s/it, gradient norm=0.0006774875131962454]\n"
     ]
    },
    {
     "name": "stdout",
     "output_type": "stream",
     "text": [
      "alpha=1.152e-05, time=0.42s, n_iter=1\n"
     ]
    },
    {
     "name": "stderr",
     "output_type": "stream",
     "text": [
      "Iteration 0:  27%|████▌            | 0.27/1.0 [0.16s/it, gradient norm=0.0005391443497991493]\n"
     ]
    },
    {
     "name": "stdout",
     "output_type": "stream",
     "text": [
      "alpha=9.119e-06, time=0.40s, n_iter=1\n"
     ]
    },
    {
     "name": "stderr",
     "output_type": "stream",
     "text": [
      "Iteration 0:  37%|██████▋           | 0.37/1.0 [0.15s/it, gradient norm=0.000429056443760358]\n"
     ]
    },
    {
     "name": "stdout",
     "output_type": "stream",
     "text": [
      "alpha=7.215e-06, time=0.42s, n_iter=1\n"
     ]
    },
    {
     "name": "stderr",
     "output_type": "stream",
     "text": [
      "Iteration 0:  44%|███████▍         | 0.44/1.0 [0.12s/it, gradient norm=0.0003594858247355186]\n"
     ]
    },
    {
     "name": "stdout",
     "output_type": "stream",
     "text": [
      "alpha=5.709e-06, time=0.41s, n_iter=1\n"
     ]
    },
    {
     "name": "stderr",
     "output_type": "stream",
     "text": [
      "Iteration 0:  51%|████████▏       | 0.51/1.0 [0.16s/it, gradient norm=0.00031047707779874247]\n"
     ]
    },
    {
     "name": "stdout",
     "output_type": "stream",
     "text": [
      "alpha=4.517e-06, time=0.48s, n_iter=1\n"
     ]
    },
    {
     "name": "stderr",
     "output_type": "stream",
     "text": [
      "Iteration 0:  61%|██████████▎      | 0.61/1.0 [0.14s/it, gradient norm=0.0002467609222272912]\n"
     ]
    },
    {
     "name": "stdout",
     "output_type": "stream",
     "text": [
      "alpha=3.574e-06, time=0.49s, n_iter=1\n"
     ]
    },
    {
     "name": "stderr",
     "output_type": "stream",
     "text": [
      "Iteration 0:  71%|███████████▎    | 0.71/1.0 [0.16s/it, gradient norm=0.00019677269270089519]\n"
     ]
    },
    {
     "name": "stdout",
     "output_type": "stream",
     "text": [
      "alpha=2.828e-06, time=0.41s, n_iter=1\n"
     ]
    },
    {
     "name": "stderr",
     "output_type": "stream",
     "text": [
      "Iteration 0:  78%|████████████▍   | 0.78/1.0 [0.14s/it, gradient norm=0.00016595162165329772]\n"
     ]
    },
    {
     "name": "stdout",
     "output_type": "stream",
     "text": [
      "alpha=2.237e-06, time=0.44s, n_iter=1\n"
     ]
    },
    {
     "name": "stderr",
     "output_type": "stream",
     "text": [
      "Iteration 0:  87%|█████████████▉  | 0.87/1.0 [0.13s/it, gradient norm=0.00013353376773577914]\n"
     ]
    },
    {
     "name": "stdout",
     "output_type": "stream",
     "text": [
      "alpha=1.770e-06, time=0.50s, n_iter=1\n"
     ]
    },
    {
     "name": "stderr",
     "output_type": "stream",
     "text": [
      "Iteration 0:  96%|███████████████▎| 0.96/1.0 [0.15s/it, gradient norm=0.00010910876016347675]\n"
     ]
    },
    {
     "name": "stdout",
     "output_type": "stream",
     "text": [
      "alpha=1.401e-06, time=0.50s, n_iter=1\n"
     ]
    },
    {
     "name": "stderr",
     "output_type": "stream",
     "text": [
      "Iteration 0: |                           | 0/-0.0 [s/it, gradient norm=9.234659838918429e-05]\n"
     ]
    },
    {
     "name": "stdout",
     "output_type": "stream",
     "text": [
      "alpha=1.108e-06, time=0.15s, n_iter=0\n"
     ]
    },
    {
     "name": "stderr",
     "output_type": "stream",
     "text": [
      "Iteration 0:  80%|█████████████▌   | 0.8/1.0 [0.14s/it, gradient norm=0.00015841174622370624]\n"
     ]
    },
    {
     "name": "stdout",
     "output_type": "stream",
     "text": [
      "alpha=8.770e-07, time=0.47s, n_iter=1\n"
     ]
    },
    {
     "name": "stderr",
     "output_type": "stream",
     "text": [
      "Iteration 0: |                           | 0/-0.0 [s/it, gradient norm=6.590703412690138e-05]\n"
     ]
    },
    {
     "name": "stdout",
     "output_type": "stream",
     "text": [
      "alpha=6.939e-07, time=0.15s, n_iter=0\n"
     ]
    },
    {
     "name": "stderr",
     "output_type": "stream",
     "text": [
      "Iteration 0:  97%|███████████████▌| 0.97/1.0 [0.15s/it, gradient norm=0.00010781570644434234]\n"
     ]
    },
    {
     "name": "stdout",
     "output_type": "stream",
     "text": [
      "alpha=5.490e-07, time=0.50s, n_iter=1\n"
     ]
    },
    {
     "name": "stderr",
     "output_type": "stream",
     "text": [
      "Iteration 0:  38%|██████▍          | 0.75/2.0 [0.06s/it, gradient norm=0.0017805348436237293]\n"
     ]
    },
    {
     "name": "stdout",
     "output_type": "stream",
     "text": [
      "alpha=5.490e-01, time=0.22s, n_iter=1\n"
     ]
    },
    {
     "name": "stderr",
     "output_type": "stream",
     "text": [
      "Iteration 1:  42%|███████          | 0.83/2.0 [0.14s/it, gradient norm=0.0014894494800514572]\n"
     ]
    },
    {
     "name": "stdout",
     "output_type": "stream",
     "text": [
      "alpha=4.344e-01, time=0.35s, n_iter=2\n"
     ]
    },
    {
     "name": "stderr",
     "output_type": "stream",
     "text": [
      "Iteration 1:  56%|█████████▌       | 1.12/2.0 [0.15s/it, gradient norm=0.0007638251092095304]\n"
     ]
    },
    {
     "name": "stdout",
     "output_type": "stream",
     "text": [
      "alpha=3.437e-01, time=0.35s, n_iter=2\n"
     ]
    },
    {
     "name": "stderr",
     "output_type": "stream",
     "text": [
      "Iteration 1:  69%|███████████▋     | 1.38/2.0 [0.12s/it, gradient norm=0.0004195208132513708]\n"
     ]
    },
    {
     "name": "stdout",
     "output_type": "stream",
     "text": [
      "alpha=2.720e-01, time=0.33s, n_iter=2\n"
     ]
    },
    {
     "name": "stderr",
     "output_type": "stream",
     "text": [
      "Iteration 1:  81%|█████████████▊   | 1.62/2.0 [0.12s/it, gradient norm=0.0002396303808192943]\n"
     ]
    },
    {
     "name": "stdout",
     "output_type": "stream",
     "text": [
      "alpha=2.152e-01, time=0.33s, n_iter=2\n"
     ]
    },
    {
     "name": "stderr",
     "output_type": "stream",
     "text": [
      "Iteration 1:  92%|███████████████▋ | 1.85/2.0 [0.05s/it, gradient norm=0.0001405016583032842]\n"
     ]
    },
    {
     "name": "stdout",
     "output_type": "stream",
     "text": [
      "alpha=1.703e-01, time=0.33s, n_iter=2\n"
     ]
    },
    {
     "name": "stderr",
     "output_type": "stream",
     "text": [
      "Iteration 0:  30%|█████            | 0.59/2.0 [0.09s/it, gradient norm=0.0025472907588153073]\n"
     ]
    },
    {
     "name": "stdout",
     "output_type": "stream",
     "text": [
      "alpha=1.347e-01, time=0.24s, n_iter=1\n"
     ]
    },
    {
     "name": "stderr",
     "output_type": "stream",
     "text": [
      "Iteration 0:  35%|██████▋            | 0.7/2.0 [0.07s/it, gradient norm=0.001979308070731646]\n"
     ]
    },
    {
     "name": "stdout",
     "output_type": "stream",
     "text": [
      "alpha=1.066e-01, time=0.21s, n_iter=1\n"
     ]
    },
    {
     "name": "stderr",
     "output_type": "stream",
     "text": [
      "Iteration 0:  40%|███████▏          | 0.8/2.0 [0.09s/it, gradient norm=0.0015744560893922715]\n"
     ]
    },
    {
     "name": "stdout",
     "output_type": "stream",
     "text": [
      "alpha=8.434e-02, time=0.24s, n_iter=1\n"
     ]
    },
    {
     "name": "stderr",
     "output_type": "stream",
     "text": [
      "Iteration 0:  45%|████████▌          | 0.9/2.0 [0.09s/it, gradient norm=0.001249097458344785]\n"
     ]
    },
    {
     "name": "stdout",
     "output_type": "stream",
     "text": [
      "alpha=6.673e-02, time=0.20s, n_iter=1\n"
     ]
    },
    {
     "name": "stderr",
     "output_type": "stream",
     "text": [
      "Iteration 0:   0%|                  | 0.0/1.0 [0.07s/it, gradient norm=0.0009904706654466286]\n"
     ]
    },
    {
     "name": "stdout",
     "output_type": "stream",
     "text": [
      "alpha=5.280e-02, time=0.20s, n_iter=1\n"
     ]
    },
    {
     "name": "stderr",
     "output_type": "stream",
     "text": [
      "Iteration 0:  11%|█▊               | 0.11/1.0 [0.10s/it, gradient norm=0.0007850266516457724]\n"
     ]
    },
    {
     "name": "stdout",
     "output_type": "stream",
     "text": [
      "alpha=4.178e-02, time=0.22s, n_iter=1\n"
     ]
    },
    {
     "name": "stderr",
     "output_type": "stream",
     "text": [
      "Iteration 0:  21%|███▌             | 0.21/1.0 [0.10s/it, gradient norm=0.0006237179451670264]\n"
     ]
    },
    {
     "name": "stdout",
     "output_type": "stream",
     "text": [
      "alpha=3.306e-02, time=0.30s, n_iter=1\n"
     ]
    },
    {
     "name": "stderr",
     "output_type": "stream",
     "text": [
      "Iteration 0:  31%|█████▎           | 0.31/1.0 [0.08s/it, gradient norm=0.0004941270339225453]\n"
     ]
    },
    {
     "name": "stdout",
     "output_type": "stream",
     "text": [
      "alpha=2.616e-02, time=0.23s, n_iter=1\n"
     ]
    },
    {
     "name": "stderr",
     "output_type": "stream",
     "text": [
      "Iteration 0:  41%|██████▌         | 0.41/1.0 [0.08s/it, gradient norm=0.00039135131044189557]\n"
     ]
    },
    {
     "name": "stdout",
     "output_type": "stream",
     "text": [
      "alpha=2.069e-02, time=0.20s, n_iter=1\n"
     ]
    },
    {
     "name": "stderr",
     "output_type": "stream",
     "text": [
      "Iteration 0:  31%|█████▎           | 0.62/2.0 [0.07s/it, gradient norm=0.0023897130766464725]\n"
     ]
    },
    {
     "name": "stdout",
     "output_type": "stream",
     "text": [
      "alpha=1.637e-02, time=0.22s, n_iter=1\n"
     ]
    },
    {
     "name": "stderr",
     "output_type": "stream",
     "text": [
      "Iteration 0:  34%|██████            | 0.68/2.0 [0.10s/it, gradient norm=0.002100262081469248]\n"
     ]
    },
    {
     "name": "stdout",
     "output_type": "stream",
     "text": [
      "alpha=1.296e-02, time=0.23s, n_iter=1\n"
     ]
    },
    {
     "name": "stderr",
     "output_type": "stream",
     "text": [
      "Iteration 0:  39%|██████▋          | 0.78/2.0 [0.09s/it, gradient norm=0.0016623562314556787]\n"
     ]
    },
    {
     "name": "stdout",
     "output_type": "stream",
     "text": [
      "alpha=1.025e-02, time=0.20s, n_iter=1\n"
     ]
    },
    {
     "name": "stderr",
     "output_type": "stream",
     "text": [
      "Iteration 0:  44%|███████▍         | 0.88/2.0 [0.10s/it, gradient norm=0.0013140134008405332]\n"
     ]
    },
    {
     "name": "stdout",
     "output_type": "stream",
     "text": [
      "alpha=8.111e-03, time=0.21s, n_iter=1\n"
     ]
    },
    {
     "name": "stderr",
     "output_type": "stream",
     "text": [
      "Iteration 0:  49%|████████▊         | 0.98/2.0 [0.03s/it, gradient norm=0.001038803669535147]\n"
     ]
    },
    {
     "name": "stdout",
     "output_type": "stream",
     "text": [
      "alpha=6.418e-03, time=0.18s, n_iter=1\n"
     ]
    },
    {
     "name": "stderr",
     "output_type": "stream",
     "text": [
      "Iteration 0:   9%|█▌               | 0.09/1.0 [0.10s/it, gradient norm=0.0008213920544158236]\n"
     ]
    },
    {
     "name": "stdout",
     "output_type": "stream",
     "text": [
      "alpha=5.078e-03, time=0.23s, n_iter=1\n"
     ]
    },
    {
     "name": "stderr",
     "output_type": "stream",
     "text": [
      "Iteration 0:  19%|███▏             | 0.19/1.0 [0.07s/it, gradient norm=0.0006495779433841288]\n"
     ]
    },
    {
     "name": "stdout",
     "output_type": "stream",
     "text": [
      "alpha=4.018e-03, time=0.20s, n_iter=1\n"
     ]
    },
    {
     "name": "stderr",
     "output_type": "stream",
     "text": [
      "Iteration 0:  34%|█████▊           | 0.68/2.0 [0.09s/it, gradient norm=0.0020945200893592976]\n"
     ]
    },
    {
     "name": "stdout",
     "output_type": "stream",
     "text": [
      "alpha=3.179e-03, time=0.19s, n_iter=1\n"
     ]
    },
    {
     "name": "stderr",
     "output_type": "stream",
     "text": [
      "Iteration 0:  20%|███▊               | 0.4/2.0 [0.08s/it, gradient norm=0.003994826891876795]\n"
     ]
    },
    {
     "name": "stdout",
     "output_type": "stream",
     "text": [
      "alpha=2.515e-03, time=0.32s, n_iter=1\n"
     ]
    },
    {
     "name": "stderr",
     "output_type": "stream",
     "text": [
      "Iteration 0:  12%|██▎               | 0.25/2.0 [0.10s/it, gradient norm=0.005572823977442909]\n"
     ]
    },
    {
     "name": "stdout",
     "output_type": "stream",
     "text": [
      "alpha=1.990e-03, time=0.30s, n_iter=1\n"
     ]
    },
    {
     "name": "stderr",
     "output_type": "stream",
     "text": [
      "Iteration 0:  10%|█▋                | 0.19/2.0 [0.09s/it, gradient norm=0.006406092058070669]\n"
     ]
    },
    {
     "name": "stdout",
     "output_type": "stream",
     "text": [
      "alpha=1.575e-03, time=0.30s, n_iter=1\n"
     ]
    },
    {
     "name": "stderr",
     "output_type": "stream",
     "text": [
      "Iteration 1:  90%|███████████████▎ | 1.8/2.0 [0.21s/it, gradient norm=0.00015798395395997936]\n"
     ]
    },
    {
     "name": "stdout",
     "output_type": "stream",
     "text": [
      "alpha=1.246e-03, time=0.42s, n_iter=2\n"
     ]
    },
    {
     "name": "stderr",
     "output_type": "stream",
     "text": [
      "Iteration 1:  92%|██████████████▋ | 1.84/2.0 [0.24s/it, gradient norm=0.00014351253808274204]\n"
     ]
    },
    {
     "name": "stdout",
     "output_type": "stream",
     "text": [
      "alpha=9.859e-04, time=0.53s, n_iter=2\n"
     ]
    },
    {
     "name": "stderr",
     "output_type": "stream",
     "text": [
      "Iteration 1: 100%|███████████████▉| 1.99/2.0 [0.21s/it, gradient norm=0.00010318003664984242]\n"
     ]
    },
    {
     "name": "stdout",
     "output_type": "stream",
     "text": [
      "alpha=7.801e-04, time=0.50s, n_iter=2\n"
     ]
    },
    {
     "name": "stderr",
     "output_type": "stream",
     "text": [
      "Iteration 1:  97%|███████████████▌| 1.94/2.0 [0.22s/it, gradient norm=0.00011388411429123188]\n"
     ]
    },
    {
     "name": "stdout",
     "output_type": "stream",
     "text": [
      "alpha=6.172e-04, time=0.55s, n_iter=2\n"
     ]
    },
    {
     "name": "stderr",
     "output_type": "stream",
     "text": [
      "Iteration 1:  98%|███████████████▊| 1.97/2.0 [0.23s/it, gradient norm=0.00010613572744578288]\n"
     ]
    },
    {
     "name": "stdout",
     "output_type": "stream",
     "text": [
      "alpha=4.884e-04, time=0.58s, n_iter=2\n"
     ]
    },
    {
     "name": "stderr",
     "output_type": "stream",
     "text": [
      "Iteration 0:  17%|██▉              | 0.34/2.0 [0.15s/it, gradient norm=0.0045984587265606724]\n"
     ]
    },
    {
     "name": "stdout",
     "output_type": "stream",
     "text": [
      "alpha=3.864e-04, time=0.38s, n_iter=1\n"
     ]
    },
    {
     "name": "stderr",
     "output_type": "stream",
     "text": [
      "Iteration 1:  98%|███████████████▌| 1.95/2.0 [0.24s/it, gradient norm=0.00011146081606738116]\n"
     ]
    },
    {
     "name": "stdout",
     "output_type": "stream",
     "text": [
      "alpha=3.057e-04, time=0.59s, n_iter=2\n"
     ]
    },
    {
     "name": "stderr",
     "output_type": "stream",
     "text": [
      "Iteration 1:  97%|███████████████▌| 1.94/2.0 [0.21s/it, gradient norm=0.00011497681498069887]\n"
     ]
    },
    {
     "name": "stdout",
     "output_type": "stream",
     "text": [
      "alpha=2.419e-04, time=0.57s, n_iter=2\n"
     ]
    },
    {
     "name": "stderr",
     "output_type": "stream",
     "text": [
      "Iteration 0:  20%|███▊               | 0.4/2.0 [0.17s/it, gradient norm=0.003963032830480409]\n"
     ]
    },
    {
     "name": "stdout",
     "output_type": "stream",
     "text": [
      "alpha=1.914e-04, time=0.42s, n_iter=1\n"
     ]
    },
    {
     "name": "stderr",
     "output_type": "stream",
     "text": [
      "Iteration 0:  23%|███▉             | 0.46/2.0 [0.16s/it, gradient norm=0.0034977684967928972]\n"
     ]
    },
    {
     "name": "stdout",
     "output_type": "stream",
     "text": [
      "alpha=1.515e-04, time=0.39s, n_iter=1\n"
     ]
    },
    {
     "name": "stderr",
     "output_type": "stream",
     "text": [
      "Iteration 0:  24%|███▉             | 0.47/2.0 [0.13s/it, gradient norm=0.0034060270697146406]\n"
     ]
    },
    {
     "name": "stdout",
     "output_type": "stream",
     "text": [
      "alpha=1.198e-04, time=0.41s, n_iter=1\n"
     ]
    },
    {
     "name": "stderr",
     "output_type": "stream",
     "text": [
      "Iteration 0:  24%|████▏             | 0.47/2.0 [0.14s/it, gradient norm=0.003383834553925539]\n"
     ]
    },
    {
     "name": "stdout",
     "output_type": "stream",
     "text": [
      "alpha=9.482e-05, time=0.38s, n_iter=1\n"
     ]
    },
    {
     "name": "stderr",
     "output_type": "stream",
     "text": [
      "Iteration 0:  26%|████▊             | 0.53/2.0 [0.12s/it, gradient norm=0.002945655859760032]\n"
     ]
    },
    {
     "name": "stdout",
     "output_type": "stream",
     "text": [
      "alpha=7.502e-05, time=0.34s, n_iter=1\n"
     ]
    },
    {
     "name": "stderr",
     "output_type": "stream",
     "text": [
      "Iteration 0:  30%|█████▍            | 0.61/2.0 [0.15s/it, gradient norm=0.002442895598072222]\n"
     ]
    },
    {
     "name": "stdout",
     "output_type": "stream",
     "text": [
      "alpha=5.936e-05, time=0.43s, n_iter=1\n"
     ]
    },
    {
     "name": "stderr",
     "output_type": "stream",
     "text": [
      "Iteration 1: 100%|███████████████▉| 1.99/2.0 [0.36s/it, gradient norm=0.00010267529506588811]\n"
     ]
    },
    {
     "name": "stdout",
     "output_type": "stream",
     "text": [
      "alpha=4.697e-05, time=0.82s, n_iter=2\n"
     ]
    },
    {
     "name": "stderr",
     "output_type": "stream",
     "text": [
      "Iteration 0:  40%|██████▋          | 0.79/2.0 [0.18s/it, gradient norm=0.0016365532522728573]\n"
     ]
    },
    {
     "name": "stdout",
     "output_type": "stream",
     "text": [
      "alpha=3.716e-05, time=0.44s, n_iter=1\n"
     ]
    },
    {
     "name": "stderr",
     "output_type": "stream",
     "text": [
      "Iteration 0:  44%|███████▍         | 0.87/2.0 [0.15s/it, gradient norm=0.0013623928343245802]\n"
     ]
    },
    {
     "name": "stdout",
     "output_type": "stream",
     "text": [
      "alpha=2.940e-05, time=0.43s, n_iter=1\n"
     ]
    },
    {
     "name": "stderr",
     "output_type": "stream",
     "text": [
      "Iteration 0:  46%|███████▋         | 0.91/2.0 [0.19s/it, gradient norm=0.0012183923070839893]\n"
     ]
    },
    {
     "name": "stdout",
     "output_type": "stream",
     "text": [
      "alpha=2.327e-05, time=0.51s, n_iter=1\n"
     ]
    },
    {
     "name": "stderr",
     "output_type": "stream",
     "text": [
      "Iteration 0:  46%|███████▊         | 0.92/2.0 [0.14s/it, gradient norm=0.0011922538017193846]\n"
     ]
    },
    {
     "name": "stdout",
     "output_type": "stream",
     "text": [
      "alpha=1.841e-05, time=0.42s, n_iter=1\n"
     ]
    },
    {
     "name": "stderr",
     "output_type": "stream",
     "text": [
      "Iteration 0:   2%|▎                | 0.02/1.0 [0.12s/it, gradient norm=0.0009591457909749029]\n"
     ]
    },
    {
     "name": "stdout",
     "output_type": "stream",
     "text": [
      "alpha=1.457e-05, time=0.48s, n_iter=1\n"
     ]
    },
    {
     "name": "stderr",
     "output_type": "stream",
     "text": [
      "Iteration 0:  12%|██               | 0.12/1.0 [0.14s/it, gradient norm=0.0007586337334038535]\n"
     ]
    },
    {
     "name": "stdout",
     "output_type": "stream",
     "text": [
      "alpha=1.152e-05, time=0.45s, n_iter=1\n"
     ]
    },
    {
     "name": "stderr",
     "output_type": "stream",
     "text": [
      "Iteration 0:  22%|███▋             | 0.22/1.0 [0.15s/it, gradient norm=0.0006002303874675035]\n"
     ]
    },
    {
     "name": "stdout",
     "output_type": "stream",
     "text": [
      "alpha=9.119e-06, time=0.47s, n_iter=1\n"
     ]
    },
    {
     "name": "stderr",
     "output_type": "stream",
     "text": [
      "Iteration 0:  30%|█████▍            | 0.3/1.0 [0.16s/it, gradient norm=0.0005053116075590239]\n"
     ]
    },
    {
     "name": "stdout",
     "output_type": "stream",
     "text": [
      "alpha=7.215e-06, time=0.49s, n_iter=1\n"
     ]
    },
    {
     "name": "stderr",
     "output_type": "stream",
     "text": [
      "Iteration 0:  38%|██████          | 0.38/1.0 [0.17s/it, gradient norm=0.00041976054861802653]\n"
     ]
    },
    {
     "name": "stdout",
     "output_type": "stream",
     "text": [
      "alpha=5.709e-06, time=0.61s, n_iter=1\n"
     ]
    },
    {
     "name": "stderr",
     "output_type": "stream",
     "text": [
      "Iteration 0:  48%|████████▏        | 0.48/1.0 [0.15s/it, gradient norm=0.0003327415759397813]\n"
     ]
    },
    {
     "name": "stdout",
     "output_type": "stream",
     "text": [
      "alpha=4.517e-06, time=0.48s, n_iter=1\n"
     ]
    },
    {
     "name": "stderr",
     "output_type": "stream",
     "text": [
      "Iteration 0:  58%|█████████▊       | 0.58/1.0 [0.19s/it, gradient norm=0.0002637517492138881]\n"
     ]
    },
    {
     "name": "stdout",
     "output_type": "stream",
     "text": [
      "alpha=3.574e-06, time=0.55s, n_iter=1\n"
     ]
    },
    {
     "name": "stderr",
     "output_type": "stream",
     "text": [
      "Iteration 0:  68%|███████████▌     | 0.68/1.0 [0.12s/it, gradient norm=0.0002090827872999244]\n"
     ]
    },
    {
     "name": "stdout",
     "output_type": "stream",
     "text": [
      "alpha=2.828e-06, time=0.45s, n_iter=1\n"
     ]
    },
    {
     "name": "stderr",
     "output_type": "stream",
     "text": [
      "Iteration 0:  78%|█████████████▎   | 0.78/1.0 [0.13s/it, gradient norm=0.0001657452913269558]\n"
     ]
    },
    {
     "name": "stdout",
     "output_type": "stream",
     "text": [
      "alpha=2.237e-06, time=0.55s, n_iter=1\n"
     ]
    },
    {
     "name": "stderr",
     "output_type": "stream",
     "text": [
      "Iteration 0:  87%|██████████████▊  | 0.87/1.0 [0.16s/it, gradient norm=0.0001352219705086263]\n"
     ]
    },
    {
     "name": "stdout",
     "output_type": "stream",
     "text": [
      "alpha=1.770e-06, time=0.50s, n_iter=1\n"
     ]
    },
    {
     "name": "stderr",
     "output_type": "stream",
     "text": [
      "Iteration 0:  95%|████████████████▏| 0.95/1.0 [0.16s/it, gradient norm=0.0001109374500467609]\n"
     ]
    },
    {
     "name": "stdout",
     "output_type": "stream",
     "text": [
      "alpha=1.401e-06, time=0.54s, n_iter=1\n"
     ]
    },
    {
     "name": "stderr",
     "output_type": "stream",
     "text": [
      "Iteration 0: |                           | 0/-0.0 [s/it, gradient norm=8.914544059451737e-05]\n"
     ]
    },
    {
     "name": "stdout",
     "output_type": "stream",
     "text": [
      "alpha=1.108e-06, time=0.16s, n_iter=0\n"
     ]
    },
    {
     "name": "stderr",
     "output_type": "stream",
     "text": [
      "Iteration 0:  81%|████████████▉   | 0.81/1.0 [0.16s/it, gradient norm=0.00015461826768890205]\n"
     ]
    },
    {
     "name": "stdout",
     "output_type": "stream",
     "text": [
      "alpha=8.770e-07, time=0.50s, n_iter=1\n"
     ]
    },
    {
     "name": "stderr",
     "output_type": "stream",
     "text": [
      "Iteration 0: |                           | 0/-0.0 [s/it, gradient norm=6.473536342133366e-05]\n"
     ]
    },
    {
     "name": "stdout",
     "output_type": "stream",
     "text": [
      "alpha=6.939e-07, time=0.17s, n_iter=0\n"
     ]
    },
    {
     "name": "stderr",
     "output_type": "stream",
     "text": [
      "Iteration 0:  97%|███████████████▌| 0.97/1.0 [0.17s/it, gradient norm=0.00010669219733699858]\n"
     ]
    },
    {
     "name": "stdout",
     "output_type": "stream",
     "text": [
      "alpha=5.490e-07, time=0.50s, n_iter=1\n"
     ]
    },
    {
     "name": "stderr",
     "output_type": "stream",
     "text": [
      "Iteration 4:  86%|█████████████▋  | 3.43/4.0 [0.24s/it, gradient norm=0.00037157785328158894]"
     ]
    },
    {
     "name": "stdout",
     "output_type": "stream",
     "text": [
      "gewähltes alpha_*: 4.696734303248795e-05\n",
      "[0.54902561 0.43440787 0.34371839 0.27196177 0.21518547] …\n"
     ]
    },
    {
     "name": "stderr",
     "output_type": "stream",
     "text": [
      "\n"
     ]
    }
   ],
   "source": [
    "import os, sys, numpy as np, pandas as pd\n",
    "sys.path.append(os.path.abspath(os.path.join(os.getcwd(), \"..\", \"src\")))\n",
    "from metrics import pdw, cf2, make_folds\n",
    "\n",
    "from glum import GeneralizedLinearRegressorCV\n",
    "from dask_ml.preprocessing import Categorizer\n",
    "\n",
    "\n",
    "cat_cols = [\"VehPowerGLM\",\"VehAgeGLM\",\"DrivAgeGLM\",\"VehBrand\",\"VehGas\",\"Region\"]\n",
    "num_cols = [\"BonusMalusGLM\",\"DensityGLM\",\"AreaGLM\"]\n",
    "\n",
    "for c in cat_cols:\n",
    "    learn[c] = learn[c].astype(\"category\")\n",
    "    test[c]  = test[c].astype(\"category\")\n",
    "\n",
    "X_learn = learn[cat_cols + num_cols]\n",
    "X_test  = test[cat_cols + num_cols]\n",
    "\n",
    "# Optional: vereinheitlichte Kategoriensätze (falls Learn/Test nicht dieselben Levels haben)\n",
    "cat = Categorizer(columns=cat_cols)\n",
    "X_learn = cat.fit_transform(X_learn)\n",
    "X_test  = cat.transform(X_test)\n",
    "\n",
    "# Ziel als Frequenz + Gewichte = Exposure (Offset-äquivalent)\n",
    "y_learn = (learn[\"ClaimNb\"] / learn[\"Exposure\"]).to_numpy()\n",
    "w_learn = learn[\"Exposure\"].to_numpy()\n",
    "\n",
    "# Poisson-LASSO mit CV\n",
    "lasso_cv = GeneralizedLinearRegressorCV(\n",
    "    family=\"poisson\",\n",
    "    l1_ratio=1.0,      # LASSO\n",
    "    cv=5,\n",
    "    n_alphas=60,\n",
    "    random_state=42,\n",
    "    verbose=1,\n",
    ")\n",
    "lasso_cv.fit(X_learn, y_learn, sample_weight=w_learn)\n",
    "\n",
    "print(\"gewähltes alpha_*:\", lasso_cv.alpha_)\n",
    "# Optional: Pfad & CV-Infos\n",
    "print(lasso_cv.alphas_[:5], \"…\")\n",
    "\n"
   ]
  },
  {
   "cell_type": "code",
   "execution_count": 15,
   "id": "fe7e4eff-f504-429f-826f-cfeaebec9a31",
   "metadata": {},
   "outputs": [
    {
     "name": "stdout",
     "output_type": "stream",
     "text": [
      "gewähltes alpha_*: 4.696734303248795e-05\n",
      "Claim Frequency LASSO, Test (Actual/Predicted): 7.38% / 7.36%\n",
      "Poisson Deviance LASSO, Test: 29.55%\n",
      "non-zero coefficients (ohne Intercept): 38\n"
     ]
    }
   ],
   "source": [
    "print(\"gewähltes alpha_*:\", lasso_cv.alpha_)# Test-Features \n",
    "\n",
    "y_test = test[\"ClaimNb\"].to_numpy()\n",
    "w_test = test[\"Exposure\"].to_numpy()\n",
    "\n",
    "# Vorhersage der FREQUENZ; für Counts mit Exposure multiplizieren\n",
    "rate_test = lasso_cv.predict(X_test)          # E[ClaimNb / Exposure]\n",
    "pred_counts = rate_test * w_test              # E[ClaimNb]\n",
    "\n",
    "# Metriken\n",
    "print(cf2(\"Claim Frequency LASSO, Test (Actual/Predicted)\",\n",
    "          y_test, w_test,\n",
    "          pred_counts, w_test))\n",
    "\n",
    "print(f\"Poisson Deviance LASSO, Test: {pdw(pred_counts, y_test, w_test):.2f}%\")\n",
    "\n",
    "# Sparsamkeit: Anzahl != 0-Koeffizienten \n",
    "coef = np.asarray(lasso_cv.coef_, dtype=float)\n",
    "nnz = int(np.sum(np.abs(coef) > 0))\n",
    "print(f\"non-zero coefficients (ohne Intercept): {nnz}\")\n"
   ]
  },
  {
   "cell_type": "code",
   "execution_count": 16,
   "id": "cf62597f-91a6-44af-8773-014569a24d10",
   "metadata": {},
   "outputs": [],
   "source": [
    "for part in (learn, test):\n",
    "    da = part[\"DrivAge\"].astype(float)\n",
    "    part[\"log_DrivAge\"] = np.log(da)\n",
    "    part[\"DrivAge2\"] = da**2\n",
    "    part[\"DrivAge3\"] = da**3\n",
    "    part[\"DrivAge4\"] = da**4\n",
    "\n",
    "cat_cols = [\"VehPowerGLM\",\"VehAgeGLM\",\"DrivAgeGLM\",\"VehBrand\",\"VehGas\",\"Region\"]\n",
    "num_cols = [\"BonusMalusGLM\",\"DensityGLM\",\"AreaGLM\",\"DrivAge\",\"log_DrivAge\",\"DrivAge2\",\"DrivAge3\",\"DrivAge4\"]\n",
    "\n",
    "for c in cat_cols:\n",
    "    learn[c] = learn[c].astype(\"category\")\n",
    "    test[c]  = test[c].astype(\"category\")\n",
    "\n",
    "from dask_ml.preprocessing import Categorizer\n",
    "X_learn = Categorizer(columns=cat_cols).fit_transform(learn[cat_cols + num_cols])\n",
    "X_test  = Categorizer(columns=cat_cols).fit(learn[cat_cols]).transform(test[cat_cols + num_cols])\n",
    "\n",
    "y_learn = (learn[\"ClaimNb\"] / learn[\"Exposure\"]).to_numpy()\n",
    "w_learn = learn[\"Exposure\"].to_numpy()\n",
    "y_test  = test[\"ClaimNb\"].to_numpy()\n",
    "w_test  = test[\"Exposure\"].to_numpy()"
   ]
  },
  {
   "cell_type": "code",
   "execution_count": 17,
   "id": "1cc515bd-edfb-483f-a26c-68fa36da42ec",
   "metadata": {
    "scrolled": true
   },
   "outputs": [
    {
     "name": "stderr",
     "output_type": "stream",
     "text": [
      "Iteration 0: |                              | 0/? [s/it, gradient norm=1.734723475976807e-18]\n"
     ]
    },
    {
     "name": "stdout",
     "output_type": "stream",
     "text": [
      "alpha=6.926e+04, time=0.09s, n_iter=0\n"
     ]
    },
    {
     "name": "stderr",
     "output_type": "stream",
     "text": [
      "Iteration 0:   7%|█▏               | 0.07/1.0 [0.10s/it, gradient norm=0.0008458278398916132]\n"
     ]
    },
    {
     "name": "stdout",
     "output_type": "stream",
     "text": [
      "alpha=5.815e+04, time=0.26s, n_iter=1\n"
     ]
    },
    {
     "name": "stderr",
     "output_type": "stream",
     "text": [
      "Iteration 0:   1%|▏                 | 0.01/1.0 [0.11s/it, gradient norm=0.000980755369577615]\n"
     ]
    },
    {
     "name": "stdout",
     "output_type": "stream",
     "text": [
      "alpha=4.882e+04, time=0.18s, n_iter=1\n"
     ]
    },
    {
     "name": "stderr",
     "output_type": "stream",
     "text": [
      "Iteration 0:   8%|█▎               | 0.08/1.0 [0.16s/it, gradient norm=0.0008317177202763807]\n"
     ]
    },
    {
     "name": "stdout",
     "output_type": "stream",
     "text": [
      "alpha=4.099e+04, time=0.28s, n_iter=1\n"
     ]
    },
    {
     "name": "stderr",
     "output_type": "stream",
     "text": [
      "Iteration 0:  16%|██▋              | 0.16/1.0 [0.09s/it, gradient norm=0.0006959829359558941]\n"
     ]
    },
    {
     "name": "stdout",
     "output_type": "stream",
     "text": [
      "alpha=3.441e+04, time=0.22s, n_iter=1\n"
     ]
    },
    {
     "name": "stderr",
     "output_type": "stream",
     "text": [
      "Iteration 0:  23%|███▉             | 0.23/1.0 [0.10s/it, gradient norm=0.0005823534202817253]\n"
     ]
    },
    {
     "name": "stdout",
     "output_type": "stream",
     "text": [
      "alpha=2.889e+04, time=0.23s, n_iter=1\n"
     ]
    },
    {
     "name": "stderr",
     "output_type": "stream",
     "text": [
      "Iteration 0:  31%|████▉           | 0.31/1.0 [0.10s/it, gradient norm=0.00048748411808234473]\n"
     ]
    },
    {
     "name": "stdout",
     "output_type": "stream",
     "text": [
      "alpha=2.425e+04, time=0.26s, n_iter=1\n"
     ]
    },
    {
     "name": "stderr",
     "output_type": "stream",
     "text": [
      "Iteration 0:  39%|██████▋          | 0.39/1.0 [0.09s/it, gradient norm=0.0004082337712128677]\n"
     ]
    },
    {
     "name": "stdout",
     "output_type": "stream",
     "text": [
      "alpha=2.036e+04, time=0.22s, n_iter=1\n"
     ]
    },
    {
     "name": "stderr",
     "output_type": "stream",
     "text": [
      "Iteration 0:  47%|███████▉         | 0.47/1.0 [0.10s/it, gradient norm=0.0003419892576783381]\n"
     ]
    },
    {
     "name": "stdout",
     "output_type": "stream",
     "text": [
      "alpha=1.710e+04, time=0.24s, n_iter=1\n"
     ]
    },
    {
     "name": "stderr",
     "output_type": "stream",
     "text": [
      "Iteration 0:  54%|████████▋       | 0.54/1.0 [0.09s/it, gradient norm=0.00028658421408240425]\n"
     ]
    },
    {
     "name": "stdout",
     "output_type": "stream",
     "text": [
      "alpha=1.435e+04, time=0.24s, n_iter=1\n"
     ]
    },
    {
     "name": "stderr",
     "output_type": "stream",
     "text": [
      "Iteration 0:  62%|█████████▉      | 0.62/1.0 [0.10s/it, gradient norm=0.00024022095533537523]\n"
     ]
    },
    {
     "name": "stdout",
     "output_type": "stream",
     "text": [
      "alpha=1.205e+04, time=0.29s, n_iter=1\n"
     ]
    },
    {
     "name": "stderr",
     "output_type": "stream",
     "text": [
      "Iteration 0:  70%|███████████▉     | 0.7/1.0 [0.09s/it, gradient norm=0.00020140603595412087]\n"
     ]
    },
    {
     "name": "stdout",
     "output_type": "stream",
     "text": [
      "alpha=1.012e+04, time=0.21s, n_iter=1\n"
     ]
    },
    {
     "name": "stderr",
     "output_type": "stream",
     "text": [
      "Iteration 0:  77%|████████████▎   | 0.77/1.0 [0.08s/it, gradient norm=0.00016889734824984714]\n"
     ]
    },
    {
     "name": "stdout",
     "output_type": "stream",
     "text": [
      "alpha=8.494e+03, time=0.21s, n_iter=1\n"
     ]
    },
    {
     "name": "stderr",
     "output_type": "stream",
     "text": [
      "Iteration 0:  85%|█████████████▌  | 0.85/1.0 [0.08s/it, gradient norm=0.00014179633247934356]\n"
     ]
    },
    {
     "name": "stdout",
     "output_type": "stream",
     "text": [
      "alpha=7.131e+03, time=0.23s, n_iter=1\n"
     ]
    },
    {
     "name": "stderr",
     "output_type": "stream",
     "text": [
      "Iteration 0:  92%|██████████████▋ | 0.92/1.0 [0.09s/it, gradient norm=0.00011895980568701837]\n"
     ]
    },
    {
     "name": "stdout",
     "output_type": "stream",
     "text": [
      "alpha=5.987e+03, time=0.22s, n_iter=1\n"
     ]
    },
    {
     "name": "stderr",
     "output_type": "stream",
     "text": [
      "Iteration 0: |                            | 0/-0.0 [s/it, gradient norm=9.98125696209728e-05]\n"
     ]
    },
    {
     "name": "stdout",
     "output_type": "stream",
     "text": [
      "alpha=5.026e+03, time=0.09s, n_iter=0\n"
     ]
    },
    {
     "name": "stderr",
     "output_type": "stream",
     "text": [
      "Iteration 0:  74%|███████████▊    | 0.74/1.0 [0.08s/it, gradient norm=0.00018320203750229845]\n"
     ]
    },
    {
     "name": "stdout",
     "output_type": "stream",
     "text": [
      "alpha=4.220e+03, time=0.22s, n_iter=1\n"
     ]
    },
    {
     "name": "stderr",
     "output_type": "stream",
     "text": [
      "Iteration 0: |                           | 0/-0.0 [s/it, gradient norm=7.089786829169798e-05]\n"
     ]
    },
    {
     "name": "stdout",
     "output_type": "stream",
     "text": [
      "alpha=3.543e+03, time=0.10s, n_iter=0\n"
     ]
    },
    {
     "name": "stderr",
     "output_type": "stream",
     "text": [
      "Iteration 0:  89%|███████████████▏ | 0.89/1.0 [0.09s/it, gradient norm=0.0001296755521138831]\n"
     ]
    },
    {
     "name": "stdout",
     "output_type": "stream",
     "text": [
      "alpha=2.974e+03, time=0.24s, n_iter=1\n"
     ]
    },
    {
     "name": "stderr",
     "output_type": "stream",
     "text": [
      "Iteration 0: |                           | 0/-0.0 [s/it, gradient norm=4.994075404582312e-05]\n"
     ]
    },
    {
     "name": "stdout",
     "output_type": "stream",
     "text": [
      "alpha=2.497e+03, time=0.08s, n_iter=0\n"
     ]
    },
    {
     "name": "stderr",
     "output_type": "stream",
     "text": [
      "Iteration 0: |                           | 0/-0.0 [s/it, gradient norm=9.137063965700644e-05]\n"
     ]
    },
    {
     "name": "stdout",
     "output_type": "stream",
     "text": [
      "alpha=2.097e+03, time=0.09s, n_iter=0\n"
     ]
    },
    {
     "name": "stderr",
     "output_type": "stream",
     "text": [
      "Iteration 0:  90%|███████████████▎ | 0.9/1.0 [0.08s/it, gradient norm=0.00012615342584361585]\n"
     ]
    },
    {
     "name": "stdout",
     "output_type": "stream",
     "text": [
      "alpha=1.760e+03, time=0.22s, n_iter=1\n"
     ]
    },
    {
     "name": "stderr",
     "output_type": "stream",
     "text": [
      "Iteration 0: |                          | 0/-0.0 [s/it, gradient norm=2.9779361996820527e-05]\n"
     ]
    },
    {
     "name": "stdout",
     "output_type": "stream",
     "text": [
      "alpha=1.478e+03, time=0.10s, n_iter=0\n"
     ]
    },
    {
     "name": "stderr",
     "output_type": "stream",
     "text": [
      "Iteration 0: |                            | 0/-0.0 [s/it, gradient norm=5.42962663598598e-05]\n"
     ]
    },
    {
     "name": "stdout",
     "output_type": "stream",
     "text": [
      "alpha=1.241e+03, time=0.09s, n_iter=0\n"
     ]
    },
    {
     "name": "stderr",
     "output_type": "stream",
     "text": [
      "Iteration 0: |                           | 0/-0.0 [s/it, gradient norm=7.487962616973955e-05]\n"
     ]
    },
    {
     "name": "stdout",
     "output_type": "stream",
     "text": [
      "alpha=1.042e+03, time=0.10s, n_iter=0\n"
     ]
    },
    {
     "name": "stderr",
     "output_type": "stream",
     "text": [
      "Iteration 0: |                           | 0/-0.0 [s/it, gradient norm=9.216054772448896e-05]\n"
     ]
    },
    {
     "name": "stdout",
     "output_type": "stream",
     "text": [
      "alpha=8.745e+02, time=0.10s, n_iter=0\n"
     ]
    },
    {
     "name": "stderr",
     "output_type": "stream",
     "text": [
      "Iteration 0:  97%|███████████████▌| 0.97/1.0 [0.10s/it, gradient norm=0.00010666888127837555]\n"
     ]
    },
    {
     "name": "stdout",
     "output_type": "stream",
     "text": [
      "alpha=7.342e+02, time=0.22s, n_iter=1\n"
     ]
    },
    {
     "name": "stderr",
     "output_type": "stream",
     "text": [
      "Iteration 0: |                          | 0/-0.0 [s/it, gradient norm=1.2623105478246638e-05]\n"
     ]
    },
    {
     "name": "stdout",
     "output_type": "stream",
     "text": [
      "alpha=6.164e+02, time=0.09s, n_iter=0\n"
     ]
    },
    {
     "name": "stderr",
     "output_type": "stream",
     "text": [
      "Iteration 0: |                           | 0/-0.0 [s/it, gradient norm=2.284941179825754e-05]\n"
     ]
    },
    {
     "name": "stdout",
     "output_type": "stream",
     "text": [
      "alpha=5.175e+02, time=0.09s, n_iter=0\n"
     ]
    },
    {
     "name": "stderr",
     "output_type": "stream",
     "text": [
      "Iteration 0: |                          | 0/-0.0 [s/it, gradient norm=3.1434987668437986e-05]\n"
     ]
    },
    {
     "name": "stdout",
     "output_type": "stream",
     "text": [
      "alpha=4.345e+02, time=0.07s, n_iter=0\n"
     ]
    },
    {
     "name": "stderr",
     "output_type": "stream",
     "text": [
      "Iteration 0: |                          | 0/-0.0 [s/it, gradient norm=3.8643075390041306e-05]\n"
     ]
    },
    {
     "name": "stdout",
     "output_type": "stream",
     "text": [
      "alpha=3.648e+02, time=0.10s, n_iter=0\n"
     ]
    },
    {
     "name": "stderr",
     "output_type": "stream",
     "text": [
      "Iteration 0: |                          | 0/-0.0 [s/it, gradient norm=4.4694682106695484e-05]\n"
     ]
    },
    {
     "name": "stdout",
     "output_type": "stream",
     "text": [
      "alpha=3.062e+02, time=0.09s, n_iter=0\n"
     ]
    },
    {
     "name": "stderr",
     "output_type": "stream",
     "text": [
      "Iteration 0: |                           | 0/-0.0 [s/it, gradient norm=4.977535610339154e-05]\n"
     ]
    },
    {
     "name": "stdout",
     "output_type": "stream",
     "text": [
      "alpha=2.571e+02, time=0.09s, n_iter=0\n"
     ]
    },
    {
     "name": "stderr",
     "output_type": "stream",
     "text": [
      "Iteration 0: |                            | 0/-0.0 [s/it, gradient norm=5.40408759015742e-05]\n"
     ]
    },
    {
     "name": "stdout",
     "output_type": "stream",
     "text": [
      "alpha=2.159e+02, time=0.08s, n_iter=0\n"
     ]
    },
    {
     "name": "stderr",
     "output_type": "stream",
     "text": [
      "Iteration 0: |                           | 0/-0.0 [s/it, gradient norm=5.762202658365303e-05]\n"
     ]
    },
    {
     "name": "stdout",
     "output_type": "stream",
     "text": [
      "alpha=1.812e+02, time=0.09s, n_iter=0\n"
     ]
    },
    {
     "name": "stderr",
     "output_type": "stream",
     "text": [
      "Iteration 0: |                          | 0/-0.0 [s/it, gradient norm=6.0628609793797234e-05]\n"
     ]
    },
    {
     "name": "stdout",
     "output_type": "stream",
     "text": [
      "alpha=1.521e+02, time=0.09s, n_iter=0\n"
     ]
    },
    {
     "name": "stderr",
     "output_type": "stream",
     "text": [
      "Iteration 0: |                           | 0/-0.0 [s/it, gradient norm=7.363981973052985e-05]\n"
     ]
    },
    {
     "name": "stdout",
     "output_type": "stream",
     "text": [
      "alpha=1.277e+02, time=0.09s, n_iter=0\n"
     ]
    },
    {
     "name": "stderr",
     "output_type": "stream",
     "text": [
      "Iteration 0:  61%|█████████▊      | 0.61/1.0 [0.07s/it, gradient norm=0.00024447075147508094]\n"
     ]
    },
    {
     "name": "stdout",
     "output_type": "stream",
     "text": [
      "alpha=1.072e+02, time=0.21s, n_iter=1\n"
     ]
    },
    {
     "name": "stderr",
     "output_type": "stream",
     "text": [
      "Iteration 0:  77%|████████████▎   | 0.77/1.0 [0.07s/it, gradient norm=0.00016928985872428811]\n"
     ]
    },
    {
     "name": "stdout",
     "output_type": "stream",
     "text": [
      "alpha=9.004e+01, time=0.19s, n_iter=1\n"
     ]
    },
    {
     "name": "stderr",
     "output_type": "stream",
     "text": [
      "Iteration 0:  82%|█████████████   | 0.82/1.0 [0.07s/it, gradient norm=0.00015094173610395896]\n"
     ]
    },
    {
     "name": "stdout",
     "output_type": "stream",
     "text": [
      "alpha=7.559e+01, time=0.19s, n_iter=1\n"
     ]
    },
    {
     "name": "stderr",
     "output_type": "stream",
     "text": [
      "Iteration 0:  88%|██████████████  | 0.88/1.0 [0.12s/it, gradient norm=0.00013278774915035727]\n"
     ]
    },
    {
     "name": "stdout",
     "output_type": "stream",
     "text": [
      "alpha=6.346e+01, time=0.24s, n_iter=1\n"
     ]
    },
    {
     "name": "stderr",
     "output_type": "stream",
     "text": [
      "Iteration 0:  95%|███████████████▏| 0.95/1.0 [0.09s/it, gradient norm=0.00011159122817002237]\n"
     ]
    },
    {
     "name": "stdout",
     "output_type": "stream",
     "text": [
      "alpha=5.328e+01, time=0.22s, n_iter=1\n"
     ]
    },
    {
     "name": "stderr",
     "output_type": "stream",
     "text": [
      "Iteration 0: |                           | 0/-0.0 [s/it, gradient norm=9.467386398955397e-05]\n"
     ]
    },
    {
     "name": "stdout",
     "output_type": "stream",
     "text": [
      "alpha=4.473e+01, time=0.09s, n_iter=0\n"
     ]
    },
    {
     "name": "stderr",
     "output_type": "stream",
     "text": [
      "Iteration 0:  82%|█████████████▉   | 0.82/1.0 [0.11s/it, gradient norm=0.0001530129016588176]\n"
     ]
    },
    {
     "name": "stdout",
     "output_type": "stream",
     "text": [
      "alpha=3.755e+01, time=0.23s, n_iter=1\n"
     ]
    },
    {
     "name": "stderr",
     "output_type": "stream",
     "text": [
      "Iteration 0: |                           | 0/-0.0 [s/it, gradient norm=8.737665366090714e-05]\n"
     ]
    },
    {
     "name": "stdout",
     "output_type": "stream",
     "text": [
      "alpha=3.153e+01, time=0.07s, n_iter=0\n"
     ]
    },
    {
     "name": "stderr",
     "output_type": "stream",
     "text": [
      "Iteration 0:  89%|███████████████▏ | 0.89/1.0 [0.10s/it, gradient norm=0.0001284973562836233]\n"
     ]
    },
    {
     "name": "stdout",
     "output_type": "stream",
     "text": [
      "alpha=2.647e+01, time=0.20s, n_iter=1\n"
     ]
    },
    {
     "name": "stderr",
     "output_type": "stream",
     "text": [
      "Iteration 0: |                           | 0/-0.0 [s/it, gradient norm=6.169509847499316e-05]\n"
     ]
    },
    {
     "name": "stdout",
     "output_type": "stream",
     "text": [
      "alpha=2.222e+01, time=0.09s, n_iter=0\n"
     ]
    },
    {
     "name": "stderr",
     "output_type": "stream",
     "text": [
      "Iteration 0: |                           | 0/-0.0 [s/it, gradient norm=9.067933016170683e-05]\n"
     ]
    },
    {
     "name": "stdout",
     "output_type": "stream",
     "text": [
      "alpha=1.866e+01, time=0.10s, n_iter=0\n"
     ]
    },
    {
     "name": "stderr",
     "output_type": "stream",
     "text": [
      "Iteration 0:  94%|███████████████ | 0.94/1.0 [0.09s/it, gradient norm=0.00011501326974830268]\n"
     ]
    },
    {
     "name": "stdout",
     "output_type": "stream",
     "text": [
      "alpha=1.566e+01, time=0.21s, n_iter=1\n"
     ]
    },
    {
     "name": "stderr",
     "output_type": "stream",
     "text": [
      "Iteration 0: |                           | 0/-0.0 [s/it, gradient norm=4.744601112162076e-05]\n"
     ]
    },
    {
     "name": "stdout",
     "output_type": "stream",
     "text": [
      "alpha=1.315e+01, time=0.08s, n_iter=0\n"
     ]
    },
    {
     "name": "stderr",
     "output_type": "stream",
     "text": [
      "Iteration 0: |                           | 0/-0.0 [s/it, gradient norm=6.459796859908758e-05]\n"
     ]
    },
    {
     "name": "stdout",
     "output_type": "stream",
     "text": [
      "alpha=1.104e+01, time=0.09s, n_iter=0\n"
     ]
    },
    {
     "name": "stderr",
     "output_type": "stream",
     "text": [
      "Iteration 0: |                           | 0/-0.0 [s/it, gradient norm=7.899802934797615e-05]\n"
     ]
    },
    {
     "name": "stdout",
     "output_type": "stream",
     "text": [
      "alpha=9.270e+00, time=0.12s, n_iter=0\n"
     ]
    },
    {
     "name": "stderr",
     "output_type": "stream",
     "text": [
      "Iteration 0: |                           | 0/-0.0 [s/it, gradient norm=9.108771356297613e-05]\n"
     ]
    },
    {
     "name": "stdout",
     "output_type": "stream",
     "text": [
      "alpha=7.783e+00, time=0.10s, n_iter=0\n"
     ]
    },
    {
     "name": "stderr",
     "output_type": "stream",
     "text": [
      "Iteration 0:  99%|███████████████▊| 0.99/1.0 [0.08s/it, gradient norm=0.00010123770299477075]\n"
     ]
    },
    {
     "name": "stdout",
     "output_type": "stream",
     "text": [
      "alpha=6.534e+00, time=0.24s, n_iter=1\n"
     ]
    },
    {
     "name": "stderr",
     "output_type": "stream",
     "text": [
      "Iteration 0: |                          | 0/-0.0 [s/it, gradient norm=3.2843472912714906e-05]\n"
     ]
    },
    {
     "name": "stdout",
     "output_type": "stream",
     "text": [
      "alpha=5.486e+00, time=0.09s, n_iter=0\n"
     ]
    },
    {
     "name": "stderr",
     "output_type": "stream",
     "text": [
      "Iteration 0: |                           | 0/-0.0 [s/it, gradient norm=3.999776811063578e-05]\n"
     ]
    },
    {
     "name": "stdout",
     "output_type": "stream",
     "text": [
      "alpha=4.605e+00, time=0.10s, n_iter=0\n"
     ]
    },
    {
     "name": "stderr",
     "output_type": "stream",
     "text": [
      "Iteration 0: |                            | 0/-0.0 [s/it, gradient norm=4.60042128911156e-05]\n"
     ]
    },
    {
     "name": "stdout",
     "output_type": "stream",
     "text": [
      "alpha=3.867e+00, time=0.13s, n_iter=0\n"
     ]
    },
    {
     "name": "stderr",
     "output_type": "stream",
     "text": [
      "Iteration 0: |                           | 0/-0.0 [s/it, gradient norm=5.104697082923336e-05]\n"
     ]
    },
    {
     "name": "stdout",
     "output_type": "stream",
     "text": [
      "alpha=3.246e+00, time=0.11s, n_iter=0\n"
     ]
    },
    {
     "name": "stderr",
     "output_type": "stream",
     "text": [
      "Iteration 0: |                           | 0/-0.0 [s/it, gradient norm=5.528065790234058e-05]\n"
     ]
    },
    {
     "name": "stdout",
     "output_type": "stream",
     "text": [
      "alpha=2.725e+00, time=0.12s, n_iter=0\n"
     ]
    },
    {
     "name": "stderr",
     "output_type": "stream",
     "text": [
      "Iteration 0: |                           | 0/-0.0 [s/it, gradient norm=5.883508316981348e-05]\n"
     ]
    },
    {
     "name": "stdout",
     "output_type": "stream",
     "text": [
      "alpha=2.288e+00, time=0.11s, n_iter=0\n"
     ]
    },
    {
     "name": "stderr",
     "output_type": "stream",
     "text": [
      "Iteration 0: |                           | 0/-0.0 [s/it, gradient norm=6.181922884801003e-05]\n"
     ]
    },
    {
     "name": "stdout",
     "output_type": "stream",
     "text": [
      "alpha=1.921e+00, time=0.10s, n_iter=0\n"
     ]
    },
    {
     "name": "stderr",
     "output_type": "stream",
     "text": [
      "Iteration 0: |                           | 0/-0.0 [s/it, gradient norm=6.432459181349181e-05]\n"
     ]
    },
    {
     "name": "stdout",
     "output_type": "stream",
     "text": [
      "alpha=1.613e+00, time=0.11s, n_iter=0\n"
     ]
    },
    {
     "name": "stderr",
     "output_type": "stream",
     "text": [
      "Iteration 0: |                           | 0/-0.0 [s/it, gradient norm=6.642798898832444e-05]\n"
     ]
    },
    {
     "name": "stdout",
     "output_type": "stream",
     "text": [
      "alpha=1.354e+00, time=0.10s, n_iter=0\n"
     ]
    },
    {
     "name": "stderr",
     "output_type": "stream",
     "text": [
      "Iteration 0: |                           | 0/-0.0 [s/it, gradient norm=6.819391262336273e-05]\n"
     ]
    },
    {
     "name": "stdout",
     "output_type": "stream",
     "text": [
      "alpha=1.137e+00, time=0.09s, n_iter=0\n"
     ]
    },
    {
     "name": "stderr",
     "output_type": "stream",
     "text": [
      "Iteration 0: |                           | 0/-0.0 [s/it, gradient norm=6.967650769484991e-05]\n"
     ]
    },
    {
     "name": "stdout",
     "output_type": "stream",
     "text": [
      "alpha=9.544e-01, time=0.09s, n_iter=0\n"
     ]
    },
    {
     "name": "stderr",
     "output_type": "stream",
     "text": [
      "Iteration 0: |                           | 0/-0.0 [s/it, gradient norm=7.092123204327867e-05]\n"
     ]
    },
    {
     "name": "stdout",
     "output_type": "stream",
     "text": [
      "alpha=8.013e-01, time=0.10s, n_iter=0\n"
     ]
    },
    {
     "name": "stderr",
     "output_type": "stream",
     "text": [
      "Iteration 0: |                           | 0/-0.0 [s/it, gradient norm=7.196625015602427e-05]\n"
     ]
    },
    {
     "name": "stdout",
     "output_type": "stream",
     "text": [
      "alpha=6.727e-01, time=0.09s, n_iter=0\n"
     ]
    },
    {
     "name": "stderr",
     "output_type": "stream",
     "text": [
      "Iteration 0: |                           | 0/-0.0 [s/it, gradient norm=8.006684489789189e-05]\n"
     ]
    },
    {
     "name": "stdout",
     "output_type": "stream",
     "text": [
      "alpha=5.648e-01, time=0.08s, n_iter=0\n"
     ]
    },
    {
     "name": "stderr",
     "output_type": "stream",
     "text": [
      "Iteration 0:  84%|█████████████▍  | 0.84/1.0 [0.10s/it, gradient norm=0.00014296573936563707]\n"
     ]
    },
    {
     "name": "stdout",
     "output_type": "stream",
     "text": [
      "alpha=4.742e-01, time=0.16s, n_iter=1\n"
     ]
    },
    {
     "name": "stderr",
     "output_type": "stream",
     "text": [
      "Iteration 1:  83%|██████████████   | 1.66/2.0 [0.08s/it, gradient norm=0.0002194666413143824]\n"
     ]
    },
    {
     "name": "stdout",
     "output_type": "stream",
     "text": [
      "alpha=3.981e-01, time=0.37s, n_iter=2\n"
     ]
    },
    {
     "name": "stderr",
     "output_type": "stream",
     "text": [
      "Iteration 1:  60%|██████████▊       | 1.2/2.0 [0.17s/it, gradient norm=0.0006326693747572515]\n"
     ]
    },
    {
     "name": "stdout",
     "output_type": "stream",
     "text": [
      "alpha=3.342e-01, time=0.37s, n_iter=2\n"
     ]
    },
    {
     "name": "stderr",
     "output_type": "stream",
     "text": [
      "Iteration 1:  70%|███████████     | 1.39/2.0 [0.16s/it, gradient norm=0.00040492316939351176]\n"
     ]
    },
    {
     "name": "stdout",
     "output_type": "stream",
     "text": [
      "alpha=2.806e-01, time=0.37s, n_iter=2\n"
     ]
    },
    {
     "name": "stderr",
     "output_type": "stream",
     "text": [
      "Iteration 1:  78%|█████████████▎   | 1.57/2.0 [0.16s/it, gradient norm=0.0002684259672340982]\n"
     ]
    },
    {
     "name": "stdout",
     "output_type": "stream",
     "text": [
      "alpha=2.356e-01, time=0.42s, n_iter=2\n"
     ]
    },
    {
     "name": "stderr",
     "output_type": "stream",
     "text": [
      "Iteration 1:  87%|█████████████▉  | 1.74/2.0 [0.15s/it, gradient norm=0.00018282495870526976]\n"
     ]
    },
    {
     "name": "stdout",
     "output_type": "stream",
     "text": [
      "alpha=1.978e-01, time=0.38s, n_iter=2\n"
     ]
    },
    {
     "name": "stderr",
     "output_type": "stream",
     "text": [
      "Iteration 1:  95%|████████████████▏| 1.9/2.0 [0.12s/it, gradient norm=0.00012711677383984006]\n"
     ]
    },
    {
     "name": "stdout",
     "output_type": "stream",
     "text": [
      "alpha=1.660e-01, time=0.36s, n_iter=2\n"
     ]
    },
    {
     "name": "stderr",
     "output_type": "stream",
     "text": [
      "Iteration 0:  36%|██████▍           | 0.72/2.0 [0.08s/it, gradient norm=0.001896475473680237]\n"
     ]
    },
    {
     "name": "stdout",
     "output_type": "stream",
     "text": [
      "alpha=1.394e-01, time=0.22s, n_iter=1\n"
     ]
    },
    {
     "name": "stderr",
     "output_type": "stream",
     "text": [
      "Iteration 0:  40%|███████▏          | 0.8/2.0 [0.09s/it, gradient norm=0.0015832999655624044]\n"
     ]
    },
    {
     "name": "stdout",
     "output_type": "stream",
     "text": [
      "alpha=1.170e-01, time=0.23s, n_iter=1\n"
     ]
    },
    {
     "name": "stderr",
     "output_type": "stream",
     "text": [
      "Iteration 0:  44%|███████▍         | 0.88/2.0 [0.08s/it, gradient norm=0.0013328680145722393]\n"
     ]
    },
    {
     "name": "stdout",
     "output_type": "stream",
     "text": [
      "alpha=9.826e-02, time=0.22s, n_iter=1\n"
     ]
    },
    {
     "name": "stderr",
     "output_type": "stream",
     "text": [
      "Iteration 0:  47%|███████▉         | 0.94/2.0 [0.10s/it, gradient norm=0.0011518835022819088]\n"
     ]
    },
    {
     "name": "stdout",
     "output_type": "stream",
     "text": [
      "alpha=8.250e-02, time=0.25s, n_iter=1\n"
     ]
    },
    {
     "name": "stderr",
     "output_type": "stream",
     "text": [
      "Iteration 0:   2%|▎                | 0.02/1.0 [0.09s/it, gradient norm=0.0009635597960156822]\n"
     ]
    },
    {
     "name": "stdout",
     "output_type": "stream",
     "text": [
      "alpha=6.926e-02, time=0.24s, n_iter=1\n"
     ]
    },
    {
     "name": "stderr",
     "output_type": "stream",
     "text": [
      "Iteration 0: |                             | 0/? [s/it, gradient norm=1.9081958235744878e-17]\n"
     ]
    },
    {
     "name": "stdout",
     "output_type": "stream",
     "text": [
      "alpha=6.926e+04, time=0.08s, n_iter=0\n"
     ]
    },
    {
     "name": "stderr",
     "output_type": "stream",
     "text": [
      "Iteration 0:  29%|████▉            | 0.29/1.0 [0.09s/it, gradient norm=0.0005139449625945819]\n"
     ]
    },
    {
     "name": "stdout",
     "output_type": "stream",
     "text": [
      "alpha=5.815e+04, time=0.23s, n_iter=1\n"
     ]
    },
    {
     "name": "stderr",
     "output_type": "stream",
     "text": [
      "Iteration 0:   2%|▎                | 0.02/1.0 [0.08s/it, gradient norm=0.0009591436196051328]\n"
     ]
    },
    {
     "name": "stdout",
     "output_type": "stream",
     "text": [
      "alpha=4.882e+04, time=0.20s, n_iter=1\n"
     ]
    },
    {
     "name": "stderr",
     "output_type": "stream",
     "text": [
      "Iteration 0:   9%|█▌                | 0.09/1.0 [0.11s/it, gradient norm=0.000820645597010468]\n"
     ]
    },
    {
     "name": "stdout",
     "output_type": "stream",
     "text": [
      "alpha=4.099e+04, time=0.24s, n_iter=1\n"
     ]
    },
    {
     "name": "stderr",
     "output_type": "stream",
     "text": [
      "Iteration 0:  16%|██▋              | 0.16/1.0 [0.09s/it, gradient norm=0.0006870419601538434]\n"
     ]
    },
    {
     "name": "stdout",
     "output_type": "stream",
     "text": [
      "alpha=3.441e+04, time=0.26s, n_iter=1\n"
     ]
    },
    {
     "name": "stderr",
     "output_type": "stream",
     "text": [
      "Iteration 0:  24%|████             | 0.24/1.0 [0.07s/it, gradient norm=0.0005749511923252336]\n"
     ]
    },
    {
     "name": "stdout",
     "output_type": "stream",
     "text": [
      "alpha=2.889e+04, time=0.22s, n_iter=1\n"
     ]
    },
    {
     "name": "stderr",
     "output_type": "stream",
     "text": [
      "Iteration 0:  32%|█████▊            | 0.32/1.0 [0.12s/it, gradient norm=0.000481347596243509]\n"
     ]
    },
    {
     "name": "stdout",
     "output_type": "stream",
     "text": [
      "alpha=2.425e+04, time=0.26s, n_iter=1\n"
     ]
    },
    {
     "name": "stderr",
     "output_type": "stream",
     "text": [
      "Iteration 0:  39%|██████▏         | 0.39/1.0 [0.08s/it, gradient norm=0.00040313940021478693]\n"
     ]
    },
    {
     "name": "stdout",
     "output_type": "stream",
     "text": [
      "alpha=2.036e+04, time=0.22s, n_iter=1\n"
     ]
    },
    {
     "name": "stderr",
     "output_type": "stream",
     "text": [
      "Iteration 0:  47%|███████▉         | 0.47/1.0 [0.10s/it, gradient norm=0.0003377544165493731]\n"
     ]
    },
    {
     "name": "stdout",
     "output_type": "stream",
     "text": [
      "alpha=1.710e+04, time=0.23s, n_iter=1\n"
     ]
    },
    {
     "name": "stderr",
     "output_type": "stream",
     "text": [
      "Iteration 0:  55%|█████████▎       | 0.55/1.0 [0.10s/it, gradient norm=0.0002830595030165837]\n"
     ]
    },
    {
     "name": "stdout",
     "output_type": "stream",
     "text": [
      "alpha=1.435e+04, time=0.25s, n_iter=1\n"
     ]
    },
    {
     "name": "stderr",
     "output_type": "stream",
     "text": [
      "Iteration 0:  62%|█████████▉      | 0.62/1.0 [0.09s/it, gradient norm=0.00023728395470012345]\n"
     ]
    },
    {
     "name": "stdout",
     "output_type": "stream",
     "text": [
      "alpha=1.205e+04, time=0.23s, n_iter=1\n"
     ]
    },
    {
     "name": "stderr",
     "output_type": "stream",
     "text": [
      "Iteration 0:  70%|████████████▌     | 0.7/1.0 [0.09s/it, gradient norm=0.0001989562410511501]\n"
     ]
    },
    {
     "name": "stdout",
     "output_type": "stream",
     "text": [
      "alpha=1.012e+04, time=0.23s, n_iter=1\n"
     ]
    },
    {
     "name": "stderr",
     "output_type": "stream",
     "text": [
      "Iteration 0:  78%|████████████▍   | 0.78/1.0 [0.07s/it, gradient norm=0.00016695634360227858]\n"
     ]
    },
    {
     "name": "stdout",
     "output_type": "stream",
     "text": [
      "alpha=8.494e+03, time=0.19s, n_iter=1\n"
     ]
    },
    {
     "name": "stderr",
     "output_type": "stream",
     "text": [
      "Iteration 0:  85%|█████████████▌  | 0.85/1.0 [0.09s/it, gradient norm=0.00014005113296027287]\n"
     ]
    },
    {
     "name": "stdout",
     "output_type": "stream",
     "text": [
      "alpha=7.131e+03, time=0.22s, n_iter=1\n"
     ]
    },
    {
     "name": "stderr",
     "output_type": "stream",
     "text": [
      "Iteration 0:  93%|██████████████▉ | 0.93/1.0 [0.10s/it, gradient norm=0.00011749741764393326]\n"
     ]
    },
    {
     "name": "stdout",
     "output_type": "stream",
     "text": [
      "alpha=5.987e+03, time=0.26s, n_iter=1\n"
     ]
    },
    {
     "name": "stderr",
     "output_type": "stream",
     "text": [
      "Iteration 0: |                            | 0/-0.0 [s/it, gradient norm=9.85869874810673e-05]\n"
     ]
    },
    {
     "name": "stdout",
     "output_type": "stream",
     "text": [
      "alpha=5.026e+03, time=0.10s, n_iter=0\n"
     ]
    },
    {
     "name": "stderr",
     "output_type": "stream",
     "text": [
      "Iteration 0:  74%|███████████▊    | 0.74/1.0 [0.10s/it, gradient norm=0.00018099226679391714]\n"
     ]
    },
    {
     "name": "stdout",
     "output_type": "stream",
     "text": [
      "alpha=4.220e+03, time=0.24s, n_iter=1\n"
     ]
    },
    {
     "name": "stderr",
     "output_type": "stream",
     "text": [
      "Iteration 0: |                           | 0/-0.0 [s/it, gradient norm=7.015483609815887e-05]\n"
     ]
    },
    {
     "name": "stdout",
     "output_type": "stream",
     "text": [
      "alpha=3.543e+03, time=0.09s, n_iter=0\n"
     ]
    },
    {
     "name": "stderr",
     "output_type": "stream",
     "text": [
      "Iteration 0:  89%|███████████████▏ | 0.89/1.0 [0.11s/it, gradient norm=0.0001282388073212709]\n"
     ]
    },
    {
     "name": "stdout",
     "output_type": "stream",
     "text": [
      "alpha=2.974e+03, time=0.31s, n_iter=1\n"
     ]
    },
    {
     "name": "stderr",
     "output_type": "stream",
     "text": [
      "Iteration 0: |                           | 0/-0.0 [s/it, gradient norm=4.929276117818297e-05]\n"
     ]
    },
    {
     "name": "stdout",
     "output_type": "stream",
     "text": [
      "alpha=2.497e+03, time=0.09s, n_iter=0\n"
     ]
    },
    {
     "name": "stderr",
     "output_type": "stream",
     "text": [
      "Iteration 0: |                           | 0/-0.0 [s/it, gradient norm=9.023367832790768e-05]\n"
     ]
    },
    {
     "name": "stdout",
     "output_type": "stream",
     "text": [
      "alpha=2.097e+03, time=0.08s, n_iter=0\n"
     ]
    },
    {
     "name": "stderr",
     "output_type": "stream",
     "text": [
      "Iteration 0:  90%|███████████████▎ | 0.9/1.0 [0.11s/it, gradient norm=0.00012460594719842968]\n"
     ]
    },
    {
     "name": "stdout",
     "output_type": "stream",
     "text": [
      "alpha=1.760e+03, time=0.25s, n_iter=1\n"
     ]
    },
    {
     "name": "stderr",
     "output_type": "stream",
     "text": [
      "Iteration 0: |                           | 0/-0.0 [s/it, gradient norm=2.936886552777374e-05]\n"
     ]
    },
    {
     "name": "stdout",
     "output_type": "stream",
     "text": [
      "alpha=1.478e+03, time=0.09s, n_iter=0\n"
     ]
    },
    {
     "name": "stderr",
     "output_type": "stream",
     "text": [
      "Iteration 0: |                           | 0/-0.0 [s/it, gradient norm=5.359641372124424e-05]\n"
     ]
    },
    {
     "name": "stdout",
     "output_type": "stream",
     "text": [
      "alpha=1.241e+03, time=0.12s, n_iter=0\n"
     ]
    },
    {
     "name": "stderr",
     "output_type": "stream",
     "text": [
      "Iteration 0: |                            | 0/-0.0 [s/it, gradient norm=7.39368422840445e-05]\n"
     ]
    },
    {
     "name": "stdout",
     "output_type": "stream",
     "text": [
      "alpha=1.042e+03, time=0.12s, n_iter=0\n"
     ]
    },
    {
     "name": "stderr",
     "output_type": "stream",
     "text": [
      "Iteration 0: |                           | 0/-0.0 [s/it, gradient norm=9.101380900038296e-05]\n"
     ]
    },
    {
     "name": "stdout",
     "output_type": "stream",
     "text": [
      "alpha=8.745e+02, time=0.10s, n_iter=0\n"
     ]
    },
    {
     "name": "stderr",
     "output_type": "stream",
     "text": [
      "Iteration 0:  98%|████████████████▋| 0.98/1.0 [0.10s/it, gradient norm=0.0001053509106661888]\n"
     ]
    },
    {
     "name": "stdout",
     "output_type": "stream",
     "text": [
      "alpha=7.342e+02, time=0.24s, n_iter=1\n"
     ]
    },
    {
     "name": "stderr",
     "output_type": "stream",
     "text": [
      "Iteration 0: |                          | 0/-0.0 [s/it, gradient norm=1.2424951272047951e-05]\n"
     ]
    },
    {
     "name": "stdout",
     "output_type": "stream",
     "text": [
      "alpha=6.164e+02, time=0.08s, n_iter=0\n"
     ]
    },
    {
     "name": "stderr",
     "output_type": "stream",
     "text": [
      "Iteration 0: |                          | 0/-0.0 [s/it, gradient norm=2.2530563528004997e-05]\n"
     ]
    },
    {
     "name": "stdout",
     "output_type": "stream",
     "text": [
      "alpha=5.175e+02, time=0.09s, n_iter=0\n"
     ]
    },
    {
     "name": "stderr",
     "output_type": "stream",
     "text": [
      "Iteration 0: |                           | 0/-0.0 [s/it, gradient norm=3.101480974781235e-05]\n"
     ]
    },
    {
     "name": "stdout",
     "output_type": "stream",
     "text": [
      "alpha=4.345e+02, time=0.10s, n_iter=0\n"
     ]
    },
    {
     "name": "stderr",
     "output_type": "stream",
     "text": [
      "Iteration 0: |                           | 0/-0.0 [s/it, gradient norm=3.813782536479128e-05]\n"
     ]
    },
    {
     "name": "stdout",
     "output_type": "stream",
     "text": [
      "alpha=3.648e+02, time=0.10s, n_iter=0\n"
     ]
    },
    {
     "name": "stderr",
     "output_type": "stream",
     "text": [
      "Iteration 0: |                           | 0/-0.0 [s/it, gradient norm=4.411800912717121e-05]\n"
     ]
    },
    {
     "name": "stdout",
     "output_type": "stream",
     "text": [
      "alpha=3.062e+02, time=0.10s, n_iter=0\n"
     ]
    },
    {
     "name": "stderr",
     "output_type": "stream",
     "text": [
      "Iteration 0: |                          | 0/-0.0 [s/it, gradient norm=4.9138719421079095e-05]\n"
     ]
    },
    {
     "name": "stdout",
     "output_type": "stream",
     "text": [
      "alpha=2.571e+02, time=0.12s, n_iter=0\n"
     ]
    },
    {
     "name": "stderr",
     "output_type": "stream",
     "text": [
      "Iteration 0: |                           | 0/-0.0 [s/it, gradient norm=5.335389622115133e-05]\n"
     ]
    },
    {
     "name": "stdout",
     "output_type": "stream",
     "text": [
      "alpha=2.159e+02, time=0.10s, n_iter=0\n"
     ]
    },
    {
     "name": "stderr",
     "output_type": "stream",
     "text": [
      "Iteration 0: |                           | 0/-0.0 [s/it, gradient norm=5.689278104336992e-05]\n"
     ]
    },
    {
     "name": "stdout",
     "output_type": "stream",
     "text": [
      "alpha=1.812e+02, time=0.09s, n_iter=0\n"
     ]
    },
    {
     "name": "stderr",
     "output_type": "stream",
     "text": [
      "Iteration 0: |                            | 0/-0.0 [s/it, gradient norm=5.98638796185743e-05]\n"
     ]
    },
    {
     "name": "stdout",
     "output_type": "stream",
     "text": [
      "alpha=1.521e+02, time=0.12s, n_iter=0\n"
     ]
    },
    {
     "name": "stderr",
     "output_type": "stream",
     "text": [
      "Iteration 0: |                           | 0/-0.0 [s/it, gradient norm=6.235828878616267e-05]\n"
     ]
    },
    {
     "name": "stdout",
     "output_type": "stream",
     "text": [
      "alpha=1.277e+02, time=0.09s, n_iter=0\n"
     ]
    },
    {
     "name": "stderr",
     "output_type": "stream",
     "text": [
      "Iteration 0:  66%|███████████▏     | 0.66/1.0 [0.11s/it, gradient norm=0.0002168370158762447]\n"
     ]
    },
    {
     "name": "stdout",
     "output_type": "stream",
     "text": [
      "alpha=1.072e+02, time=0.25s, n_iter=1\n"
     ]
    },
    {
     "name": "stderr",
     "output_type": "stream",
     "text": [
      "Iteration 0:  79%|████████████▋   | 0.79/1.0 [0.10s/it, gradient norm=0.00016267050394686003]\n"
     ]
    },
    {
     "name": "stdout",
     "output_type": "stream",
     "text": [
      "alpha=9.004e+01, time=0.26s, n_iter=1\n"
     ]
    },
    {
     "name": "stderr",
     "output_type": "stream",
     "text": [
      "Iteration 0:  83%|█████████████▎  | 0.83/1.0 [0.09s/it, gradient norm=0.00014955072011416044]\n"
     ]
    },
    {
     "name": "stdout",
     "output_type": "stream",
     "text": [
      "alpha=7.559e+01, time=0.25s, n_iter=1\n"
     ]
    },
    {
     "name": "stderr",
     "output_type": "stream",
     "text": [
      "Iteration 0:  88%|███████████████▊  | 0.88/1.0 [0.08s/it, gradient norm=0.000131293098099634]\n"
     ]
    },
    {
     "name": "stdout",
     "output_type": "stream",
     "text": [
      "alpha=6.346e+01, time=0.22s, n_iter=1\n"
     ]
    },
    {
     "name": "stderr",
     "output_type": "stream",
     "text": [
      "Iteration 0:  96%|████████████████▎| 0.96/1.0 [0.10s/it, gradient norm=0.0001104826951203252]\n"
     ]
    },
    {
     "name": "stdout",
     "output_type": "stream",
     "text": [
      "alpha=5.328e+01, time=0.23s, n_iter=1\n"
     ]
    },
    {
     "name": "stderr",
     "output_type": "stream",
     "text": [
      "Iteration 0: |                            | 0/-0.0 [s/it, gradient norm=9.38704530021812e-05]\n"
     ]
    },
    {
     "name": "stdout",
     "output_type": "stream",
     "text": [
      "alpha=4.473e+01, time=0.09s, n_iter=0\n"
     ]
    },
    {
     "name": "stderr",
     "output_type": "stream",
     "text": [
      "Iteration 0:  82%|█████████████   | 0.82/1.0 [0.10s/it, gradient norm=0.00015158725451655083]\n"
     ]
    },
    {
     "name": "stdout",
     "output_type": "stream",
     "text": [
      "alpha=3.755e+01, time=0.26s, n_iter=1\n"
     ]
    },
    {
     "name": "stderr",
     "output_type": "stream",
     "text": [
      "Iteration 0: |                           | 0/-0.0 [s/it, gradient norm=8.623008022838908e-05]\n"
     ]
    },
    {
     "name": "stdout",
     "output_type": "stream",
     "text": [
      "alpha=3.153e+01, time=0.09s, n_iter=0\n"
     ]
    },
    {
     "name": "stderr",
     "output_type": "stream",
     "text": [
      "Iteration 0:  90%|███████████████▎ | 0.9/1.0 [0.09s/it, gradient norm=0.00012691219509051242]\n"
     ]
    },
    {
     "name": "stdout",
     "output_type": "stream",
     "text": [
      "alpha=2.647e+01, time=0.24s, n_iter=1\n"
     ]
    },
    {
     "name": "stderr",
     "output_type": "stream",
     "text": [
      "Iteration 0: |                           | 0/-0.0 [s/it, gradient norm=6.123323918925709e-05]\n"
     ]
    },
    {
     "name": "stdout",
     "output_type": "stream",
     "text": [
      "alpha=2.222e+01, time=0.09s, n_iter=0\n"
     ]
    },
    {
     "name": "stderr",
     "output_type": "stream",
     "text": [
      "Iteration 0: |                           | 0/-0.0 [s/it, gradient norm=8.990832904576879e-05]\n"
     ]
    },
    {
     "name": "stdout",
     "output_type": "stream",
     "text": [
      "alpha=1.866e+01, time=0.12s, n_iter=0\n"
     ]
    },
    {
     "name": "stderr",
     "output_type": "stream",
     "text": [
      "Iteration 0:  94%|███████████████ | 0.94/1.0 [0.08s/it, gradient norm=0.00011398272617834563]\n"
     ]
    },
    {
     "name": "stdout",
     "output_type": "stream",
     "text": [
      "alpha=1.566e+01, time=0.23s, n_iter=1\n"
     ]
    },
    {
     "name": "stderr",
     "output_type": "stream",
     "text": [
      "Iteration 0: |                           | 0/-0.0 [s/it, gradient norm=4.713803769237323e-05]\n"
     ]
    },
    {
     "name": "stdout",
     "output_type": "stream",
     "text": [
      "alpha=1.315e+01, time=0.09s, n_iter=0\n"
     ]
    },
    {
     "name": "stderr",
     "output_type": "stream",
     "text": [
      "Iteration 0: |                           | 0/-0.0 [s/it, gradient norm=6.410705474956454e-05]\n"
     ]
    },
    {
     "name": "stdout",
     "output_type": "stream",
     "text": [
      "alpha=1.104e+01, time=0.09s, n_iter=0\n"
     ]
    },
    {
     "name": "stderr",
     "output_type": "stream",
     "text": [
      "Iteration 0: |                           | 0/-0.0 [s/it, gradient norm=7.835352643033329e-05]\n"
     ]
    },
    {
     "name": "stdout",
     "output_type": "stream",
     "text": [
      "alpha=9.270e+00, time=0.09s, n_iter=0\n"
     ]
    },
    {
     "name": "stderr",
     "output_type": "stream",
     "text": [
      "Iteration 0: |                           | 0/-0.0 [s/it, gradient norm=9.031426373567608e-05]\n"
     ]
    },
    {
     "name": "stdout",
     "output_type": "stream",
     "text": [
      "alpha=7.783e+00, time=0.09s, n_iter=0\n"
     ]
    },
    {
     "name": "stderr",
     "output_type": "stream",
     "text": [
      "Iteration 0: 100%|█████████████████| 1.0/1.0 [0.10s/it, gradient norm=0.00010035599477568751]\n"
     ]
    },
    {
     "name": "stdout",
     "output_type": "stream",
     "text": [
      "alpha=6.534e+00, time=0.22s, n_iter=1\n"
     ]
    },
    {
     "name": "stderr",
     "output_type": "stream",
     "text": [
      "Iteration 0: |                           | 0/-0.0 [s/it, gradient norm=3.279603403021844e-05]\n"
     ]
    },
    {
     "name": "stdout",
     "output_type": "stream",
     "text": [
      "alpha=5.486e+00, time=0.12s, n_iter=0\n"
     ]
    },
    {
     "name": "stderr",
     "output_type": "stream",
     "text": [
      "Iteration 0: |                          | 0/-0.0 [s/it, gradient norm=3.9874022499184195e-05]\n"
     ]
    },
    {
     "name": "stdout",
     "output_type": "stream",
     "text": [
      "alpha=4.605e+00, time=0.07s, n_iter=0\n"
     ]
    },
    {
     "name": "stderr",
     "output_type": "stream",
     "text": [
      "Iteration 0: |                           | 0/-0.0 [s/it, gradient norm=4.581640336544627e-05]\n"
     ]
    },
    {
     "name": "stdout",
     "output_type": "stream",
     "text": [
      "alpha=3.867e+00, time=0.13s, n_iter=0\n"
     ]
    },
    {
     "name": "stderr",
     "output_type": "stream",
     "text": [
      "Iteration 0: |                           | 0/-0.0 [s/it, gradient norm=5.080537594071207e-05]\n"
     ]
    },
    {
     "name": "stdout",
     "output_type": "stream",
     "text": [
      "alpha=3.246e+00, time=0.09s, n_iter=0\n"
     ]
    },
    {
     "name": "stderr",
     "output_type": "stream",
     "text": [
      "Iteration 0: |                          | 0/-0.0 [s/it, gradient norm=5.4993907089576426e-05]\n"
     ]
    },
    {
     "name": "stdout",
     "output_type": "stream",
     "text": [
      "alpha=2.725e+00, time=0.09s, n_iter=0\n"
     ]
    },
    {
     "name": "stderr",
     "output_type": "stream",
     "text": [
      "Iteration 0: |                          | 0/-0.0 [s/it, gradient norm=5.8510421345835365e-05]\n"
     ]
    },
    {
     "name": "stdout",
     "output_type": "stream",
     "text": [
      "alpha=2.288e+00, time=0.10s, n_iter=0\n"
     ]
    },
    {
     "name": "stderr",
     "output_type": "stream",
     "text": [
      "Iteration 0: |                            | 0/-0.0 [s/it, gradient norm=6.14627385365109e-05]\n"
     ]
    },
    {
     "name": "stdout",
     "output_type": "stream",
     "text": [
      "alpha=1.921e+00, time=0.06s, n_iter=0\n"
     ]
    },
    {
     "name": "stderr",
     "output_type": "stream",
     "text": [
      "Iteration 0: |                           | 0/-0.0 [s/it, gradient norm=6.394137964505884e-05]\n"
     ]
    },
    {
     "name": "stdout",
     "output_type": "stream",
     "text": [
      "alpha=1.613e+00, time=0.10s, n_iter=0\n"
     ]
    },
    {
     "name": "stderr",
     "output_type": "stream",
     "text": [
      "Iteration 0: |                           | 0/-0.0 [s/it, gradient norm=6.602234227481546e-05]\n"
     ]
    },
    {
     "name": "stdout",
     "output_type": "stream",
     "text": [
      "alpha=1.354e+00, time=0.09s, n_iter=0\n"
     ]
    },
    {
     "name": "stderr",
     "output_type": "stream",
     "text": [
      "Iteration 0: |                            | 0/-0.0 [s/it, gradient norm=6.77694308111548e-05]\n"
     ]
    },
    {
     "name": "stdout",
     "output_type": "stream",
     "text": [
      "alpha=1.137e+00, time=0.10s, n_iter=0\n"
     ]
    },
    {
     "name": "stderr",
     "output_type": "stream",
     "text": [
      "Iteration 0: |                           | 0/-0.0 [s/it, gradient norm=6.923621272744772e-05]\n"
     ]
    },
    {
     "name": "stdout",
     "output_type": "stream",
     "text": [
      "alpha=9.544e-01, time=0.09s, n_iter=0\n"
     ]
    },
    {
     "name": "stderr",
     "output_type": "stream",
     "text": [
      "Iteration 0: |                           | 0/-0.0 [s/it, gradient norm=7.046766101711015e-05]\n"
     ]
    },
    {
     "name": "stdout",
     "output_type": "stream",
     "text": [
      "alpha=8.013e-01, time=0.12s, n_iter=0\n"
     ]
    },
    {
     "name": "stderr",
     "output_type": "stream",
     "text": [
      "Iteration 0: |                           | 0/-0.0 [s/it, gradient norm=7.150153311034209e-05]\n"
     ]
    },
    {
     "name": "stdout",
     "output_type": "stream",
     "text": [
      "alpha=6.727e-01, time=0.11s, n_iter=0\n"
     ]
    },
    {
     "name": "stderr",
     "output_type": "stream",
     "text": [
      "Iteration 0:  99%|████████████████▊| 0.99/1.0 [0.09s/it, gradient norm=0.0001020150652852335]\n"
     ]
    },
    {
     "name": "stdout",
     "output_type": "stream",
     "text": [
      "alpha=5.648e-01, time=0.25s, n_iter=1\n"
     ]
    },
    {
     "name": "stderr",
     "output_type": "stream",
     "text": [
      "Iteration 0: |                          | 0/-0.0 [s/it, gradient norm=2.1304864275345994e-05]\n"
     ]
    },
    {
     "name": "stdout",
     "output_type": "stream",
     "text": [
      "alpha=4.742e-01, time=0.10s, n_iter=0\n"
     ]
    },
    {
     "name": "stderr",
     "output_type": "stream",
     "text": [
      "Iteration 1:  56%|█████████▍       | 1.11/2.0 [0.15s/it, gradient norm=0.0007688346579301356]\n"
     ]
    },
    {
     "name": "stdout",
     "output_type": "stream",
     "text": [
      "alpha=3.981e-01, time=0.40s, n_iter=2\n"
     ]
    },
    {
     "name": "stderr",
     "output_type": "stream",
     "text": [
      "Iteration 1:  62%|██████████▍      | 1.23/2.0 [0.14s/it, gradient norm=0.0005926972559375253]\n"
     ]
    },
    {
     "name": "stdout",
     "output_type": "stream",
     "text": [
      "alpha=3.342e-01, time=0.37s, n_iter=2\n"
     ]
    },
    {
     "name": "stderr",
     "output_type": "stream",
     "text": [
      "Iteration 1:  71%|████████████     | 1.42/2.0 [0.14s/it, gradient norm=0.0003832106356661648]\n"
     ]
    },
    {
     "name": "stdout",
     "output_type": "stream",
     "text": [
      "alpha=2.806e-01, time=0.35s, n_iter=2\n"
     ]
    },
    {
     "name": "stderr",
     "output_type": "stream",
     "text": [
      "Iteration 1:  80%|█████████████▌   | 1.59/2.0 [0.16s/it, gradient norm=0.0002547509092190077]\n"
     ]
    },
    {
     "name": "stdout",
     "output_type": "stream",
     "text": [
      "alpha=2.356e-01, time=0.40s, n_iter=2\n"
     ]
    },
    {
     "name": "stderr",
     "output_type": "stream",
     "text": [
      "Iteration 1:  88%|██████████████▉  | 1.76/2.0 [0.11s/it, gradient norm=0.0001749100945924482]\n"
     ]
    },
    {
     "name": "stdout",
     "output_type": "stream",
     "text": [
      "alpha=1.978e-01, time=0.33s, n_iter=2\n"
     ]
    },
    {
     "name": "stderr",
     "output_type": "stream",
     "text": [
      "Iteration 1:  96%|███████████████▎| 1.91/2.0 [0.15s/it, gradient norm=0.00012263895279362625]\n"
     ]
    },
    {
     "name": "stdout",
     "output_type": "stream",
     "text": [
      "alpha=1.660e-01, time=0.38s, n_iter=2\n"
     ]
    },
    {
     "name": "stderr",
     "output_type": "stream",
     "text": [
      "Iteration 0:  36%|██████▍           | 0.72/2.0 [0.08s/it, gradient norm=0.001885808563532775]\n"
     ]
    },
    {
     "name": "stdout",
     "output_type": "stream",
     "text": [
      "alpha=1.394e-01, time=0.23s, n_iter=1\n"
     ]
    },
    {
     "name": "stderr",
     "output_type": "stream",
     "text": [
      "Iteration 0:  40%|███████▏          | 0.8/2.0 [0.10s/it, gradient norm=0.0015733530314589509]\n"
     ]
    },
    {
     "name": "stdout",
     "output_type": "stream",
     "text": [
      "alpha=1.170e-01, time=0.24s, n_iter=1\n"
     ]
    },
    {
     "name": "stderr",
     "output_type": "stream",
     "text": [
      "Iteration 0:  44%|███████▍         | 0.87/2.0 [0.10s/it, gradient norm=0.0013447859360205946]\n"
     ]
    },
    {
     "name": "stdout",
     "output_type": "stream",
     "text": [
      "alpha=9.826e-02, time=0.24s, n_iter=1\n"
     ]
    },
    {
     "name": "stderr",
     "output_type": "stream",
     "text": [
      "Iteration 0:  47%|███████▉         | 0.94/2.0 [0.09s/it, gradient norm=0.0011455708006357557]\n"
     ]
    },
    {
     "name": "stdout",
     "output_type": "stream",
     "text": [
      "alpha=8.250e-02, time=0.23s, n_iter=1\n"
     ]
    },
    {
     "name": "stderr",
     "output_type": "stream",
     "text": [
      "Iteration 0:   2%|▎                | 0.02/1.0 [0.11s/it, gradient norm=0.0009591496215804351]\n"
     ]
    },
    {
     "name": "stdout",
     "output_type": "stream",
     "text": [
      "alpha=6.926e-02, time=0.24s, n_iter=1\n"
     ]
    },
    {
     "name": "stderr",
     "output_type": "stream",
     "text": [
      "Iteration 0:  41%|██████▌         | 0.41/1.0 [0.06s/it, gradient norm=0.00038919000595207236]\n"
     ]
    },
    {
     "name": "stdout",
     "output_type": "stream",
     "text": [
      "alpha=6.926e+04, time=0.20s, n_iter=1\n"
     ]
    },
    {
     "name": "stderr",
     "output_type": "stream",
     "text": [
      "Iteration 0:  47%|████████▍         | 0.94/2.0 [0.09s/it, gradient norm=0.001156250673134935]\n"
     ]
    },
    {
     "name": "stdout",
     "output_type": "stream",
     "text": [
      "alpha=5.815e+04, time=0.23s, n_iter=1\n"
     ]
    },
    {
     "name": "stderr",
     "output_type": "stream",
     "text": [
      "Iteration 0:   0%|                  | 0.0/1.0 [0.10s/it, gradient norm=0.0009962903170939634]\n"
     ]
    },
    {
     "name": "stdout",
     "output_type": "stream",
     "text": [
      "alpha=4.882e+04, time=0.24s, n_iter=1\n"
     ]
    },
    {
     "name": "stderr",
     "output_type": "stream",
     "text": [
      "Iteration 0:   8%|█▎               | 0.08/1.0 [0.10s/it, gradient norm=0.0008340461201223155]\n"
     ]
    },
    {
     "name": "stdout",
     "output_type": "stream",
     "text": [
      "alpha=4.099e+04, time=0.23s, n_iter=1\n"
     ]
    },
    {
     "name": "stderr",
     "output_type": "stream",
     "text": [
      "Iteration 0:  16%|██▋              | 0.16/1.0 [0.10s/it, gradient norm=0.0006976591808164605]\n"
     ]
    },
    {
     "name": "stdout",
     "output_type": "stream",
     "text": [
      "alpha=3.441e+04, time=0.23s, n_iter=1\n"
     ]
    },
    {
     "name": "stderr",
     "output_type": "stream",
     "text": [
      "Iteration 0:  23%|████▏             | 0.23/1.0 [0.09s/it, gradient norm=0.000583823942734324]\n"
     ]
    },
    {
     "name": "stdout",
     "output_type": "stream",
     "text": [
      "alpha=2.889e+04, time=0.23s, n_iter=1\n"
     ]
    },
    {
     "name": "stderr",
     "output_type": "stream",
     "text": [
      "Iteration 0:  31%|█████▎           | 0.31/1.0 [0.10s/it, gradient norm=0.0004887750238273705]\n"
     ]
    },
    {
     "name": "stdout",
     "output_type": "stream",
     "text": [
      "alpha=2.425e+04, time=0.25s, n_iter=1\n"
     ]
    },
    {
     "name": "stderr",
     "output_type": "stream",
     "text": [
      "Iteration 0:  39%|██████▋          | 0.39/1.0 [0.09s/it, gradient norm=0.0004093598156696028]\n"
     ]
    },
    {
     "name": "stdout",
     "output_type": "stream",
     "text": [
      "alpha=2.036e+04, time=0.20s, n_iter=1\n"
     ]
    },
    {
     "name": "stderr",
     "output_type": "stream",
     "text": [
      "Iteration 0:  46%|███████▎        | 0.46/1.0 [0.10s/it, gradient norm=0.00034296587424572766]\n"
     ]
    },
    {
     "name": "stdout",
     "output_type": "stream",
     "text": [
      "alpha=1.710e+04, time=0.25s, n_iter=1\n"
     ]
    },
    {
     "name": "stderr",
     "output_type": "stream",
     "text": [
      "Iteration 0:  54%|█████████▏       | 0.54/1.0 [0.10s/it, gradient norm=0.0002874270459716371]\n"
     ]
    },
    {
     "name": "stdout",
     "output_type": "stream",
     "text": [
      "alpha=1.435e+04, time=0.23s, n_iter=1\n"
     ]
    },
    {
     "name": "stderr",
     "output_type": "stream",
     "text": [
      "Iteration 0:  62%|█████████▉      | 0.62/1.0 [0.09s/it, gradient norm=0.00024094524728786987]\n"
     ]
    },
    {
     "name": "stdout",
     "output_type": "stream",
     "text": [
      "alpha=1.205e+04, time=0.24s, n_iter=1\n"
     ]
    },
    {
     "name": "stderr",
     "output_type": "stream",
     "text": [
      "Iteration 0:  69%|███████████     | 0.69/1.0 [0.07s/it, gradient norm=0.00020202620924373378]\n"
     ]
    },
    {
     "name": "stdout",
     "output_type": "stream",
     "text": [
      "alpha=1.012e+04, time=0.22s, n_iter=1\n"
     ]
    },
    {
     "name": "stderr",
     "output_type": "stream",
     "text": [
      "Iteration 0:  77%|████████████▎   | 0.77/1.0 [0.09s/it, gradient norm=0.00016942673726845047]\n"
     ]
    },
    {
     "name": "stdout",
     "output_type": "stream",
     "text": [
      "alpha=8.494e+03, time=0.24s, n_iter=1\n"
     ]
    },
    {
     "name": "stderr",
     "output_type": "stream",
     "text": [
      "Iteration 0:  85%|██████████████▍  | 0.85/1.0 [0.08s/it, gradient norm=0.0001422722521008978]\n"
     ]
    },
    {
     "name": "stdout",
     "output_type": "stream",
     "text": [
      "alpha=7.131e+03, time=0.23s, n_iter=1\n"
     ]
    },
    {
     "name": "stderr",
     "output_type": "stream",
     "text": [
      "Iteration 0:  92%|██████████████▋ | 0.92/1.0 [0.09s/it, gradient norm=0.00011936462361352167]\n"
     ]
    },
    {
     "name": "stdout",
     "output_type": "stream",
     "text": [
      "alpha=5.987e+03, time=0.22s, n_iter=1\n"
     ]
    },
    {
     "name": "stderr",
     "output_type": "stream",
     "text": [
      "Iteration 0: 100%|██████████████████| 1.0/1.0 [0.09s/it, gradient norm=0.0001001561228420485]\n"
     ]
    },
    {
     "name": "stdout",
     "output_type": "stream",
     "text": [
      "alpha=5.026e+03, time=0.22s, n_iter=1\n"
     ]
    },
    {
     "name": "stderr",
     "output_type": "stream",
     "text": [
      "Iteration 0: |                           | 0/-0.0 [s/it, gradient norm=8.404649472440728e-05]\n"
     ]
    },
    {
     "name": "stdout",
     "output_type": "stream",
     "text": [
      "alpha=4.220e+03, time=0.10s, n_iter=0\n"
     ]
    },
    {
     "name": "stderr",
     "output_type": "stream",
     "text": [
      "Iteration 0:  81%|████████████▉   | 0.81/1.0 [0.09s/it, gradient norm=0.00015429758624785025]\n"
     ]
    },
    {
     "name": "stdout",
     "output_type": "stream",
     "text": [
      "alpha=3.543e+03, time=0.23s, n_iter=1\n"
     ]
    },
    {
     "name": "stderr",
     "output_type": "stream",
     "text": [
      "Iteration 0: |                          | 0/-0.0 [s/it, gradient norm=5.9770108020254964e-05]\n"
     ]
    },
    {
     "name": "stdout",
     "output_type": "stream",
     "text": [
      "alpha=2.974e+03, time=0.11s, n_iter=0\n"
     ]
    },
    {
     "name": "stderr",
     "output_type": "stream",
     "text": [
      "Iteration 0:  96%|███████████████▎| 0.96/1.0 [0.10s/it, gradient norm=0.00010928710999470964]\n"
     ]
    },
    {
     "name": "stdout",
     "output_type": "stream",
     "text": [
      "alpha=2.497e+03, time=0.27s, n_iter=1\n"
     ]
    },
    {
     "name": "stderr",
     "output_type": "stream",
     "text": [
      "Iteration 0: |                           | 0/-0.0 [s/it, gradient norm=4.201969591119929e-05]\n"
     ]
    },
    {
     "name": "stdout",
     "output_type": "stream",
     "text": [
      "alpha=2.097e+03, time=0.09s, n_iter=0\n"
     ]
    },
    {
     "name": "stderr",
     "output_type": "stream",
     "text": [
      "Iteration 0: |                           | 0/-0.0 [s/it, gradient norm=7.692212135920721e-05]\n"
     ]
    },
    {
     "name": "stdout",
     "output_type": "stream",
     "text": [
      "alpha=1.760e+03, time=0.12s, n_iter=0\n"
     ]
    },
    {
     "name": "stderr",
     "output_type": "stream",
     "text": [
      "Iteration 0:  97%|███████████████▌| 0.97/1.0 [0.09s/it, gradient norm=0.00010622472704693406]\n"
     ]
    },
    {
     "name": "stdout",
     "output_type": "stream",
     "text": [
      "alpha=1.478e+03, time=0.24s, n_iter=1\n"
     ]
    },
    {
     "name": "stderr",
     "output_type": "stream",
     "text": [
      "Iteration 0: |                           | 0/-0.0 [s/it, gradient norm=2.503688672570703e-05]\n"
     ]
    },
    {
     "name": "stdout",
     "output_type": "stream",
     "text": [
      "alpha=1.241e+03, time=0.10s, n_iter=0\n"
     ]
    },
    {
     "name": "stderr",
     "output_type": "stream",
     "text": [
      "Iteration 0: |                           | 0/-0.0 [s/it, gradient norm=4.569104529079697e-05]\n"
     ]
    },
    {
     "name": "stdout",
     "output_type": "stream",
     "text": [
      "alpha=1.042e+03, time=0.08s, n_iter=0\n"
     ]
    },
    {
     "name": "stderr",
     "output_type": "stream",
     "text": [
      "Iteration 0: |                           | 0/-0.0 [s/it, gradient norm=6.303140649710286e-05]\n"
     ]
    },
    {
     "name": "stdout",
     "output_type": "stream",
     "text": [
      "alpha=8.745e+02, time=0.12s, n_iter=0\n"
     ]
    },
    {
     "name": "stderr",
     "output_type": "stream",
     "text": [
      "Iteration 0: |                           | 0/-0.0 [s/it, gradient norm=7.758964307776822e-05]\n"
     ]
    },
    {
     "name": "stdout",
     "output_type": "stream",
     "text": [
      "alpha=7.342e+02, time=0.11s, n_iter=0\n"
     ]
    },
    {
     "name": "stderr",
     "output_type": "stream",
     "text": [
      "Iteration 0: |                            | 0/-0.0 [s/it, gradient norm=8.98121250559147e-05]\n"
     ]
    },
    {
     "name": "stdout",
     "output_type": "stream",
     "text": [
      "alpha=6.164e+02, time=0.09s, n_iter=0\n"
     ]
    },
    {
     "name": "stderr",
     "output_type": "stream",
     "text": [
      "Iteration 0: 100%|█████████████████| 1.0/1.0 [0.09s/it, gradient norm=0.00010007360589381491]\n"
     ]
    },
    {
     "name": "stdout",
     "output_type": "stream",
     "text": [
      "alpha=5.175e+02, time=0.21s, n_iter=1\n"
     ]
    },
    {
     "name": "stderr",
     "output_type": "stream",
     "text": [
      "Iteration 0: |                               | 0/? [s/it, gradient norm=9.01792971331811e-06]\n"
     ]
    },
    {
     "name": "stdout",
     "output_type": "stream",
     "text": [
      "alpha=4.345e+02, time=0.11s, n_iter=0\n"
     ]
    },
    {
     "name": "stderr",
     "output_type": "stream",
     "text": [
      "Iteration 0: |                           | 0/-0.0 [s/it, gradient norm=1.625081045427536e-05]\n"
     ]
    },
    {
     "name": "stdout",
     "output_type": "stream",
     "text": [
      "alpha=3.648e+02, time=0.11s, n_iter=0\n"
     ]
    },
    {
     "name": "stderr",
     "output_type": "stream",
     "text": [
      "Iteration 0: |                          | 0/-0.0 [s/it, gradient norm=2.2323232345250837e-05]\n"
     ]
    },
    {
     "name": "stdout",
     "output_type": "stream",
     "text": [
      "alpha=3.062e+02, time=0.09s, n_iter=0\n"
     ]
    },
    {
     "name": "stderr",
     "output_type": "stream",
     "text": [
      "Iteration 0: |                           | 0/-0.0 [s/it, gradient norm=2.742138188519724e-05]\n"
     ]
    },
    {
     "name": "stdout",
     "output_type": "stream",
     "text": [
      "alpha=2.571e+02, time=0.08s, n_iter=0\n"
     ]
    },
    {
     "name": "stderr",
     "output_type": "stream",
     "text": [
      "Iteration 0: |                           | 0/-0.0 [s/it, gradient norm=3.170157341310843e-05]\n"
     ]
    },
    {
     "name": "stdout",
     "output_type": "stream",
     "text": [
      "alpha=2.159e+02, time=0.09s, n_iter=0\n"
     ]
    },
    {
     "name": "stderr",
     "output_type": "stream",
     "text": [
      "Iteration 0: |                           | 0/-0.0 [s/it, gradient norm=3.529504186122998e-05]\n"
     ]
    },
    {
     "name": "stdout",
     "output_type": "stream",
     "text": [
      "alpha=1.812e+02, time=0.10s, n_iter=0\n"
     ]
    },
    {
     "name": "stderr",
     "output_type": "stream",
     "text": [
      "Iteration 0: |                           | 0/-0.0 [s/it, gradient norm=3.831196654869762e-05]\n"
     ]
    },
    {
     "name": "stdout",
     "output_type": "stream",
     "text": [
      "alpha=1.521e+02, time=0.09s, n_iter=0\n"
     ]
    },
    {
     "name": "stderr",
     "output_type": "stream",
     "text": [
      "Iteration 0: |                           | 0/-0.0 [s/it, gradient norm=5.531511251075201e-05]\n"
     ]
    },
    {
     "name": "stdout",
     "output_type": "stream",
     "text": [
      "alpha=1.277e+02, time=0.10s, n_iter=0\n"
     ]
    },
    {
     "name": "stderr",
     "output_type": "stream",
     "text": [
      "Iteration 0:  65%|██████████▍     | 0.65/1.0 [0.11s/it, gradient norm=0.00022627270287778903]\n"
     ]
    },
    {
     "name": "stdout",
     "output_type": "stream",
     "text": [
      "alpha=1.072e+02, time=0.23s, n_iter=1\n"
     ]
    },
    {
     "name": "stderr",
     "output_type": "stream",
     "text": [
      "Iteration 0:  75%|████████████▊    | 0.75/1.0 [0.10s/it, gradient norm=0.0001769172597067226]\n"
     ]
    },
    {
     "name": "stdout",
     "output_type": "stream",
     "text": [
      "alpha=9.004e+01, time=0.23s, n_iter=1\n"
     ]
    },
    {
     "name": "stderr",
     "output_type": "stream",
     "text": [
      "Iteration 0:  82%|█████████████   | 0.82/1.0 [0.08s/it, gradient norm=0.00015021240045171483]\n"
     ]
    },
    {
     "name": "stdout",
     "output_type": "stream",
     "text": [
      "alpha=7.559e+01, time=0.23s, n_iter=1\n"
     ]
    },
    {
     "name": "stderr",
     "output_type": "stream",
     "text": [
      "Iteration 0:  88%|██████████████  | 0.88/1.0 [0.10s/it, gradient norm=0.00013235644689400754]\n"
     ]
    },
    {
     "name": "stdout",
     "output_type": "stream",
     "text": [
      "alpha=6.346e+01, time=0.22s, n_iter=1\n"
     ]
    },
    {
     "name": "stderr",
     "output_type": "stream",
     "text": [
      "Iteration 0:  95%|███████████████▏| 0.95/1.0 [0.10s/it, gradient norm=0.00011150155025721385]\n"
     ]
    },
    {
     "name": "stdout",
     "output_type": "stream",
     "text": [
      "alpha=5.328e+01, time=0.23s, n_iter=1\n"
     ]
    },
    {
     "name": "stderr",
     "output_type": "stream",
     "text": [
      "Iteration 0: |                           | 0/-0.0 [s/it, gradient norm=9.485644222104594e-05]\n"
     ]
    },
    {
     "name": "stdout",
     "output_type": "stream",
     "text": [
      "alpha=4.473e+01, time=0.10s, n_iter=0\n"
     ]
    },
    {
     "name": "stderr",
     "output_type": "stream",
     "text": [
      "Iteration 0:  81%|████████████▉   | 0.81/1.0 [0.11s/it, gradient norm=0.00015323472922176902]\n"
     ]
    },
    {
     "name": "stdout",
     "output_type": "stream",
     "text": [
      "alpha=3.755e+01, time=0.27s, n_iter=1\n"
     ]
    },
    {
     "name": "stderr",
     "output_type": "stream",
     "text": [
      "Iteration 0: |                            | 0/-0.0 [s/it, gradient norm=8.67492726000946e-05]\n"
     ]
    },
    {
     "name": "stdout",
     "output_type": "stream",
     "text": [
      "alpha=3.153e+01, time=0.07s, n_iter=0\n"
     ]
    },
    {
     "name": "stderr",
     "output_type": "stream",
     "text": [
      "Iteration 0:  89%|██████████████▏ | 0.89/1.0 [0.05s/it, gradient norm=0.00012789764040467804]\n"
     ]
    },
    {
     "name": "stdout",
     "output_type": "stream",
     "text": [
      "alpha=2.647e+01, time=0.20s, n_iter=1\n"
     ]
    },
    {
     "name": "stderr",
     "output_type": "stream",
     "text": [
      "Iteration 0: |                           | 0/-0.0 [s/it, gradient norm=6.152794045942118e-05]\n"
     ]
    },
    {
     "name": "stdout",
     "output_type": "stream",
     "text": [
      "alpha=2.222e+01, time=0.11s, n_iter=0\n"
     ]
    },
    {
     "name": "stderr",
     "output_type": "stream",
     "text": [
      "Iteration 0: |                           | 0/-0.0 [s/it, gradient norm=9.053167215439721e-05]\n"
     ]
    },
    {
     "name": "stdout",
     "output_type": "stream",
     "text": [
      "alpha=1.866e+01, time=0.09s, n_iter=0\n"
     ]
    },
    {
     "name": "stderr",
     "output_type": "stream",
     "text": [
      "Iteration 0:  94%|███████████████ | 0.94/1.0 [0.11s/it, gradient norm=0.00011488198312623876]\n"
     ]
    },
    {
     "name": "stdout",
     "output_type": "stream",
     "text": [
      "alpha=1.566e+01, time=0.24s, n_iter=1\n"
     ]
    },
    {
     "name": "stderr",
     "output_type": "stream",
     "text": [
      "Iteration 0: |                           | 0/-0.0 [s/it, gradient norm=4.746798691835797e-05]\n"
     ]
    },
    {
     "name": "stdout",
     "output_type": "stream",
     "text": [
      "alpha=1.315e+01, time=0.11s, n_iter=0\n"
     ]
    },
    {
     "name": "stderr",
     "output_type": "stream",
     "text": [
      "Iteration 0: |                           | 0/-0.0 [s/it, gradient norm=6.463148388792316e-05]\n"
     ]
    },
    {
     "name": "stdout",
     "output_type": "stream",
     "text": [
      "alpha=1.104e+01, time=0.09s, n_iter=0\n"
     ]
    },
    {
     "name": "stderr",
     "output_type": "stream",
     "text": [
      "Iteration 0: |                           | 0/-0.0 [s/it, gradient norm=7.904123270812639e-05]\n"
     ]
    },
    {
     "name": "stdout",
     "output_type": "stream",
     "text": [
      "alpha=9.270e+00, time=0.11s, n_iter=0\n"
     ]
    },
    {
     "name": "stderr",
     "output_type": "stream",
     "text": [
      "Iteration 0: |                            | 0/-0.0 [s/it, gradient norm=9.11390506195662e-05]\n"
     ]
    },
    {
     "name": "stdout",
     "output_type": "stream",
     "text": [
      "alpha=7.783e+00, time=0.10s, n_iter=0\n"
     ]
    },
    {
     "name": "stderr",
     "output_type": "stream",
     "text": [
      "Iteration 0:  99%|███████████████▊| 0.99/1.0 [0.11s/it, gradient norm=0.00010129586876015401]\n"
     ]
    },
    {
     "name": "stdout",
     "output_type": "stream",
     "text": [
      "alpha=6.534e+00, time=0.32s, n_iter=1\n"
     ]
    },
    {
     "name": "stderr",
     "output_type": "stream",
     "text": [
      "Iteration 0: |                           | 0/-0.0 [s/it, gradient norm=3.289501886696192e-05]\n"
     ]
    },
    {
     "name": "stdout",
     "output_type": "stream",
     "text": [
      "alpha=5.486e+00, time=0.17s, n_iter=0\n"
     ]
    },
    {
     "name": "stderr",
     "output_type": "stream",
     "text": [
      "Iteration 0: |                           | 0/-0.0 [s/it, gradient norm=4.005412733083301e-05]\n"
     ]
    },
    {
     "name": "stdout",
     "output_type": "stream",
     "text": [
      "alpha=4.605e+00, time=0.13s, n_iter=0\n"
     ]
    },
    {
     "name": "stderr",
     "output_type": "stream",
     "text": [
      "Iteration 0: |                           | 0/-0.0 [s/it, gradient norm=4.606461312658323e-05]\n"
     ]
    },
    {
     "name": "stdout",
     "output_type": "stream",
     "text": [
      "alpha=3.867e+00, time=0.07s, n_iter=0\n"
     ]
    },
    {
     "name": "stderr",
     "output_type": "stream",
     "text": [
      "Iteration 0: |                           | 0/-0.0 [s/it, gradient norm=5.111076373084171e-05]\n"
     ]
    },
    {
     "name": "stdout",
     "output_type": "stream",
     "text": [
      "alpha=3.246e+00, time=0.09s, n_iter=0\n"
     ]
    },
    {
     "name": "stderr",
     "output_type": "stream",
     "text": [
      "Iteration 0: |                            | 0/-0.0 [s/it, gradient norm=5.53472991434805e-05]\n"
     ]
    },
    {
     "name": "stdout",
     "output_type": "stream",
     "text": [
      "alpha=2.725e+00, time=0.10s, n_iter=0\n"
     ]
    },
    {
     "name": "stderr",
     "output_type": "stream",
     "text": [
      "Iteration 0: |                          | 0/-0.0 [s/it, gradient norm=5.8904115756800775e-05]\n"
     ]
    },
    {
     "name": "stdout",
     "output_type": "stream",
     "text": [
      "alpha=2.288e+00, time=0.09s, n_iter=0\n"
     ]
    },
    {
     "name": "stderr",
     "output_type": "stream",
     "text": [
      "Iteration 0: |                           | 0/-0.0 [s/it, gradient norm=6.189026910820426e-05]\n"
     ]
    },
    {
     "name": "stdout",
     "output_type": "stream",
     "text": [
      "alpha=1.921e+00, time=0.10s, n_iter=0\n"
     ]
    },
    {
     "name": "stderr",
     "output_type": "stream",
     "text": [
      "Iteration 0: |                           | 0/-0.0 [s/it, gradient norm=6.439731763151125e-05]\n"
     ]
    },
    {
     "name": "stdout",
     "output_type": "stream",
     "text": [
      "alpha=1.613e+00, time=0.10s, n_iter=0\n"
     ]
    },
    {
     "name": "stderr",
     "output_type": "stream",
     "text": [
      "Iteration 0: |                           | 0/-0.0 [s/it, gradient norm=6.650212992966788e-05]\n"
     ]
    },
    {
     "name": "stdout",
     "output_type": "stream",
     "text": [
      "alpha=1.354e+00, time=0.09s, n_iter=0\n"
     ]
    },
    {
     "name": "stderr",
     "output_type": "stream",
     "text": [
      "Iteration 0: |                           | 0/-0.0 [s/it, gradient norm=6.826924164261855e-05]\n"
     ]
    },
    {
     "name": "stdout",
     "output_type": "stream",
     "text": [
      "alpha=1.137e+00, time=0.12s, n_iter=0\n"
     ]
    },
    {
     "name": "stderr",
     "output_type": "stream",
     "text": [
      "Iteration 0: |                           | 0/-0.0 [s/it, gradient norm=6.975283417425771e-05]\n"
     ]
    },
    {
     "name": "stdout",
     "output_type": "stream",
     "text": [
      "alpha=9.544e-01, time=0.09s, n_iter=0\n"
     ]
    },
    {
     "name": "stderr",
     "output_type": "stream",
     "text": [
      "Iteration 0: |                           | 0/-0.0 [s/it, gradient norm=7.099839594819911e-05]\n"
     ]
    },
    {
     "name": "stdout",
     "output_type": "stream",
     "text": [
      "alpha=8.013e-01, time=0.10s, n_iter=0\n"
     ]
    },
    {
     "name": "stderr",
     "output_type": "stream",
     "text": [
      "Iteration 0: |                           | 0/-0.0 [s/it, gradient norm=7.204411712811769e-05]\n"
     ]
    },
    {
     "name": "stdout",
     "output_type": "stream",
     "text": [
      "alpha=6.727e-01, time=0.09s, n_iter=0\n"
     ]
    },
    {
     "name": "stderr",
     "output_type": "stream",
     "text": [
      "Iteration 0:  93%|██████████████▉ | 0.93/1.0 [0.09s/it, gradient norm=0.00011851409105341098]\n"
     ]
    },
    {
     "name": "stdout",
     "output_type": "stream",
     "text": [
      "alpha=5.648e-01, time=0.23s, n_iter=1\n"
     ]
    },
    {
     "name": "stderr",
     "output_type": "stream",
     "text": [
      "Iteration 1:  88%|███████████████  | 1.77/2.0 [0.15s/it, gradient norm=0.0001704368448311597]\n"
     ]
    },
    {
     "name": "stdout",
     "output_type": "stream",
     "text": [
      "alpha=4.742e-01, time=0.36s, n_iter=2\n"
     ]
    },
    {
     "name": "stderr",
     "output_type": "stream",
     "text": [
      "Iteration 1:  54%|█████████▏       | 1.08/2.0 [0.13s/it, gradient norm=0.0008319080010809213]\n"
     ]
    },
    {
     "name": "stdout",
     "output_type": "stream",
     "text": [
      "alpha=3.981e-01, time=0.36s, n_iter=2\n"
     ]
    },
    {
     "name": "stderr",
     "output_type": "stream",
     "text": [
      "Iteration 1:  64%|██████████▉      | 1.28/2.0 [0.17s/it, gradient norm=0.0005246019707256449]\n"
     ]
    },
    {
     "name": "stdout",
     "output_type": "stream",
     "text": [
      "alpha=3.342e-01, time=0.34s, n_iter=2\n"
     ]
    },
    {
     "name": "stderr",
     "output_type": "stream",
     "text": [
      "Iteration 1:  73%|███████████▋    | 1.46/2.0 [0.15s/it, gradient norm=0.00034393396217005494]\n"
     ]
    },
    {
     "name": "stdout",
     "output_type": "stream",
     "text": [
      "alpha=2.806e-01, time=0.39s, n_iter=2\n"
     ]
    },
    {
     "name": "stderr",
     "output_type": "stream",
     "text": [
      "Iteration 1:  82%|█████████████   | 1.64/2.0 [0.16s/it, gradient norm=0.00023089905694057922]\n"
     ]
    },
    {
     "name": "stdout",
     "output_type": "stream",
     "text": [
      "alpha=2.356e-01, time=0.38s, n_iter=2\n"
     ]
    },
    {
     "name": "stderr",
     "output_type": "stream",
     "text": [
      "Iteration 1:  90%|████████████████▏ | 1.8/2.0 [0.15s/it, gradient norm=0.0001597971933108633]\n"
     ]
    },
    {
     "name": "stdout",
     "output_type": "stream",
     "text": [
      "alpha=1.978e-01, time=0.38s, n_iter=2\n"
     ]
    },
    {
     "name": "stderr",
     "output_type": "stream",
     "text": [
      "Iteration 1:  98%|███████████████▌| 1.95/2.0 [0.14s/it, gradient norm=0.00011296984361773094]\n"
     ]
    },
    {
     "name": "stdout",
     "output_type": "stream",
     "text": [
      "alpha=1.660e-01, time=0.35s, n_iter=2\n"
     ]
    },
    {
     "name": "stderr",
     "output_type": "stream",
     "text": [
      "Iteration 0:  36%|██████▏          | 0.73/2.0 [0.09s/it, gradient norm=0.0018690119930121888]\n"
     ]
    },
    {
     "name": "stdout",
     "output_type": "stream",
     "text": [
      "alpha=1.394e-01, time=0.24s, n_iter=1\n"
     ]
    },
    {
     "name": "stderr",
     "output_type": "stream",
     "text": [
      "Iteration 0:  40%|██████▉          | 0.81/2.0 [0.09s/it, gradient norm=0.0015627766608180805]\n"
     ]
    },
    {
     "name": "stdout",
     "output_type": "stream",
     "text": [
      "alpha=1.170e-01, time=0.24s, n_iter=1\n"
     ]
    },
    {
     "name": "stderr",
     "output_type": "stream",
     "text": [
      "Iteration 0:  44%|███████▍         | 0.87/2.0 [0.10s/it, gradient norm=0.0013476534570604909]\n"
     ]
    },
    {
     "name": "stdout",
     "output_type": "stream",
     "text": [
      "alpha=9.826e-02, time=0.26s, n_iter=1\n"
     ]
    },
    {
     "name": "stderr",
     "output_type": "stream",
     "text": [
      "Iteration 0:  48%|████████         | 0.95/2.0 [0.10s/it, gradient norm=0.0011305770549748166]\n"
     ]
    },
    {
     "name": "stdout",
     "output_type": "stream",
     "text": [
      "alpha=8.250e-02, time=0.23s, n_iter=1\n"
     ]
    },
    {
     "name": "stderr",
     "output_type": "stream",
     "text": [
      "Iteration 0:   2%|▎                | 0.02/1.0 [0.07s/it, gradient norm=0.0009452854372089809]\n"
     ]
    },
    {
     "name": "stdout",
     "output_type": "stream",
     "text": [
      "alpha=6.926e-02, time=0.23s, n_iter=1\n"
     ]
    },
    {
     "name": "stderr",
     "output_type": "stream",
     "text": [
      "Iteration 0: |                             | 0/? [s/it, gradient norm=2.6020852139652106e-17]\n"
     ]
    },
    {
     "name": "stdout",
     "output_type": "stream",
     "text": [
      "alpha=6.926e+04, time=0.08s, n_iter=0\n"
     ]
    },
    {
     "name": "stderr",
     "output_type": "stream",
     "text": [
      "Iteration 0:  48%|████████▏        | 0.97/2.0 [0.08s/it, gradient norm=0.0010596307979764182]\n"
     ]
    },
    {
     "name": "stdout",
     "output_type": "stream",
     "text": [
      "alpha=5.815e+04, time=0.23s, n_iter=1\n"
     ]
    },
    {
     "name": "stderr",
     "output_type": "stream",
     "text": [
      "Iteration 0:  50%|█████████▌         | 1.0/2.0 [0.10s/it, gradient norm=0.001001486677099378]\n"
     ]
    },
    {
     "name": "stdout",
     "output_type": "stream",
     "text": [
      "alpha=4.882e+04, time=0.26s, n_iter=1\n"
     ]
    },
    {
     "name": "stderr",
     "output_type": "stream",
     "text": [
      "Iteration 0:   7%|█▏               | 0.07/1.0 [0.07s/it, gradient norm=0.0008423834111541597]\n"
     ]
    },
    {
     "name": "stdout",
     "output_type": "stream",
     "text": [
      "alpha=4.099e+04, time=0.21s, n_iter=1\n"
     ]
    },
    {
     "name": "stderr",
     "output_type": "stream",
     "text": [
      "Iteration 0:  15%|██▌              | 0.15/1.0 [0.09s/it, gradient norm=0.0007047361886821897]\n"
     ]
    },
    {
     "name": "stdout",
     "output_type": "stream",
     "text": [
      "alpha=3.441e+04, time=0.17s, n_iter=1\n"
     ]
    },
    {
     "name": "stderr",
     "output_type": "stream",
     "text": [
      "Iteration 0:  23%|███▉             | 0.23/1.0 [0.15s/it, gradient norm=0.0005897270138575544]\n"
     ]
    },
    {
     "name": "stdout",
     "output_type": "stream",
     "text": [
      "alpha=2.889e+04, time=0.27s, n_iter=1\n"
     ]
    },
    {
     "name": "stderr",
     "output_type": "stream",
     "text": [
      "Iteration 0:  31%|█████▎           | 0.31/1.0 [0.08s/it, gradient norm=0.0004936998232256593]\n"
     ]
    },
    {
     "name": "stdout",
     "output_type": "stream",
     "text": [
      "alpha=2.425e+04, time=0.23s, n_iter=1\n"
     ]
    },
    {
     "name": "stderr",
     "output_type": "stream",
     "text": [
      "Iteration 0:  38%|██████          | 0.38/1.0 [0.07s/it, gradient norm=0.00041347164708363396]\n"
     ]
    },
    {
     "name": "stdout",
     "output_type": "stream",
     "text": [
      "alpha=2.036e+04, time=0.28s, n_iter=1\n"
     ]
    },
    {
     "name": "stderr",
     "output_type": "stream",
     "text": [
      "Iteration 0:  46%|███████▎        | 0.46/1.0 [0.08s/it, gradient norm=0.00034640141955652134]\n"
     ]
    },
    {
     "name": "stdout",
     "output_type": "stream",
     "text": [
      "alpha=1.710e+04, time=0.21s, n_iter=1\n"
     ]
    },
    {
     "name": "stderr",
     "output_type": "stream",
     "text": [
      "Iteration 0:  54%|█████████▏       | 0.54/1.0 [0.08s/it, gradient norm=0.0002902994000552057]\n"
     ]
    },
    {
     "name": "stdout",
     "output_type": "stream",
     "text": [
      "alpha=1.435e+04, time=0.26s, n_iter=1\n"
     ]
    },
    {
     "name": "stderr",
     "output_type": "stream",
     "text": [
      "Iteration 0:  61%|██████████▎      | 0.61/1.0 [0.09s/it, gradient norm=0.0002433481210031849]\n"
     ]
    },
    {
     "name": "stdout",
     "output_type": "stream",
     "text": [
      "alpha=1.205e+04, time=0.25s, n_iter=1\n"
     ]
    },
    {
     "name": "stderr",
     "output_type": "stream",
     "text": [
      "Iteration 0:  69%|███████████     | 0.69/1.0 [0.08s/it, gradient norm=0.00020403736124881494]\n"
     ]
    },
    {
     "name": "stdout",
     "output_type": "stream",
     "text": [
      "alpha=1.012e+04, time=0.26s, n_iter=1\n"
     ]
    },
    {
     "name": "stderr",
     "output_type": "stream",
     "text": [
      "Iteration 0:  77%|████████████▎   | 0.77/1.0 [0.11s/it, gradient norm=0.00017125304711820854]\n"
     ]
    },
    {
     "name": "stdout",
     "output_type": "stream",
     "text": [
      "alpha=8.494e+03, time=0.26s, n_iter=1\n"
     ]
    },
    {
     "name": "stderr",
     "output_type": "stream",
     "text": [
      "Iteration 0:  84%|██████████████▎  | 0.84/1.0 [0.09s/it, gradient norm=0.0001436563469103735]\n"
     ]
    },
    {
     "name": "stdout",
     "output_type": "stream",
     "text": [
      "alpha=7.131e+03, time=0.26s, n_iter=1\n"
     ]
    },
    {
     "name": "stderr",
     "output_type": "stream",
     "text": [
      "Iteration 0:  92%|██████████████▋ | 0.92/1.0 [0.10s/it, gradient norm=0.00012052270378706408]\n"
     ]
    },
    {
     "name": "stdout",
     "output_type": "stream",
     "text": [
      "alpha=5.987e+03, time=0.21s, n_iter=1\n"
     ]
    },
    {
     "name": "stderr",
     "output_type": "stream",
     "text": [
      "Iteration 0: 100%|█████████████████| 1.0/1.0 [0.11s/it, gradient norm=0.00010112588171441001]\n"
     ]
    },
    {
     "name": "stdout",
     "output_type": "stream",
     "text": [
      "alpha=5.026e+03, time=0.28s, n_iter=1\n"
     ]
    },
    {
     "name": "stderr",
     "output_type": "stream",
     "text": [
      "Iteration 0: |                            | 0/-0.0 [s/it, gradient norm=8.48588713994689e-05]\n"
     ]
    },
    {
     "name": "stdout",
     "output_type": "stream",
     "text": [
      "alpha=4.220e+03, time=0.09s, n_iter=0\n"
     ]
    },
    {
     "name": "stderr",
     "output_type": "stream",
     "text": [
      "Iteration 0:  81%|████████████▉   | 0.81/1.0 [0.10s/it, gradient norm=0.00015580263130553657]\n"
     ]
    },
    {
     "name": "stdout",
     "output_type": "stream",
     "text": [
      "alpha=3.543e+03, time=0.26s, n_iter=1\n"
     ]
    },
    {
     "name": "stderr",
     "output_type": "stream",
     "text": [
      "Iteration 0: |                          | 0/-0.0 [s/it, gradient norm=6.0336254256391846e-05]\n"
     ]
    },
    {
     "name": "stdout",
     "output_type": "stream",
     "text": [
      "alpha=2.974e+03, time=0.08s, n_iter=0\n"
     ]
    },
    {
     "name": "stderr",
     "output_type": "stream",
     "text": [
      "Iteration 0:  96%|███████████████▎| 0.96/1.0 [0.10s/it, gradient norm=0.00011034148866861048]\n"
     ]
    },
    {
     "name": "stdout",
     "output_type": "stream",
     "text": [
      "alpha=2.497e+03, time=0.26s, n_iter=1\n"
     ]
    },
    {
     "name": "stderr",
     "output_type": "stream",
     "text": [
      "Iteration 0: |                           | 0/-0.0 [s/it, gradient norm=4.241482361209479e-05]\n"
     ]
    },
    {
     "name": "stdout",
     "output_type": "stream",
     "text": [
      "alpha=2.097e+03, time=0.10s, n_iter=0\n"
     ]
    },
    {
     "name": "stderr",
     "output_type": "stream",
     "text": [
      "Iteration 0: |                           | 0/-0.0 [s/it, gradient norm=7.766138330856035e-05]\n"
     ]
    },
    {
     "name": "stdout",
     "output_type": "stream",
     "text": [
      "alpha=1.760e+03, time=0.10s, n_iter=0\n"
     ]
    },
    {
     "name": "stderr",
     "output_type": "stream",
     "text": [
      "Iteration 0:  97%|███████████████▌| 0.97/1.0 [0.03s/it, gradient norm=0.00010725290961016313]\n"
     ]
    },
    {
     "name": "stdout",
     "output_type": "stream",
     "text": [
      "alpha=1.478e+03, time=0.19s, n_iter=1\n"
     ]
    },
    {
     "name": "stderr",
     "output_type": "stream",
     "text": [
      "Iteration 0: |                           | 0/-0.0 [s/it, gradient norm=2.526421389564823e-05]\n"
     ]
    },
    {
     "name": "stdout",
     "output_type": "stream",
     "text": [
      "alpha=1.241e+03, time=0.10s, n_iter=0\n"
     ]
    },
    {
     "name": "stderr",
     "output_type": "stream",
     "text": [
      "Iteration 0: |                           | 0/-0.0 [s/it, gradient norm=4.612202029449432e-05]\n"
     ]
    },
    {
     "name": "stdout",
     "output_type": "stream",
     "text": [
      "alpha=1.042e+03, time=0.11s, n_iter=0\n"
     ]
    },
    {
     "name": "stderr",
     "output_type": "stream",
     "text": [
      "Iteration 0: |                           | 0/-0.0 [s/it, gradient norm=6.363335564070937e-05]\n"
     ]
    },
    {
     "name": "stdout",
     "output_type": "stream",
     "text": [
      "alpha=8.745e+02, time=0.10s, n_iter=0\n"
     ]
    },
    {
     "name": "stderr",
     "output_type": "stream",
     "text": [
      "Iteration 0: |                           | 0/-0.0 [s/it, gradient norm=7.833513490473406e-05]\n"
     ]
    },
    {
     "name": "stdout",
     "output_type": "stream",
     "text": [
      "alpha=7.342e+02, time=0.09s, n_iter=0\n"
     ]
    },
    {
     "name": "stderr",
     "output_type": "stream",
     "text": [
      "Iteration 0: |                           | 0/-0.0 [s/it, gradient norm=9.067812927122738e-05]\n"
     ]
    },
    {
     "name": "stdout",
     "output_type": "stream",
     "text": [
      "alpha=6.164e+02, time=0.15s, n_iter=0\n"
     ]
    },
    {
     "name": "stderr",
     "output_type": "stream",
     "text": [
      "Iteration 0: 100%|█████████████████| 1.0/1.0 [0.07s/it, gradient norm=0.00010104078723223252]\n"
     ]
    },
    {
     "name": "stdout",
     "output_type": "stream",
     "text": [
      "alpha=5.175e+02, time=0.22s, n_iter=1\n"
     ]
    },
    {
     "name": "stderr",
     "output_type": "stream",
     "text": [
      "Iteration 0: |                              | 0/? [s/it, gradient norm=9.087522214655663e-06]\n"
     ]
    },
    {
     "name": "stdout",
     "output_type": "stream",
     "text": [
      "alpha=4.345e+02, time=0.10s, n_iter=0\n"
     ]
    },
    {
     "name": "stderr",
     "output_type": "stream",
     "text": [
      "Iteration 0: |                          | 0/-0.0 [s/it, gradient norm=1.6391718399912942e-05]\n"
     ]
    },
    {
     "name": "stdout",
     "output_type": "stream",
     "text": [
      "alpha=3.648e+02, time=0.10s, n_iter=0\n"
     ]
    },
    {
     "name": "stderr",
     "output_type": "stream",
     "text": [
      "Iteration 0: |                            | 0/-0.0 [s/it, gradient norm=2.25240137328325e-05]\n"
     ]
    },
    {
     "name": "stdout",
     "output_type": "stream",
     "text": [
      "alpha=3.062e+02, time=0.13s, n_iter=0\n"
     ]
    },
    {
     "name": "stderr",
     "output_type": "stream",
     "text": [
      "Iteration 0: |                           | 0/-0.0 [s/it, gradient norm=2.767243049168802e-05]\n"
     ]
    },
    {
     "name": "stdout",
     "output_type": "stream",
     "text": [
      "alpha=2.571e+02, time=0.09s, n_iter=0\n"
     ]
    },
    {
     "name": "stderr",
     "output_type": "stream",
     "text": [
      "Iteration 0: |                           | 0/-0.0 [s/it, gradient norm=3.199482425843522e-05]\n"
     ]
    },
    {
     "name": "stdout",
     "output_type": "stream",
     "text": [
      "alpha=2.159e+02, time=0.11s, n_iter=0\n"
     ]
    },
    {
     "name": "stderr",
     "output_type": "stream",
     "text": [
      "Iteration 0: |                          | 0/-0.0 [s/it, gradient norm=3.5623723927965514e-05]\n"
     ]
    },
    {
     "name": "stdout",
     "output_type": "stream",
     "text": [
      "alpha=1.812e+02, time=0.14s, n_iter=0\n"
     ]
    },
    {
     "name": "stderr",
     "output_type": "stream",
     "text": [
      "Iteration 0: |                           | 0/-0.0 [s/it, gradient norm=3.867039517592711e-05]\n"
     ]
    },
    {
     "name": "stdout",
     "output_type": "stream",
     "text": [
      "alpha=1.521e+02, time=0.07s, n_iter=0\n"
     ]
    },
    {
     "name": "stderr",
     "output_type": "stream",
     "text": [
      "Iteration 0: |                           | 0/-0.0 [s/it, gradient norm=4.122825197508112e-05]\n"
     ]
    },
    {
     "name": "stdout",
     "output_type": "stream",
     "text": [
      "alpha=1.277e+02, time=0.10s, n_iter=0\n"
     ]
    },
    {
     "name": "stderr",
     "output_type": "stream",
     "text": [
      "Iteration 0:  93%|██████████████▉ | 0.93/1.0 [0.11s/it, gradient norm=0.00011824749275656107]\n"
     ]
    },
    {
     "name": "stdout",
     "output_type": "stream",
     "text": [
      "alpha=1.072e+02, time=0.26s, n_iter=1\n"
     ]
    },
    {
     "name": "stderr",
     "output_type": "stream",
     "text": [
      "Iteration 0:  79%|████████████▋   | 0.79/1.0 [0.08s/it, gradient norm=0.00016044998052315744]\n"
     ]
    },
    {
     "name": "stdout",
     "output_type": "stream",
     "text": [
      "alpha=9.004e+01, time=0.26s, n_iter=1\n"
     ]
    },
    {
     "name": "stderr",
     "output_type": "stream",
     "text": [
      "Iteration 0:  82%|█████████████   | 0.82/1.0 [0.08s/it, gradient norm=0.00015252262851818914]\n"
     ]
    },
    {
     "name": "stdout",
     "output_type": "stream",
     "text": [
      "alpha=7.559e+01, time=0.23s, n_iter=1\n"
     ]
    },
    {
     "name": "stderr",
     "output_type": "stream",
     "text": [
      "Iteration 0:  87%|█████████████▉  | 0.87/1.0 [0.10s/it, gradient norm=0.00013369993683094513]\n"
     ]
    },
    {
     "name": "stdout",
     "output_type": "stream",
     "text": [
      "alpha=6.346e+01, time=0.28s, n_iter=1\n"
     ]
    },
    {
     "name": "stderr",
     "output_type": "stream",
     "text": [
      "Iteration 0:  95%|███████████████▏| 0.95/1.0 [0.11s/it, gradient norm=0.00011242039038893481]\n"
     ]
    },
    {
     "name": "stdout",
     "output_type": "stream",
     "text": [
      "alpha=5.328e+01, time=0.27s, n_iter=1\n"
     ]
    },
    {
     "name": "stderr",
     "output_type": "stream",
     "text": [
      "Iteration 0: |                           | 0/-0.0 [s/it, gradient norm=9.543800965476122e-05]\n"
     ]
    },
    {
     "name": "stdout",
     "output_type": "stream",
     "text": [
      "alpha=4.473e+01, time=0.09s, n_iter=0\n"
     ]
    },
    {
     "name": "stderr",
     "output_type": "stream",
     "text": [
      "Iteration 0:  81%|█████████████▊   | 0.81/1.0 [0.12s/it, gradient norm=0.0001542986373999243]\n"
     ]
    },
    {
     "name": "stdout",
     "output_type": "stream",
     "text": [
      "alpha=3.755e+01, time=0.26s, n_iter=1\n"
     ]
    },
    {
     "name": "stderr",
     "output_type": "stream",
     "text": [
      "Iteration 0: |                           | 0/-0.0 [s/it, gradient norm=8.777351320472885e-05]\n"
     ]
    },
    {
     "name": "stdout",
     "output_type": "stream",
     "text": [
      "alpha=3.153e+01, time=0.09s, n_iter=0\n"
     ]
    },
    {
     "name": "stderr",
     "output_type": "stream",
     "text": [
      "Iteration 0:  89%|██████████████▏ | 0.89/1.0 [0.09s/it, gradient norm=0.00012926186245411058]\n"
     ]
    },
    {
     "name": "stdout",
     "output_type": "stream",
     "text": [
      "alpha=2.647e+01, time=0.25s, n_iter=1\n"
     ]
    },
    {
     "name": "stderr",
     "output_type": "stream",
     "text": [
      "Iteration 0: |                            | 0/-0.0 [s/it, gradient norm=6.21002777803069e-05]\n"
     ]
    },
    {
     "name": "stdout",
     "output_type": "stream",
     "text": [
      "alpha=2.222e+01, time=0.09s, n_iter=0\n"
     ]
    },
    {
     "name": "stderr",
     "output_type": "stream",
     "text": [
      "Iteration 0: |                             | 0/-0.0 [s/it, gradient norm=9.1343647913751e-05]\n"
     ]
    },
    {
     "name": "stdout",
     "output_type": "stream",
     "text": [
      "alpha=1.866e+01, time=0.12s, n_iter=0\n"
     ]
    },
    {
     "name": "stderr",
     "output_type": "stream",
     "text": [
      "Iteration 0:  94%|███████████████▉ | 0.94/1.0 [0.11s/it, gradient norm=0.0001158951492206457]\n"
     ]
    },
    {
     "name": "stdout",
     "output_type": "stream",
     "text": [
      "alpha=1.566e+01, time=0.27s, n_iter=1\n"
     ]
    },
    {
     "name": "stderr",
     "output_type": "stream",
     "text": [
      "Iteration 0: |                           | 0/-0.0 [s/it, gradient norm=4.772581521968459e-05]\n"
     ]
    },
    {
     "name": "stdout",
     "output_type": "stream",
     "text": [
      "alpha=1.315e+01, time=0.10s, n_iter=0\n"
     ]
    },
    {
     "name": "stderr",
     "output_type": "stream",
     "text": [
      "Iteration 0: |                           | 0/-0.0 [s/it, gradient norm=6.503112268645386e-05]\n"
     ]
    },
    {
     "name": "stdout",
     "output_type": "stream",
     "text": [
      "alpha=1.104e+01, time=0.11s, n_iter=0\n"
     ]
    },
    {
     "name": "stderr",
     "output_type": "stream",
     "text": [
      "Iteration 0: |                           | 0/-0.0 [s/it, gradient norm=7.955992962449884e-05]\n"
     ]
    },
    {
     "name": "stdout",
     "output_type": "stream",
     "text": [
      "alpha=9.270e+00, time=0.07s, n_iter=0\n"
     ]
    },
    {
     "name": "stderr",
     "output_type": "stream",
     "text": [
      "Iteration 0: |                           | 0/-0.0 [s/it, gradient norm=9.175770371480755e-05]\n"
     ]
    },
    {
     "name": "stdout",
     "output_type": "stream",
     "text": [
      "alpha=7.783e+00, time=0.10s, n_iter=0\n"
     ]
    },
    {
     "name": "stderr",
     "output_type": "stream",
     "text": [
      "Iteration 0:  99%|███████████████▊| 0.99/1.0 [0.02s/it, gradient norm=0.00010199844085122015]\n"
     ]
    },
    {
     "name": "stdout",
     "output_type": "stream",
     "text": [
      "alpha=6.534e+00, time=0.18s, n_iter=1\n"
     ]
    },
    {
     "name": "stderr",
     "output_type": "stream",
     "text": [
      "Iteration 0: |                          | 0/-0.0 [s/it, gradient norm=3.3056978174294056e-05]\n"
     ]
    },
    {
     "name": "stdout",
     "output_type": "stream",
     "text": [
      "alpha=5.486e+00, time=0.13s, n_iter=0\n"
     ]
    },
    {
     "name": "stderr",
     "output_type": "stream",
     "text": [
      "Iteration 0: |                          | 0/-0.0 [s/it, gradient norm=4.0275237563678734e-05]\n"
     ]
    },
    {
     "name": "stdout",
     "output_type": "stream",
     "text": [
      "alpha=4.605e+00, time=0.10s, n_iter=0\n"
     ]
    },
    {
     "name": "stderr",
     "output_type": "stream",
     "text": [
      "Iteration 0: |                           | 0/-0.0 [s/it, gradient norm=4.633538398398843e-05]\n"
     ]
    },
    {
     "name": "stdout",
     "output_type": "stream",
     "text": [
      "alpha=3.867e+00, time=0.09s, n_iter=0\n"
     ]
    },
    {
     "name": "stderr",
     "output_type": "stream",
     "text": [
      "Iteration 0: |                           | 0/-0.0 [s/it, gradient norm=5.142322755602763e-05]\n"
     ]
    },
    {
     "name": "stdout",
     "output_type": "stream",
     "text": [
      "alpha=3.246e+00, time=0.14s, n_iter=0\n"
     ]
    },
    {
     "name": "stderr",
     "output_type": "stream",
     "text": [
      "Iteration 0: |                           | 0/-0.0 [s/it, gradient norm=5.569476662755682e-05]\n"
     ]
    },
    {
     "name": "stdout",
     "output_type": "stream",
     "text": [
      "alpha=2.725e+00, time=0.10s, n_iter=0\n"
     ]
    },
    {
     "name": "stderr",
     "output_type": "stream",
     "text": [
      "Iteration 0: |                           | 0/-0.0 [s/it, gradient norm=5.928097083789727e-05]\n"
     ]
    },
    {
     "name": "stdout",
     "output_type": "stream",
     "text": [
      "alpha=2.288e+00, time=0.11s, n_iter=0\n"
     ]
    },
    {
     "name": "stderr",
     "output_type": "stream",
     "text": [
      "Iteration 0: |                           | 0/-0.0 [s/it, gradient norm=6.229179677742432e-05]\n"
     ]
    },
    {
     "name": "stdout",
     "output_type": "stream",
     "text": [
      "alpha=1.921e+00, time=0.12s, n_iter=0\n"
     ]
    },
    {
     "name": "stderr",
     "output_type": "stream",
     "text": [
      "Iteration 0: |                           | 0/-0.0 [s/it, gradient norm=6.481955936606631e-05]\n"
     ]
    },
    {
     "name": "stdout",
     "output_type": "stream",
     "text": [
      "alpha=1.613e+00, time=0.11s, n_iter=0\n"
     ]
    },
    {
     "name": "stderr",
     "output_type": "stream",
     "text": [
      "Iteration 0: |                           | 0/-0.0 [s/it, gradient norm=6.694176232062894e-05]\n"
     ]
    },
    {
     "name": "stdout",
     "output_type": "stream",
     "text": [
      "alpha=1.354e+00, time=0.12s, n_iter=0\n"
     ]
    },
    {
     "name": "stderr",
     "output_type": "stream",
     "text": [
      "Iteration 0: |                           | 0/-0.0 [s/it, gradient norm=6.872347449589058e-05]\n"
     ]
    },
    {
     "name": "stdout",
     "output_type": "stream",
     "text": [
      "alpha=1.137e+00, time=0.11s, n_iter=0\n"
     ]
    },
    {
     "name": "stderr",
     "output_type": "stream",
     "text": [
      "Iteration 0: |                           | 0/-0.0 [s/it, gradient norm=7.021932496045175e-05]\n"
     ]
    },
    {
     "name": "stdout",
     "output_type": "stream",
     "text": [
      "alpha=9.544e-01, time=0.11s, n_iter=0\n"
     ]
    },
    {
     "name": "stderr",
     "output_type": "stream",
     "text": [
      "Iteration 0: |                           | 0/-0.0 [s/it, gradient norm=7.147517797834968e-05]\n"
     ]
    },
    {
     "name": "stdout",
     "output_type": "stream",
     "text": [
      "alpha=8.013e-01, time=0.13s, n_iter=0\n"
     ]
    },
    {
     "name": "stderr",
     "output_type": "stream",
     "text": [
      "Iteration 0: |                           | 0/-0.0 [s/it, gradient norm=7.252953925304173e-05]\n"
     ]
    },
    {
     "name": "stdout",
     "output_type": "stream",
     "text": [
      "alpha=6.727e-01, time=0.11s, n_iter=0\n"
     ]
    },
    {
     "name": "stderr",
     "output_type": "stream",
     "text": [
      "Iteration 0: |                           | 0/-0.0 [s/it, gradient norm=7.919053999894884e-05]\n"
     ]
    },
    {
     "name": "stdout",
     "output_type": "stream",
     "text": [
      "alpha=5.648e-01, time=0.12s, n_iter=0\n"
     ]
    },
    {
     "name": "stderr",
     "output_type": "stream",
     "text": [
      "Iteration 0:  64%|██████████▏     | 0.64/1.0 [0.08s/it, gradient norm=0.00023125568988604107]\n"
     ]
    },
    {
     "name": "stdout",
     "output_type": "stream",
     "text": [
      "alpha=4.742e-01, time=0.23s, n_iter=1\n"
     ]
    },
    {
     "name": "stderr",
     "output_type": "stream",
     "text": [
      "Iteration 1:  52%|████████▉        | 1.05/2.0 [0.16s/it, gradient norm=0.0008812301584495165]\n"
     ]
    },
    {
     "name": "stdout",
     "output_type": "stream",
     "text": [
      "alpha=3.981e-01, time=0.37s, n_iter=2\n"
     ]
    },
    {
     "name": "stderr",
     "output_type": "stream",
     "text": [
      "Iteration 1:  62%|██████████▋      | 1.25/2.0 [0.16s/it, gradient norm=0.0005687609335077592]\n"
     ]
    },
    {
     "name": "stdout",
     "output_type": "stream",
     "text": [
      "alpha=3.342e-01, time=0.41s, n_iter=2\n"
     ]
    },
    {
     "name": "stderr",
     "output_type": "stream",
     "text": [
      "Iteration 1:  72%|████████████▏    | 1.43/2.0 [0.17s/it, gradient norm=0.0003693668284872278]\n"
     ]
    },
    {
     "name": "stdout",
     "output_type": "stream",
     "text": [
      "alpha=2.806e-01, time=0.39s, n_iter=2\n"
     ]
    },
    {
     "name": "stderr",
     "output_type": "stream",
     "text": [
      "Iteration 1:  80%|████████████▉   | 1.61/2.0 [0.14s/it, gradient norm=0.00024641464991329004]\n"
     ]
    },
    {
     "name": "stdout",
     "output_type": "stream",
     "text": [
      "alpha=2.356e-01, time=0.37s, n_iter=2\n"
     ]
    },
    {
     "name": "stderr",
     "output_type": "stream",
     "text": [
      "Iteration 1:  88%|██████████████▏ | 1.77/2.0 [0.15s/it, gradient norm=0.00016940762844153788]\n"
     ]
    },
    {
     "name": "stdout",
     "output_type": "stream",
     "text": [
      "alpha=1.978e-01, time=0.38s, n_iter=2\n"
     ]
    },
    {
     "name": "stderr",
     "output_type": "stream",
     "text": [
      "Iteration 1:  96%|███████████████▎| 1.92/2.0 [0.18s/it, gradient norm=0.00011906814437565106]\n"
     ]
    },
    {
     "name": "stdout",
     "output_type": "stream",
     "text": [
      "alpha=1.660e-01, time=0.41s, n_iter=2\n"
     ]
    },
    {
     "name": "stderr",
     "output_type": "stream",
     "text": [
      "Iteration 0:  36%|██████           | 0.72/2.0 [0.07s/it, gradient norm=0.0018949808630138176]\n"
     ]
    },
    {
     "name": "stdout",
     "output_type": "stream",
     "text": [
      "alpha=1.394e-01, time=0.24s, n_iter=1\n"
     ]
    },
    {
     "name": "stderr",
     "output_type": "stream",
     "text": [
      "Iteration 0:  40%|███████▏          | 0.8/2.0 [0.11s/it, gradient norm=0.0015842452725069829]\n"
     ]
    },
    {
     "name": "stdout",
     "output_type": "stream",
     "text": [
      "alpha=1.170e-01, time=0.29s, n_iter=1\n"
     ]
    },
    {
     "name": "stderr",
     "output_type": "stream",
     "text": [
      "Iteration 0:  43%|███████▎         | 0.86/2.0 [0.09s/it, gradient norm=0.0013673260678084946]\n"
     ]
    },
    {
     "name": "stdout",
     "output_type": "stream",
     "text": [
      "alpha=9.826e-02, time=0.24s, n_iter=1\n"
     ]
    },
    {
     "name": "stderr",
     "output_type": "stream",
     "text": [
      "Iteration 0:  47%|███████▉         | 0.94/2.0 [0.10s/it, gradient norm=0.0011438884540928003]\n"
     ]
    },
    {
     "name": "stdout",
     "output_type": "stream",
     "text": [
      "alpha=8.250e-02, time=0.26s, n_iter=1\n"
     ]
    },
    {
     "name": "stderr",
     "output_type": "stream",
     "text": [
      "Iteration 0:   2%|▎                | 0.02/1.0 [0.10s/it, gradient norm=0.0009564756674636195]\n"
     ]
    },
    {
     "name": "stdout",
     "output_type": "stream",
     "text": [
      "alpha=6.926e-02, time=0.23s, n_iter=1\n"
     ]
    },
    {
     "name": "stderr",
     "output_type": "stream",
     "text": [
      "Iteration 0:  29%|████▉            | 0.29/1.0 [0.06s/it, gradient norm=0.0005105634629751585]\n"
     ]
    },
    {
     "name": "stdout",
     "output_type": "stream",
     "text": [
      "alpha=6.926e+04, time=0.21s, n_iter=1\n"
     ]
    },
    {
     "name": "stderr",
     "output_type": "stream",
     "text": [
      "Iteration 0:  47%|███████▉         | 0.94/2.0 [0.10s/it, gradient norm=0.0011546617824174038]\n"
     ]
    },
    {
     "name": "stdout",
     "output_type": "stream",
     "text": [
      "alpha=5.815e+04, time=0.22s, n_iter=1\n"
     ]
    },
    {
     "name": "stderr",
     "output_type": "stream",
     "text": [
      "Iteration 0:   0%|                  | 0.0/1.0 [0.08s/it, gradient norm=0.0009932268224724936]\n"
     ]
    },
    {
     "name": "stdout",
     "output_type": "stream",
     "text": [
      "alpha=4.882e+04, time=0.25s, n_iter=1\n"
     ]
    },
    {
     "name": "stderr",
     "output_type": "stream",
     "text": [
      "Iteration 0:   8%|█▎               | 0.08/1.0 [0.10s/it, gradient norm=0.0008314046867985928]\n"
     ]
    },
    {
     "name": "stdout",
     "output_type": "stream",
     "text": [
      "alpha=4.099e+04, time=0.26s, n_iter=1\n"
     ]
    },
    {
     "name": "stderr",
     "output_type": "stream",
     "text": [
      "Iteration 0:  16%|██▋              | 0.16/1.0 [0.10s/it, gradient norm=0.0006954267862736732]\n"
     ]
    },
    {
     "name": "stdout",
     "output_type": "stream",
     "text": [
      "alpha=3.441e+04, time=0.24s, n_iter=1\n"
     ]
    },
    {
     "name": "stderr",
     "output_type": "stream",
     "text": [
      "Iteration 0:  24%|████             | 0.24/1.0 [0.09s/it, gradient norm=0.0005819390370534988]\n"
     ]
    },
    {
     "name": "stdout",
     "output_type": "stream",
     "text": [
      "alpha=2.889e+04, time=0.25s, n_iter=1\n"
     ]
    },
    {
     "name": "stderr",
     "output_type": "stream",
     "text": [
      "Iteration 0:  31%|█████▎           | 0.31/1.0 [0.08s/it, gradient norm=0.0004871842359012472]\n"
     ]
    },
    {
     "name": "stdout",
     "output_type": "stream",
     "text": [
      "alpha=2.425e+04, time=0.24s, n_iter=1\n"
     ]
    },
    {
     "name": "stderr",
     "output_type": "stream",
     "text": [
      "Iteration 0:  39%|██████▋          | 0.39/1.0 [0.09s/it, gradient norm=0.0004080179203650291]\n"
     ]
    },
    {
     "name": "stdout",
     "output_type": "stream",
     "text": [
      "alpha=2.036e+04, time=0.22s, n_iter=1\n"
     ]
    },
    {
     "name": "stderr",
     "output_type": "stream",
     "text": [
      "Iteration 0:  47%|███████▌        | 0.47/1.0 [0.11s/it, gradient norm=0.00034183451357314566]\n"
     ]
    },
    {
     "name": "stdout",
     "output_type": "stream",
     "text": [
      "alpha=1.710e+04, time=0.21s, n_iter=1\n"
     ]
    },
    {
     "name": "stderr",
     "output_type": "stream",
     "text": [
      "Iteration 0:  54%|████████▋       | 0.54/1.0 [0.11s/it, gradient norm=0.00028647366871903434]\n"
     ]
    },
    {
     "name": "stdout",
     "output_type": "stream",
     "text": [
      "alpha=1.435e+04, time=0.29s, n_iter=1\n"
     ]
    },
    {
     "name": "stderr",
     "output_type": "stream",
     "text": [
      "Iteration 0:  62%|██████████▌      | 0.62/1.0 [0.09s/it, gradient norm=0.0002401422339087325]\n"
     ]
    },
    {
     "name": "stdout",
     "output_type": "stream",
     "text": [
      "alpha=1.205e+04, time=0.24s, n_iter=1\n"
     ]
    },
    {
     "name": "stderr",
     "output_type": "stream",
     "text": [
      "Iteration 0:  70%|███████████▉     | 0.7/1.0 [0.08s/it, gradient norm=0.00020135013815624804]\n"
     ]
    },
    {
     "name": "stdout",
     "output_type": "stream",
     "text": [
      "alpha=1.012e+04, time=0.23s, n_iter=1\n"
     ]
    },
    {
     "name": "stderr",
     "output_type": "stream",
     "text": [
      "Iteration 0:  77%|████████████▎   | 0.77/1.0 [0.08s/it, gradient norm=0.00016885776297104096]\n"
     ]
    },
    {
     "name": "stdout",
     "output_type": "stream",
     "text": [
      "alpha=8.494e+03, time=0.20s, n_iter=1\n"
     ]
    },
    {
     "name": "stderr",
     "output_type": "stream",
     "text": [
      "Iteration 0:  85%|█████████████▌  | 0.85/1.0 [0.12s/it, gradient norm=0.00014180425369965898]\n"
     ]
    },
    {
     "name": "stdout",
     "output_type": "stream",
     "text": [
      "alpha=7.131e+03, time=0.28s, n_iter=1\n"
     ]
    },
    {
     "name": "stderr",
     "output_type": "stream",
     "text": [
      "Iteration 0:  92%|██████████████▋ | 0.92/1.0 [0.08s/it, gradient norm=0.00011897164128292558]\n"
     ]
    },
    {
     "name": "stdout",
     "output_type": "stream",
     "text": [
      "alpha=5.987e+03, time=0.23s, n_iter=1\n"
     ]
    },
    {
     "name": "stderr",
     "output_type": "stream",
     "text": [
      "Iteration 0: |                           | 0/-0.0 [s/it, gradient norm=9.982612852676499e-05]\n"
     ]
    },
    {
     "name": "stdout",
     "output_type": "stream",
     "text": [
      "alpha=5.026e+03, time=0.09s, n_iter=0\n"
     ]
    },
    {
     "name": "stderr",
     "output_type": "stream",
     "text": [
      "Iteration 0:  74%|███████████▊    | 0.74/1.0 [0.11s/it, gradient norm=0.00018321568514231737]\n"
     ]
    },
    {
     "name": "stdout",
     "output_type": "stream",
     "text": [
      "alpha=4.220e+03, time=0.29s, n_iter=1\n"
     ]
    },
    {
     "name": "stderr",
     "output_type": "stream",
     "text": [
      "Iteration 0: |                           | 0/-0.0 [s/it, gradient norm=7.086453106548815e-05]\n"
     ]
    },
    {
     "name": "stdout",
     "output_type": "stream",
     "text": [
      "alpha=3.543e+03, time=0.10s, n_iter=0\n"
     ]
    },
    {
     "name": "stderr",
     "output_type": "stream",
     "text": [
      "Iteration 0:  89%|████████████████▉  | 0.89/1.0 [0.08s/it, gradient norm=0.00012964227743265]\n"
     ]
    },
    {
     "name": "stdout",
     "output_type": "stream",
     "text": [
      "alpha=2.974e+03, time=0.23s, n_iter=1\n"
     ]
    },
    {
     "name": "stderr",
     "output_type": "stream",
     "text": [
      "Iteration 0: |                             | 0/-0.0 [s/it, gradient norm=4.9955905504843e-05]\n"
     ]
    },
    {
     "name": "stdout",
     "output_type": "stream",
     "text": [
      "alpha=2.497e+03, time=0.11s, n_iter=0\n"
     ]
    },
    {
     "name": "stderr",
     "output_type": "stream",
     "text": [
      "Iteration 0: |                           | 0/-0.0 [s/it, gradient norm=9.138583520131624e-05]\n"
     ]
    },
    {
     "name": "stdout",
     "output_type": "stream",
     "text": [
      "alpha=2.097e+03, time=0.11s, n_iter=0\n"
     ]
    },
    {
     "name": "stderr",
     "output_type": "stream",
     "text": [
      "Iteration 0:  90%|███████████████▎ | 0.9/1.0 [0.09s/it, gradient norm=0.00012616865840007734]\n"
     ]
    },
    {
     "name": "stdout",
     "output_type": "stream",
     "text": [
      "alpha=1.760e+03, time=0.26s, n_iter=1\n"
     ]
    },
    {
     "name": "stderr",
     "output_type": "stream",
     "text": [
      "Iteration 0: |                          | 0/-0.0 [s/it, gradient norm=2.9795533262220346e-05]\n"
     ]
    },
    {
     "name": "stdout",
     "output_type": "stream",
     "text": [
      "alpha=1.478e+03, time=0.08s, n_iter=0\n"
     ]
    },
    {
     "name": "stderr",
     "output_type": "stream",
     "text": [
      "Iteration 0: |                          | 0/-0.0 [s/it, gradient norm=5.4312463713548806e-05]\n"
     ]
    },
    {
     "name": "stdout",
     "output_type": "stream",
     "text": [
      "alpha=1.241e+03, time=0.09s, n_iter=0\n"
     ]
    },
    {
     "name": "stderr",
     "output_type": "stream",
     "text": [
      "Iteration 0: |                           | 0/-0.0 [s/it, gradient norm=7.489584542605683e-05]\n"
     ]
    },
    {
     "name": "stdout",
     "output_type": "stream",
     "text": [
      "alpha=1.042e+03, time=0.11s, n_iter=0\n"
     ]
    },
    {
     "name": "stderr",
     "output_type": "stream",
     "text": [
      "Iteration 0: |                           | 0/-0.0 [s/it, gradient norm=9.217678536933001e-05]\n"
     ]
    },
    {
     "name": "stdout",
     "output_type": "stream",
     "text": [
      "alpha=8.745e+02, time=0.08s, n_iter=0\n"
     ]
    },
    {
     "name": "stderr",
     "output_type": "stream",
     "text": [
      "Iteration 0:  97%|████████████████▍| 0.97/1.0 [0.11s/it, gradient norm=0.0001066851343614463]\n"
     ]
    },
    {
     "name": "stdout",
     "output_type": "stream",
     "text": [
      "alpha=7.342e+02, time=0.26s, n_iter=1\n"
     ]
    },
    {
     "name": "stderr",
     "output_type": "stream",
     "text": [
      "Iteration 0: |                          | 0/-0.0 [s/it, gradient norm=1.2639600249251737e-05]\n"
     ]
    },
    {
     "name": "stdout",
     "output_type": "stream",
     "text": [
      "alpha=6.164e+02, time=0.10s, n_iter=0\n"
     ]
    },
    {
     "name": "stderr",
     "output_type": "stream",
     "text": [
      "Iteration 0: |                          | 0/-0.0 [s/it, gradient norm=2.2865917451013142e-05]\n"
     ]
    },
    {
     "name": "stdout",
     "output_type": "stream",
     "text": [
      "alpha=5.175e+02, time=0.12s, n_iter=0\n"
     ]
    },
    {
     "name": "stderr",
     "output_type": "stream",
     "text": [
      "Iteration 0: |                           | 0/-0.0 [s/it, gradient norm=3.145150245705278e-05]\n"
     ]
    },
    {
     "name": "stdout",
     "output_type": "stream",
     "text": [
      "alpha=4.345e+02, time=0.10s, n_iter=0\n"
     ]
    },
    {
     "name": "stderr",
     "output_type": "stream",
     "text": [
      "Iteration 0: |                            | 0/-0.0 [s/it, gradient norm=3.86595978487385e-05]\n"
     ]
    },
    {
     "name": "stdout",
     "output_type": "stream",
     "text": [
      "alpha=3.648e+02, time=0.12s, n_iter=0\n"
     ]
    },
    {
     "name": "stderr",
     "output_type": "stream",
     "text": [
      "Iteration 0: |                          | 0/-0.0 [s/it, gradient norm=4.4711211004870666e-05]\n"
     ]
    },
    {
     "name": "stdout",
     "output_type": "stream",
     "text": [
      "alpha=3.062e+02, time=0.12s, n_iter=0\n"
     ]
    },
    {
     "name": "stderr",
     "output_type": "stream",
     "text": [
      "Iteration 0: |                          | 0/-0.0 [s/it, gradient norm=4.9791890407881105e-05]\n"
     ]
    },
    {
     "name": "stdout",
     "output_type": "stream",
     "text": [
      "alpha=2.571e+02, time=0.13s, n_iter=0\n"
     ]
    },
    {
     "name": "stderr",
     "output_type": "stream",
     "text": [
      "Iteration 0: |                            | 0/-0.0 [s/it, gradient norm=5.40574147449775e-05]\n"
     ]
    },
    {
     "name": "stdout",
     "output_type": "stream",
     "text": [
      "alpha=2.159e+02, time=0.10s, n_iter=0\n"
     ]
    },
    {
     "name": "stderr",
     "output_type": "stream",
     "text": [
      "Iteration 0: |                           | 0/-0.0 [s/it, gradient norm=5.763856923773703e-05]\n"
     ]
    },
    {
     "name": "stdout",
     "output_type": "stream",
     "text": [
      "alpha=1.812e+02, time=0.10s, n_iter=0\n"
     ]
    },
    {
     "name": "stderr",
     "output_type": "stream",
     "text": [
      "Iteration 0: |                           | 0/-0.0 [s/it, gradient norm=6.064515564716819e-05]\n"
     ]
    },
    {
     "name": "stdout",
     "output_type": "stream",
     "text": [
      "alpha=1.521e+02, time=0.15s, n_iter=0\n"
     ]
    },
    {
     "name": "stderr",
     "output_type": "stream",
     "text": [
      "Iteration 0: |                           | 0/-0.0 [s/it, gradient norm=6.316935890498698e-05]\n"
     ]
    },
    {
     "name": "stdout",
     "output_type": "stream",
     "text": [
      "alpha=1.277e+02, time=0.11s, n_iter=0\n"
     ]
    },
    {
     "name": "stderr",
     "output_type": "stream",
     "text": [
      "Iteration 0:  83%|█████████████▎  | 0.83/1.0 [0.08s/it, gradient norm=0.00014875277296392145]\n"
     ]
    },
    {
     "name": "stdout",
     "output_type": "stream",
     "text": [
      "alpha=1.072e+02, time=0.25s, n_iter=1\n"
     ]
    },
    {
     "name": "stderr",
     "output_type": "stream",
     "text": [
      "Iteration 0:  80%|██████████████▍   | 0.8/1.0 [0.11s/it, gradient norm=0.0001586846599134648]\n"
     ]
    },
    {
     "name": "stdout",
     "output_type": "stream",
     "text": [
      "alpha=9.004e+01, time=0.27s, n_iter=1\n"
     ]
    },
    {
     "name": "stderr",
     "output_type": "stream",
     "text": [
      "Iteration 0:  85%|██████████████▍  | 0.85/1.0 [0.10s/it, gradient norm=0.0001407137363769571]\n"
     ]
    },
    {
     "name": "stdout",
     "output_type": "stream",
     "text": [
      "alpha=7.559e+01, time=0.26s, n_iter=1\n"
     ]
    },
    {
     "name": "stderr",
     "output_type": "stream",
     "text": [
      "Iteration 0:  89%|██████████████▏ | 0.89/1.0 [0.08s/it, gradient norm=0.00012758916399813585]\n"
     ]
    },
    {
     "name": "stdout",
     "output_type": "stream",
     "text": [
      "alpha=6.346e+01, time=0.24s, n_iter=1\n"
     ]
    },
    {
     "name": "stderr",
     "output_type": "stream",
     "text": [
      "Iteration 0:  95%|███████████████▏| 0.95/1.0 [0.09s/it, gradient norm=0.00011117045181345475]\n"
     ]
    },
    {
     "name": "stdout",
     "output_type": "stream",
     "text": [
      "alpha=5.328e+01, time=0.25s, n_iter=1\n"
     ]
    },
    {
     "name": "stderr",
     "output_type": "stream",
     "text": [
      "Iteration 0: |                            | 0/-0.0 [s/it, gradient norm=9.45334851627299e-05]\n"
     ]
    },
    {
     "name": "stdout",
     "output_type": "stream",
     "text": [
      "alpha=4.473e+01, time=0.09s, n_iter=0\n"
     ]
    },
    {
     "name": "stderr",
     "output_type": "stream",
     "text": [
      "Iteration 0:  82%|█████████████▉   | 0.82/1.0 [0.11s/it, gradient norm=0.0001528335630221548]\n"
     ]
    },
    {
     "name": "stdout",
     "output_type": "stream",
     "text": [
      "alpha=3.755e+01, time=0.25s, n_iter=1\n"
     ]
    },
    {
     "name": "stderr",
     "output_type": "stream",
     "text": [
      "Iteration 0: |                           | 0/-0.0 [s/it, gradient norm=8.661171032527218e-05]\n"
     ]
    },
    {
     "name": "stdout",
     "output_type": "stream",
     "text": [
      "alpha=3.153e+01, time=0.12s, n_iter=0\n"
     ]
    },
    {
     "name": "stderr",
     "output_type": "stream",
     "text": [
      "Iteration 0:  89%|██████████████▏ | 0.89/1.0 [0.14s/it, gradient norm=0.00012770495183757888]\n"
     ]
    },
    {
     "name": "stdout",
     "output_type": "stream",
     "text": [
      "alpha=2.647e+01, time=0.26s, n_iter=1\n"
     ]
    },
    {
     "name": "stderr",
     "output_type": "stream",
     "text": [
      "Iteration 0: |                           | 0/-0.0 [s/it, gradient norm=6.124647830729322e-05]\n"
     ]
    },
    {
     "name": "stdout",
     "output_type": "stream",
     "text": [
      "alpha=2.222e+01, time=0.12s, n_iter=0\n"
     ]
    },
    {
     "name": "stderr",
     "output_type": "stream",
     "text": [
      "Iteration 0: |                           | 0/-0.0 [s/it, gradient norm=9.021135382702248e-05]\n"
     ]
    },
    {
     "name": "stdout",
     "output_type": "stream",
     "text": [
      "alpha=1.866e+01, time=0.12s, n_iter=0\n"
     ]
    },
    {
     "name": "stderr",
     "output_type": "stream",
     "text": [
      "Iteration 0:  94%|███████████████ | 0.94/1.0 [0.08s/it, gradient norm=0.00011452904279144836]\n"
     ]
    },
    {
     "name": "stdout",
     "output_type": "stream",
     "text": [
      "alpha=1.566e+01, time=0.25s, n_iter=1\n"
     ]
    },
    {
     "name": "stderr",
     "output_type": "stream",
     "text": [
      "Iteration 0: |                           | 0/-0.0 [s/it, gradient norm=4.727907008930922e-05]\n"
     ]
    },
    {
     "name": "stdout",
     "output_type": "stream",
     "text": [
      "alpha=1.315e+01, time=0.09s, n_iter=0\n"
     ]
    },
    {
     "name": "stderr",
     "output_type": "stream",
     "text": [
      "Iteration 0: |                            | 0/-0.0 [s/it, gradient norm=6.44195731954257e-05]\n"
     ]
    },
    {
     "name": "stdout",
     "output_type": "stream",
     "text": [
      "alpha=1.104e+01, time=0.09s, n_iter=0\n"
     ]
    },
    {
     "name": "stderr",
     "output_type": "stream",
     "text": [
      "Iteration 0: |                           | 0/-0.0 [s/it, gradient norm=7.881001733679285e-05]\n"
     ]
    },
    {
     "name": "stdout",
     "output_type": "stream",
     "text": [
      "alpha=9.270e+00, time=0.14s, n_iter=0\n"
     ]
    },
    {
     "name": "stderr",
     "output_type": "stream",
     "text": [
      "Iteration 0: |                           | 0/-0.0 [s/it, gradient norm=9.089162785334244e-05]\n"
     ]
    },
    {
     "name": "stdout",
     "output_type": "stream",
     "text": [
      "alpha=7.783e+00, time=0.07s, n_iter=0\n"
     ]
    },
    {
     "name": "stderr",
     "output_type": "stream",
     "text": [
      "Iteration 0: 100%|█████████████████| 1.0/1.0 [0.13s/it, gradient norm=0.00010103483894812762]\n"
     ]
    },
    {
     "name": "stdout",
     "output_type": "stream",
     "text": [
      "alpha=6.534e+00, time=0.30s, n_iter=1\n"
     ]
    },
    {
     "name": "stderr",
     "output_type": "stream",
     "text": [
      "Iteration 0: |                          | 0/-0.0 [s/it, gradient norm=3.2649488188890326e-05]\n"
     ]
    },
    {
     "name": "stdout",
     "output_type": "stream",
     "text": [
      "alpha=5.486e+00, time=0.09s, n_iter=0\n"
     ]
    },
    {
     "name": "stderr",
     "output_type": "stream",
     "text": [
      "Iteration 0: |                            | 0/-0.0 [s/it, gradient norm=3.97990056257857e-05]\n"
     ]
    },
    {
     "name": "stdout",
     "output_type": "stream",
     "text": [
      "alpha=4.605e+00, time=0.10s, n_iter=0\n"
     ]
    },
    {
     "name": "stderr",
     "output_type": "stream",
     "text": [
      "Iteration 0: |                          | 0/-0.0 [s/it, gradient norm=4.5801439199433804e-05]\n"
     ]
    },
    {
     "name": "stdout",
     "output_type": "stream",
     "text": [
      "alpha=3.867e+00, time=0.08s, n_iter=0\n"
     ]
    },
    {
     "name": "stderr",
     "output_type": "stream",
     "text": [
      "Iteration 0: |                            | 0/-0.0 [s/it, gradient norm=5.08408294973199e-05]\n"
     ]
    },
    {
     "name": "stdout",
     "output_type": "stream",
     "text": [
      "alpha=3.246e+00, time=0.09s, n_iter=0\n"
     ]
    },
    {
     "name": "stderr",
     "output_type": "stream",
     "text": [
      "Iteration 0: |                          | 0/-0.0 [s/it, gradient norm=5.5071689241594234e-05]\n"
     ]
    },
    {
     "name": "stdout",
     "output_type": "stream",
     "text": [
      "alpha=2.725e+00, time=0.09s, n_iter=0\n"
     ]
    },
    {
     "name": "stderr",
     "output_type": "stream",
     "text": [
      "Iteration 0: |                           | 0/-0.0 [s/it, gradient norm=5.862374080291702e-05]\n"
     ]
    },
    {
     "name": "stdout",
     "output_type": "stream",
     "text": [
      "alpha=2.288e+00, time=0.11s, n_iter=0\n"
     ]
    },
    {
     "name": "stderr",
     "output_type": "stream",
     "text": [
      "Iteration 0: |                           | 0/-0.0 [s/it, gradient norm=6.160589361745316e-05]\n"
     ]
    },
    {
     "name": "stdout",
     "output_type": "stream",
     "text": [
      "alpha=1.921e+00, time=0.10s, n_iter=0\n"
     ]
    },
    {
     "name": "stderr",
     "output_type": "stream",
     "text": [
      "Iteration 0: |                           | 0/-0.0 [s/it, gradient norm=6.410958345858096e-05]\n"
     ]
    },
    {
     "name": "stdout",
     "output_type": "stream",
     "text": [
      "alpha=1.613e+00, time=0.11s, n_iter=0\n"
     ]
    },
    {
     "name": "stderr",
     "output_type": "stream",
     "text": [
      "Iteration 0: |                           | 0/-0.0 [s/it, gradient norm=6.621157594870811e-05]\n"
     ]
    },
    {
     "name": "stdout",
     "output_type": "stream",
     "text": [
      "alpha=1.354e+00, time=0.14s, n_iter=0\n"
     ]
    },
    {
     "name": "stderr",
     "output_type": "stream",
     "text": [
      "Iteration 0: |                           | 0/-0.0 [s/it, gradient norm=6.797632026965829e-05]\n"
     ]
    },
    {
     "name": "stdout",
     "output_type": "stream",
     "text": [
      "alpha=1.137e+00, time=0.12s, n_iter=0\n"
     ]
    },
    {
     "name": "stderr",
     "output_type": "stream",
     "text": [
      "Iteration 0: |                           | 0/-0.0 [s/it, gradient norm=6.945792523873099e-05]\n"
     ]
    },
    {
     "name": "stdout",
     "output_type": "stream",
     "text": [
      "alpha=9.544e-01, time=0.08s, n_iter=0\n"
     ]
    },
    {
     "name": "stderr",
     "output_type": "stream",
     "text": [
      "Iteration 0: |                           | 0/-0.0 [s/it, gradient norm=7.070181833889353e-05]\n"
     ]
    },
    {
     "name": "stdout",
     "output_type": "stream",
     "text": [
      "alpha=8.013e-01, time=0.11s, n_iter=0\n"
     ]
    },
    {
     "name": "stderr",
     "output_type": "stream",
     "text": [
      "Iteration 0: |                           | 0/-0.0 [s/it, gradient norm=7.174613857062195e-05]\n"
     ]
    },
    {
     "name": "stdout",
     "output_type": "stream",
     "text": [
      "alpha=6.727e-01, time=0.10s, n_iter=0\n"
     ]
    },
    {
     "name": "stderr",
     "output_type": "stream",
     "text": [
      "Iteration 0: |                           | 0/-0.0 [s/it, gradient norm=9.785840771324118e-05]\n"
     ]
    },
    {
     "name": "stdout",
     "output_type": "stream",
     "text": [
      "alpha=5.648e-01, time=0.09s, n_iter=0\n"
     ]
    },
    {
     "name": "stderr",
     "output_type": "stream",
     "text": [
      "Iteration 1:  87%|█████████████▉  | 1.74/2.0 [0.17s/it, gradient norm=0.00018145234444545452]\n"
     ]
    },
    {
     "name": "stdout",
     "output_type": "stream",
     "text": [
      "alpha=4.742e-01, time=0.47s, n_iter=2\n"
     ]
    },
    {
     "name": "stderr",
     "output_type": "stream",
     "text": [
      "Iteration 1:  52%|████████▉        | 1.05/2.0 [0.14s/it, gradient norm=0.0009015470309166545]\n"
     ]
    },
    {
     "name": "stdout",
     "output_type": "stream",
     "text": [
      "alpha=3.981e-01, time=0.37s, n_iter=2\n"
     ]
    },
    {
     "name": "stderr",
     "output_type": "stream",
     "text": [
      "Iteration 1:  62%|██████████▋      | 1.25/2.0 [0.17s/it, gradient norm=0.0005632491981019476]\n"
     ]
    },
    {
     "name": "stdout",
     "output_type": "stream",
     "text": [
      "alpha=3.342e-01, time=0.41s, n_iter=2\n"
     ]
    },
    {
     "name": "stderr",
     "output_type": "stream",
     "text": [
      "Iteration 1:  72%|███████████▌    | 1.44/2.0 [0.18s/it, gradient norm=0.00036578989188397427]\n"
     ]
    },
    {
     "name": "stdout",
     "output_type": "stream",
     "text": [
      "alpha=2.806e-01, time=0.35s, n_iter=2\n"
     ]
    },
    {
     "name": "stderr",
     "output_type": "stream",
     "text": [
      "Iteration 1:  80%|██████████████▍   | 1.61/2.0 [0.14s/it, gradient norm=0.000245772015128738]\n"
     ]
    },
    {
     "name": "stdout",
     "output_type": "stream",
     "text": [
      "alpha=2.356e-01, time=0.38s, n_iter=2\n"
     ]
    },
    {
     "name": "stderr",
     "output_type": "stream",
     "text": [
      "Iteration 1:  88%|██████████████▏ | 1.77/2.0 [0.14s/it, gradient norm=0.00016865400829679106]\n"
     ]
    },
    {
     "name": "stdout",
     "output_type": "stream",
     "text": [
      "alpha=1.978e-01, time=0.33s, n_iter=2\n"
     ]
    },
    {
     "name": "stderr",
     "output_type": "stream",
     "text": [
      "Iteration 1:  96%|███████████████▍| 1.93/2.0 [0.15s/it, gradient norm=0.00011848276287631451]\n"
     ]
    },
    {
     "name": "stdout",
     "output_type": "stream",
     "text": [
      "alpha=1.660e-01, time=0.37s, n_iter=2\n"
     ]
    },
    {
     "name": "stderr",
     "output_type": "stream",
     "text": [
      "Iteration 0:  36%|██████▍           | 0.72/2.0 [0.06s/it, gradient norm=0.001926523286069646]\n"
     ]
    },
    {
     "name": "stdout",
     "output_type": "stream",
     "text": [
      "alpha=1.394e-01, time=0.24s, n_iter=1\n"
     ]
    },
    {
     "name": "stderr",
     "output_type": "stream",
     "text": [
      "Iteration 0:  40%|██████▋          | 0.79/2.0 [0.10s/it, gradient norm=0.0016081939579328857]\n"
     ]
    },
    {
     "name": "stdout",
     "output_type": "stream",
     "text": [
      "alpha=1.170e-01, time=0.26s, n_iter=1\n"
     ]
    },
    {
     "name": "stderr",
     "output_type": "stream",
     "text": [
      "Iteration 0:  43%|███████▎         | 0.86/2.0 [0.07s/it, gradient norm=0.0013847858937466662]\n"
     ]
    },
    {
     "name": "stdout",
     "output_type": "stream",
     "text": [
      "alpha=9.826e-02, time=0.23s, n_iter=1\n"
     ]
    },
    {
     "name": "stderr",
     "output_type": "stream",
     "text": [
      "Iteration 0:  47%|███████▉         | 0.94/2.0 [0.09s/it, gradient norm=0.0011573389724536184]\n"
     ]
    },
    {
     "name": "stdout",
     "output_type": "stream",
     "text": [
      "alpha=8.250e-02, time=0.22s, n_iter=1\n"
     ]
    },
    {
     "name": "stderr",
     "output_type": "stream",
     "text": [
      "Iteration 0:   1%|▏                | 0.01/1.0 [0.09s/it, gradient norm=0.0009683110660324242]\n"
     ]
    },
    {
     "name": "stdout",
     "output_type": "stream",
     "text": [
      "alpha=6.926e-02, time=0.24s, n_iter=1\n"
     ]
    },
    {
     "name": "stderr",
     "output_type": "stream",
     "text": [
      "Iteration 3:  71%|████████████     | 2.13/3.0 [0.11s/it, gradient norm=0.0007498471399463065]"
     ]
    },
    {
     "name": "stdout",
     "output_type": "stream",
     "text": [
      "Claim Frequency LASSO(+DrivAge poly), Test (Actual/Pred): 7.38% / 7.36%\n",
      "Poisson Deviance LASSO(+DrivAge poly), Test: 29.97%\n",
      "alpha* = 0.06926091969209655 | non-zero (ohne Intercept): 4\n"
     ]
    },
    {
     "name": "stderr",
     "output_type": "stream",
     "text": [
      "\n"
     ]
    }
   ],
   "source": [
    "from glum import GeneralizedLinearRegressorCV\n",
    "from metrics import pdw, cf2\n",
    "\n",
    "lasso_cv = GeneralizedLinearRegressorCV(\n",
    "    family=\"poisson\", l1_ratio=1.0, cv=5, n_alphas=80, random_state=42, verbose=1\n",
    ").fit(X_learn, y_learn, sample_weight=w_learn)\n",
    "\n",
    "rate_test = lasso_cv.predict(X_test)      # erwartete Rate\n",
    "pred_cnt  = rate_test * w_test            # erwartete Counts\n",
    "\n",
    "print(cf2(\"Claim Frequency LASSO(+DrivAge poly), Test (Actual/Pred)\",\n",
    "          y_test, w_test, pred_cnt, w_test))\n",
    "print(f\"Poisson Deviance LASSO(+DrivAge poly), Test: {pdw(pred_cnt, y_test, w_test):.2f}%\")\n",
    "\n",
    "nnz = int(np.sum(np.abs(np.asarray(lasso_cv.coef_, float)) > 0))\n",
    "print(\"alpha* =\", lasso_cv.alpha_, \"| non-zero (ohne Intercept):\", nnz)\n"
   ]
  },
  {
   "cell_type": "code",
   "execution_count": 18,
   "id": "e55de446-40d5-4d31-8d27-1cd3bbf9c27b",
   "metadata": {},
   "outputs": [],
   "source": [
    "learn = df_glm[df_glm[\"fold\"] != 5].copy()\n",
    "test  = df_glm[df_glm[\"fold\"] == 5].copy()\n",
    "\n",
    "# 2) Kategorien auf BASIS df_glm (nicht df!) \n",
    "cat_cols = [\"VehPowerGLM\",\"VehAgeGLM\",\"DrivAgeGLM\",\"VehBrand\",\"VehGas\",\"Region\"]\n",
    "missing = [c for c in cat_cols + [\"AreaGLM\",\"BonusMalusGLM\",\"DensityGLM\",\"VehAge\",\"DrivAge\"] if c not in df_glm.columns]\n",
    "assert not missing, f\"Fehlende Spalten in df_glm: {missing}\"\n",
    "\n",
    "for c in cat_cols:\n",
    "    cats = sorted(df_glm[c].astype(\"category\").cat.categories)\n",
    "    learn[c] = learn[c].astype(pd.CategoricalDtype(categories=cats))\n",
    "    test[c]  = test[c].astype(pd.CategoricalDtype(categories=cats))\n",
    "\n",
    "# 3) Designmatrix-Funktion auf df_glm-Spalten\n",
    "def make_X(part: pd.DataFrame) -> np.ndarray:\n",
    "    return np.column_stack([\n",
    "        part[\"VehAge\"].astype(float).to_numpy(),           # 0: s(VehAge)\n",
    "        part[\"DrivAge\"].astype(float).to_numpy(),          # 1: s(DrivAge)\n",
    "        part[\"BonusMalusGLM\"].astype(float).to_numpy(),    # 2: s(BonusMalusGLM)\n",
    "        part[\"VehPowerGLM\"].cat.codes.to_numpy(),          # 3: f(VehPowerGLM)\n",
    "        part[\"VehGas\"].cat.codes.to_numpy(),               # 4: f(VehGas)\n",
    "        part[\"VehBrand\"].cat.codes.to_numpy(),             # 5: f(VehBrand)\n",
    "        part[\"Region\"].cat.codes.to_numpy(),               # 6: f(Region)\n",
    "        part[\"AreaGLM\"].astype(float).to_numpy(),          # 7: l(AreaGLM)\n",
    "        part[\"DensityGLM\"].astype(float).to_numpy(),       # 8: l(DensityGLM)\n",
    "    ])\n",
    "\n",
    "X_learn = make_X(learn)\n",
    "X_test  = make_X(test)\n",
    "\n",
    "# 4) Ziel & Gewichte (Offset-äquivalent)\n",
    "y_learn = (learn[\"ClaimNb\"] / learn[\"Exposure\"]).to_numpy()\n",
    "w_learn = learn[\"Exposure\"].to_numpy()\n",
    "y_test_counts = test[\"ClaimNb\"].to_numpy()\n",
    "w_test = test[\"Exposure\"].to_numpy()"
   ]
  },
  {
   "cell_type": "code",
   "execution_count": 19,
   "id": "860074c7-3172-47a6-9abc-2c964affe743",
   "metadata": {},
   "outputs": [
    {
     "name": "stderr",
     "output_type": "stream",
     "text": [
      "/home/steve/code/freMTPL2-pricing/.venv/lib/python3.12/site-packages/pygam/utils.py:77: UserWarning: Could not import Scikit-Sparse or Suite-Sparse.\n",
      "This will slow down optimization for models with monotonicity/convexity penalties and many splines.\n",
      "See installation instructions for installing Scikit-Sparse and Suite-Sparse via Conda.\n",
      "  warnings.warn(msg)\n"
     ]
    }
   ],
   "source": [
    "from pygam import PoissonGAM, s, f, l\n",
    "\n",
    "terms = (\n",
    "    s(0) + s(1) + s(2) +      # VehAge, DrivAge, BonusMalusGLM\n",
    "    f(3) + f(4) + f(5) + f(6) # VehPowerGLM, VehGas, VehBrand, Region\n",
    "    + l(7) + l(8)             # AreaGLM, DensityGLM\n",
    ")\n",
    "\n",
    "gam = PoissonGAM(terms, verbose=True)\n",
    "# wir fitten auf die RATE und geben Exposure als weights mit \n",
    "gam.fit(X_learn, y_learn, weights=w_learn)\n",
    "\n",
    "# Vorhersage der RATE auf Test, dann zurück zu Counts\n",
    "rate_test = gam.predict(X_test)        # E[Rate]\n",
    "pred_counts = rate_test * w_test       # E[ClaimNb]\n"
   ]
  },
  {
   "cell_type": "code",
   "execution_count": 20,
   "id": "3e238436-a070-4a48-85cd-01e6818b7ceb",
   "metadata": {},
   "outputs": [
    {
     "name": "stdout",
     "output_type": "stream",
     "text": [
      "Claim Frequency GAM, Test (Actual/Predicted): 7.38% / 7.36%\n",
      "Poisson Deviance GAM, Test: 29.16%\n"
     ]
    },
    {
     "name": "stderr",
     "output_type": "stream",
     "text": [
      "/tmp/ipykernel_12413/3271952469.py:11: FutureWarning: The default of observed=False is deprecated and will be changed to True in a future version of pandas. Pass observed=False to retain current behavior or observed=True to adopt the future default and silence this warning.\n",
      "  .groupby(\"dec\")\n"
     ]
    },
    {
     "data": {
      "image/png": "[encoded data removed]",
      "text/plain": [
       "<Figure size 640x480 with 1 Axes>"
      ]
     },
     "metadata": {},
     "output_type": "display_data"
    }
   ],
   "source": [
    "import numpy as np, pandas as pd, matplotlib.pyplot as plt\n",
    "\n",
    "print(cf2(\"Claim Frequency GAM, Test (Actual/Predicted)\",\n",
    "          y_test_counts, w_test, pred_counts, w_test))\n",
    "print(f\"Poisson Deviance GAM, Test: {pdw(pred_counts, y_test_counts, w_test):.2f}%\")\n",
    "\n",
    "# Reliability / Dezile\n",
    "pred_rate = pred_counts / w_test\n",
    "dec = pd.qcut(pred_rate, q=10, duplicates=\"drop\")\n",
    "cal = (pd.DataFrame({\"dec\":dec, \"expo\":w_test, \"claims\":y_test_counts, \"pred\":pred_counts})\n",
    "       .groupby(\"dec\")\n",
    "       .agg(expo=(\"expo\",\"sum\"), claims=(\"claims\",\"sum\"), pred=(\"pred\",\"sum\"))\n",
    "       .assign(obs_rate=lambda d: d[\"claims\"]/d[\"expo\"],\n",
    "               pred_rate=lambda d: d[\"pred\"]/d[\"expo\"])\n",
    "       .reset_index())\n",
    "\n",
    "plt.figure()\n",
    "plt.plot(range(1, len(cal)+1), cal[\"obs_rate\"], marker=\"o\", label=\"Observed\")\n",
    "plt.plot(range(1, len(cal)+1), cal[\"pred_rate\"], marker=\"s\", label=\"Predicted\")\n",
    "plt.xlabel(\"Decile of predicted rate (low → high)\")\n",
    "plt.ylabel(\"Claim rate\")\n",
    "plt.title(\"Calibration — Poisson GAM (Test)\")\n",
    "plt.legend(); plt.tight_layout(); plt.show()"
   ]
  },
  {
   "cell_type": "markdown",
   "id": "1bac6ee8-6cb4-4b62-9a46-b0484b376b4e",
   "metadata": {},
   "source": [
    "## GAM – Kurzfazit & Vergleich zu GLM1/GLM2\n",
    "\n",
    "**Setup.**  \n",
    "Poisson-GAM für die **Rate** $y=\\frac{\\text{ClaimNb}}{\\text{Exposure}}$ mit **Gewichten** $w=\\text{Exposure}$  \n",
    "(äquivalent zu einem Offset $\\log(\\text{Exposure})$). Terme:\n",
    "- glatt: $s(\\text{VehAge}) + s(\\text{DrivAge}) + s(\\text{BonusMalusGLM})$\n",
    "- kategorial: $f(\\text{VehPowerGLM}) + f(\\text{VehGas}) + f(\\text{VehBrand}) + f(\\text{Region})$\n",
    "- linear: $l(\\text{AreaGLM}) + l(\\text{DensityGLM})$  \n",
    "Split: 5 Folds (Seed 42), **Fold 5 = Test (~20 %)**.  \n",
    "Vorhersage der Counts über $\\hat\\mu = \\hat r \\cdot \\text{Exposure}$.\n",
    "\n",
    "**Ergebnisse (Test).**\n",
    "- Claim Frequency (Actual/Predicted): **7.38 % / 7.36 %**  → **Niveau-Kalibrierung passt**\n",
    "- Poisson Deviance: **GAM 29.16 %**  *(besser als GLM1 **29.55 %** und GLM2 **29.52 %**; INT **31.26 %**)*\n",
    "\n",
    "**Interpretation.**  \n",
    "Die glatten Terme bilden die erwartete **U-Form** von Fahreralter sowie die **nichtlineare** Wirkung des Bonus-Malus plausibel ab. Das führt zu einer **robust besseren Güte** (PDW↓) bei unveränderter Mittelwertkalibrierung.\n",
    "\n",
    "\n",
    "\n"
   ]
  },
  {
   "cell_type": "code",
   "execution_count": 24,
   "id": "c6d1ef5e-9cd2-4cd3-8b8c-5c46ce6a6ec5",
   "metadata": {},
   "outputs": [],
   "source": [
    "def decile_calibration(y_true, y_pred, w=None, n_deciles=10):\n",
    "    \"\"\"\n",
    "    Gruppiert Beobachtungen in Quantile nach y_pred und berechnet\n",
    "    tatsächliche vs. vorhergesagte Werte je Decile.\n",
    "    Für Kalibrierungsplots (Actual vs. Predicted).\n",
    "    \n",
    "    Parameters\n",
    "    ----------\n",
    "    y_true : array-like\n",
    "        Zielvariable (z. B. ClaimNb, Severity, Pure Premium)\n",
    "    y_pred : array-like\n",
    "        Modellvorhersagen (gleiche Länge)\n",
    "    w : array-like or None\n",
    "        Gewichte (z. B. Exposure)\n",
    "    n_deciles : int\n",
    "        Anzahl der Quantilgruppen\n",
    "\n",
    "    Returns\n",
    "    -------\n",
    "    DataFrame mit Spalten:\n",
    "        dec, actual, pred, count, weight\n",
    "    \"\"\"\n",
    "    df = pd.DataFrame({\"y\": y_true, \"mu\": y_pred})\n",
    "    if w is not None:\n",
    "        df[\"w\"] = w\n",
    "    else:\n",
    "        df[\"w\"] = 1.0\n",
    "\n",
    "    df[\"dec\"] = pd.qcut(df[\"mu\"].rank(method=\"first\"), n_deciles, labels=False) + 1\n",
    "    out = df.groupby(\"dec\").apply(lambda g: pd.Series({\n",
    "        \"actual\": (g[\"w\"] * g[\"y\"]).sum() / g[\"w\"].sum(),\n",
    "        \"pred\":   (g[\"w\"] * g[\"mu\"]).sum() / g[\"w\"].sum(),\n",
    "        \"count\":  len(g),\n",
    "        \"weight\": g[\"w\"].sum()\n",
    "    })).reset_index()\n",
    "\n",
    "    return out\n"
   ]
  },
  {
   "cell_type": "code",
   "execution_count": 25,
   "id": "ab15550b-73e7-4540-a07c-1a0a3acccbca",
   "metadata": {},
   "outputs": [],
   "source": [
    "import os\n",
    "PROJECT_ROOT = os.path.abspath(\"..\")\n",
    "FIG_DIR = os.path.join(PROJECT_ROOT, \"figures\")\n",
    "os.makedirs(FIG_DIR, exist_ok=True)"
   ]
  },
  {
   "cell_type": "code",
   "execution_count": 33,
   "id": "379be1c5-f902-431e-8c26-455ca23c3b39",
   "metadata": {},
   "outputs": [
    {
     "name": "stderr",
     "output_type": "stream",
     "text": [
      "/tmp/ipykernel_12413/3416237369.py:30: FutureWarning: DataFrameGroupBy.apply operated on the grouping columns. This behavior is deprecated, and in a future version of pandas the grouping columns will be excluded from the operation. Either pass `include_groups=False` to exclude the groupings or explicitly select the grouping columns after groupby to silence this warning.\n",
      "  out = df.groupby(\"dec\").apply(lambda g: pd.Series({\n"
     ]
    },
    {
     "data": {
      "image/png": "[encoded data removed]",
      "text/plain": [
       "<Figure size 900x600 with 1 Axes>"
      ]
     },
     "metadata": {},
     "output_type": "display_data"
    }
   ],
   "source": [
    "# 1) GAM-Counts (aus Rate * Exposure)\n",
    "rate_gam_test   = gam.predict_mu(X_test)      # E[Rate] \n",
    "pred_counts_gam = rate_gam_test * w_test      # E[ClaimNb]\n",
    "\n",
    "# 2) Dezil-Kalibrierung \n",
    "cal = decile_calibration(\n",
    "    y_test_counts,        # observed counts\n",
    "    pred_counts_gam,      # gam\n",
    "    w=w_test              # exposure\n",
    ")\n",
    "\n",
    "# 3) Plot wie gehabt\n",
    "plt.figure(figsize=(6,4), dpi=150)\n",
    "plt.plot(cal['dec'], cal['actual'], 'o-', label='Actual')\n",
    "plt.plot(cal['dec'], cal['pred'],   'o-', label='GAM predicted')\n",
    "plt.xlabel('Decile (by predicted claim frequency)')\n",
    "plt.ylabel('Claim frequency')\n",
    "plt.legend(); plt.tight_layout()\n",
    "plt.savefig(os.path.join(FIG_DIR, \"calibration_gam.png\"), dpi=150, bbox_inches=\"tight\")\n",
    "plt.show()\n"
   ]
  },
  {
   "cell_type": "code",
   "execution_count": 32,
   "id": "e9d9d723-53fb-4b63-a45d-f41e5b4c0f06",
   "metadata": {},
   "outputs": [
    {
     "name": "stderr",
     "output_type": "stream",
     "text": [
      "/tmp/ipykernel_12413/3416237369.py:30: FutureWarning: DataFrameGroupBy.apply operated on the grouping columns. This behavior is deprecated, and in a future version of pandas the grouping columns will be excluded from the operation. Either pass `include_groups=False` to exclude the groupings or explicitly select the grouping columns after groupby to silence this warning.\n",
      "  out = df.groupby(\"dec\").apply(lambda g: pd.Series({\n"
     ]
    },
    {
     "data": {
      "image/png": "[encoded data removed]",
      "text/plain": [
       "<Figure size 900x600 with 1 Axes>"
      ]
     },
     "metadata": {},
     "output_type": "display_data"
    }
   ],
   "source": [
    "cal = decile_calibration(\n",
    "    y_test_counts,           # Zielvariable (observed claim counts)\n",
    "    test_pred_glm2,          # beste Schätzung, z.B. GLM2 oder GAM\n",
    "    w=w_test                 # Exposure\n",
    ")\n",
    "\n",
    "plt.figure(figsize=(6,4), dpi=150)\n",
    "plt.plot(cal['dec'], cal['actual'], 'o-', label='Actual')\n",
    "plt.plot(cal['dec'], cal['pred'], 'o-', label='Predicted')\n",
    "plt.xlabel('Decile (by predicted claim frequency)')\n",
    "plt.ylabel('Claim frequency')\n",
    "plt.legend(); plt.tight_layout()\n",
    "plt.savefig(os.path.join(FIG_DIR, \"calibration_glm2.png\"), dpi=150, bbox_inches=\"tight\")\n",
    "plt.show()\n"
   ]
  },
  {
   "cell_type": "code",
   "execution_count": 27,
   "id": "35036948-4021-48be-ac08-aadd6b907399",
   "metadata": {},
   "outputs": [
    {
     "data": {
      "image/png": "[encoded data removed]",
      "text/plain": [
       "<Figure size 900x600 with 1 Axes>"
      ]
     },
     "metadata": {},
     "output_type": "display_data"
    }
   ],
   "source": [
    "XX = gam.generate_X_grid(term=0)\n",
    "pdep, confi = gam.partial_dependence(term=0, width=0.95)\n",
    "\n",
    "#passt die form?\n",
    "if confi.shape[0] == pdep.shape[0] and confi.shape[1] == 2:\n",
    "    lower, upper = confi[:, 0], confi[:, 1]\n",
    "elif confi.shape[0] == 2 and confi.shape[1] == pdep.shape[0]:\n",
    "    lower, upper = confi[0], confi[1]\n",
    "else:\n",
    "    raise ValueError(f\"Unexpected shape for confi: {confi.shape}\")\n",
    "\n",
    "plt.figure(figsize=(6,4), dpi=150)\n",
    "plt.plot(XX[:, 0], pdep, label=\"Effect\")\n",
    "plt.fill_between(XX[:, 0], lower, upper, alpha=0.2)\n",
    "plt.xlabel(\"Driver Age\")\n",
    "plt.ylabel(\"Partial effect on log frequency\")\n",
    "plt.title(\"GAM spline – Driver Age\")\n",
    "plt.legend(); plt.tight_layout()\n",
    "plt.savefig(\"../figures/gam_spline_drivage.png\", dpi=150, bbox_inches=\"tight\")\n",
    "plt.show()\n"
   ]
  },
  {
   "cell_type": "code",
   "execution_count": 28,
   "id": "0e0b65b3-f31d-4aa1-8da1-4b442847d5ff",
   "metadata": {},
   "outputs": [
    {
     "data": {
      "image/png": "[encoded data removed]",
      "text/plain": [
       "<Figure size 900x600 with 1 Axes>"
      ]
     },
     "metadata": {},
     "output_type": "display_data"
    }
   ],
   "source": [
    "XX = gam.generate_X_grid(term=1)  \n",
    "pdep, confi = gam.partial_dependence(term=1, width=0.95)\n",
    "if confi.shape[0] == pdep.shape[0] and confi.shape[1] == 2:\n",
    "    lower, upper = confi[:, 0], confi[:, 1]\n",
    "else:\n",
    "    lower, upper = confi[0], confi[1]\n",
    "\n",
    "plt.figure(figsize=(6,4), dpi=150)\n",
    "plt.plot(XX[:, 1], pdep, label=\"Effect\")\n",
    "plt.fill_between(XX[:, 1], lower, upper, alpha=0.2)\n",
    "plt.xlabel(\"Vehicle Age\")\n",
    "plt.ylabel(\"Partial effect on log frequency\")\n",
    "plt.title(\"GAM spline – Vehicle Age\")\n",
    "plt.legend(); plt.tight_layout()\n",
    "plt.savefig(\"../figures/gam_spline_vehage.png\", dpi=150, bbox_inches=\"tight\")\n",
    "plt.show()\n"
   ]
  },
  {
   "cell_type": "code",
   "execution_count": 29,
   "id": "144bf891-35f4-45a6-912c-0ad89f4a83f1",
   "metadata": {},
   "outputs": [
    {
     "name": "stdout",
     "output_type": "stream",
     "text": [
      "Gini (GLM1): 0.299\n",
      "Gini (GLM2): 0.301\n",
      "Gini (GAM):  0.299\n"
     ]
    },
    {
     "data": {
      "image/png": "[encoded data removed]",
      "text/plain": [
       "<Figure size 750x750 with 1 Axes>"
      ]
     },
     "metadata": {},
     "output_type": "display_data"
    }
   ],
   "source": [
    "def gini(actual, pred, w=None):\n",
    "    \"\"\"Berechnet gewichteten Gini-Koeffizienten.\"\"\"\n",
    "    if w is None:\n",
    "        w = np.ones_like(actual)\n",
    "    order = np.argsort(-pred)  \n",
    "    actual, w = actual[order], w[order]\n",
    "    cum_actual = np.cumsum(actual * w)\n",
    "    cum_weight = np.cumsum(w)\n",
    "    total_actual = cum_actual[-1]\n",
    "    total_weight = cum_weight[-1]\n",
    "    lorenz = cum_actual / total_actual\n",
    "    cum_weight = cum_weight / total_weight\n",
    "    gini_coef = 2 * np.trapezoid(lorenz, cum_weight) - 1\n",
    "    return gini_coef, lorenz, cum_weight\n",
    "\n",
    "\n",
    "# Gini + Lorenz für alle drei Modelle\n",
    "g_glm1, lor_glm1, cw = gini(y_test_counts, test_pred_glm1, w_test)\n",
    "g_glm2, lor_glm2, _  = gini(y_test_counts, test_pred_glm2, w_test)\n",
    "g_gam,  lor_gam,  _  = gini(y_test_counts, test_pred,       w_test)\n",
    "\n",
    "print(f\"Gini (GLM1): {g_glm1:.3f}\")\n",
    "print(f\"Gini (GLM2): {g_glm2:.3f}\")\n",
    "print(f\"Gini (GAM):  {g_gam:.3f}\")\n",
    "\n",
    "# Lorenz-Kurve\n",
    "plt.figure(figsize=(5,5), dpi=150)\n",
    "plt.plot(cw, lor_glm1, label=f\"GLM1 (G={g_glm1:.3f})\")\n",
    "plt.plot(cw, lor_glm2, label=f\"GLM2 (G={g_glm2:.3f})\")\n",
    "plt.plot(cw, lor_gam,  label=f\"GAM (G={g_gam:.3f})\")\n",
    "plt.plot([0,1],[0,1],'k--',alpha=0.4)\n",
    "plt.xlabel(\"Kumulierte Exponierung\")\n",
    "plt.ylabel(\"Kumulierte Schadenfrequenz\")\n",
    "plt.title(\"Lorenz-Kurve\")\n",
    "plt.legend()\n",
    "plt.tight_layout()\n",
    "plt.savefig(\"../figures/lorenz_glm_gam.png\", dpi=150, bbox_inches=\"tight\")\n",
    "plt.show()\n"
   ]
  },
  {
   "cell_type": "code",
   "execution_count": 34,
   "id": "90c6d6ac-2efd-447e-9856-2013da5ca6fc",
   "metadata": {},
   "outputs": [
    {
     "data": {
      "image/png": "[encoded data removed]",
      "text/plain": [
       "<Figure size 1200x540 with 2 Axes>"
      ]
     },
     "metadata": {},
     "output_type": "display_data"
    }
   ],
   "source": [
    "# --- Daten ---\n",
    "models = [\"GLM1\", \"GLM2\", \"GAM\"]\n",
    "pdw_vals = [29.55, 29.52, 29.16]\n",
    "gini_vals = [0.299, 0.301, 0.299]\n",
    "cf_actual, cf_pred = 7.38, 7.36\n",
    "calib_delta = cf_pred - cf_actual\n",
    "\n",
    "# --- Layout & Stil ---\n",
    "plt.style.use(\"seaborn-v0_8-whitegrid\")\n",
    "os.makedirs(\"../figures\", exist_ok=True)\n",
    "fig, axes = plt.subplots(1, 2, figsize=(8, 3.6), dpi=150)\n",
    "ax1, ax2 = axes\n",
    "\n",
    "highlight = \"#1f77b4\"  # Blau\n",
    "accent = \"#ff7f0e\"     # Orange\n",
    "\n",
    "# -----------------------------\n",
    "# Poisson Deviance \n",
    "# -----------------------------\n",
    "y = np.arange(len(models))\n",
    "colors_pdw = [accent if i == np.argmin(pdw_vals) else highlight for i in range(len(models))]\n",
    "bars1 = ax1.barh(y, pdw_vals, color=colors_pdw, alpha=0.9)\n",
    "\n",
    "ax1.set_yticks(y, models)\n",
    "ax1.invert_yaxis()\n",
    "ax1.set_xlabel(\"Poisson-Deviance (Test) ↓\")\n",
    "\n",
    "for i, (bar, v) in enumerate(zip(bars1, pdw_vals)):\n",
    "    text_color = \"black\" if colors_pdw[i] == accent else \"white\"\n",
    "    ax1.text(bar.get_width()/2, bar.get_y() + bar.get_height()/2,\n",
    "             f\"{v:.2f}%\", va=\"center\", ha=\"center\", fontsize=9.5, color=text_color)\n",
    "\n",
    "# -----------------------------\n",
    "# Gini \n",
    "# -----------------------------\n",
    "colors_gini = [accent if i == np.argmax(gini_vals) else highlight for i in range(len(models))]\n",
    "bars2 = ax2.barh(y, gini_vals, color=colors_gini, alpha=0.9)\n",
    "\n",
    "ax2.set_yticks(y, models)\n",
    "ax2.invert_yaxis()\n",
    "ax2.set_xlabel(\"Gini ↑\")\n",
    "\n",
    "for i, (bar, v) in enumerate(zip(bars2, gini_vals)):\n",
    "    text_color = \"black\" if colors_gini[i] == accent else \"white\"\n",
    "    ax2.text(bar.get_width()/2, bar.get_y() + bar.get_height()/2,\n",
    "             f\"{v:.3f}\", va=\"center\", ha=\"center\", fontsize=9.5, color=text_color)\n",
    "\n",
    "# -----------------------------\n",
    "# Titel + Kalibrierung\n",
    "# -----------------------------\n",
    "fig.suptitle(\"Model Performance Summary\", fontsize=12, fontweight=\"semibold\", y=0.98)\n",
    "txt = f\"Calibration (Test CF): Actual {cf_actual:.2f}%  |  Pred {cf_pred:.2f}%  |  Δ = {calib_delta:+.2f} pp\"\n",
    "fig.text(0.5, -0.02, txt, ha=\"center\", fontsize=9.5, color=\"#444\")\n",
    "\n",
    "plt.tight_layout(rect=[0, 0.03, 1, 0.95])\n",
    "plt.savefig(\"../figures/perf_summary.png\", bbox_inches=\"tight\", dpi=150)\n",
    "plt.show()\n"
   ]
  },
  {
   "cell_type": "code",
   "execution_count": 60,
   "id": "12e36484-4286-4f1b-8e3b-8a3e13a78d0c",
   "metadata": {},
   "outputs": [],
   "source": [
    "learn.to_parquet(\"../notebooks/data/learn.parquet\", index=False)\n",
    "test.to_parquet(\"../notebooks/data/test.parquet\", index=False)"
   ]
  },
  {
   "cell_type": "code",
   "execution_count": 61,
   "id": "1d79d6b2-f911-4a81-92e3-c3dd88213a70",
   "metadata": {},
   "outputs": [
    {
     "data": {
      "text/html": [
       "<div>\n",
       "<style scoped>\n",
       "    .dataframe tbody tr th:only-of-type {\n",
       "        vertical-align: middle;\n",
       "    }\n",
       "\n",
       "    .dataframe tbody tr th {\n",
       "        vertical-align: top;\n",
       "    }\n",
       "\n",
       "    .dataframe thead th {\n",
       "        text-align: right;\n",
       "    }\n",
       "</style>\n",
       "<table border=\"1\" class=\"dataframe\">\n",
       "  <thead>\n",
       "    <tr style=\"text-align: right;\">\n",
       "      <th></th>\n",
       "      <th>IDpol</th>\n",
       "      <th>Exposure</th>\n",
       "      <th>VehPower</th>\n",
       "      <th>VehAge</th>\n",
       "      <th>DrivAge</th>\n",
       "      <th>BonusMalus</th>\n",
       "      <th>VehBrand</th>\n",
       "      <th>VehGas</th>\n",
       "      <th>Area</th>\n",
       "      <th>Density</th>\n",
       "      <th>Region</th>\n",
       "      <th>ClaimNb</th>\n",
       "      <th>AreaGLM</th>\n",
       "      <th>VehPowerGLM</th>\n",
       "      <th>VehAgeGLM</th>\n",
       "      <th>DrivAgeGLM</th>\n",
       "      <th>BonusMalusGLM</th>\n",
       "      <th>DensityGLM</th>\n",
       "      <th>fold</th>\n",
       "    </tr>\n",
       "  </thead>\n",
       "  <tbody>\n",
       "    <tr>\n",
       "      <th>0</th>\n",
       "      <td>13</td>\n",
       "      <td>0.52</td>\n",
       "      <td>6</td>\n",
       "      <td>2</td>\n",
       "      <td>38</td>\n",
       "      <td>50</td>\n",
       "      <td>B12</td>\n",
       "      <td>Regular</td>\n",
       "      <td>E</td>\n",
       "      <td>3003</td>\n",
       "      <td>Nord-Pas-de-Calais</td>\n",
       "      <td>0</td>\n",
       "      <td>5</td>\n",
       "      <td>6</td>\n",
       "      <td>2</td>\n",
       "      <td>4</td>\n",
       "      <td>50</td>\n",
       "      <td>8.007367</td>\n",
       "      <td>5</td>\n",
       "    </tr>\n",
       "    <tr>\n",
       "      <th>1</th>\n",
       "      <td>27</td>\n",
       "      <td>0.87</td>\n",
       "      <td>7</td>\n",
       "      <td>0</td>\n",
       "      <td>56</td>\n",
       "      <td>50</td>\n",
       "      <td>B12</td>\n",
       "      <td>Diesel</td>\n",
       "      <td>C</td>\n",
       "      <td>173</td>\n",
       "      <td>Provence-Alpes-Cotes-D'Azur</td>\n",
       "      <td>0</td>\n",
       "      <td>3</td>\n",
       "      <td>7</td>\n",
       "      <td>1</td>\n",
       "      <td>6</td>\n",
       "      <td>50</td>\n",
       "      <td>5.153292</td>\n",
       "      <td>5</td>\n",
       "    </tr>\n",
       "    <tr>\n",
       "      <th>2</th>\n",
       "      <td>44</td>\n",
       "      <td>0.74</td>\n",
       "      <td>6</td>\n",
       "      <td>2</td>\n",
       "      <td>55</td>\n",
       "      <td>50</td>\n",
       "      <td>B12</td>\n",
       "      <td>Regular</td>\n",
       "      <td>A</td>\n",
       "      <td>37</td>\n",
       "      <td>Corse</td>\n",
       "      <td>0</td>\n",
       "      <td>1</td>\n",
       "      <td>6</td>\n",
       "      <td>2</td>\n",
       "      <td>6</td>\n",
       "      <td>50</td>\n",
       "      <td>3.610918</td>\n",
       "      <td>5</td>\n",
       "    </tr>\n",
       "    <tr>\n",
       "      <th>3</th>\n",
       "      <td>52</td>\n",
       "      <td>0.10</td>\n",
       "      <td>6</td>\n",
       "      <td>8</td>\n",
       "      <td>27</td>\n",
       "      <td>76</td>\n",
       "      <td>B3</td>\n",
       "      <td>Diesel</td>\n",
       "      <td>B</td>\n",
       "      <td>85</td>\n",
       "      <td>Provence-Alpes-Cotes-D'Azur</td>\n",
       "      <td>0</td>\n",
       "      <td>2</td>\n",
       "      <td>6</td>\n",
       "      <td>2</td>\n",
       "      <td>3</td>\n",
       "      <td>76</td>\n",
       "      <td>4.442651</td>\n",
       "      <td>5</td>\n",
       "    </tr>\n",
       "    <tr>\n",
       "      <th>4</th>\n",
       "      <td>58</td>\n",
       "      <td>0.03</td>\n",
       "      <td>5</td>\n",
       "      <td>0</td>\n",
       "      <td>59</td>\n",
       "      <td>50</td>\n",
       "      <td>B12</td>\n",
       "      <td>Regular</td>\n",
       "      <td>C</td>\n",
       "      <td>455</td>\n",
       "      <td>Languedoc-Roussillon</td>\n",
       "      <td>0</td>\n",
       "      <td>3</td>\n",
       "      <td>5</td>\n",
       "      <td>1</td>\n",
       "      <td>6</td>\n",
       "      <td>50</td>\n",
       "      <td>6.120297</td>\n",
       "      <td>5</td>\n",
       "    </tr>\n",
       "  </tbody>\n",
       "</table>\n",
       "</div>"
      ],
      "text/plain": [
       "   IDpol  Exposure  VehPower  VehAge  DrivAge  BonusMalus VehBrand   VehGas  \\\n",
       "0     13      0.52         6       2       38          50      B12  Regular   \n",
       "1     27      0.87         7       0       56          50      B12   Diesel   \n",
       "2     44      0.74         6       2       55          50      B12  Regular   \n",
       "3     52      0.10         6       8       27          76       B3   Diesel   \n",
       "4     58      0.03         5       0       59          50      B12  Regular   \n",
       "\n",
       "  Area  Density                       Region  ClaimNb  AreaGLM  VehPowerGLM  \\\n",
       "0    E     3003           Nord-Pas-de-Calais        0        5            6   \n",
       "1    C      173  Provence-Alpes-Cotes-D'Azur        0        3            7   \n",
       "2    A       37                        Corse        0        1            6   \n",
       "3    B       85  Provence-Alpes-Cotes-D'Azur        0        2            6   \n",
       "4    C      455         Languedoc-Roussillon        0        3            5   \n",
       "\n",
       "  VehAgeGLM DrivAgeGLM  BonusMalusGLM  DensityGLM  fold  \n",
       "0         2          4             50    8.007367     5  \n",
       "1         1          6             50    5.153292     5  \n",
       "2         2          6             50    3.610918     5  \n",
       "3         2          3             76    4.442651     5  \n",
       "4         1          6             50    6.120297     5  "
      ]
     },
     "execution_count": 61,
     "metadata": {},
     "output_type": "execute_result"
    }
   ],
   "source": [
    "learn = pd.read_parquet(\"../notebooks/data/learn.parquet\")\n",
    "test  = pd.read_parquet(\"../notebooks/data/test.parquet\")\n",
    "learn.head()\n",
    "test.head()"
   ]
  }
 ],
 "metadata": {
  "kernelspec": {
   "display_name": "Python 3 (ipykernel)",
   "language": "python",
   "name": "python3"
  },
  "language_info": {
   "codemirror_mode": {
    "name": "ipython",
    "version": 3
   },
   "file_extension": ".py",
   "mimetype": "text/x-python",
   "name": "python",
   "nbconvert_exporter": "python",
   "pygments_lexer": "ipython3",
   "version": "3.12.3"
  }
 },
 "nbformat": 4,
 "nbformat_minor": 5
}
