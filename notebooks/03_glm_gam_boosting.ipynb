{
 "cells": [
  {
   "cell_type": "code",
   "execution_count": 1,
   "id": "5d15ed5c-6917-461a-8979-cc4a0b9dc83b",
   "metadata": {},
   "outputs": [],
   "source": [
    "import sys, os, numpy as np, pandas as pd\n",
    "sys.path.append(os.path.abspath(os.path.join(os.getcwd(), \"..\", \"src\")))\n",
    "from metrics import pdw, pdw2, cf2, make_folds\n",
    "from features_glm import build_glm_features\n",
    "\n",
    "df = pd.read_parquet(\"../data/work/freMTPL2_joined_capped.parquet\").copy()\n",
    "df.head()\n",
    "df_glm = build_glm_features(df)\n"
   ]
  },
  {
   "cell_type": "code",
   "execution_count": 2,
   "id": "51d90393-4e00-4c3a-8724-8b73d30feea1",
   "metadata": {},
   "outputs": [
    {
     "data": {
      "text/html": [
       "<div>\n",
       "<style scoped>\n",
       "    .dataframe tbody tr th:only-of-type {\n",
       "        vertical-align: middle;\n",
       "    }\n",
       "\n",
       "    .dataframe tbody tr th {\n",
       "        vertical-align: top;\n",
       "    }\n",
       "\n",
       "    .dataframe thead th {\n",
       "        text-align: right;\n",
       "    }\n",
       "</style>\n",
       "<table border=\"1\" class=\"dataframe\">\n",
       "  <thead>\n",
       "    <tr style=\"text-align: right;\">\n",
       "      <th></th>\n",
       "      <th>IDpol</th>\n",
       "      <th>Exposure</th>\n",
       "      <th>VehPower</th>\n",
       "      <th>VehAge</th>\n",
       "      <th>DrivAge</th>\n",
       "      <th>BonusMalus</th>\n",
       "      <th>VehBrand</th>\n",
       "      <th>VehGas</th>\n",
       "      <th>Area</th>\n",
       "      <th>Density</th>\n",
       "      <th>Region</th>\n",
       "      <th>ClaimNb</th>\n",
       "      <th>AreaGLM</th>\n",
       "      <th>VehPowerGLM</th>\n",
       "      <th>VehAgeGLM</th>\n",
       "      <th>DrivAgeGLM</th>\n",
       "      <th>BonusMalusGLM</th>\n",
       "      <th>DensityGLM</th>\n",
       "    </tr>\n",
       "  </thead>\n",
       "  <tbody>\n",
       "    <tr>\n",
       "      <th>0</th>\n",
       "      <td>1</td>\n",
       "      <td>0.10</td>\n",
       "      <td>5</td>\n",
       "      <td>0</td>\n",
       "      <td>55</td>\n",
       "      <td>50</td>\n",
       "      <td>B12</td>\n",
       "      <td>Regular</td>\n",
       "      <td>D</td>\n",
       "      <td>1217</td>\n",
       "      <td>Rhone-Alpes</td>\n",
       "      <td>0</td>\n",
       "      <td>4</td>\n",
       "      <td>5</td>\n",
       "      <td>1</td>\n",
       "      <td>6</td>\n",
       "      <td>50</td>\n",
       "      <td>7.104144</td>\n",
       "    </tr>\n",
       "    <tr>\n",
       "      <th>1</th>\n",
       "      <td>3</td>\n",
       "      <td>0.77</td>\n",
       "      <td>5</td>\n",
       "      <td>0</td>\n",
       "      <td>55</td>\n",
       "      <td>50</td>\n",
       "      <td>B12</td>\n",
       "      <td>Regular</td>\n",
       "      <td>D</td>\n",
       "      <td>1217</td>\n",
       "      <td>Rhone-Alpes</td>\n",
       "      <td>0</td>\n",
       "      <td>4</td>\n",
       "      <td>5</td>\n",
       "      <td>1</td>\n",
       "      <td>6</td>\n",
       "      <td>50</td>\n",
       "      <td>7.104144</td>\n",
       "    </tr>\n",
       "    <tr>\n",
       "      <th>2</th>\n",
       "      <td>5</td>\n",
       "      <td>0.75</td>\n",
       "      <td>6</td>\n",
       "      <td>2</td>\n",
       "      <td>52</td>\n",
       "      <td>50</td>\n",
       "      <td>B12</td>\n",
       "      <td>Diesel</td>\n",
       "      <td>B</td>\n",
       "      <td>54</td>\n",
       "      <td>Picardie</td>\n",
       "      <td>0</td>\n",
       "      <td>2</td>\n",
       "      <td>6</td>\n",
       "      <td>2</td>\n",
       "      <td>6</td>\n",
       "      <td>50</td>\n",
       "      <td>3.988984</td>\n",
       "    </tr>\n",
       "    <tr>\n",
       "      <th>3</th>\n",
       "      <td>10</td>\n",
       "      <td>0.09</td>\n",
       "      <td>7</td>\n",
       "      <td>0</td>\n",
       "      <td>46</td>\n",
       "      <td>50</td>\n",
       "      <td>B12</td>\n",
       "      <td>Diesel</td>\n",
       "      <td>B</td>\n",
       "      <td>76</td>\n",
       "      <td>Aquitaine</td>\n",
       "      <td>0</td>\n",
       "      <td>2</td>\n",
       "      <td>7</td>\n",
       "      <td>1</td>\n",
       "      <td>5</td>\n",
       "      <td>50</td>\n",
       "      <td>4.330733</td>\n",
       "    </tr>\n",
       "    <tr>\n",
       "      <th>4</th>\n",
       "      <td>11</td>\n",
       "      <td>0.84</td>\n",
       "      <td>7</td>\n",
       "      <td>0</td>\n",
       "      <td>46</td>\n",
       "      <td>50</td>\n",
       "      <td>B12</td>\n",
       "      <td>Diesel</td>\n",
       "      <td>B</td>\n",
       "      <td>76</td>\n",
       "      <td>Aquitaine</td>\n",
       "      <td>0</td>\n",
       "      <td>2</td>\n",
       "      <td>7</td>\n",
       "      <td>1</td>\n",
       "      <td>5</td>\n",
       "      <td>50</td>\n",
       "      <td>4.330733</td>\n",
       "    </tr>\n",
       "  </tbody>\n",
       "</table>\n",
       "</div>"
      ],
      "text/plain": [
       "   IDpol  Exposure  VehPower  VehAge  DrivAge  BonusMalus VehBrand   VehGas  \\\n",
       "0      1      0.10         5       0       55          50      B12  Regular   \n",
       "1      3      0.77         5       0       55          50      B12  Regular   \n",
       "2      5      0.75         6       2       52          50      B12   Diesel   \n",
       "3     10      0.09         7       0       46          50      B12   Diesel   \n",
       "4     11      0.84         7       0       46          50      B12   Diesel   \n",
       "\n",
       "  Area  Density       Region  ClaimNb  AreaGLM VehPowerGLM VehAgeGLM  \\\n",
       "0    D     1217  Rhone-Alpes        0        4           5         1   \n",
       "1    D     1217  Rhone-Alpes        0        4           5         1   \n",
       "2    B       54     Picardie        0        2           6         2   \n",
       "3    B       76    Aquitaine        0        2           7         1   \n",
       "4    B       76    Aquitaine        0        2           7         1   \n",
       "\n",
       "  DrivAgeGLM  BonusMalusGLM  DensityGLM  \n",
       "0          6             50    7.104144  \n",
       "1          6             50    7.104144  \n",
       "2          6             50    3.988984  \n",
       "3          5             50    4.330733  \n",
       "4          5             50    4.330733  "
      ]
     },
     "execution_count": 2,
     "metadata": {},
     "output_type": "execute_result"
    }
   ],
   "source": [
    "df_glm = build_glm_features(df)\n",
    "df_glm.head()"
   ]
  },
  {
   "cell_type": "code",
   "execution_count": 3,
   "id": "15a34ac7-4411-46aa-bd6a-afefaf944473",
   "metadata": {},
   "outputs": [
    {
     "name": "stdout",
     "output_type": "stream",
     "text": [
      "Overall freq: 0.07368 | Baseline region: Centre\n",
      "Claim Frequency (Actual) Learn/Test: 7.37% / 7.38%\n",
      "Poisson Deviance INT, Learn/Test: 31.14% / 31.26%\n"
     ]
    }
   ],
   "source": [
    "# Region als Kategorie + Baseline nach größter Exposure\n",
    "df_glm[\"Region\"] = df_glm[\"Region\"].astype(\"category\")\n",
    "\n",
    "overall_freq = df_glm[\"ClaimNb\"].sum() / df_glm[\"Exposure\"].sum()\n",
    "reg = (df_glm.groupby(\"Region\", observed=True)\n",
    "       .agg(expo=(\"Exposure\",\"sum\"), claims=(\"ClaimNb\",\"sum\"))\n",
    "       .assign(freq=lambda x: x[\"claims\"]/x[\"expo\"])\n",
    "       .sort_values(\"expo\", ascending=False))\n",
    "baseline_region = reg.index[0]\n",
    "print(f\"Overall freq: {overall_freq:.5f} | Baseline region: {baseline_region}\")\n",
    "\n",
    "# AreaGLM numerisch (nur für Replikation des R-Setups)\n",
    "area_cat = df_glm[\"Area\"].astype(\"category\")\n",
    "cats = sorted(area_cat.cat.categories)               # deterministische Reihenfolge\n",
    "df_glm[\"AreaGLM\"] = area_cat.cat.set_categories(cats, ordered=True).cat.codes + 1  # 1..K\n",
    "\n",
    "# Folds (5, Seed=42), Fold 5 = Test\n",
    "if \"fold\" not in df_glm.columns:\n",
    "    df_glm[\"fold\"] = make_folds(len(df_glm), k=5, seed=42)\n",
    "learn = df_glm[df_glm[\"fold\"] != 5].copy()\n",
    "test  = df_glm[df_glm[\"fold\"] == 5].copy()\n",
    "\n",
    "print(cf2(\"Claim Frequency (Actual) Learn/Test\",\n",
    "          learn[\"ClaimNb\"], learn[\"Exposure\"],\n",
    "          test[\"ClaimNb\"],  test[\"Exposure\"]))\n",
    "\n",
    "cf = learn[\"ClaimNb\"].sum() / learn[\"Exposure\"].sum()\n",
    "learn_pred = cf * learn[\"Exposure\"]\n",
    "test_pred  = cf * test[\"Exposure\"]\n",
    "\n",
    "print(pdw2(\"Poisson Deviance INT\",\n",
    "           learn_pred, learn[\"ClaimNb\"], learn[\"Exposure\"],\n",
    "           test_pred,  test[\"ClaimNb\"],  test[\"Exposure\"]))"
   ]
  },
  {
   "cell_type": "code",
   "execution_count": 4,
   "id": "cdb0d4f7-a1cf-477f-b972-d00ef6beb01e",
   "metadata": {},
   "outputs": [
    {
     "name": "stdout",
     "output_type": "stream",
     "text": [
      "                 Generalized Linear Model Regression Results                  \n",
      "==============================================================================\n",
      "Dep. Variable:                ClaimNb   No. Observations:               542741\n",
      "Model:                            GLM   Df Residuals:                   542693\n",
      "Model Family:                 Poisson   Df Model:                           47\n",
      "Link Function:                    Log   Scale:                          1.0000\n",
      "Method:                          IRLS   Log-Likelihood:                -85960.\n",
      "Date:                Fri, 10 Oct 2025   Deviance:                   1.3129e+05\n",
      "Time:                        21:23:16   Pearson chi2:                 9.34e+05\n",
      "No. Iterations:                     7   Pseudo R-squ. (CS):            0.01100\n",
      "Covariance Type:            nonrobust                                         \n",
      "===========================================================================================================================================\n",
      "                                                                              coef    std err          z      P>|z|      [0.025      0.975]\n",
      "-------------------------------------------------------------------------------------------------------------------------------------------\n",
      "Intercept                                                                  -4.4952      0.047    -94.961      0.000      -4.588      -4.402\n",
      "C(VehPowerGLM)[T.5]                                                         0.0410      0.024      1.681      0.093      -0.007       0.089\n",
      "C(VehPowerGLM)[T.6]                                                         0.0787      0.024      3.302      0.001       0.032       0.125\n",
      "C(VehPowerGLM)[T.7]                                                         0.0660      0.024      2.788      0.005       0.020       0.112\n",
      "C(VehPowerGLM)[T.8]                                                         0.0840      0.034      2.488      0.013       0.018       0.150\n",
      "C(VehPowerGLM)[T.9]                                                         0.2355      0.026      8.886      0.000       0.184       0.287\n",
      "C(VehAgeGLM, Treatment(reference='2'))[T.1]                                -0.0208      0.034     -0.606      0.544      -0.088       0.046\n",
      "C(VehAgeGLM, Treatment(reference='2'))[T.3]                                -0.1864      0.016    -11.431      0.000      -0.218      -0.154\n",
      "C(DrivAgeGLM, Treatment(reference='5'))[T.1]                                0.1042      0.050      2.091      0.037       0.007       0.202\n",
      "C(DrivAgeGLM, Treatment(reference='5'))[T.2]                               -0.3396      0.033    -10.312      0.000      -0.404      -0.275\n",
      "C(DrivAgeGLM, Treatment(reference='5'))[T.3]                               -0.4640      0.028    -16.535      0.000      -0.519      -0.409\n",
      "C(DrivAgeGLM, Treatment(reference='5'))[T.4]                               -0.2841      0.020    -13.964      0.000      -0.324      -0.244\n",
      "C(DrivAgeGLM, Treatment(reference='5'))[T.6]                               -0.0807      0.019     -4.279      0.000      -0.118      -0.044\n",
      "C(DrivAgeGLM, Treatment(reference='5'))[T.7]                               -0.0788      0.031     -2.514      0.012      -0.140      -0.017\n",
      "C(VehBrand)[T.B10]                                                          0.0041      0.044      0.094      0.925      -0.083       0.091\n",
      "C(VehBrand)[T.B11]                                                          0.1613      0.047      3.431      0.001       0.069       0.254\n",
      "C(VehBrand)[T.B12]                                                         -0.2582      0.024    -10.572      0.000      -0.306      -0.210\n",
      "C(VehBrand)[T.B13]                                                          0.0504      0.050      1.007      0.314      -0.048       0.149\n",
      "C(VehBrand)[T.B14]                                                         -0.2339      0.101     -2.312      0.021      -0.432      -0.036\n",
      "C(VehBrand)[T.B2]                                                          -0.0078      0.019     -0.404      0.686      -0.046       0.030\n",
      "C(VehBrand)[T.B3]                                                           0.0417      0.027      1.557      0.119      -0.011       0.094\n",
      "C(VehBrand)[T.B4]                                                           0.0266      0.037      0.724      0.469      -0.045       0.098\n",
      "C(VehBrand)[T.B5]                                                           0.0713      0.031      2.301      0.021       0.011       0.132\n",
      "C(VehBrand)[T.B6]                                                           0.0476      0.034      1.382      0.167      -0.020       0.115\n",
      "C(VehGas)[T.Regular]                                                       -0.1694      0.015    -11.358      0.000      -0.199      -0.140\n",
      "C(Region, Treatment(reference='Centre'))[T.Alsace]                         -0.0005      0.117     -0.004      0.997      -0.229       0.228\n",
      "C(Region, Treatment(reference='Centre'))[T.Aquitaine]                       0.0753      0.037      2.014      0.044       0.002       0.149\n",
      "C(Region, Treatment(reference='Centre'))[T.Auvergne]                       -0.0773      0.098     -0.792      0.429      -0.269       0.114\n",
      "C(Region, Treatment(reference='Centre'))[T.Basse-Normandie]                -0.0362      0.055     -0.658      0.510      -0.144       0.072\n",
      "C(Region, Treatment(reference='Centre'))[T.Bourgogne]                       0.0341      0.061      0.555      0.579      -0.086       0.155\n",
      "C(Region, Treatment(reference='Centre'))[T.Bretagne]                       -0.0118      0.030     -0.399      0.690      -0.070       0.046\n",
      "C(Region, Treatment(reference='Centre'))[T.Champagne-Ardenne]              -0.0145      0.130     -0.111      0.912      -0.270       0.241\n",
      "C(Region, Treatment(reference='Centre'))[T.Corse]                           0.1246      0.098      1.265      0.206      -0.068       0.317\n",
      "C(Region, Treatment(reference='Centre'))[T.Franche-Comte]                  -0.0321      0.180     -0.178      0.859      -0.385       0.321\n",
      "C(Region, Treatment(reference='Centre'))[T.Haute-Normandie]                -0.0327      0.077     -0.423      0.672      -0.184       0.119\n",
      "C(Region, Treatment(reference='Centre'))[T.Ile-de-France]                  -0.0269      0.031     -0.870      0.384      -0.088       0.034\n",
      "C(Region, Treatment(reference='Centre'))[T.Languedoc-Roussillon]            0.0096      0.038      0.253      0.800      -0.065       0.084\n",
      "C(Region, Treatment(reference='Centre'))[T.Limousin]                        0.3413      0.081      4.229      0.000       0.183       0.499\n",
      "C(Region, Treatment(reference='Centre'))[T.Midi-Pyrenees]                  -0.2316      0.061     -3.820      0.000      -0.350      -0.113\n",
      "C(Region, Treatment(reference='Centre'))[T.Nord-Pas-de-Calais]             -0.0288      0.034     -0.849      0.396      -0.095       0.038\n",
      "C(Region, Treatment(reference='Centre'))[T.Pays-de-la-Loire]                0.0004      0.032      0.012      0.990      -0.062       0.063\n",
      "C(Region, Treatment(reference='Centre'))[T.Picardie]                        0.1333      0.065      2.042      0.041       0.005       0.261\n",
      "C(Region, Treatment(reference='Centre'))[T.Poitou-Charentes]                0.0611      0.042      1.466      0.143      -0.021       0.143\n",
      "C(Region, Treatment(reference='Centre'))[T.Provence-Alpes-Cotes-D'Azur]     0.1064      0.027      3.979      0.000       0.054       0.159\n",
      "C(Region, Treatment(reference='Centre'))[T.Rhone-Alpes]                     0.1827      0.024      7.705      0.000       0.136       0.229\n",
      "BonusMalusGLM                                                               0.0273      0.000     66.648      0.000       0.026       0.028\n",
      "DensityGLM                                                                  0.0521      0.016      3.296      0.001       0.021       0.083\n",
      "AreaGLM                                                                     0.0349      0.021      1.639      0.101      -0.007       0.077\n",
      "===========================================================================================================================================\n"
     ]
    }
   ],
   "source": [
    "import statsmodels.formula.api as smf\n",
    "from statsmodels.genmod import families\n",
    "\n",
    "formula = (\n",
    "    \"ClaimNb ~ \"\n",
    "    \"C(VehPowerGLM) + C(VehAgeGLM, Treatment(reference='2')) \"\n",
    "    \"+ C(DrivAgeGLM, Treatment(reference='5')) \"\n",
    "    \"+ BonusMalusGLM + C(VehBrand) + C(VehGas) + DensityGLM \"\n",
    "    f\"+ C(Region, Treatment(reference='{baseline_region}')) \"\n",
    "    \"+ AreaGLM\"   \n",
    ")\n",
    "\n",
    "glm1 = smf.glm(\n",
    "    formula=formula,\n",
    "    data=learn,\n",
    "    family=families.Poisson(),\n",
    "    offset=np.log(learn[\"Exposure\"])\n",
    ").fit()\n",
    "\n",
    "print(glm1.summary())\n"
   ]
  },
  {
   "cell_type": "code",
   "execution_count": 6,
   "id": "cb990f36-8166-4b59-ac2e-5bf57bc6c361",
   "metadata": {},
   "outputs": [
    {
     "name": "stdout",
     "output_type": "stream",
     "text": [
      "Poisson Deviance GLM1, Learn/Test: 29.54% / 29.55%\n",
      "Claim Frequency GLM1, Test-Sample, Actual/Predicted: 7.38% / 7.36%\n"
     ]
    }
   ],
   "source": [
    "# Learn: fittedvalues enthalten Offset bereits\n",
    "learn_pred = glm1.fittedvalues\n",
    "\n",
    "# Test: Offset explizit mitgeben\n",
    "test_pred = glm1.predict(test, offset=np.log(test[\"Exposure\"]))\n",
    "\n",
    "print(pdw2(\"Poisson Deviance GLM1\",\n",
    "           learn_pred, learn[\"ClaimNb\"], learn[\"Exposure\"],\n",
    "           test_pred,  test[\"ClaimNb\"],  test[\"Exposure\"]))\n",
    "\n",
    "print(cf2(\"Claim Frequency GLM1, Test-Sample, Actual/Predicted\",\n",
    "          test[\"ClaimNb\"], test[\"Exposure\"],\n",
    "          test_pred,      test[\"Exposure\"]))\n"
   ]
  },
  {
   "cell_type": "code",
   "execution_count": 7,
   "id": "36af9cb4-2139-46d9-a0bb-38e54d40bf7b",
   "metadata": {},
   "outputs": [
    {
     "data": {
      "image/png": "[encoded data removed]",
      "text/plain": [
       "<Figure size 640x480 with 1 Axes>"
      ]
     },
     "metadata": {},
     "output_type": "display_data"
    }
   ],
   "source": [
    "import matplotlib.pyplot as plt\n",
    "\n",
    "\n",
    "test = df_glm[df_glm[\"fold\"]==5].copy()\n",
    "# Vorhergesagte Counts aus GLM1:\n",
    "test_pred = glm1.predict(test, offset=np.log(test[\"Exposure\"]))\n",
    "\n",
    "# Predicted rate = μ / Exposure\n",
    "pred_rate = test_pred / test[\"Exposure\"]\n",
    "\n",
    "# Dezile bilden\n",
    "dec = pd.qcut(pred_rate, q=10, duplicates=\"drop\")\n",
    "cal = (pd.DataFrame({\n",
    "        \"decile\": dec,\n",
    "        \"expo\": test[\"Exposure\"].to_numpy(),\n",
    "        \"claims\": test[\"ClaimNb\"].to_numpy(),\n",
    "        \"pred\": test_pred.to_numpy()\n",
    "      })\n",
    "      .groupby(\"decile\",observed=False)\n",
    "      .agg(expo=(\"expo\",\"sum\"), claims=(\"claims\",\"sum\"), pred=(\"pred\",\"sum\"))\n",
    "      .assign(obs_rate=lambda d: d[\"claims\"]/d[\"expo\"],\n",
    "              pred_rate=lambda d: d[\"pred\"]/d[\"expo\"])\n",
    "      .reset_index())\n",
    "\n",
    "plt.figure()\n",
    "plt.plot(range(1, len(cal)+1), cal[\"obs_rate\"], marker=\"o\", label=\"Observed\")\n",
    "plt.plot(range(1, len(cal)+1), cal[\"pred_rate\"], marker=\"s\", label=\"Predicted\")\n",
    "plt.xlabel(\"Decile of predicted rate (low → high)\")\n",
    "plt.ylabel(\"Claim rate (claims per exposure)\")\n",
    "plt.title(\"Calibration (reliability) — GLM1 (Test)\")\n",
    "plt.legend()\n",
    "plt.tight_layout()\n",
    "plt.show()\n"
   ]
  },
  {
   "cell_type": "code",
   "execution_count": 8,
   "id": "cf3d01c6-9848-4049-9a6e-9abe6ab50f11",
   "metadata": {},
   "outputs": [
    {
     "name": "stdout",
     "output_type": "stream",
     "text": [
      "Test PDW — GLM1 (AreaGLM numeric): 29.55%\n",
      "Test PDW — GLM1 (C(Area) categorical): 29.55%\n",
      "ΔPDW (categorical - numeric): +0.00 pp\n"
     ]
    }
   ],
   "source": [
    "import statsmodels.formula.api as smf\n",
    "from statsmodels.genmod import families\n",
    "from metrics import pdw\n",
    "\n",
    "# 1) Modell mit AreaGLM : Test-PDW als Referenz\n",
    "test_pred_glm1 = glm1.predict(test, offset=np.log(test[\"Exposure\"]))\n",
    "pdw_glm1_test = pdw(test_pred_glm1, test[\"ClaimNb\"], test[\"Exposure\"])\n",
    "\n",
    "# 2) Gleiches Modell, aber Area als Kategorie \n",
    "formula_area_cat = (\n",
    "    \"ClaimNb ~ \"\n",
    "    \"C(VehPowerGLM) + C(VehAgeGLM, Treatment(reference='2')) \"\n",
    "    \"+ C(DrivAgeGLM, Treatment(reference='5')) \"\n",
    "    \"+ BonusMalusGLM + C(VehBrand) + C(VehGas) + DensityGLM \"\n",
    "    f\"+ C(Region, Treatment(reference='{baseline_region}')) \"\n",
    "    \"+ C(Area)\"  \n",
    ")\n",
    "\n",
    "glm1_areaC = smf.glm(formula=formula_area_cat, data=learn,\n",
    "                     family=families.Poisson(),\n",
    "                     offset=np.log(learn[\"Exposure\"])).fit()\n",
    "\n",
    "test_pred_areaC = glm1_areaC.predict(test, offset=np.log(test[\"Exposure\"]))\n",
    "pdw_areaC_test = pdw(test_pred_areaC, test[\"ClaimNb\"], test[\"Exposure\"])\n",
    "\n",
    "print(f\"Test PDW — GLM1 (AreaGLM numeric): {pdw_glm1_test:.2f}%\")\n",
    "print(f\"Test PDW — GLM1 (C(Area) categorical): {pdw_areaC_test:.2f}%\")\n",
    "print(f\"ΔPDW (categorical - numeric): {pdw_areaC_test - pdw_glm1_test:+.2f} pp\")\n"
   ]
  },
  {
   "cell_type": "code",
   "execution_count": 9,
   "id": "90304eee-36cd-4cdb-8458-6e476cd181c9",
   "metadata": {},
   "outputs": [
    {
     "name": "stdout",
     "output_type": "stream",
     "text": [
      "LR stat = 6.045, df = 4, p = 0.1958\n",
      "AIC  numeric = 172016.0 | categorical = 172018.0 | del AIC = +1.955\n",
      "BIC  numeric = -7034633.9 | categorical = -7034587.2\n"
     ]
    },
    {
     "name": "stderr",
     "output_type": "stream",
     "text": [
      "/home/steve/code/freMTPL2-pricing/.venv/lib/python3.12/site-packages/statsmodels/genmod/generalized_linear_model.py:1923: FutureWarning: The bic value is computed using the deviance formula. After 0.13 this will change to the log-likelihood based formula. This change has no impact on the relative rank of models compared using BIC. You can directly access the log-likelihood version using the `bic_llf` attribute. You can suppress this message by calling statsmodels.genmod.generalized_linear_model.SET_USE_BIC_LLF with True to get the LLF-based version now or False to retainthe deviance version.\n",
      "  warnings.warn(\n"
     ]
    }
   ],
   "source": [
    "from scipy.stats import chi2\n",
    "\n",
    "# Zahl der Area-Stufen (für DF-Differenz)\n",
    "n_levels_area = df_glm[\"Area\"].astype(\"category\").cat.categories.size\n",
    "df_diff = (n_levels_area - 1) - 1  # (K-1) Dummies vs. 1 Numerik\n",
    "\n",
    "LR = 2.0 * (glm1_areaC.llf - glm1.llf)\n",
    "pval = 1.0 - chi2.cdf(LR, df_diff)\n",
    "\n",
    "print(f\"LR stat = {LR:.3f}, df = {df_diff}, p = {pval:.4g}\")\n",
    "print(f\"AIC  numeric = {glm1.aic:.1f} | categorical = {glm1_areaC.aic:.1f} | del AIC = {glm1_areaC.aic - glm1.aic:+.3f}\")\n",
    "print(f\"BIC  numeric = {glm1.bic if hasattr(glm1,'bic') else float('nan'):.1f} \"\n",
    "      f\"| categorical = {glm1_areaC.bic if hasattr(glm1_areaC,'bic') else float('nan'):.1f}\")\n"
   ]
  },
  {
   "cell_type": "markdown",
   "id": "0893ce7a-da0b-4118-b3aa-d53020d942b3",
   "metadata": {},
   "source": [
    "## GLM1 – Kurzbericht \n",
    "**Setup.**  \n",
    "Poisson-GLM für $\\,\\text{ClaimNb}\\,$ mit **Offset** $\\log(\\text{Exposure})$.  \n",
    "Features nach Schelldorfer & Wüthrich (2019):  \n",
    "$VehPowerGLM,\\; VehAgeGLM,\\; DrivAgeGLM,\\; BonusMalusGLM,\\; VehBrand,\\; VehGas,\\; DensityGLM,\\; Region,\\; AreaGLM.$  \n",
    "Split: 5 Folds (Seed 42), **Fold 5 = Test (~20 %)**.\n",
    "\n",
    "---\n",
    "\n",
    "### Baselines\n",
    "- Claim Frequency (Actual) Learn/Test: **7.38 % / 7.36 %**  \n",
    "- **INT** (Intercept-only) Poisson-Deviance Test: **≈ 31 %** *(Referenzniveau)*\n",
    "\n",
    "---\n",
    "\n",
    "### GLM1 (klassenbasiert, wie Quelle)\n",
    "- **Poisson Deviance Learn/Test:** **29.54 % / 29.55 %**  \n",
    "  $$\\Downarrow\\quad\\text{Verbesserung ggü. INT um ca. }1.5\\ \\text{pp (Test).}$$\n",
    "- **Claim Frequency (Test, Actual/Predicted):** **7.38 % / 7.36 %**  \n",
    "  → **Niveau-Kalibrierung passt** (durchschnittliche Rate korrekt).\n",
    "\n",
    "---\n",
    "\n",
    "### Area-Kodierung (Sanity-Check)\n",
    "Vergleich $AreaGLM$ (numerisch) vs. $C(Area)$ (kategorisch/Dummy):\n",
    "- **Test-PDW:** **29.55 % vs. 29.55 %** ($\\Delta = 0.00$ pp)\n",
    "- **LR-Test:** $\\chi^2=6.045,\\ \\text{df}=4,\\ p=0.1958$ → *kein signifikanter Gewinn* durch $C(Area)$  \n",
    "- **AIC:** numerisch $=172016.0$ | kategorisch $=172018.0$ → $\\Delta \\text{AIC} = +1.955$ *(kategorisch minus numerisch)*\n",
    "\n",
    "**Fazit:** $Area$ trägt in diesem Setup **kaum**; wir behalten **$AreaGLM$**.\n",
    "\n",
    "---\n",
    "\n",
    "### Exkurs: AIC \n",
    "Der **Akaike Information Criterion** misst Güte vs. Komplexität:\n",
    "$$\n",
    "\\text{AIC} = 2k \\;-\\; 2\\ell,\n",
    "$$\n",
    "mit $k=$ Anzahl freier Parameter und $\\ell=$ maximierter Log-Likelihood.  \n",
    "**Kleiner** ist **besser**. Richtwerte:\n",
    "- $\\Delta \\text{AIC} < 2$: Modelle sind **praktisch gleichwertig**.  \n",
    "- $4\\text{–}7$: **schwacher** Vorteil.  \n",
    "- $>10$: **klarer** Vorteil.\n",
    "\n",
    "Hier ist $\\Delta \\text{AIC}\\approx 2$ → **keine** belastbare Verbesserung durch die Dummy-Kodierung; der einfachere $AreaGLM$ ist angemessen.\n",
    "\n"
   ]
  },
  {
   "cell_type": "code",
   "execution_count": 10,
   "id": "8df393d2-4683-488a-8e97-f6dad47fc9cf",
   "metadata": {},
   "outputs": [],
   "source": [
    "###GLM2 setup\n",
    "\n",
    "for part in (learn, test):\n",
    "    part[\"log_DrivAge\"] = np.log(part[\"DrivAge\"].astype(float))\n",
    "    part[\"DrivAge2\"] = part[\"DrivAge\"].astype(float)**2\n",
    "    part[\"DrivAge3\"] = part[\"DrivAge\"].astype(float)**3\n",
    "    part[\"DrivAge4\"] = part[\"DrivAge\"].astype(float)**4"
   ]
  },
  {
   "cell_type": "code",
   "execution_count": 11,
   "id": "82db7d14-08ee-49d5-81ba-445d3dd2c0f3",
   "metadata": {},
   "outputs": [
    {
     "name": "stdout",
     "output_type": "stream",
     "text": [
      "                 Generalized Linear Model Regression Results                  \n",
      "==============================================================================\n",
      "Dep. Variable:                ClaimNb   No. Observations:               542741\n",
      "Model:                            GLM   Df Residuals:                   542695\n",
      "Model Family:                 Poisson   Df Model:                           45\n",
      "Link Function:                    Log   Scale:                          1.0000\n",
      "Method:                          IRLS   Log-Likelihood:                -85931.\n",
      "Date:                Fri, 10 Oct 2025   Deviance:                   1.3124e+05\n",
      "Time:                        21:24:17   Pearson chi2:                 9.32e+05\n",
      "No. Iterations:                     7   Pseudo R-squ. (CS):            0.01110\n",
      "Covariance Type:            nonrobust                                         \n",
      "===========================================================================================================================================\n",
      "                                                                              coef    std err          z      P>|z|      [0.025      0.975]\n",
      "-------------------------------------------------------------------------------------------------------------------------------------------\n",
      "Intercept                                                                  75.1460      6.899     10.892      0.000      61.624      88.668\n",
      "C(VehPowerGLM)[T.5]                                                         0.0422      0.024      1.732      0.083      -0.006       0.090\n",
      "C(VehPowerGLM)[T.6]                                                         0.0807      0.024      3.383      0.001       0.034       0.127\n",
      "C(VehPowerGLM)[T.7]                                                         0.0655      0.024      2.767      0.006       0.019       0.112\n",
      "C(VehPowerGLM)[T.8]                                                         0.0810      0.034      2.401      0.016       0.015       0.147\n",
      "C(VehPowerGLM)[T.9]                                                         0.2340      0.026      8.832      0.000       0.182       0.286\n",
      "C(VehAgeGLM, Treatment(reference='2'))[T.1]                                -0.0206      0.034     -0.602      0.547      -0.088       0.047\n",
      "C(VehAgeGLM, Treatment(reference='2'))[T.3]                                -0.1906      0.016    -11.682      0.000      -0.223      -0.159\n",
      "C(VehBrand)[T.B10]                                                          0.0029      0.044      0.066      0.947      -0.084       0.090\n",
      "C(VehBrand)[T.B11]                                                          0.1623      0.047      3.451      0.001       0.070       0.255\n",
      "C(VehBrand)[T.B12]                                                         -0.2557      0.024    -10.469      0.000      -0.304      -0.208\n",
      "C(VehBrand)[T.B13]                                                          0.0467      0.050      0.932      0.351      -0.051       0.145\n",
      "C(VehBrand)[T.B14]                                                         -0.2339      0.101     -2.311      0.021      -0.432      -0.036\n",
      "C(VehBrand)[T.B2]                                                          -0.0068      0.019     -0.352      0.725      -0.045       0.031\n",
      "C(VehBrand)[T.B3]                                                           0.0425      0.027      1.586      0.113      -0.010       0.095\n",
      "C(VehBrand)[T.B4]                                                           0.0260      0.037      0.710      0.478      -0.046       0.098\n",
      "C(VehBrand)[T.B5]                                                           0.0713      0.031      2.301      0.021       0.011       0.132\n",
      "C(VehBrand)[T.B6]                                                           0.0483      0.034      1.402      0.161      -0.019       0.116\n",
      "C(VehGas)[T.Regular]                                                       -0.1685      0.015    -11.285      0.000      -0.198      -0.139\n",
      "C(Region, Treatment(reference='Centre'))[T.Alsace]                          0.0041      0.117      0.035      0.972      -0.225       0.233\n",
      "C(Region, Treatment(reference='Centre'))[T.Aquitaine]                       0.0772      0.037      2.065      0.039       0.004       0.151\n",
      "C(Region, Treatment(reference='Centre'))[T.Auvergne]                       -0.0731      0.098     -0.749      0.454      -0.264       0.118\n",
      "C(Region, Treatment(reference='Centre'))[T.Basse-Normandie]                -0.0356      0.055     -0.648      0.517      -0.143       0.072\n",
      "C(Region, Treatment(reference='Centre'))[T.Bourgogne]                       0.0339      0.061      0.552      0.581      -0.087       0.154\n",
      "C(Region, Treatment(reference='Centre'))[T.Bretagne]                       -0.0104      0.030     -0.349      0.727      -0.068       0.048\n",
      "C(Region, Treatment(reference='Centre'))[T.Champagne-Ardenne]              -0.0074      0.130     -0.057      0.955      -0.263       0.248\n",
      "C(Region, Treatment(reference='Centre'))[T.Corse]                           0.1287      0.098      1.308      0.191      -0.064       0.322\n",
      "C(Region, Treatment(reference='Centre'))[T.Franche-Comte]                  -0.0287      0.180     -0.159      0.874      -0.382       0.325\n",
      "C(Region, Treatment(reference='Centre'))[T.Haute-Normandie]                -0.0319      0.077     -0.413      0.680      -0.184       0.120\n",
      "C(Region, Treatment(reference='Centre'))[T.Ile-de-France]                  -0.0272      0.031     -0.878      0.380      -0.088       0.034\n",
      "C(Region, Treatment(reference='Centre'))[T.Languedoc-Roussillon]            0.0083      0.038      0.218      0.828      -0.066       0.083\n",
      "C(Region, Treatment(reference='Centre'))[T.Limousin]                        0.3406      0.081      4.220      0.000       0.182       0.499\n",
      "C(Region, Treatment(reference='Centre'))[T.Midi-Pyrenees]                  -0.2297      0.061     -3.788      0.000      -0.348      -0.111\n",
      "C(Region, Treatment(reference='Centre'))[T.Nord-Pas-de-Calais]             -0.0229      0.034     -0.675      0.500      -0.089       0.044\n",
      "C(Region, Treatment(reference='Centre'))[T.Pays-de-la-Loire]               -0.0019      0.032     -0.060      0.952      -0.065       0.061\n",
      "C(Region, Treatment(reference='Centre'))[T.Picardie]                        0.1386      0.065      2.123      0.034       0.011       0.267\n",
      "C(Region, Treatment(reference='Centre'))[T.Poitou-Charentes]                0.0609      0.042      1.461      0.144      -0.021       0.143\n",
      "C(Region, Treatment(reference='Centre'))[T.Provence-Alpes-Cotes-D'Azur]     0.1060      0.027      3.965      0.000       0.054       0.158\n",
      "C(Region, Treatment(reference='Centre'))[T.Rhone-Alpes]                     0.1815      0.024      7.652      0.000       0.135       0.228\n",
      "BonusMalusGLM                                                               0.0275      0.000     66.711      0.000       0.027       0.028\n",
      "DensityGLM                                                                  0.0521      0.016      3.291      0.001       0.021       0.083\n",
      "AreaGLM                                                                     0.0348      0.021      1.634      0.102      -0.007       0.076\n",
      "DrivAge                                                                     3.8011      0.400      9.498      0.000       3.017       4.586\n",
      "log_DrivAge                                                               -45.7863      4.225    -10.836      0.000     -54.068     -37.505\n",
      "DrivAge2                                                                   -0.0543      0.007     -8.084      0.000      -0.067      -0.041\n",
      "DrivAge3                                                                    0.0004   6.35e-05      6.754      0.000       0.000       0.001\n",
      "DrivAge4                                                                -1.347e-06   2.42e-07     -5.568      0.000   -1.82e-06   -8.73e-07\n",
      "===========================================================================================================================================\n"
     ]
    }
   ],
   "source": [
    "baseline_region = \"Centre\"\n",
    "\n",
    "formula_glm2 = (\n",
    "    \"ClaimNb ~ \"\n",
    "    \"C(VehPowerGLM)\"\n",
    "    \" + C(VehAgeGLM, Treatment(reference='2'))\"\n",
    "    \" + BonusMalusGLM\"\n",
    "    \" + C(VehBrand) + C(VehGas)\"\n",
    "    \" + DensityGLM\"\n",
    "    f\" + C(Region, Treatment(reference='{baseline_region}'))\"\n",
    "    \" + AreaGLM\"\n",
    "    \" + DrivAge + log_DrivAge + DrivAge2 + DrivAge3 + DrivAge4\"\n",
    ")\n",
    "\n",
    "glm2 = smf.glm(\n",
    "    formula=formula_glm2,\n",
    "    data=learn,\n",
    "    family=families.Poisson(),\n",
    "    offset=np.log(learn[\"Exposure\"])\n",
    ").fit()\n",
    "\n",
    "print(glm2.summary())  "
   ]
  },
  {
   "cell_type": "code",
   "execution_count": 12,
   "id": "9ee4bc7d-9b11-4848-8add-1de81706654d",
   "metadata": {},
   "outputs": [
    {
     "name": "stdout",
     "output_type": "stream",
     "text": [
      "Poisson Deviance GLM1, Learn/Test: 29.54% / 29.55%\n",
      "Poisson Deviance GLM2, Learn/Test: 29.53% / 29.52%\n",
      "Claim Frequency GLM2, Test (Actual/Predicted): 7.38% / 7.36%\n",
      "PDW(Test) INT=31.26% | GLM1=29.55% | GLM2=29.52% | Δ(GLM2-GLM1)=-0.03 pp\n"
     ]
    }
   ],
   "source": [
    "# GLM2: Learn/Test-Predictions\n",
    "learn_pred_glm2 = glm2.fittedvalues\n",
    "test_pred_glm2  = glm2.predict(test, offset=np.log(test[\"Exposure\"]))\n",
    "\n",
    "# INT-Baseline (wie zuvor)\n",
    "cf = learn[\"ClaimNb\"].sum() / learn[\"Exposure\"].sum()\n",
    "test_pred_int = cf * test[\"Exposure\"]\n",
    "test_pred_glm1 = glm1.predict(test, offset=np.log(test[\"Exposure\"]))\n",
    "\n",
    "# PDW/CF report\n",
    "print(pdw2(\"Poisson Deviance GLM1\",\n",
    "           glm1.fittedvalues, learn[\"ClaimNb\"], learn[\"Exposure\"],\n",
    "           test_pred_glm1,  test[\"ClaimNb\"],  test[\"Exposure\"]))\n",
    "\n",
    "print(pdw2(\"Poisson Deviance GLM2\",\n",
    "           learn_pred_glm2, learn[\"ClaimNb\"], learn[\"Exposure\"],\n",
    "           test_pred_glm2,  test[\"ClaimNb\"],  test[\"Exposure\"]))\n",
    "\n",
    "print(cf2(\"Claim Frequency GLM2, Test (Actual/Predicted)\",\n",
    "          test[\"ClaimNb\"], test[\"Exposure\"],\n",
    "          test_pred_glm2,  test[\"Exposure\"]))\n",
    "\n",
    "# Verbesserung gg. INT (auf Test)\n",
    "pdw_int  = pdw(test_pred_int,  test[\"ClaimNb\"], test[\"Exposure\"])\n",
    "pdw_g1   = pdw(test_pred_glm1, test[\"ClaimNb\"], test[\"Exposure\"])\n",
    "pdw_g2   = pdw(test_pred_glm2, test[\"ClaimNb\"], test[\"Exposure\"])\n",
    "\n",
    "print(f\"PDW(Test) INT={pdw_int:.2f}% | GLM1={pdw_g1:.2f}% | GLM2={pdw_g2:.2f}% \"\n",
    "      f\"| Δ(GLM2-GLM1)={pdw_g2 - pdw_g1:+.2f} pp\")"
   ]
  },
  {
   "cell_type": "markdown",
   "id": "ff31360d-274b-4e32-af42-1318d27d456d",
   "metadata": {},
   "source": [
    "## GLM2 – Kurzfazit & Vergleich zu GLM1 \n",
    "\n",
    "**Setup.** Wie GLM1 (Poisson mit Offset $\\log(\\text{Exposure})$), zusätzlich kontinuierliche Terme für $\\,\\text{DrivAge}\\,$:\n",
    "\\[\n",
    "\\log(\\text{DrivAge}),\\quad \\text{DrivAge}^2,\\ \\text{DrivAge}^3,\\ \\text{DrivAge}^4.\n",
    "\\]\n",
    "\n",
    "**Ergebnisse.**\n",
    "- **Poisson-Deviance (Learn/Test):**  \n",
    "  GLM1 **29.54 % / 29.55 %**  \n",
    "  GLM2 **29.53 % / 29.52 %**  $\\Rightarrow$ **$\\Delta$ Test = −0.03 pp** (minimal besser)\n",
    "- **Claim Frequency (Test, Actual/Pred):** **7.38 % / 7.36 %**\n",
    "- **vs. INT (Test-PDW 31.26 %)**:  \n",
    "  GLM1 verbessert um **1.71 pp**, GLM2 um **1.74 pp**.\n",
    "\n",
    "**Interpretation.**  \n",
    "Die zusätzlichen nichtlinearen $\\,\\text{DrivAge}$-Terme liefern einen **kleinen, aber konsistenten** Gewinn ggü. GLM1. Das deutet auf leichte Nichtlinearität in der Alterswirkung hin; größere Sprünge sind ohne weitere Glättung/Interaktionen nicht zu erwarten. Für mehr Flexibilität bietet sich als nächstes ein **GAM** mit Splines an (oder Interaktionen wie $\\text{DrivAge}\\times\\text{BonusMalus}$ – stets out-of-sample prüfen).\n"
   ]
  },
  {
   "cell_type": "code",
   "execution_count": 13,
   "id": "40f04c9f-d726-46a9-a83c-c63d19c52e47",
   "metadata": {
    "scrolled": true
   },
   "outputs": [
    {
     "ename": "ModuleNotFoundError",
     "evalue": "No module named 'glum'",
     "output_type": "error",
     "traceback": [
      "\u001b[31m---------------------------------------------------------------------------\u001b[39m",
      "\u001b[31mModuleNotFoundError\u001b[39m                       Traceback (most recent call last)",
      "\u001b[36mCell\u001b[39m\u001b[36m \u001b[39m\u001b[32mIn[13]\u001b[39m\u001b[32m, line 5\u001b[39m\n\u001b[32m      2\u001b[39m sys.path.append(os.path.abspath(os.path.join(os.getcwd(), \u001b[33m\"\u001b[39m\u001b[33m..\u001b[39m\u001b[33m\"\u001b[39m, \u001b[33m\"\u001b[39m\u001b[33msrc\u001b[39m\u001b[33m\"\u001b[39m)))\n\u001b[32m      3\u001b[39m \u001b[38;5;28;01mfrom\u001b[39;00m\u001b[38;5;250m \u001b[39m\u001b[34;01mmetrics\u001b[39;00m\u001b[38;5;250m \u001b[39m\u001b[38;5;28;01mimport\u001b[39;00m pdw, cf2, make_folds\n\u001b[32m----> \u001b[39m\u001b[32m5\u001b[39m \u001b[38;5;28;01mfrom\u001b[39;00m\u001b[38;5;250m \u001b[39m\u001b[34;01mglum\u001b[39;00m\u001b[38;5;250m \u001b[39m\u001b[38;5;28;01mimport\u001b[39;00m GeneralizedLinearRegressorCV\n\u001b[32m      6\u001b[39m \u001b[38;5;28;01mfrom\u001b[39;00m\u001b[38;5;250m \u001b[39m\u001b[34;01mdask_ml\u001b[39;00m\u001b[34;01m.\u001b[39;00m\u001b[34;01mpreprocessing\u001b[39;00m\u001b[38;5;250m \u001b[39m\u001b[38;5;28;01mimport\u001b[39;00m Categorizer\n\u001b[32m      9\u001b[39m cat_cols = [\u001b[33m\"\u001b[39m\u001b[33mVehPowerGLM\u001b[39m\u001b[33m\"\u001b[39m,\u001b[33m\"\u001b[39m\u001b[33mVehAgeGLM\u001b[39m\u001b[33m\"\u001b[39m,\u001b[33m\"\u001b[39m\u001b[33mDrivAgeGLM\u001b[39m\u001b[33m\"\u001b[39m,\u001b[33m\"\u001b[39m\u001b[33mVehBrand\u001b[39m\u001b[33m\"\u001b[39m,\u001b[33m\"\u001b[39m\u001b[33mVehGas\u001b[39m\u001b[33m\"\u001b[39m,\u001b[33m\"\u001b[39m\u001b[33mRegion\u001b[39m\u001b[33m\"\u001b[39m]\n",
      "\u001b[31mModuleNotFoundError\u001b[39m: No module named 'glum'"
     ]
    }
   ],
   "source": [
    "import os, sys, numpy as np, pandas as pd\n",
    "sys.path.append(os.path.abspath(os.path.join(os.getcwd(), \"..\", \"src\")))\n",
    "from metrics import pdw, cf2, make_folds\n",
    "\n",
    "from glum import GeneralizedLinearRegressorCV\n",
    "from dask_ml.preprocessing import Categorizer\n",
    "\n",
    "\n",
    "cat_cols = [\"VehPowerGLM\",\"VehAgeGLM\",\"DrivAgeGLM\",\"VehBrand\",\"VehGas\",\"Region\"]\n",
    "num_cols = [\"BonusMalusGLM\",\"DensityGLM\",\"AreaGLM\"]\n",
    "\n",
    "for c in cat_cols:\n",
    "    learn[c] = learn[c].astype(\"category\")\n",
    "    test[c]  = test[c].astype(\"category\")\n",
    "\n",
    "X_learn = learn[cat_cols + num_cols]\n",
    "X_test  = test[cat_cols + num_cols]\n",
    "\n",
    "# Optional: vereinheitlichte Kategoriensätze (falls Learn/Test nicht dieselben Levels haben)\n",
    "cat = Categorizer(columns=cat_cols)\n",
    "X_learn = cat.fit_transform(X_learn)\n",
    "X_test  = cat.transform(X_test)\n",
    "\n",
    "# Ziel als Frequenz + Gewichte = Exposure (Offset-äquivalent)\n",
    "y_learn = (learn[\"ClaimNb\"] / learn[\"Exposure\"]).to_numpy()\n",
    "w_learn = learn[\"Exposure\"].to_numpy()\n",
    "\n",
    "# Poisson-LASSO mit CV\n",
    "lasso_cv = GeneralizedLinearRegressorCV(\n",
    "    family=\"poisson\",\n",
    "    l1_ratio=1.0,      # LASSO\n",
    "    cv=5,\n",
    "    n_alphas=60,\n",
    "    random_state=42,\n",
    "    verbose=1,\n",
    ")\n",
    "lasso_cv.fit(X_learn, y_learn, sample_weight=w_learn)\n",
    "\n",
    "print(\"gewähltes alpha_*:\", lasso_cv.alpha_)\n",
    "# Optional: Pfad & CV-Infos\n",
    "print(lasso_cv.alphas_[:5], \"…\")\n",
    "\n"
   ]
  },
  {
   "cell_type": "code",
   "execution_count": null,
   "id": "fe7e4eff-f504-429f-826f-cfeaebec9a31",
   "metadata": {},
   "outputs": [],
   "source": [
    "print(\"gewähltes alpha_*:\", lasso_cv.alpha_)# Test-Features (bereits transformiert)\n",
    "\n",
    "y_test = test[\"ClaimNb\"].to_numpy()\n",
    "w_test = test[\"Exposure\"].to_numpy()\n",
    "\n",
    "# Vorhersage der FREQUENZ; für Counts mit Exposure multiplizieren\n",
    "rate_test = lasso_cv.predict(X_test)          # E[ClaimNb / Exposure]\n",
    "pred_counts = rate_test * w_test              # E[ClaimNb]\n",
    "\n",
    "# Metriken\n",
    "print(cf2(\"Claim Frequency LASSO, Test (Actual/Predicted)\",\n",
    "          y_test, w_test,\n",
    "          pred_counts, w_test))\n",
    "\n",
    "print(f\"Poisson Deviance LASSO, Test: {pdw(pred_counts, y_test, w_test):.2f}%\")\n",
    "\n",
    "# Sparsamkeit: Anzahl != 0-Koeffizienten \n",
    "coef = np.asarray(lasso_cv.coef_, dtype=float)\n",
    "nnz = int(np.sum(np.abs(coef) > 0))\n",
    "print(f\"non-zero coefficients (ohne Intercept): {nnz}\")\n"
   ]
  },
  {
   "cell_type": "code",
   "execution_count": null,
   "id": "cf62597f-91a6-44af-8773-014569a24d10",
   "metadata": {},
   "outputs": [],
   "source": [
    "for part in (learn, test):\n",
    "    da = part[\"DrivAge\"].astype(float)\n",
    "    part[\"log_DrivAge\"] = np.log(da)\n",
    "    part[\"DrivAge2\"] = da**2\n",
    "    part[\"DrivAge3\"] = da**3\n",
    "    part[\"DrivAge4\"] = da**4\n",
    "\n",
    "cat_cols = [\"VehPowerGLM\",\"VehAgeGLM\",\"DrivAgeGLM\",\"VehBrand\",\"VehGas\",\"Region\"]\n",
    "num_cols = [\"BonusMalusGLM\",\"DensityGLM\",\"AreaGLM\",\"DrivAge\",\"log_DrivAge\",\"DrivAge2\",\"DrivAge3\",\"DrivAge4\"]\n",
    "\n",
    "for c in cat_cols:\n",
    "    learn[c] = learn[c].astype(\"category\")\n",
    "    test[c]  = test[c].astype(\"category\")\n",
    "\n",
    "from dask_ml.preprocessing import Categorizer\n",
    "X_learn = Categorizer(columns=cat_cols).fit_transform(learn[cat_cols + num_cols])\n",
    "X_test  = Categorizer(columns=cat_cols).fit(learn[cat_cols]).transform(test[cat_cols + num_cols])\n",
    "\n",
    "y_learn = (learn[\"ClaimNb\"] / learn[\"Exposure\"]).to_numpy()\n",
    "w_learn = learn[\"Exposure\"].to_numpy()\n",
    "y_test  = test[\"ClaimNb\"].to_numpy()\n",
    "w_test  = test[\"Exposure\"].to_numpy()"
   ]
  },
  {
   "cell_type": "code",
   "execution_count": 41,
   "id": "1cc515bd-edfb-483f-a26c-68fa36da42ec",
   "metadata": {
    "scrolled": true
   },
   "outputs": [
    {
     "name": "stderr",
     "output_type": "stream",
     "text": [
      "Iteration 0: |                              | 0/? [s/it, gradient norm=1.734723475976807e-18]\n"
     ]
    },
    {
     "name": "stdout",
     "output_type": "stream",
     "text": [
      "alpha=5.490e-01, time=0.04s, n_iter=0\n"
     ]
    },
    {
     "name": "stderr",
     "output_type": "stream",
     "text": [
      "Iteration 1:  82%|█████████████   | 1.64/2.0 [0.09s/it, gradient norm=0.00023021323128392945]\n"
     ]
    },
    {
     "name": "stdout",
     "output_type": "stream",
     "text": [
      "alpha=4.609e-01, time=0.23s, n_iter=2\n"
     ]
    },
    {
     "name": "stderr",
     "output_type": "stream",
     "text": [
      "Iteration 1:  62%|███████████       | 1.23/2.0 [0.08s/it, gradient norm=0.000584378880767915]\n"
     ]
    },
    {
     "name": "stdout",
     "output_type": "stream",
     "text": [
      "alpha=3.870e-01, time=0.23s, n_iter=2\n"
     ]
    },
    {
     "name": "stderr",
     "output_type": "stream",
     "text": [
      "Iteration 1:  72%|████████████▏    | 1.44/2.0 [0.08s/it, gradient norm=0.0003609303060470232]\n"
     ]
    },
    {
     "name": "stdout",
     "output_type": "stream",
     "text": [
      "alpha=3.249e-01, time=0.21s, n_iter=2\n"
     ]
    },
    {
     "name": "stderr",
     "output_type": "stream",
     "text": [
      "Iteration 1:  82%|█████████████   | 1.64/2.0 [0.09s/it, gradient norm=0.00023155920450984168]\n"
     ]
    },
    {
     "name": "stdout",
     "output_type": "stream",
     "text": [
      "alpha=2.728e-01, time=0.23s, n_iter=2\n"
     ]
    },
    {
     "name": "stderr",
     "output_type": "stream",
     "text": [
      "Iteration 1:  91%|██████████████▌ | 1.82/2.0 [0.08s/it, gradient norm=0.00015228069009476223]\n"
     ]
    },
    {
     "name": "stdout",
     "output_type": "stream",
     "text": [
      "alpha=2.290e-01, time=0.21s, n_iter=2\n"
     ]
    },
    {
     "name": "stderr",
     "output_type": "stream",
     "text": [
      "Iteration 1: 100%|█████████████████| 2.0/2.0 [0.08s/it, gradient norm=0.00010114612691198947]\n"
     ]
    },
    {
     "name": "stdout",
     "output_type": "stream",
     "text": [
      "alpha=1.923e-01, time=0.23s, n_iter=2\n"
     ]
    },
    {
     "name": "stderr",
     "output_type": "stream",
     "text": [
      "Iteration 0:  33%|█████▌           | 0.66/2.0 [0.06s/it, gradient norm=0.0021759744074186537]\n"
     ]
    },
    {
     "name": "stdout",
     "output_type": "stream",
     "text": [
      "alpha=1.614e-01, time=0.13s, n_iter=1\n"
     ]
    },
    {
     "name": "stderr",
     "output_type": "stream",
     "text": [
      "Iteration 0:  37%|██████▎          | 0.74/2.0 [0.07s/it, gradient norm=0.0017999719535031675]\n"
     ]
    },
    {
     "name": "stdout",
     "output_type": "stream",
     "text": [
      "alpha=1.355e-01, time=0.15s, n_iter=1\n"
     ]
    },
    {
     "name": "stderr",
     "output_type": "stream",
     "text": [
      "Iteration 0:  41%|██████▉          | 0.82/2.0 [0.06s/it, gradient norm=0.0015166969517650076]\n"
     ]
    },
    {
     "name": "stdout",
     "output_type": "stream",
     "text": [
      "alpha=1.138e-01, time=0.15s, n_iter=1\n"
     ]
    },
    {
     "name": "stderr",
     "output_type": "stream",
     "text": [
      "Iteration 0:  44%|███████▌         | 0.89/2.0 [0.05s/it, gradient norm=0.0012757163751613637]\n"
     ]
    },
    {
     "name": "stdout",
     "output_type": "stream",
     "text": [
      "alpha=9.552e-02, time=0.15s, n_iter=1\n"
     ]
    },
    {
     "name": "stderr",
     "output_type": "stream",
     "text": [
      "Iteration 0:  48%|████████▋         | 0.97/2.0 [0.06s/it, gradient norm=0.001072729782048433]\n"
     ]
    },
    {
     "name": "stdout",
     "output_type": "stream",
     "text": [
      "alpha=8.020e-02, time=0.15s, n_iter=1\n"
     ]
    },
    {
     "name": "stderr",
     "output_type": "stream",
     "text": [
      "Iteration 0:   4%|▋                | 0.04/1.0 [0.06s/it, gradient norm=0.0009032439538594961]\n"
     ]
    },
    {
     "name": "stdout",
     "output_type": "stream",
     "text": [
      "alpha=6.733e-02, time=0.15s, n_iter=1\n"
     ]
    },
    {
     "name": "stderr",
     "output_type": "stream",
     "text": [
      "Iteration 0:  12%|██               | 0.12/1.0 [0.04s/it, gradient norm=0.0007593144824058816]\n"
     ]
    },
    {
     "name": "stdout",
     "output_type": "stream",
     "text": [
      "alpha=5.653e-02, time=0.13s, n_iter=1\n"
     ]
    },
    {
     "name": "stderr",
     "output_type": "stream",
     "text": [
      "Iteration 0:  20%|███▌              | 0.2/1.0 [0.07s/it, gradient norm=0.0006381773373345776]\n"
     ]
    },
    {
     "name": "stdout",
     "output_type": "stream",
     "text": [
      "alpha=4.746e-02, time=0.15s, n_iter=1\n"
     ]
    },
    {
     "name": "stderr",
     "output_type": "stream",
     "text": [
      "Iteration 0:  27%|████▌            | 0.27/1.0 [0.08s/it, gradient norm=0.0005362737229707246]\n"
     ]
    },
    {
     "name": "stdout",
     "output_type": "stream",
     "text": [
      "alpha=3.984e-02, time=0.16s, n_iter=1\n"
     ]
    },
    {
     "name": "stderr",
     "output_type": "stream",
     "text": [
      "Iteration 0:   4%|▋                | 0.04/1.0 [0.06s/it, gradient norm=0.0009035237530532684]\n"
     ]
    },
    {
     "name": "stdout",
     "output_type": "stream",
     "text": [
      "alpha=3.345e-02, time=0.13s, n_iter=1\n"
     ]
    },
    {
     "name": "stderr",
     "output_type": "stream",
     "text": [
      "Iteration 0:  41%|██████▉          | 0.82/2.0 [0.04s/it, gradient norm=0.0015089114238146096]\n"
     ]
    },
    {
     "name": "stdout",
     "output_type": "stream",
     "text": [
      "alpha=2.808e-02, time=0.12s, n_iter=1\n"
     ]
    },
    {
     "name": "stderr",
     "output_type": "stream",
     "text": [
      "Iteration 0:  36%|██████           | 0.71/2.0 [0.07s/it, gradient norm=0.0019398672131687206]\n"
     ]
    },
    {
     "name": "stdout",
     "output_type": "stream",
     "text": [
      "alpha=2.358e-02, time=0.15s, n_iter=1\n"
     ]
    },
    {
     "name": "stderr",
     "output_type": "stream",
     "text": [
      "Iteration 0:  37%|██████▎          | 0.74/2.0 [0.06s/it, gradient norm=0.0018290568753459647]\n"
     ]
    },
    {
     "name": "stdout",
     "output_type": "stream",
     "text": [
      "alpha=1.979e-02, time=0.14s, n_iter=1\n"
     ]
    },
    {
     "name": "stderr",
     "output_type": "stream",
     "text": [
      "Iteration 0:  36%|██████▍           | 0.72/2.0 [0.05s/it, gradient norm=0.001926083551438867]\n"
     ]
    },
    {
     "name": "stdout",
     "output_type": "stream",
     "text": [
      "alpha=1.662e-02, time=0.13s, n_iter=1\n"
     ]
    },
    {
     "name": "stderr",
     "output_type": "stream",
     "text": [
      "Iteration 0:  28%|█████▏            | 0.57/2.0 [0.07s/it, gradient norm=0.002713034019647435]\n"
     ]
    },
    {
     "name": "stdout",
     "output_type": "stream",
     "text": [
      "alpha=1.395e-02, time=0.15s, n_iter=1\n"
     ]
    },
    {
     "name": "stderr",
     "output_type": "stream",
     "text": [
      "Iteration 0:  32%|█████▍           | 0.64/2.0 [0.04s/it, gradient norm=0.0022804965664099818]\n"
     ]
    },
    {
     "name": "stdout",
     "output_type": "stream",
     "text": [
      "alpha=1.171e-02, time=0.12s, n_iter=1\n"
     ]
    },
    {
     "name": "stderr",
     "output_type": "stream",
     "text": [
      "Iteration 0:  36%|██████           | 0.72/2.0 [0.06s/it, gradient norm=0.0019081051059467982]\n"
     ]
    },
    {
     "name": "stdout",
     "output_type": "stream",
     "text": [
      "alpha=9.835e-03, time=0.14s, n_iter=1\n"
     ]
    },
    {
     "name": "stderr",
     "output_type": "stream",
     "text": [
      "Iteration 0:  40%|███████▏          | 0.8/2.0 [0.06s/it, gradient norm=0.0016008722423469983]\n"
     ]
    },
    {
     "name": "stdout",
     "output_type": "stream",
     "text": [
      "alpha=8.257e-03, time=0.15s, n_iter=1\n"
     ]
    },
    {
     "name": "stderr",
     "output_type": "stream",
     "text": [
      "Iteration 0:  40%|███████           | 0.79/2.0 [0.07s/it, gradient norm=0.001623046931795221]\n"
     ]
    },
    {
     "name": "stdout",
     "output_type": "stream",
     "text": [
      "alpha=6.932e-03, time=0.16s, n_iter=1\n"
     ]
    },
    {
     "name": "stderr",
     "output_type": "stream",
     "text": [
      "Iteration 0:  37%|██████▎          | 0.74/2.0 [0.06s/it, gradient norm=0.0018282476867740117]\n"
     ]
    },
    {
     "name": "stdout",
     "output_type": "stream",
     "text": [
      "alpha=5.820e-03, time=0.15s, n_iter=1\n"
     ]
    },
    {
     "name": "stderr",
     "output_type": "stream",
     "text": [
      "Iteration 0:  40%|███████▏          | 0.8/2.0 [0.08s/it, gradient norm=0.0015727590262696672]\n"
     ]
    },
    {
     "name": "stdout",
     "output_type": "stream",
     "text": [
      "alpha=4.886e-03, time=0.17s, n_iter=1\n"
     ]
    },
    {
     "name": "stderr",
     "output_type": "stream",
     "text": [
      "Iteration 0:  40%|██████▉          | 0.81/2.0 [0.05s/it, gradient norm=0.0015377901720494682]\n"
     ]
    },
    {
     "name": "stdout",
     "output_type": "stream",
     "text": [
      "alpha=4.102e-03, time=0.13s, n_iter=1\n"
     ]
    },
    {
     "name": "stderr",
     "output_type": "stream",
     "text": [
      "Iteration 0:  44%|███████▌         | 0.89/2.0 [0.06s/it, gradient norm=0.0012920157540711667]\n"
     ]
    },
    {
     "name": "stdout",
     "output_type": "stream",
     "text": [
      "alpha=3.444e-03, time=0.14s, n_iter=1\n"
     ]
    },
    {
     "name": "stderr",
     "output_type": "stream",
     "text": [
      "Iteration 0:  44%|████████          | 0.89/2.0 [0.05s/it, gradient norm=0.001287944123833398]\n"
     ]
    },
    {
     "name": "stdout",
     "output_type": "stream",
     "text": [
      "alpha=2.891e-03, time=0.14s, n_iter=1\n"
     ]
    },
    {
     "name": "stderr",
     "output_type": "stream",
     "text": [
      "Iteration 0:  37%|██████▎          | 0.74/2.0 [0.06s/it, gradient norm=0.0018381170231706971]\n"
     ]
    },
    {
     "name": "stdout",
     "output_type": "stream",
     "text": [
      "alpha=2.428e-03, time=0.13s, n_iter=1\n"
     ]
    },
    {
     "name": "stderr",
     "output_type": "stream",
     "text": [
      "Iteration 0:  40%|███████▏          | 0.8/2.0 [0.07s/it, gradient norm=0.0015744887262956553]\n"
     ]
    },
    {
     "name": "stdout",
     "output_type": "stream",
     "text": [
      "alpha=2.038e-03, time=0.15s, n_iter=1\n"
     ]
    },
    {
     "name": "stderr",
     "output_type": "stream",
     "text": [
      "Iteration 0:  44%|███████▊          | 0.87/2.0 [0.05s/it, gradient norm=0.001363980031611684]\n"
     ]
    },
    {
     "name": "stdout",
     "output_type": "stream",
     "text": [
      "alpha=1.711e-03, time=0.14s, n_iter=1\n"
     ]
    },
    {
     "name": "stderr",
     "output_type": "stream",
     "text": [
      "Iteration 0:  46%|███████▉         | 0.93/2.0 [0.05s/it, gradient norm=0.0011871228043930583]\n"
     ]
    },
    {
     "name": "stdout",
     "output_type": "stream",
     "text": [
      "alpha=1.437e-03, time=0.14s, n_iter=1\n"
     ]
    },
    {
     "name": "stderr",
     "output_type": "stream",
     "text": [
      "Iteration 0:  49%|████████▎        | 0.98/2.0 [0.07s/it, gradient norm=0.0010395516357531046]\n"
     ]
    },
    {
     "name": "stdout",
     "output_type": "stream",
     "text": [
      "alpha=1.206e-03, time=0.16s, n_iter=1\n"
     ]
    },
    {
     "name": "stderr",
     "output_type": "stream",
     "text": [
      "Iteration 0:   4%|▋                | 0.04/1.0 [0.05s/it, gradient norm=0.0009018830397026107]\n"
     ]
    },
    {
     "name": "stdout",
     "output_type": "stream",
     "text": [
      "alpha=1.013e-03, time=0.18s, n_iter=1\n"
     ]
    },
    {
     "name": "stderr",
     "output_type": "stream",
     "text": [
      "Iteration 0:  11%|█▊               | 0.11/1.0 [0.08s/it, gradient norm=0.0007794180521658641]\n"
     ]
    },
    {
     "name": "stdout",
     "output_type": "stream",
     "text": [
      "alpha=8.501e-04, time=0.20s, n_iter=1\n"
     ]
    },
    {
     "name": "stderr",
     "output_type": "stream",
     "text": [
      "Iteration 0:  18%|███              | 0.18/1.0 [0.07s/it, gradient norm=0.0006578383256083496]\n"
     ]
    },
    {
     "name": "stdout",
     "output_type": "stream",
     "text": [
      "alpha=7.137e-04, time=0.16s, n_iter=1\n"
     ]
    },
    {
     "name": "stderr",
     "output_type": "stream",
     "text": [
      "Iteration 0:  26%|████▍            | 0.26/1.0 [0.07s/it, gradient norm=0.0005545968182132252]\n"
     ]
    },
    {
     "name": "stdout",
     "output_type": "stream",
     "text": [
      "alpha=5.992e-04, time=0.18s, n_iter=1\n"
     ]
    },
    {
     "name": "stderr",
     "output_type": "stream",
     "text": [
      "Iteration 0:  33%|█████▌           | 0.33/1.0 [0.08s/it, gradient norm=0.0004684646308890243]\n"
     ]
    },
    {
     "name": "stdout",
     "output_type": "stream",
     "text": [
      "alpha=5.031e-04, time=0.16s, n_iter=1\n"
     ]
    },
    {
     "name": "stderr",
     "output_type": "stream",
     "text": [
      "Iteration 0:  40%|███████▏          | 0.4/1.0 [0.08s/it, gradient norm=0.0003965979275363243]\n"
     ]
    },
    {
     "name": "stdout",
     "output_type": "stream",
     "text": [
      "alpha=4.223e-04, time=0.19s, n_iter=1\n"
     ]
    },
    {
     "name": "stderr",
     "output_type": "stream",
     "text": [
      "Iteration 0:  47%|████████▉          | 0.47/1.0 [0.06s/it, gradient norm=0.00033573475569184]\n"
     ]
    },
    {
     "name": "stdout",
     "output_type": "stream",
     "text": [
      "alpha=3.546e-04, time=0.15s, n_iter=1\n"
     ]
    },
    {
     "name": "stderr",
     "output_type": "stream",
     "text": [
      "Iteration 0:  55%|█████████▎       | 0.55/1.0 [0.07s/it, gradient norm=0.0002844140300822073]\n"
     ]
    },
    {
     "name": "stdout",
     "output_type": "stream",
     "text": [
      "alpha=2.977e-04, time=0.15s, n_iter=1\n"
     ]
    },
    {
     "name": "stderr",
     "output_type": "stream",
     "text": [
      "Iteration 0:  62%|█████████▉      | 0.62/1.0 [0.05s/it, gradient norm=0.00024225321271699883]\n"
     ]
    },
    {
     "name": "stdout",
     "output_type": "stream",
     "text": [
      "alpha=2.499e-04, time=0.14s, n_iter=1\n"
     ]
    },
    {
     "name": "stderr",
     "output_type": "stream",
     "text": [
      "Iteration 0:  69%|███████████     | 0.69/1.0 [0.04s/it, gradient norm=0.00020574549500601346]\n"
     ]
    },
    {
     "name": "stdout",
     "output_type": "stream",
     "text": [
      "alpha=2.098e-04, time=0.12s, n_iter=1\n"
     ]
    },
    {
     "name": "stderr",
     "output_type": "stream",
     "text": [
      "Iteration 0:  75%|████████████    | 0.75/1.0 [0.05s/it, gradient norm=0.00017624134484399935]\n"
     ]
    },
    {
     "name": "stdout",
     "output_type": "stream",
     "text": [
      "alpha=1.762e-04, time=0.15s, n_iter=1\n"
     ]
    },
    {
     "name": "stderr",
     "output_type": "stream",
     "text": [
      "Iteration 0:  82%|█████████████   | 0.82/1.0 [0.05s/it, gradient norm=0.00015064972250825793]\n"
     ]
    },
    {
     "name": "stdout",
     "output_type": "stream",
     "text": [
      "alpha=1.479e-04, time=0.13s, n_iter=1\n"
     ]
    },
    {
     "name": "stderr",
     "output_type": "stream",
     "text": [
      "Iteration 0:  89%|██████████████▏ | 0.89/1.0 [0.05s/it, gradient norm=0.00012941525151960464]\n"
     ]
    },
    {
     "name": "stdout",
     "output_type": "stream",
     "text": [
      "alpha=1.242e-04, time=0.16s, n_iter=1\n"
     ]
    },
    {
     "name": "stderr",
     "output_type": "stream",
     "text": [
      "Iteration 0:  95%|███████████████▏| 0.95/1.0 [0.05s/it, gradient norm=0.00011107209007230599]\n"
     ]
    },
    {
     "name": "stdout",
     "output_type": "stream",
     "text": [
      "alpha=1.042e-04, time=0.13s, n_iter=1\n"
     ]
    },
    {
     "name": "stderr",
     "output_type": "stream",
     "text": [
      "Iteration 0: |                           | 0/-0.0 [s/it, gradient norm=9.600564225785256e-05]\n"
     ]
    },
    {
     "name": "stdout",
     "output_type": "stream",
     "text": [
      "alpha=8.752e-05, time=0.06s, n_iter=0\n"
     ]
    },
    {
     "name": "stderr",
     "output_type": "stream",
     "text": [
      "Iteration 0:  79%|█████████████▍   | 0.79/1.0 [0.06s/it, gradient norm=0.0001618193240773099]\n"
     ]
    },
    {
     "name": "stdout",
     "output_type": "stream",
     "text": [
      "alpha=7.348e-05, time=0.17s, n_iter=1\n"
     ]
    },
    {
     "name": "stderr",
     "output_type": "stream",
     "text": [
      "Iteration 0: |                           | 0/-0.0 [s/it, gradient norm=7.348792998763867e-05]\n"
     ]
    },
    {
     "name": "stdout",
     "output_type": "stream",
     "text": [
      "alpha=6.169e-05, time=0.08s, n_iter=0\n"
     ]
    },
    {
     "name": "stderr",
     "output_type": "stream",
     "text": [
      "Iteration 0:  92%|██████████████▋ | 0.92/1.0 [0.06s/it, gradient norm=0.00011987719087923203]\n"
     ]
    },
    {
     "name": "stdout",
     "output_type": "stream",
     "text": [
      "alpha=5.179e-05, time=0.15s, n_iter=1\n"
     ]
    },
    {
     "name": "stderr",
     "output_type": "stream",
     "text": [
      "Iteration 0: |                           | 0/-0.0 [s/it, gradient norm=5.642032396931408e-05]\n"
     ]
    },
    {
     "name": "stdout",
     "output_type": "stream",
     "text": [
      "alpha=4.348e-05, time=0.06s, n_iter=0\n"
     ]
    },
    {
     "name": "stderr",
     "output_type": "stream",
     "text": [
      "Iteration 0: |                           | 0/-0.0 [s/it, gradient norm=8.911813795838196e-05]\n"
     ]
    },
    {
     "name": "stdout",
     "output_type": "stream",
     "text": [
      "alpha=3.651e-05, time=0.07s, n_iter=0\n"
     ]
    },
    {
     "name": "stderr",
     "output_type": "stream",
     "text": [
      "Iteration 0:  93%|██████████████▉ | 0.93/1.0 [0.06s/it, gradient norm=0.00011656984476310151]\n"
     ]
    },
    {
     "name": "stdout",
     "output_type": "stream",
     "text": [
      "alpha=3.065e-05, time=0.17s, n_iter=1\n"
     ]
    },
    {
     "name": "stderr",
     "output_type": "stream",
     "text": [
      "Iteration 0: |                          | 0/-0.0 [s/it, gradient norm=4.0618232989371777e-05]\n"
     ]
    },
    {
     "name": "stdout",
     "output_type": "stream",
     "text": [
      "alpha=2.573e-05, time=0.06s, n_iter=0\n"
     ]
    },
    {
     "name": "stderr",
     "output_type": "stream",
     "text": [
      "Iteration 0: |                           | 0/-0.0 [s/it, gradient norm=5.996777177337541e-05]\n"
     ]
    },
    {
     "name": "stdout",
     "output_type": "stream",
     "text": [
      "alpha=2.160e-05, time=0.06s, n_iter=0\n"
     ]
    },
    {
     "name": "stderr",
     "output_type": "stream",
     "text": [
      "Iteration 0: |                           | 0/-0.0 [s/it, gradient norm=7.621282918555025e-05]\n"
     ]
    },
    {
     "name": "stdout",
     "output_type": "stream",
     "text": [
      "alpha=1.814e-05, time=0.05s, n_iter=0\n"
     ]
    },
    {
     "name": "stderr",
     "output_type": "stream",
     "text": [
      "Iteration 0: |                           | 0/-0.0 [s/it, gradient norm=8.985149485457494e-05]\n"
     ]
    },
    {
     "name": "stdout",
     "output_type": "stream",
     "text": [
      "alpha=1.523e-05, time=0.06s, n_iter=0\n"
     ]
    },
    {
     "name": "stderr",
     "output_type": "stream",
     "text": [
      "Iteration 0:  99%|███████████████▊| 0.99/1.0 [0.08s/it, gradient norm=0.00010130194384418746]\n"
     ]
    },
    {
     "name": "stdout",
     "output_type": "stream",
     "text": [
      "alpha=1.278e-05, time=0.18s, n_iter=1\n"
     ]
    },
    {
     "name": "stderr",
     "output_type": "stream",
     "text": [
      "Iteration 0: |                          | 0/-0.0 [s/it, gradient norm=2.6956172521150873e-05]\n"
     ]
    },
    {
     "name": "stdout",
     "output_type": "stream",
     "text": [
      "alpha=1.073e-05, time=0.07s, n_iter=0\n"
     ]
    },
    {
     "name": "stderr",
     "output_type": "stream",
     "text": [
      "Iteration 0: |                          | 0/-0.0 [s/it, gradient norm=3.5027106266540837e-05]\n"
     ]
    },
    {
     "name": "stdout",
     "output_type": "stream",
     "text": [
      "alpha=9.011e-06, time=0.07s, n_iter=0\n"
     ]
    },
    {
     "name": "stderr",
     "output_type": "stream",
     "text": [
      "Iteration 0: |                          | 0/-0.0 [s/it, gradient norm=4.1803122146160136e-05]\n"
     ]
    },
    {
     "name": "stdout",
     "output_type": "stream",
     "text": [
      "alpha=7.565e-06, time=0.08s, n_iter=0\n"
     ]
    },
    {
     "name": "stderr",
     "output_type": "stream",
     "text": [
      "Iteration 0: |                          | 0/-0.0 [s/it, gradient norm=4.7491979550928065e-05]\n"
     ]
    },
    {
     "name": "stdout",
     "output_type": "stream",
     "text": [
      "alpha=6.352e-06, time=0.08s, n_iter=0\n"
     ]
    },
    {
     "name": "stderr",
     "output_type": "stream",
     "text": [
      "Iteration 0: |                          | 0/-0.0 [s/it, gradient norm=5.2268104510895104e-05]\n"
     ]
    },
    {
     "name": "stdout",
     "output_type": "stream",
     "text": [
      "alpha=5.333e-06, time=0.07s, n_iter=0\n"
     ]
    },
    {
     "name": "stderr",
     "output_type": "stream",
     "text": [
      "Iteration 0: |                           | 0/-0.0 [s/it, gradient norm=5.627793777092755e-05]\n"
     ]
    },
    {
     "name": "stdout",
     "output_type": "stream",
     "text": [
      "alpha=4.477e-06, time=0.07s, n_iter=0\n"
     ]
    },
    {
     "name": "stderr",
     "output_type": "stream",
     "text": [
      "Iteration 0: |                            | 0/-0.0 [s/it, gradient norm=5.96444248096949e-05]\n"
     ]
    },
    {
     "name": "stdout",
     "output_type": "stream",
     "text": [
      "alpha=3.759e-06, time=0.06s, n_iter=0\n"
     ]
    },
    {
     "name": "stderr",
     "output_type": "stream",
     "text": [
      "Iteration 0: |                            | 0/-0.0 [s/it, gradient norm=6.24707854704115e-05]\n"
     ]
    },
    {
     "name": "stdout",
     "output_type": "stream",
     "text": [
      "alpha=3.156e-06, time=0.06s, n_iter=0\n"
     ]
    },
    {
     "name": "stderr",
     "output_type": "stream",
     "text": [
      "Iteration 0: |                           | 0/-0.0 [s/it, gradient norm=6.484367878396227e-05]\n"
     ]
    },
    {
     "name": "stdout",
     "output_type": "stream",
     "text": [
      "alpha=2.649e-06, time=0.05s, n_iter=0\n"
     ]
    },
    {
     "name": "stderr",
     "output_type": "stream",
     "text": [
      "Iteration 0: |                           | 0/-0.0 [s/it, gradient norm=6.683586002103986e-05]\n"
     ]
    },
    {
     "name": "stdout",
     "output_type": "stream",
     "text": [
      "alpha=2.224e-06, time=0.05s, n_iter=0\n"
     ]
    },
    {
     "name": "stderr",
     "output_type": "stream",
     "text": [
      "Iteration 0: |                           | 0/-0.0 [s/it, gradient norm=6.850841144115628e-05]\n"
     ]
    },
    {
     "name": "stdout",
     "output_type": "stream",
     "text": [
      "alpha=1.867e-06, time=0.06s, n_iter=0\n"
     ]
    },
    {
     "name": "stderr",
     "output_type": "stream",
     "text": [
      "Iteration 0: |                           | 0/-0.0 [s/it, gradient norm=6.991261513551347e-05]\n"
     ]
    },
    {
     "name": "stdout",
     "output_type": "stream",
     "text": [
      "alpha=1.568e-06, time=0.06s, n_iter=0\n"
     ]
    },
    {
     "name": "stderr",
     "output_type": "stream",
     "text": [
      "Iteration 0: |                           | 0/-0.0 [s/it, gradient norm=7.109152538695978e-05]\n"
     ]
    },
    {
     "name": "stdout",
     "output_type": "stream",
     "text": [
      "alpha=1.316e-06, time=0.06s, n_iter=0\n"
     ]
    },
    {
     "name": "stderr",
     "output_type": "stream",
     "text": [
      "Iteration 0: |                           | 0/-0.0 [s/it, gradient norm=7.208128875715338e-05]\n"
     ]
    },
    {
     "name": "stdout",
     "output_type": "stream",
     "text": [
      "alpha=1.105e-06, time=0.05s, n_iter=0\n"
     ]
    },
    {
     "name": "stderr",
     "output_type": "stream",
     "text": [
      "Iteration 0: |                           | 0/-0.0 [s/it, gradient norm=7.291225237611853e-05]\n"
     ]
    },
    {
     "name": "stdout",
     "output_type": "stream",
     "text": [
      "alpha=9.278e-07, time=0.06s, n_iter=0\n"
     ]
    },
    {
     "name": "stderr",
     "output_type": "stream",
     "text": [
      "Iteration 0: |                            | 0/-0.0 [s/it, gradient norm=7.36098944154563e-05]\n"
     ]
    },
    {
     "name": "stdout",
     "output_type": "stream",
     "text": [
      "alpha=7.789e-07, time=0.06s, n_iter=0\n"
     ]
    },
    {
     "name": "stderr",
     "output_type": "stream",
     "text": [
      "Iteration 0: |                           | 0/-0.0 [s/it, gradient norm=7.419560527444369e-05]\n"
     ]
    },
    {
     "name": "stdout",
     "output_type": "stream",
     "text": [
      "alpha=6.539e-07, time=0.05s, n_iter=0\n"
     ]
    },
    {
     "name": "stderr",
     "output_type": "stream",
     "text": [
      "Iteration 0: |                           | 0/-0.0 [s/it, gradient norm=7.468734343096505e-05]\n"
     ]
    },
    {
     "name": "stdout",
     "output_type": "stream",
     "text": [
      "alpha=5.490e-07, time=0.06s, n_iter=0\n"
     ]
    },
    {
     "name": "stderr",
     "output_type": "stream",
     "text": [
      "Iteration 0: |                             | 0/? [s/it, gradient norm=1.9081958235744878e-17]\n"
     ]
    },
    {
     "name": "stdout",
     "output_type": "stream",
     "text": [
      "alpha=5.490e-01, time=0.06s, n_iter=0\n"
     ]
    },
    {
     "name": "stderr",
     "output_type": "stream",
     "text": [
      "Iteration 1:  60%|███████████▍       | 1.2/2.0 [0.08s/it, gradient norm=0.000635373501440304]\n"
     ]
    },
    {
     "name": "stdout",
     "output_type": "stream",
     "text": [
      "alpha=4.609e-01, time=0.21s, n_iter=2\n"
     ]
    },
    {
     "name": "stderr",
     "output_type": "stream",
     "text": [
      "Iteration 1:  63%|██████████▋      | 1.26/2.0 [0.08s/it, gradient norm=0.0005436579883288223]\n"
     ]
    },
    {
     "name": "stdout",
     "output_type": "stream",
     "text": [
      "alpha=3.870e-01, time=0.21s, n_iter=2\n"
     ]
    },
    {
     "name": "stderr",
     "output_type": "stream",
     "text": [
      "Iteration 1:  74%|████████████▍    | 1.47/2.0 [0.08s/it, gradient norm=0.0003393928355872279]\n"
     ]
    },
    {
     "name": "stdout",
     "output_type": "stream",
     "text": [
      "alpha=3.249e-01, time=0.20s, n_iter=2\n"
     ]
    },
    {
     "name": "stderr",
     "output_type": "stream",
     "text": [
      "Iteration 1:  83%|█████████████▎  | 1.66/2.0 [0.05s/it, gradient norm=0.00021910200101375905]\n"
     ]
    },
    {
     "name": "stdout",
     "output_type": "stream",
     "text": [
      "alpha=2.728e-01, time=0.15s, n_iter=2\n"
     ]
    },
    {
     "name": "stderr",
     "output_type": "stream",
     "text": [
      "Iteration 1:  92%|██████████████▋ | 1.84/2.0 [0.08s/it, gradient norm=0.00014399034895775644]\n"
     ]
    },
    {
     "name": "stdout",
     "output_type": "stream",
     "text": [
      "alpha=2.290e-01, time=0.18s, n_iter=2\n"
     ]
    },
    {
     "name": "stderr",
     "output_type": "stream",
     "text": [
      "Iteration 0:  30%|█████            | 0.59/2.0 [0.03s/it, gradient norm=0.0025762460480714387]\n"
     ]
    },
    {
     "name": "stdout",
     "output_type": "stream",
     "text": [
      "alpha=1.923e-01, time=0.11s, n_iter=1\n"
     ]
    },
    {
     "name": "stderr",
     "output_type": "stream",
     "text": [
      "Iteration 0:  34%|██████            | 0.67/2.0 [0.06s/it, gradient norm=0.002124264490768457]\n"
     ]
    },
    {
     "name": "stdout",
     "output_type": "stream",
     "text": [
      "alpha=1.614e-01, time=0.13s, n_iter=1\n"
     ]
    },
    {
     "name": "stderr",
     "output_type": "stream",
     "text": [
      "Iteration 0:  38%|██████▍          | 0.75/2.0 [0.06s/it, gradient norm=0.0017918559542274472]\n"
     ]
    },
    {
     "name": "stdout",
     "output_type": "stream",
     "text": [
      "alpha=1.355e-01, time=0.13s, n_iter=1\n"
     ]
    },
    {
     "name": "stderr",
     "output_type": "stream",
     "text": [
      "Iteration 0:  41%|███████▍          | 0.82/2.0 [0.04s/it, gradient norm=0.001507685173147982]\n"
     ]
    },
    {
     "name": "stdout",
     "output_type": "stream",
     "text": [
      "alpha=1.138e-01, time=0.10s, n_iter=1\n"
     ]
    },
    {
     "name": "stderr",
     "output_type": "stream",
     "text": [
      "Iteration 0:  45%|████████          | 0.9/2.0 [0.05s/it, gradient norm=0.0012681935966024345]\n"
     ]
    },
    {
     "name": "stdout",
     "output_type": "stream",
     "text": [
      "alpha=9.552e-02, time=0.14s, n_iter=1\n"
     ]
    },
    {
     "name": "stderr",
     "output_type": "stream",
     "text": [
      "Iteration 0:  48%|█████████▏         | 0.97/2.0 [0.04s/it, gradient norm=0.00106638715423314]\n"
     ]
    },
    {
     "name": "stdout",
     "output_type": "stream",
     "text": [
      "alpha=8.020e-02, time=0.12s, n_iter=1\n"
     ]
    },
    {
     "name": "stderr",
     "output_type": "stream",
     "text": [
      "Iteration 0:   5%|▉                 | 0.05/1.0 [0.06s/it, gradient norm=0.000896453676199819]\n"
     ]
    },
    {
     "name": "stdout",
     "output_type": "stream",
     "text": [
      "alpha=6.733e-02, time=0.13s, n_iter=1\n"
     ]
    },
    {
     "name": "stderr",
     "output_type": "stream",
     "text": [
      "Iteration 0:  12%|██               | 0.12/1.0 [0.07s/it, gradient norm=0.0007549457916394948]\n"
     ]
    },
    {
     "name": "stdout",
     "output_type": "stream",
     "text": [
      "alpha=5.653e-02, time=0.14s, n_iter=1\n"
     ]
    },
    {
     "name": "stderr",
     "output_type": "stream",
     "text": [
      "Iteration 0:   3%|▌                 | 0.03/1.0 [0.07s/it, gradient norm=0.000934590296238325]\n"
     ]
    },
    {
     "name": "stdout",
     "output_type": "stream",
     "text": [
      "alpha=4.746e-02, time=0.14s, n_iter=1\n"
     ]
    },
    {
     "name": "stderr",
     "output_type": "stream",
     "text": [
      "Iteration 0:  49%|████████▎        | 0.98/2.0 [0.03s/it, gradient norm=0.0010585779267137363]\n"
     ]
    },
    {
     "name": "stdout",
     "output_type": "stream",
     "text": [
      "alpha=3.984e-02, time=0.09s, n_iter=1\n"
     ]
    },
    {
     "name": "stderr",
     "output_type": "stream",
     "text": [
      "Iteration 0:  37%|██████▎          | 0.74/2.0 [0.05s/it, gradient norm=0.0018073454542358513]\n"
     ]
    },
    {
     "name": "stdout",
     "output_type": "stream",
     "text": [
      "alpha=3.345e-02, time=0.14s, n_iter=1\n"
     ]
    },
    {
     "name": "stderr",
     "output_type": "stream",
     "text": [
      "Iteration 0:  40%|███████           | 0.79/2.0 [0.07s/it, gradient norm=0.001625850703507951]\n"
     ]
    },
    {
     "name": "stdout",
     "output_type": "stream",
     "text": [
      "alpha=2.808e-02, time=0.15s, n_iter=1\n"
     ]
    },
    {
     "name": "stderr",
     "output_type": "stream",
     "text": [
      "Iteration 0:  38%|██████▍          | 0.76/2.0 [0.04s/it, gradient norm=0.0017404520942895453]\n"
     ]
    },
    {
     "name": "stdout",
     "output_type": "stream",
     "text": [
      "alpha=2.358e-02, time=0.11s, n_iter=1\n"
     ]
    },
    {
     "name": "stderr",
     "output_type": "stream",
     "text": [
      "Iteration 0:  37%|██████▎          | 0.74/2.0 [0.05s/it, gradient norm=0.0018296174527344304]\n"
     ]
    },
    {
     "name": "stdout",
     "output_type": "stream",
     "text": [
      "alpha=1.979e-02, time=0.12s, n_iter=1\n"
     ]
    },
    {
     "name": "stderr",
     "output_type": "stream",
     "text": [
      "Iteration 0:  40%|███████▏          | 0.8/2.0 [0.05s/it, gradient norm=0.0015868900599674282]\n"
     ]
    },
    {
     "name": "stdout",
     "output_type": "stream",
     "text": [
      "alpha=1.662e-02, time=0.13s, n_iter=1\n"
     ]
    },
    {
     "name": "stderr",
     "output_type": "stream",
     "text": [
      "Iteration 0:  30%|█████▎            | 0.59/2.0 [0.06s/it, gradient norm=0.002544063638116701]\n"
     ]
    },
    {
     "name": "stdout",
     "output_type": "stream",
     "text": [
      "alpha=1.395e-02, time=0.14s, n_iter=1\n"
     ]
    },
    {
     "name": "stderr",
     "output_type": "stream",
     "text": [
      "Iteration 0:  32%|█████▊            | 0.64/2.0 [0.08s/it, gradient norm=0.002277347981769179]\n"
     ]
    },
    {
     "name": "stdout",
     "output_type": "stream",
     "text": [
      "alpha=1.171e-02, time=0.16s, n_iter=1\n"
     ]
    },
    {
     "name": "stderr",
     "output_type": "stream",
     "text": [
      "Iteration 0:  36%|██████           | 0.72/2.0 [0.07s/it, gradient norm=0.0019106938970194364]\n"
     ]
    },
    {
     "name": "stdout",
     "output_type": "stream",
     "text": [
      "alpha=9.835e-03, time=0.15s, n_iter=1\n"
     ]
    },
    {
     "name": "stderr",
     "output_type": "stream",
     "text": [
      "Iteration 0:  40%|██████▋          | 0.79/2.0 [0.05s/it, gradient norm=0.0016032922710057522]\n"
     ]
    },
    {
     "name": "stdout",
     "output_type": "stream",
     "text": [
      "alpha=8.257e-03, time=0.11s, n_iter=1\n"
     ]
    },
    {
     "name": "stderr",
     "output_type": "stream",
     "text": [
      "Iteration 0:  36%|██████           | 0.71/2.0 [0.05s/it, gradient norm=0.0019586162668101758]\n"
     ]
    },
    {
     "name": "stdout",
     "output_type": "stream",
     "text": [
      "alpha=6.932e-03, time=0.13s, n_iter=1\n"
     ]
    },
    {
     "name": "stderr",
     "output_type": "stream",
     "text": [
      "Iteration 0:  33%|█████▌           | 0.66/2.0 [0.04s/it, gradient norm=0.0021911534138063906]\n"
     ]
    },
    {
     "name": "stdout",
     "output_type": "stream",
     "text": [
      "alpha=5.820e-03, time=0.10s, n_iter=1\n"
     ]
    },
    {
     "name": "stderr",
     "output_type": "stream",
     "text": [
      "Iteration 0:  37%|██████▎          | 0.74/2.0 [0.03s/it, gradient norm=0.0018388510410654968]\n"
     ]
    },
    {
     "name": "stdout",
     "output_type": "stream",
     "text": [
      "alpha=4.886e-03, time=0.10s, n_iter=1\n"
     ]
    },
    {
     "name": "stderr",
     "output_type": "stream",
     "text": [
      "Iteration 0:  40%|███████▎          | 0.81/2.0 [0.04s/it, gradient norm=0.001543136991840739]\n"
     ]
    },
    {
     "name": "stdout",
     "output_type": "stream",
     "text": [
      "alpha=4.102e-03, time=0.13s, n_iter=1\n"
     ]
    },
    {
     "name": "stderr",
     "output_type": "stream",
     "text": [
      "Iteration 0:  44%|███████▌         | 0.89/2.0 [0.06s/it, gradient norm=0.0012950211216453563]\n"
     ]
    },
    {
     "name": "stdout",
     "output_type": "stream",
     "text": [
      "alpha=3.444e-03, time=0.12s, n_iter=1\n"
     ]
    },
    {
     "name": "stderr",
     "output_type": "stream",
     "text": [
      "Iteration 0:  46%|███████▊         | 0.92/2.0 [0.05s/it, gradient norm=0.0011969254346381587]\n"
     ]
    },
    {
     "name": "stdout",
     "output_type": "stream",
     "text": [
      "alpha=2.891e-03, time=0.15s, n_iter=1\n"
     ]
    },
    {
     "name": "stderr",
     "output_type": "stream",
     "text": [
      "Iteration 0:  36%|██████▌           | 0.73/2.0 [0.08s/it, gradient norm=0.001840998930575178]\n"
     ]
    },
    {
     "name": "stdout",
     "output_type": "stream",
     "text": [
      "alpha=2.428e-03, time=0.17s, n_iter=1\n"
     ]
    },
    {
     "name": "stderr",
     "output_type": "stream",
     "text": [
      "Iteration 0:  40%|██████▉          | 0.81/2.0 [0.06s/it, gradient norm=0.0015485153023835053]\n"
     ]
    },
    {
     "name": "stdout",
     "output_type": "stream",
     "text": [
      "alpha=2.038e-03, time=0.17s, n_iter=1\n"
     ]
    },
    {
     "name": "stderr",
     "output_type": "stream",
     "text": [
      "Iteration 0:  44%|████████▍          | 0.89/2.0 [0.07s/it, gradient norm=0.00129979920109219]\n"
     ]
    },
    {
     "name": "stdout",
     "output_type": "stream",
     "text": [
      "alpha=1.711e-03, time=0.18s, n_iter=1\n"
     ]
    },
    {
     "name": "stderr",
     "output_type": "stream",
     "text": [
      "Iteration 0:  48%|████████▌         | 0.95/2.0 [0.07s/it, gradient norm=0.001121475890098244]\n"
     ]
    },
    {
     "name": "stdout",
     "output_type": "stream",
     "text": [
      "alpha=1.437e-03, time=0.17s, n_iter=1\n"
     ]
    },
    {
     "name": "stderr",
     "output_type": "stream",
     "text": [
      "Iteration 0:   1%|▏                | 0.01/1.0 [0.06s/it, gradient norm=0.0009704669599784369]\n"
     ]
    },
    {
     "name": "stdout",
     "output_type": "stream",
     "text": [
      "alpha=1.206e-03, time=0.16s, n_iter=1\n"
     ]
    },
    {
     "name": "stderr",
     "output_type": "stream",
     "text": [
      "Iteration 0:   7%|█▏               | 0.07/1.0 [0.06s/it, gradient norm=0.0008478657015102748]\n"
     ]
    },
    {
     "name": "stdout",
     "output_type": "stream",
     "text": [
      "alpha=1.013e-03, time=0.15s, n_iter=1\n"
     ]
    },
    {
     "name": "stderr",
     "output_type": "stream",
     "text": [
      "Iteration 0:  13%|██▏              | 0.13/1.0 [0.06s/it, gradient norm=0.0007436946016614904]\n"
     ]
    },
    {
     "name": "stdout",
     "output_type": "stream",
     "text": [
      "alpha=8.501e-04, time=0.14s, n_iter=1\n"
     ]
    },
    {
     "name": "stderr",
     "output_type": "stream",
     "text": [
      "Iteration 0:  19%|███▏             | 0.19/1.0 [0.06s/it, gradient norm=0.0006451758175760386]\n"
     ]
    },
    {
     "name": "stdout",
     "output_type": "stream",
     "text": [
      "alpha=7.137e-04, time=0.14s, n_iter=1\n"
     ]
    },
    {
     "name": "stderr",
     "output_type": "stream",
     "text": [
      "Iteration 0:  25%|████▎            | 0.25/1.0 [0.04s/it, gradient norm=0.0005560103224800935]\n"
     ]
    },
    {
     "name": "stdout",
     "output_type": "stream",
     "text": [
      "alpha=5.992e-04, time=0.12s, n_iter=1\n"
     ]
    },
    {
     "name": "stderr",
     "output_type": "stream",
     "text": [
      "Iteration 0:  33%|█████▎          | 0.33/1.0 [0.05s/it, gradient norm=0.00046931728471922955]\n"
     ]
    },
    {
     "name": "stdout",
     "output_type": "stream",
     "text": [
      "alpha=5.031e-04, time=0.12s, n_iter=1\n"
     ]
    },
    {
     "name": "stderr",
     "output_type": "stream",
     "text": [
      "Iteration 0:  40%|██████▊          | 0.4/1.0 [0.07s/it, gradient norm=0.00039711607445045533]\n"
     ]
    },
    {
     "name": "stdout",
     "output_type": "stream",
     "text": [
      "alpha=4.223e-04, time=0.17s, n_iter=1\n"
     ]
    },
    {
     "name": "stderr",
     "output_type": "stream",
     "text": [
      "Iteration 0:  47%|███████▌        | 0.47/1.0 [0.06s/it, gradient norm=0.00033605292016042966]\n"
     ]
    },
    {
     "name": "stdout",
     "output_type": "stream",
     "text": [
      "alpha=3.546e-04, time=0.15s, n_iter=1\n"
     ]
    },
    {
     "name": "stderr",
     "output_type": "stream",
     "text": [
      "Iteration 0:  54%|█████████▏       | 0.54/1.0 [0.05s/it, gradient norm=0.0002856104886491356]\n"
     ]
    },
    {
     "name": "stdout",
     "output_type": "stream",
     "text": [
      "alpha=2.977e-04, time=0.12s, n_iter=1\n"
     ]
    },
    {
     "name": "stderr",
     "output_type": "stream",
     "text": [
      "Iteration 0:  61%|█████████▊      | 0.61/1.0 [0.05s/it, gradient norm=0.00024303331607221953]\n"
     ]
    },
    {
     "name": "stdout",
     "output_type": "stream",
     "text": [
      "alpha=2.499e-04, time=0.14s, n_iter=1\n"
     ]
    },
    {
     "name": "stderr",
     "output_type": "stream",
     "text": [
      "Iteration 0:  69%|███████████     | 0.69/1.0 [0.06s/it, gradient norm=0.00020623616371638382]\n"
     ]
    },
    {
     "name": "stdout",
     "output_type": "stream",
     "text": [
      "alpha=2.098e-04, time=0.13s, n_iter=1\n"
     ]
    },
    {
     "name": "stderr",
     "output_type": "stream",
     "text": [
      "Iteration 0:  75%|████████████▊    | 0.75/1.0 [0.07s/it, gradient norm=0.0001765706504509607]\n"
     ]
    },
    {
     "name": "stdout",
     "output_type": "stream",
     "text": [
      "alpha=1.762e-04, time=0.16s, n_iter=1\n"
     ]
    },
    {
     "name": "stderr",
     "output_type": "stream",
     "text": [
      "Iteration 0:  82%|█████████████   | 0.82/1.0 [0.05s/it, gradient norm=0.00015085003101571366]\n"
     ]
    },
    {
     "name": "stdout",
     "output_type": "stream",
     "text": [
      "alpha=1.479e-04, time=0.13s, n_iter=1\n"
     ]
    },
    {
     "name": "stderr",
     "output_type": "stream",
     "text": [
      "Iteration 0:  89%|███████████████▏ | 0.89/1.0 [0.05s/it, gradient norm=0.0001295407403786009]\n"
     ]
    },
    {
     "name": "stdout",
     "output_type": "stream",
     "text": [
      "alpha=1.242e-04, time=0.14s, n_iter=1\n"
     ]
    },
    {
     "name": "stderr",
     "output_type": "stream",
     "text": [
      "Iteration 0:  95%|███████████████▏| 0.95/1.0 [0.05s/it, gradient norm=0.00011112632569098917]\n"
     ]
    },
    {
     "name": "stdout",
     "output_type": "stream",
     "text": [
      "alpha=1.042e-04, time=0.13s, n_iter=1\n"
     ]
    },
    {
     "name": "stderr",
     "output_type": "stream",
     "text": [
      "Iteration 0: |                           | 0/-0.0 [s/it, gradient norm=9.604589409033192e-05]\n"
     ]
    },
    {
     "name": "stdout",
     "output_type": "stream",
     "text": [
      "alpha=8.752e-05, time=0.06s, n_iter=0\n"
     ]
    },
    {
     "name": "stderr",
     "output_type": "stream",
     "text": [
      "Iteration 0:  79%|████████████▋   | 0.79/1.0 [0.05s/it, gradient norm=0.00016196326668076592]\n"
     ]
    },
    {
     "name": "stdout",
     "output_type": "stream",
     "text": [
      "alpha=7.348e-05, time=0.15s, n_iter=1\n"
     ]
    },
    {
     "name": "stderr",
     "output_type": "stream",
     "text": [
      "Iteration 0: |                           | 0/-0.0 [s/it, gradient norm=7.342726032404708e-05]\n"
     ]
    },
    {
     "name": "stdout",
     "output_type": "stream",
     "text": [
      "alpha=6.169e-05, time=0.07s, n_iter=0\n"
     ]
    },
    {
     "name": "stderr",
     "output_type": "stream",
     "text": [
      "Iteration 0:  92%|██████████████▋ | 0.92/1.0 [0.07s/it, gradient norm=0.00011988960842325307]\n"
     ]
    },
    {
     "name": "stdout",
     "output_type": "stream",
     "text": [
      "alpha=5.179e-05, time=0.17s, n_iter=1\n"
     ]
    },
    {
     "name": "stderr",
     "output_type": "stream",
     "text": [
      "Iteration 0: |                            | 0/-0.0 [s/it, gradient norm=5.71868165228605e-05]\n"
     ]
    },
    {
     "name": "stdout",
     "output_type": "stream",
     "text": [
      "alpha=4.348e-05, time=0.06s, n_iter=0\n"
     ]
    },
    {
     "name": "stderr",
     "output_type": "stream",
     "text": [
      "Iteration 0: |                           | 0/-0.0 [s/it, gradient norm=8.993614657132586e-05]\n"
     ]
    },
    {
     "name": "stdout",
     "output_type": "stream",
     "text": [
      "alpha=3.651e-05, time=0.06s, n_iter=0\n"
     ]
    },
    {
     "name": "stderr",
     "output_type": "stream",
     "text": [
      "Iteration 0:  93%|██████████████▉ | 0.93/1.0 [0.04s/it, gradient norm=0.00011743110408873182]\n"
     ]
    },
    {
     "name": "stdout",
     "output_type": "stream",
     "text": [
      "alpha=3.065e-05, time=0.11s, n_iter=1\n"
     ]
    },
    {
     "name": "stderr",
     "output_type": "stream",
     "text": [
      "Iteration 0: |                           | 0/-0.0 [s/it, gradient norm=4.046859284728117e-05]\n"
     ]
    },
    {
     "name": "stdout",
     "output_type": "stream",
     "text": [
      "alpha=2.573e-05, time=0.04s, n_iter=0\n"
     ]
    },
    {
     "name": "stderr",
     "output_type": "stream",
     "text": [
      "Iteration 0: |                           | 0/-0.0 [s/it, gradient norm=5.984861721633473e-05]\n"
     ]
    },
    {
     "name": "stdout",
     "output_type": "stream",
     "text": [
      "alpha=2.160e-05, time=0.05s, n_iter=0\n"
     ]
    },
    {
     "name": "stderr",
     "output_type": "stream",
     "text": [
      "Iteration 0: |                           | 0/-0.0 [s/it, gradient norm=7.611926904111592e-05]\n"
     ]
    },
    {
     "name": "stdout",
     "output_type": "stream",
     "text": [
      "alpha=1.814e-05, time=0.05s, n_iter=0\n"
     ]
    },
    {
     "name": "stderr",
     "output_type": "stream",
     "text": [
      "Iteration 0: |                            | 0/-0.0 [s/it, gradient norm=8.97794227004675e-05]\n"
     ]
    },
    {
     "name": "stdout",
     "output_type": "stream",
     "text": [
      "alpha=1.523e-05, time=0.05s, n_iter=0\n"
     ]
    },
    {
     "name": "stderr",
     "output_type": "stream",
     "text": [
      "Iteration 0:  99%|███████████████▊| 0.99/1.0 [0.04s/it, gradient norm=0.00010124791210129754]\n"
     ]
    },
    {
     "name": "stdout",
     "output_type": "stream",
     "text": [
      "alpha=1.278e-05, time=0.10s, n_iter=1\n"
     ]
    },
    {
     "name": "stderr",
     "output_type": "stream",
     "text": [
      "Iteration 0: |                           | 0/-0.0 [s/it, gradient norm=2.667769806590062e-05]\n"
     ]
    },
    {
     "name": "stdout",
     "output_type": "stream",
     "text": [
      "alpha=1.073e-05, time=0.04s, n_iter=0\n"
     ]
    },
    {
     "name": "stderr",
     "output_type": "stream",
     "text": [
      "Iteration 0: |                           | 0/-0.0 [s/it, gradient norm=3.476134772870206e-05]\n"
     ]
    },
    {
     "name": "stdout",
     "output_type": "stream",
     "text": [
      "alpha=9.011e-06, time=0.05s, n_iter=0\n"
     ]
    },
    {
     "name": "stderr",
     "output_type": "stream",
     "text": [
      "Iteration 0: |                           | 0/-0.0 [s/it, gradient norm=4.154803935675671e-05]\n"
     ]
    },
    {
     "name": "stdout",
     "output_type": "stream",
     "text": [
      "alpha=7.565e-06, time=0.05s, n_iter=0\n"
     ]
    },
    {
     "name": "stderr",
     "output_type": "stream",
     "text": [
      "Iteration 0: |                          | 0/-0.0 [s/it, gradient norm=4.7245859670056244e-05]\n"
     ]
    },
    {
     "name": "stdout",
     "output_type": "stream",
     "text": [
      "alpha=6.352e-06, time=0.05s, n_iter=0\n"
     ]
    },
    {
     "name": "stderr",
     "output_type": "stream",
     "text": [
      "Iteration 0: |                           | 0/-0.0 [s/it, gradient norm=5.202950951034739e-05]\n"
     ]
    },
    {
     "name": "stdout",
     "output_type": "stream",
     "text": [
      "alpha=5.333e-06, time=0.05s, n_iter=0\n"
     ]
    },
    {
     "name": "stderr",
     "output_type": "stream",
     "text": [
      "Iteration 0: |                           | 0/-0.0 [s/it, gradient norm=5.604566034281653e-05]\n"
     ]
    },
    {
     "name": "stdout",
     "output_type": "stream",
     "text": [
      "alpha=4.477e-06, time=0.05s, n_iter=0\n"
     ]
    },
    {
     "name": "stderr",
     "output_type": "stream",
     "text": [
      "Iteration 0: |                           | 0/-0.0 [s/it, gradient norm=5.941745134919187e-05]\n"
     ]
    },
    {
     "name": "stdout",
     "output_type": "stream",
     "text": [
      "alpha=3.759e-06, time=0.04s, n_iter=0\n"
     ]
    },
    {
     "name": "stderr",
     "output_type": "stream",
     "text": [
      "Iteration 0: |                           | 0/-0.0 [s/it, gradient norm=6.224826499761355e-05]\n"
     ]
    },
    {
     "name": "stdout",
     "output_type": "stream",
     "text": [
      "alpha=3.156e-06, time=0.04s, n_iter=0\n"
     ]
    },
    {
     "name": "stderr",
     "output_type": "stream",
     "text": [
      "Iteration 0: |                            | 0/-0.0 [s/it, gradient norm=6.46248968520015e-05]\n"
     ]
    },
    {
     "name": "stdout",
     "output_type": "stream",
     "text": [
      "alpha=2.649e-06, time=0.05s, n_iter=0\n"
     ]
    },
    {
     "name": "stderr",
     "output_type": "stream",
     "text": [
      "Iteration 0: |                           | 0/-0.0 [s/it, gradient norm=6.662021681043137e-05]\n"
     ]
    },
    {
     "name": "stdout",
     "output_type": "stream",
     "text": [
      "alpha=2.224e-06, time=0.06s, n_iter=0\n"
     ]
    },
    {
     "name": "stderr",
     "output_type": "stream",
     "text": [
      "Iteration 0: |                            | 0/-0.0 [s/it, gradient norm=6.82954033687357e-05]\n"
     ]
    },
    {
     "name": "stdout",
     "output_type": "stream",
     "text": [
      "alpha=1.867e-06, time=0.06s, n_iter=0\n"
     ]
    },
    {
     "name": "stderr",
     "output_type": "stream",
     "text": [
      "Iteration 0: |                           | 0/-0.0 [s/it, gradient norm=6.970181941407601e-05]\n"
     ]
    },
    {
     "name": "stdout",
     "output_type": "stream",
     "text": [
      "alpha=1.568e-06, time=0.07s, n_iter=0\n"
     ]
    },
    {
     "name": "stderr",
     "output_type": "stream",
     "text": [
      "Iteration 0: |                           | 0/-0.0 [s/it, gradient norm=7.088258706218371e-05]\n"
     ]
    },
    {
     "name": "stdout",
     "output_type": "stream",
     "text": [
      "alpha=1.316e-06, time=0.06s, n_iter=0\n"
     ]
    },
    {
     "name": "stderr",
     "output_type": "stream",
     "text": [
      "Iteration 0: |                           | 0/-0.0 [s/it, gradient norm=7.187390982434722e-05]\n"
     ]
    },
    {
     "name": "stdout",
     "output_type": "stream",
     "text": [
      "alpha=1.105e-06, time=0.08s, n_iter=0\n"
     ]
    },
    {
     "name": "stderr",
     "output_type": "stream",
     "text": [
      "Iteration 0: |                           | 0/-0.0 [s/it, gradient norm=7.270618264310065e-05]\n"
     ]
    },
    {
     "name": "stdout",
     "output_type": "stream",
     "text": [
      "alpha=9.278e-07, time=0.07s, n_iter=0\n"
     ]
    },
    {
     "name": "stderr",
     "output_type": "stream",
     "text": [
      "Iteration 0: |                            | 0/-0.0 [s/it, gradient norm=7.34049238314136e-05]\n"
     ]
    },
    {
     "name": "stdout",
     "output_type": "stream",
     "text": [
      "alpha=7.789e-07, time=0.06s, n_iter=0\n"
     ]
    },
    {
     "name": "stderr",
     "output_type": "stream",
     "text": [
      "Iteration 0: |                           | 0/-0.0 [s/it, gradient norm=7.399155748956461e-05]\n"
     ]
    },
    {
     "name": "stdout",
     "output_type": "stream",
     "text": [
      "alpha=6.539e-07, time=0.06s, n_iter=0\n"
     ]
    },
    {
     "name": "stderr",
     "output_type": "stream",
     "text": [
      "Iteration 0: |                           | 0/-0.0 [s/it, gradient norm=7.448407038937883e-05]\n"
     ]
    },
    {
     "name": "stdout",
     "output_type": "stream",
     "text": [
      "alpha=5.490e-07, time=0.06s, n_iter=0\n"
     ]
    },
    {
     "name": "stderr",
     "output_type": "stream",
     "text": [
      "Iteration 1:  94%|███████████████ | 1.89/2.0 [0.09s/it, gradient norm=0.00012759674888685292]\n"
     ]
    },
    {
     "name": "stdout",
     "output_type": "stream",
     "text": [
      "alpha=5.490e-01, time=0.24s, n_iter=2\n"
     ]
    },
    {
     "name": "stderr",
     "output_type": "stream",
     "text": [
      "Iteration 1:  56%|█████████▍       | 1.11/2.0 [0.07s/it, gradient norm=0.0007788297857372235]\n"
     ]
    },
    {
     "name": "stdout",
     "output_type": "stream",
     "text": [
      "alpha=4.609e-01, time=0.20s, n_iter=2\n"
     ]
    },
    {
     "name": "stderr",
     "output_type": "stream",
     "text": [
      "Iteration 1:  66%|███████████▉      | 1.33/2.0 [0.08s/it, gradient norm=0.000472863091659558]\n"
     ]
    },
    {
     "name": "stdout",
     "output_type": "stream",
     "text": [
      "alpha=3.870e-01, time=0.24s, n_iter=2\n"
     ]
    },
    {
     "name": "stderr",
     "output_type": "stream",
     "text": [
      "Iteration 1:  76%|████████████▉    | 1.52/2.0 [0.07s/it, gradient norm=0.0003003624982339456]\n"
     ]
    },
    {
     "name": "stdout",
     "output_type": "stream",
     "text": [
      "alpha=3.249e-01, time=0.18s, n_iter=2\n"
     ]
    },
    {
     "name": "stderr",
     "output_type": "stream",
     "text": [
      "Iteration 1:  86%|█████████████▋  | 1.71/2.0 [0.06s/it, gradient norm=0.00019543356094858452]\n"
     ]
    },
    {
     "name": "stdout",
     "output_type": "stream",
     "text": [
      "alpha=2.728e-01, time=0.18s, n_iter=2\n"
     ]
    },
    {
     "name": "stderr",
     "output_type": "stream",
     "text": [
      "Iteration 1:  94%|███████████████ | 1.89/2.0 [0.06s/it, gradient norm=0.00012966214586825195]\n"
     ]
    },
    {
     "name": "stdout",
     "output_type": "stream",
     "text": [
      "alpha=2.290e-01, time=0.17s, n_iter=2\n"
     ]
    },
    {
     "name": "stderr",
     "output_type": "stream",
     "text": [
      "Iteration 0:  30%|█████            | 0.59/2.0 [0.06s/it, gradient norm=0.0025527283583885695]\n"
     ]
    },
    {
     "name": "stdout",
     "output_type": "stream",
     "text": [
      "alpha=1.923e-01, time=0.14s, n_iter=1\n"
     ]
    },
    {
     "name": "stderr",
     "output_type": "stream",
     "text": [
      "Iteration 0:  34%|█████▊           | 0.68/2.0 [0.06s/it, gradient norm=0.0021081509689025754]\n"
     ]
    },
    {
     "name": "stdout",
     "output_type": "stream",
     "text": [
      "alpha=1.614e-01, time=0.14s, n_iter=1\n"
     ]
    },
    {
     "name": "stderr",
     "output_type": "stream",
     "text": [
      "Iteration 0:  38%|██████▊           | 0.75/2.0 [0.05s/it, gradient norm=0.001777287709267562]\n"
     ]
    },
    {
     "name": "stdout",
     "output_type": "stream",
     "text": [
      "alpha=1.355e-01, time=0.12s, n_iter=1\n"
     ]
    },
    {
     "name": "stderr",
     "output_type": "stream",
     "text": [
      "Iteration 0:  42%|███████          | 0.83/2.0 [0.07s/it, gradient norm=0.0014951824756564893]\n"
     ]
    },
    {
     "name": "stdout",
     "output_type": "stream",
     "text": [
      "alpha=1.138e-01, time=0.15s, n_iter=1\n"
     ]
    },
    {
     "name": "stderr",
     "output_type": "stream",
     "text": [
      "Iteration 0:  45%|████████          | 0.9/2.0 [0.06s/it, gradient norm=0.0012574883943149715]\n"
     ]
    },
    {
     "name": "stdout",
     "output_type": "stream",
     "text": [
      "alpha=9.552e-02, time=0.14s, n_iter=1\n"
     ]
    },
    {
     "name": "stderr",
     "output_type": "stream",
     "text": [
      "Iteration 0:  49%|████████▎        | 0.98/2.0 [0.07s/it, gradient norm=0.0010572598623454442]\n"
     ]
    },
    {
     "name": "stdout",
     "output_type": "stream",
     "text": [
      "alpha=8.020e-02, time=0.15s, n_iter=1\n"
     ]
    },
    {
     "name": "stderr",
     "output_type": "stream",
     "text": [
      "Iteration 0:   5%|▊                | 0.05/1.0 [0.03s/it, gradient norm=0.0008886956037614654]\n"
     ]
    },
    {
     "name": "stdout",
     "output_type": "stream",
     "text": [
      "alpha=6.733e-02, time=0.11s, n_iter=1\n"
     ]
    },
    {
     "name": "stderr",
     "output_type": "stream",
     "text": [
      "Iteration 0:  13%|██▏              | 0.13/1.0 [0.03s/it, gradient norm=0.0007485933264851467]\n"
     ]
    },
    {
     "name": "stdout",
     "output_type": "stream",
     "text": [
      "alpha=5.653e-02, time=0.10s, n_iter=1\n"
     ]
    },
    {
     "name": "stderr",
     "output_type": "stream",
     "text": [
      "Iteration 0:  12%|██               | 0.12/1.0 [0.06s/it, gradient norm=0.0007543550481625893]\n"
     ]
    },
    {
     "name": "stdout",
     "output_type": "stream",
     "text": [
      "alpha=4.746e-02, time=0.14s, n_iter=1\n"
     ]
    },
    {
     "name": "stderr",
     "output_type": "stream",
     "text": [
      "Iteration 0:  42%|███████▏         | 0.84/2.0 [0.04s/it, gradient norm=0.0014513560285730055]\n"
     ]
    },
    {
     "name": "stdout",
     "output_type": "stream",
     "text": [
      "alpha=3.984e-02, time=0.12s, n_iter=1\n"
     ]
    },
    {
     "name": "stderr",
     "output_type": "stream",
     "text": [
      "Iteration 0:  36%|██████           | 0.72/2.0 [0.05s/it, gradient norm=0.0019201169639755686]\n"
     ]
    },
    {
     "name": "stdout",
     "output_type": "stream",
     "text": [
      "alpha=3.345e-02, time=0.14s, n_iter=1\n"
     ]
    },
    {
     "name": "stderr",
     "output_type": "stream",
     "text": [
      "Iteration 0:  40%|██████▋          | 0.79/2.0 [0.06s/it, gradient norm=0.0016184030687318137]\n"
     ]
    },
    {
     "name": "stdout",
     "output_type": "stream",
     "text": [
      "alpha=2.808e-02, time=0.14s, n_iter=1\n"
     ]
    },
    {
     "name": "stderr",
     "output_type": "stream",
     "text": [
      "Iteration 0:  40%|███████▏          | 0.8/2.0 [0.07s/it, gradient norm=0.0016022416022443585]\n"
     ]
    },
    {
     "name": "stdout",
     "output_type": "stream",
     "text": [
      "alpha=2.358e-02, time=0.16s, n_iter=1\n"
     ]
    },
    {
     "name": "stderr",
     "output_type": "stream",
     "text": [
      "Iteration 0:  37%|██████▋           | 0.74/2.0 [0.04s/it, gradient norm=0.001826473234172871]\n"
     ]
    },
    {
     "name": "stdout",
     "output_type": "stream",
     "text": [
      "alpha=1.979e-02, time=0.11s, n_iter=1\n"
     ]
    },
    {
     "name": "stderr",
     "output_type": "stream",
     "text": [
      "Iteration 0:  38%|██████▍          | 0.75/2.0 [0.04s/it, gradient norm=0.0017683900519976578]\n"
     ]
    },
    {
     "name": "stdout",
     "output_type": "stream",
     "text": [
      "alpha=1.662e-02, time=0.12s, n_iter=1\n"
     ]
    },
    {
     "name": "stderr",
     "output_type": "stream",
     "text": [
      "Iteration 0:  28%|█████▏            | 0.57/2.0 [0.06s/it, gradient norm=0.002722446042175041]\n"
     ]
    },
    {
     "name": "stdout",
     "output_type": "stream",
     "text": [
      "alpha=1.395e-02, time=0.15s, n_iter=1\n"
     ]
    },
    {
     "name": "stderr",
     "output_type": "stream",
     "text": [
      "Iteration 0:  32%|█████▍           | 0.64/2.0 [0.06s/it, gradient norm=0.0022789489300085383]\n"
     ]
    },
    {
     "name": "stdout",
     "output_type": "stream",
     "text": [
      "alpha=1.171e-02, time=0.13s, n_iter=1\n"
     ]
    },
    {
     "name": "stderr",
     "output_type": "stream",
     "text": [
      "Iteration 0:  36%|██████▍           | 0.72/2.0 [0.06s/it, gradient norm=0.001912481732522381]\n"
     ]
    },
    {
     "name": "stdout",
     "output_type": "stream",
     "text": [
      "alpha=9.835e-03, time=0.14s, n_iter=1\n"
     ]
    },
    {
     "name": "stderr",
     "output_type": "stream",
     "text": [
      "Iteration 0:  39%|███████           | 0.78/2.0 [0.03s/it, gradient norm=0.001655329878994943]\n"
     ]
    },
    {
     "name": "stdout",
     "output_type": "stream",
     "text": [
      "alpha=8.257e-03, time=0.11s, n_iter=1\n"
     ]
    },
    {
     "name": "stderr",
     "output_type": "stream",
     "text": [
      "Iteration 0:  33%|█████▉            | 0.66/2.0 [0.05s/it, gradient norm=0.002189653735574641]\n"
     ]
    },
    {
     "name": "stdout",
     "output_type": "stream",
     "text": [
      "alpha=6.932e-03, time=0.13s, n_iter=1\n"
     ]
    },
    {
     "name": "stderr",
     "output_type": "stream",
     "text": [
      "Iteration 0:  34%|█████▊           | 0.69/2.0 [0.04s/it, gradient norm=0.0020337501639157776]\n"
     ]
    },
    {
     "name": "stdout",
     "output_type": "stream",
     "text": [
      "alpha=5.820e-03, time=0.12s, n_iter=1\n"
     ]
    },
    {
     "name": "stderr",
     "output_type": "stream",
     "text": [
      "Iteration 0:  37%|██████▎          | 0.74/2.0 [0.04s/it, gradient norm=0.0018372038436640196]\n"
     ]
    },
    {
     "name": "stdout",
     "output_type": "stream",
     "text": [
      "alpha=4.886e-03, time=0.11s, n_iter=1\n"
     ]
    },
    {
     "name": "stderr",
     "output_type": "stream",
     "text": [
      "Iteration 0:  40%|██████▉          | 0.81/2.0 [0.07s/it, gradient norm=0.0015427236095908973]\n"
     ]
    },
    {
     "name": "stdout",
     "output_type": "stream",
     "text": [
      "alpha=4.102e-03, time=0.15s, n_iter=1\n"
     ]
    },
    {
     "name": "stderr",
     "output_type": "stream",
     "text": [
      "Iteration 0:  44%|███████▌         | 0.89/2.0 [0.06s/it, gradient norm=0.0012947381591794892]\n"
     ]
    },
    {
     "name": "stdout",
     "output_type": "stream",
     "text": [
      "alpha=3.444e-03, time=0.14s, n_iter=1\n"
     ]
    },
    {
     "name": "stderr",
     "output_type": "stream",
     "text": [
      "Iteration 0:  39%|██████▋          | 0.78/2.0 [0.06s/it, gradient norm=0.0016669590313776708]\n"
     ]
    },
    {
     "name": "stdout",
     "output_type": "stream",
     "text": [
      "alpha=2.891e-03, time=0.14s, n_iter=1\n"
     ]
    },
    {
     "name": "stderr",
     "output_type": "stream",
     "text": [
      "Iteration 0:  36%|██████▏          | 0.73/2.0 [0.06s/it, gradient norm=0.0018416538943081917]\n"
     ]
    },
    {
     "name": "stdout",
     "output_type": "stream",
     "text": [
      "alpha=2.428e-03, time=0.14s, n_iter=1\n"
     ]
    },
    {
     "name": "stderr",
     "output_type": "stream",
     "text": [
      "Iteration 0:  40%|██████▉          | 0.81/2.0 [0.07s/it, gradient norm=0.0015487273228759297]\n"
     ]
    },
    {
     "name": "stdout",
     "output_type": "stream",
     "text": [
      "alpha=2.038e-03, time=0.15s, n_iter=1\n"
     ]
    },
    {
     "name": "stderr",
     "output_type": "stream",
     "text": [
      "Iteration 0:  44%|███████▌         | 0.89/2.0 [0.07s/it, gradient norm=0.0012999720963970374]\n"
     ]
    },
    {
     "name": "stdout",
     "output_type": "stream",
     "text": [
      "alpha=1.711e-03, time=0.14s, n_iter=1\n"
     ]
    },
    {
     "name": "stderr",
     "output_type": "stream",
     "text": [
      "Iteration 0:  48%|█████████▌          | 0.96/2.0 [0.05s/it, gradient norm=0.0010889090055639]\n"
     ]
    },
    {
     "name": "stdout",
     "output_type": "stream",
     "text": [
      "alpha=1.437e-03, time=0.12s, n_iter=1\n"
     ]
    },
    {
     "name": "stderr",
     "output_type": "stream",
     "text": [
      "Iteration 0:   4%|▋                | 0.04/1.0 [0.04s/it, gradient norm=0.0009138379211486525]\n"
     ]
    },
    {
     "name": "stdout",
     "output_type": "stream",
     "text": [
      "alpha=1.206e-03, time=0.11s, n_iter=1\n"
     ]
    },
    {
     "name": "stderr",
     "output_type": "stream",
     "text": [
      "Iteration 0:  11%|█▊               | 0.11/1.0 [0.06s/it, gradient norm=0.0007718650944236922]\n"
     ]
    },
    {
     "name": "stdout",
     "output_type": "stream",
     "text": [
      "alpha=1.013e-03, time=0.12s, n_iter=1\n"
     ]
    },
    {
     "name": "stderr",
     "output_type": "stream",
     "text": [
      "Iteration 0:  18%|███              | 0.18/1.0 [0.04s/it, gradient norm=0.0006674032034229371]\n"
     ]
    },
    {
     "name": "stdout",
     "output_type": "stream",
     "text": [
      "alpha=8.501e-04, time=0.11s, n_iter=1\n"
     ]
    },
    {
     "name": "stderr",
     "output_type": "stream",
     "text": [
      "Iteration 0:  24%|████             | 0.24/1.0 [0.05s/it, gradient norm=0.0005800202935210331]\n"
     ]
    },
    {
     "name": "stdout",
     "output_type": "stream",
     "text": [
      "alpha=7.137e-04, time=0.11s, n_iter=1\n"
     ]
    },
    {
     "name": "stderr",
     "output_type": "stream",
     "text": [
      "Iteration 0:  29%|████▉            | 0.29/1.0 [0.06s/it, gradient norm=0.0005073555232156259]\n"
     ]
    },
    {
     "name": "stdout",
     "output_type": "stream",
     "text": [
      "alpha=5.992e-04, time=0.15s, n_iter=1\n"
     ]
    },
    {
     "name": "stderr",
     "output_type": "stream",
     "text": [
      "Iteration 0:  36%|██████           | 0.36/1.0 [0.04s/it, gradient norm=0.0004413390809284778]\n"
     ]
    },
    {
     "name": "stdout",
     "output_type": "stream",
     "text": [
      "alpha=5.031e-04, time=0.12s, n_iter=1\n"
     ]
    },
    {
     "name": "stderr",
     "output_type": "stream",
     "text": [
      "Iteration 0:  42%|███████▏         | 0.42/1.0 [0.04s/it, gradient norm=0.0003838941042403894]\n"
     ]
    },
    {
     "name": "stdout",
     "output_type": "stream",
     "text": [
      "alpha=4.223e-04, time=0.13s, n_iter=1\n"
     ]
    },
    {
     "name": "stderr",
     "output_type": "stream",
     "text": [
      "Iteration 0:  48%|████████▏        | 0.48/1.0 [0.04s/it, gradient norm=0.0003335659325435059]\n"
     ]
    },
    {
     "name": "stdout",
     "output_type": "stream",
     "text": [
      "alpha=3.546e-04, time=0.10s, n_iter=1\n"
     ]
    },
    {
     "name": "stderr",
     "output_type": "stream",
     "text": [
      "Iteration 0:  54%|████████▋       | 0.54/1.0 [0.04s/it, gradient norm=0.00028632896843498555]\n"
     ]
    },
    {
     "name": "stdout",
     "output_type": "stream",
     "text": [
      "alpha=2.977e-04, time=0.11s, n_iter=1\n"
     ]
    },
    {
     "name": "stderr",
     "output_type": "stream",
     "text": [
      "Iteration 0:  61%|█████████▊      | 0.61/1.0 [0.04s/it, gradient norm=0.00024350918375019964]\n"
     ]
    },
    {
     "name": "stdout",
     "output_type": "stream",
     "text": [
      "alpha=2.499e-04, time=0.12s, n_iter=1\n"
     ]
    },
    {
     "name": "stderr",
     "output_type": "stream",
     "text": [
      "Iteration 0:  68%|██████████▉     | 0.68/1.0 [0.04s/it, gradient norm=0.00020758553164807402]\n"
     ]
    },
    {
     "name": "stdout",
     "output_type": "stream",
     "text": [
      "alpha=2.098e-04, time=0.12s, n_iter=1\n"
     ]
    },
    {
     "name": "stderr",
     "output_type": "stream",
     "text": [
      "Iteration 0:  75%|████████████    | 0.75/1.0 [0.04s/it, gradient norm=0.00017757883054742214]\n"
     ]
    },
    {
     "name": "stdout",
     "output_type": "stream",
     "text": [
      "alpha=1.762e-04, time=0.12s, n_iter=1\n"
     ]
    },
    {
     "name": "stderr",
     "output_type": "stream",
     "text": [
      "Iteration 0:  82%|█████████████   | 0.82/1.0 [0.05s/it, gradient norm=0.00015158726383485057]\n"
     ]
    },
    {
     "name": "stdout",
     "output_type": "stream",
     "text": [
      "alpha=1.479e-04, time=0.11s, n_iter=1\n"
     ]
    },
    {
     "name": "stderr",
     "output_type": "stream",
     "text": [
      "Iteration 0:  89%|██████████████▏ | 0.89/1.0 [0.05s/it, gradient norm=0.00013012076340906958]\n"
     ]
    },
    {
     "name": "stdout",
     "output_type": "stream",
     "text": [
      "alpha=1.242e-04, time=0.15s, n_iter=1\n"
     ]
    },
    {
     "name": "stderr",
     "output_type": "stream",
     "text": [
      "Iteration 0:  95%|████████████████▏| 0.95/1.0 [0.05s/it, gradient norm=0.0001115684230885865]\n"
     ]
    },
    {
     "name": "stdout",
     "output_type": "stream",
     "text": [
      "alpha=1.042e-04, time=0.13s, n_iter=1\n"
     ]
    },
    {
     "name": "stderr",
     "output_type": "stream",
     "text": [
      "Iteration 0: |                           | 0/-0.0 [s/it, gradient norm=9.645271414209842e-05]\n"
     ]
    },
    {
     "name": "stdout",
     "output_type": "stream",
     "text": [
      "alpha=8.752e-05, time=0.06s, n_iter=0\n"
     ]
    },
    {
     "name": "stderr",
     "output_type": "stream",
     "text": [
      "Iteration 0:  79%|████████████▋   | 0.79/1.0 [0.05s/it, gradient norm=0.00016240149359917025]\n"
     ]
    },
    {
     "name": "stdout",
     "output_type": "stream",
     "text": [
      "alpha=7.348e-05, time=0.11s, n_iter=1\n"
     ]
    },
    {
     "name": "stderr",
     "output_type": "stream",
     "text": [
      "Iteration 0: |                            | 0/-0.0 [s/it, gradient norm=7.36959142639885e-05]\n"
     ]
    },
    {
     "name": "stdout",
     "output_type": "stream",
     "text": [
      "alpha=6.169e-05, time=0.04s, n_iter=0\n"
     ]
    },
    {
     "name": "stderr",
     "output_type": "stream",
     "text": [
      "Iteration 0:  92%|██████████████▋ | 0.92/1.0 [0.05s/it, gradient norm=0.00012018039972566943]\n"
     ]
    },
    {
     "name": "stdout",
     "output_type": "stream",
     "text": [
      "alpha=5.179e-05, time=0.13s, n_iter=1\n"
     ]
    },
    {
     "name": "stderr",
     "output_type": "stream",
     "text": [
      "Iteration 0: |                           | 0/-0.0 [s/it, gradient norm=5.744488951012349e-05]\n"
     ]
    },
    {
     "name": "stdout",
     "output_type": "stream",
     "text": [
      "alpha=4.348e-05, time=0.05s, n_iter=0\n"
     ]
    },
    {
     "name": "stderr",
     "output_type": "stream",
     "text": [
      "Iteration 0: |                            | 0/-0.0 [s/it, gradient norm=9.02098232424265e-05]\n"
     ]
    },
    {
     "name": "stdout",
     "output_type": "stream",
     "text": [
      "alpha=3.651e-05, time=0.07s, n_iter=0\n"
     ]
    },
    {
     "name": "stderr",
     "output_type": "stream",
     "text": [
      "Iteration 0:  93%|██████████████▉ | 0.93/1.0 [0.07s/it, gradient norm=0.00011771788095527451]\n"
     ]
    },
    {
     "name": "stdout",
     "output_type": "stream",
     "text": [
      "alpha=3.065e-05, time=0.17s, n_iter=1\n"
     ]
    },
    {
     "name": "stderr",
     "output_type": "stream",
     "text": [
      "Iteration 0: |                          | 0/-0.0 [s/it, gradient norm=4.1554171913378677e-05]\n"
     ]
    },
    {
     "name": "stdout",
     "output_type": "stream",
     "text": [
      "alpha=2.573e-05, time=0.06s, n_iter=0\n"
     ]
    },
    {
     "name": "stderr",
     "output_type": "stream",
     "text": [
      "Iteration 0: |                          | 0/-0.0 [s/it, gradient norm=6.0943430052178766e-05]\n"
     ]
    },
    {
     "name": "stdout",
     "output_type": "stream",
     "text": [
      "alpha=2.160e-05, time=0.06s, n_iter=0\n"
     ]
    },
    {
     "name": "stderr",
     "output_type": "stream",
     "text": [
      "Iteration 0: |                           | 0/-0.0 [s/it, gradient norm=7.722183416094653e-05]\n"
     ]
    },
    {
     "name": "stdout",
     "output_type": "stream",
     "text": [
      "alpha=1.814e-05, time=0.06s, n_iter=0\n"
     ]
    },
    {
     "name": "stderr",
     "output_type": "stream",
     "text": [
      "Iteration 0: |                           | 0/-0.0 [s/it, gradient norm=9.088849631126752e-05]\n"
     ]
    },
    {
     "name": "stdout",
     "output_type": "stream",
     "text": [
      "alpha=1.523e-05, time=0.06s, n_iter=0\n"
     ]
    },
    {
     "name": "stderr",
     "output_type": "stream",
     "text": [
      "Iteration 0:  99%|███████████████▊| 0.99/1.0 [0.07s/it, gradient norm=0.00010236244996686064]\n"
     ]
    },
    {
     "name": "stdout",
     "output_type": "stream",
     "text": [
      "alpha=1.278e-05, time=0.16s, n_iter=1\n"
     ]
    },
    {
     "name": "stderr",
     "output_type": "stream",
     "text": [
      "Iteration 0: |                          | 0/-0.0 [s/it, gradient norm=2.7681329251973167e-05]\n"
     ]
    },
    {
     "name": "stdout",
     "output_type": "stream",
     "text": [
      "alpha=1.073e-05, time=0.07s, n_iter=0\n"
     ]
    },
    {
     "name": "stderr",
     "output_type": "stream",
     "text": [
      "Iteration 0: |                          | 0/-0.0 [s/it, gradient norm=3.5768830435199786e-05]\n"
     ]
    },
    {
     "name": "stdout",
     "output_type": "stream",
     "text": [
      "alpha=9.011e-06, time=0.06s, n_iter=0\n"
     ]
    },
    {
     "name": "stderr",
     "output_type": "stream",
     "text": [
      "Iteration 0: |                           | 0/-0.0 [s/it, gradient norm=4.255875563750804e-05]\n"
     ]
    },
    {
     "name": "stdout",
     "output_type": "stream",
     "text": [
      "alpha=7.565e-06, time=0.05s, n_iter=0\n"
     ]
    },
    {
     "name": "stderr",
     "output_type": "stream",
     "text": [
      "Iteration 0: |                          | 0/-0.0 [s/it, gradient norm=4.8259290723494554e-05]\n"
     ]
    },
    {
     "name": "stdout",
     "output_type": "stream",
     "text": [
      "alpha=6.352e-06, time=0.05s, n_iter=0\n"
     ]
    },
    {
     "name": "stderr",
     "output_type": "stream",
     "text": [
      "Iteration 0: |                          | 0/-0.0 [s/it, gradient norm=5.3045219772538605e-05]\n"
     ]
    },
    {
     "name": "stdout",
     "output_type": "stream",
     "text": [
      "alpha=5.333e-06, time=0.06s, n_iter=0\n"
     ]
    },
    {
     "name": "stderr",
     "output_type": "stream",
     "text": [
      "Iteration 0: |                           | 0/-0.0 [s/it, gradient norm=5.706328413263537e-05]\n"
     ]
    },
    {
     "name": "stdout",
     "output_type": "stream",
     "text": [
      "alpha=4.477e-06, time=0.05s, n_iter=0\n"
     ]
    },
    {
     "name": "stderr",
     "output_type": "stream",
     "text": [
      "Iteration 0: |                           | 0/-0.0 [s/it, gradient norm=6.043668165617465e-05]\n"
     ]
    },
    {
     "name": "stdout",
     "output_type": "stream",
     "text": [
      "alpha=3.759e-06, time=0.06s, n_iter=0\n"
     ]
    },
    {
     "name": "stderr",
     "output_type": "stream",
     "text": [
      "Iteration 0: |                           | 0/-0.0 [s/it, gradient norm=6.326884406871174e-05]\n"
     ]
    },
    {
     "name": "stdout",
     "output_type": "stream",
     "text": [
      "alpha=3.156e-06, time=0.07s, n_iter=0\n"
     ]
    },
    {
     "name": "stderr",
     "output_type": "stream",
     "text": [
      "Iteration 0: |                           | 0/-0.0 [s/it, gradient norm=6.564660828861677e-05]\n"
     ]
    },
    {
     "name": "stdout",
     "output_type": "stream",
     "text": [
      "alpha=2.649e-06, time=0.07s, n_iter=0\n"
     ]
    },
    {
     "name": "stderr",
     "output_type": "stream",
     "text": [
      "Iteration 0: |                           | 0/-0.0 [s/it, gradient norm=6.764287893341914e-05]\n"
     ]
    },
    {
     "name": "stdout",
     "output_type": "stream",
     "text": [
      "alpha=2.224e-06, time=0.07s, n_iter=0\n"
     ]
    },
    {
     "name": "stderr",
     "output_type": "stream",
     "text": [
      "Iteration 0: |                           | 0/-0.0 [s/it, gradient norm=6.931886364794183e-05]\n"
     ]
    },
    {
     "name": "stdout",
     "output_type": "stream",
     "text": [
      "alpha=1.867e-06, time=0.05s, n_iter=0\n"
     ]
    },
    {
     "name": "stderr",
     "output_type": "stream",
     "text": [
      "Iteration 0: |                           | 0/-0.0 [s/it, gradient norm=7.072594979161035e-05]\n"
     ]
    },
    {
     "name": "stdout",
     "output_type": "stream",
     "text": [
      "alpha=1.568e-06, time=0.06s, n_iter=0\n"
     ]
    },
    {
     "name": "stderr",
     "output_type": "stream",
     "text": [
      "Iteration 0: |                           | 0/-0.0 [s/it, gradient norm=7.190728002603783e-05]\n"
     ]
    },
    {
     "name": "stdout",
     "output_type": "stream",
     "text": [
      "alpha=1.316e-06, time=0.06s, n_iter=0\n"
     ]
    },
    {
     "name": "stderr",
     "output_type": "stream",
     "text": [
      "Iteration 0: |                           | 0/-0.0 [s/it, gradient norm=7.289907511196913e-05]\n"
     ]
    },
    {
     "name": "stdout",
     "output_type": "stream",
     "text": [
      "alpha=1.105e-06, time=0.06s, n_iter=0\n"
     ]
    },
    {
     "name": "stderr",
     "output_type": "stream",
     "text": [
      "Iteration 0: |                           | 0/-0.0 [s/it, gradient norm=7.373174447385526e-05]\n"
     ]
    },
    {
     "name": "stdout",
     "output_type": "stream",
     "text": [
      "alpha=9.278e-07, time=0.04s, n_iter=0\n"
     ]
    },
    {
     "name": "stderr",
     "output_type": "stream",
     "text": [
      "Iteration 0: |                           | 0/-0.0 [s/it, gradient norm=7.443081858307286e-05]\n"
     ]
    },
    {
     "name": "stdout",
     "output_type": "stream",
     "text": [
      "alpha=7.789e-07, time=0.05s, n_iter=0\n"
     ]
    },
    {
     "name": "stderr",
     "output_type": "stream",
     "text": [
      "Iteration 0: |                           | 0/-0.0 [s/it, gradient norm=7.501773174758679e-05]\n"
     ]
    },
    {
     "name": "stdout",
     "output_type": "stream",
     "text": [
      "alpha=6.539e-07, time=0.05s, n_iter=0\n"
     ]
    },
    {
     "name": "stderr",
     "output_type": "stream",
     "text": [
      "Iteration 0: |                            | 0/-0.0 [s/it, gradient norm=7.55104793091655e-05]\n"
     ]
    },
    {
     "name": "stdout",
     "output_type": "stream",
     "text": [
      "alpha=5.490e-07, time=0.06s, n_iter=0\n"
     ]
    },
    {
     "name": "stderr",
     "output_type": "stream",
     "text": [
      "Iteration 0: |                             | 0/? [s/it, gradient norm=2.6020852139652106e-17]\n"
     ]
    },
    {
     "name": "stdout",
     "output_type": "stream",
     "text": [
      "alpha=5.490e-01, time=0.05s, n_iter=0\n"
     ]
    },
    {
     "name": "stderr",
     "output_type": "stream",
     "text": [
      "Iteration 1:  57%|█████████▋       | 1.14/2.0 [0.08s/it, gradient norm=0.0007191805458855718]\n"
     ]
    },
    {
     "name": "stdout",
     "output_type": "stream",
     "text": [
      "alpha=4.609e-01, time=0.20s, n_iter=2\n"
     ]
    },
    {
     "name": "stderr",
     "output_type": "stream",
     "text": [
      "Iteration 1:  64%|███████████▌      | 1.28/2.0 [0.08s/it, gradient norm=0.000525750877070377]\n"
     ]
    },
    {
     "name": "stdout",
     "output_type": "stream",
     "text": [
      "alpha=3.870e-01, time=0.20s, n_iter=2\n"
     ]
    },
    {
     "name": "stderr",
     "output_type": "stream",
     "text": [
      "Iteration 1:  74%|████████████▌    | 1.48/2.0 [0.08s/it, gradient norm=0.0003303028121794281]\n"
     ]
    },
    {
     "name": "stdout",
     "output_type": "stream",
     "text": [
      "alpha=3.249e-01, time=0.21s, n_iter=2\n"
     ]
    },
    {
     "name": "stderr",
     "output_type": "stream",
     "text": [
      "Iteration 1:  84%|██████████████▏  | 1.67/2.0 [0.07s/it, gradient norm=0.0002140351553094038]\n"
     ]
    },
    {
     "name": "stdout",
     "output_type": "stream",
     "text": [
      "alpha=2.728e-01, time=0.19s, n_iter=2\n"
     ]
    },
    {
     "name": "stderr",
     "output_type": "stream",
     "text": [
      "Iteration 1:  92%|███████████████▋ | 1.85/2.0 [0.07s/it, gradient norm=0.0001410261465671159]\n"
     ]
    },
    {
     "name": "stdout",
     "output_type": "stream",
     "text": [
      "alpha=2.290e-01, time=0.18s, n_iter=2\n"
     ]
    },
    {
     "name": "stderr",
     "output_type": "stream",
     "text": [
      "Iteration 0:  30%|█████            | 0.59/2.0 [0.04s/it, gradient norm=0.0025889339058771605]\n"
     ]
    },
    {
     "name": "stdout",
     "output_type": "stream",
     "text": [
      "alpha=1.923e-01, time=0.11s, n_iter=1\n"
     ]
    },
    {
     "name": "stderr",
     "output_type": "stream",
     "text": [
      "Iteration 0:  34%|██████            | 0.67/2.0 [0.05s/it, gradient norm=0.002135416855873838]\n"
     ]
    },
    {
     "name": "stdout",
     "output_type": "stream",
     "text": [
      "alpha=1.614e-01, time=0.12s, n_iter=1\n"
     ]
    },
    {
     "name": "stderr",
     "output_type": "stream",
     "text": [
      "Iteration 0:  37%|██████▎          | 0.74/2.0 [0.04s/it, gradient norm=0.0018009948758812306]\n"
     ]
    },
    {
     "name": "stdout",
     "output_type": "stream",
     "text": [
      "alpha=1.355e-01, time=0.10s, n_iter=1\n"
     ]
    },
    {
     "name": "stderr",
     "output_type": "stream",
     "text": [
      "Iteration 0:  41%|██████▉          | 0.82/2.0 [0.04s/it, gradient norm=0.0015153154347026581]\n"
     ]
    },
    {
     "name": "stdout",
     "output_type": "stream",
     "text": [
      "alpha=1.138e-01, time=0.11s, n_iter=1\n"
     ]
    },
    {
     "name": "stderr",
     "output_type": "stream",
     "text": [
      "Iteration 0:  44%|████████          | 0.89/2.0 [0.04s/it, gradient norm=0.001274568128647964]\n"
     ]
    },
    {
     "name": "stdout",
     "output_type": "stream",
     "text": [
      "alpha=9.552e-02, time=0.12s, n_iter=1\n"
     ]
    },
    {
     "name": "stderr",
     "output_type": "stream",
     "text": [
      "Iteration 0:  48%|████████▏        | 0.97/2.0 [0.07s/it, gradient norm=0.0010717196904907545]\n"
     ]
    },
    {
     "name": "stdout",
     "output_type": "stream",
     "text": [
      "alpha=8.020e-02, time=0.15s, n_iter=1\n"
     ]
    },
    {
     "name": "stderr",
     "output_type": "stream",
     "text": [
      "Iteration 0:   4%|▋                | 0.04/1.0 [0.06s/it, gradient norm=0.0009024411641645616]\n"
     ]
    },
    {
     "name": "stdout",
     "output_type": "stream",
     "text": [
      "alpha=6.733e-02, time=0.13s, n_iter=1\n"
     ]
    },
    {
     "name": "stderr",
     "output_type": "stream",
     "text": [
      "Iteration 0:  12%|██               | 0.12/1.0 [0.06s/it, gradient norm=0.0007586134493827914]\n"
     ]
    },
    {
     "name": "stdout",
     "output_type": "stream",
     "text": [
      "alpha=5.653e-02, time=0.14s, n_iter=1\n"
     ]
    },
    {
     "name": "stderr",
     "output_type": "stream",
     "text": [
      "Iteration 0:  20%|███▌              | 0.2/1.0 [0.05s/it, gradient norm=0.0006375694528992525]\n"
     ]
    },
    {
     "name": "stdout",
     "output_type": "stream",
     "text": [
      "alpha=4.746e-02, time=0.12s, n_iter=1\n"
     ]
    },
    {
     "name": "stderr",
     "output_type": "stream",
     "text": [
      "Iteration 0:  50%|█████████         | 1.0/2.0 [0.06s/it, gradient norm=0.0010044703474883384]\n"
     ]
    },
    {
     "name": "stdout",
     "output_type": "stream",
     "text": [
      "alpha=3.984e-02, time=0.14s, n_iter=1\n"
     ]
    },
    {
     "name": "stderr",
     "output_type": "stream",
     "text": [
      "Iteration 0:  47%|████████▍         | 0.94/2.0 [0.06s/it, gradient norm=0.001135874283937828]\n"
     ]
    },
    {
     "name": "stdout",
     "output_type": "stream",
     "text": [
      "alpha=3.345e-02, time=0.13s, n_iter=1\n"
     ]
    },
    {
     "name": "stderr",
     "output_type": "stream",
     "text": [
      "Iteration 0:  40%|███████           | 0.79/2.0 [0.05s/it, gradient norm=0.001625232723698734]\n"
     ]
    },
    {
     "name": "stdout",
     "output_type": "stream",
     "text": [
      "alpha=2.808e-02, time=0.12s, n_iter=1\n"
     ]
    },
    {
     "name": "stderr",
     "output_type": "stream",
     "text": [
      "Iteration 0:  41%|██████▉          | 0.82/2.0 [0.05s/it, gradient norm=0.0015123786328171797]\n"
     ]
    },
    {
     "name": "stdout",
     "output_type": "stream",
     "text": [
      "alpha=2.358e-02, time=0.12s, n_iter=1\n"
     ]
    },
    {
     "name": "stderr",
     "output_type": "stream",
     "text": [
      "Iteration 0:  37%|██████▎          | 0.74/2.0 [0.04s/it, gradient norm=0.0018344945669147386]\n"
     ]
    },
    {
     "name": "stdout",
     "output_type": "stream",
     "text": [
      "alpha=1.979e-02, time=0.12s, n_iter=1\n"
     ]
    },
    {
     "name": "stderr",
     "output_type": "stream",
     "text": [
      "Iteration 0:  40%|██████▋          | 0.79/2.0 [0.04s/it, gradient norm=0.0016175697701094837]\n"
     ]
    },
    {
     "name": "stdout",
     "output_type": "stream",
     "text": [
      "alpha=1.662e-02, time=0.12s, n_iter=1\n"
     ]
    },
    {
     "name": "stderr",
     "output_type": "stream",
     "text": [
      "Iteration 0:  30%|█████            | 0.59/2.0 [0.04s/it, gradient norm=0.0025788203443077476]\n"
     ]
    },
    {
     "name": "stdout",
     "output_type": "stream",
     "text": [
      "alpha=1.395e-02, time=0.11s, n_iter=1\n"
     ]
    },
    {
     "name": "stderr",
     "output_type": "stream",
     "text": [
      "Iteration 0:  32%|█████▍           | 0.64/2.0 [0.05s/it, gradient norm=0.0022855617593282346]\n"
     ]
    },
    {
     "name": "stdout",
     "output_type": "stream",
     "text": [
      "alpha=1.171e-02, time=0.12s, n_iter=1\n"
     ]
    },
    {
     "name": "stderr",
     "output_type": "stream",
     "text": [
      "Iteration 0:  36%|██████           | 0.72/2.0 [0.06s/it, gradient norm=0.0019178622375147943]\n"
     ]
    },
    {
     "name": "stdout",
     "output_type": "stream",
     "text": [
      "alpha=9.835e-03, time=0.14s, n_iter=1\n"
     ]
    },
    {
     "name": "stderr",
     "output_type": "stream",
     "text": [
      "Iteration 0:  40%|██████▋          | 0.79/2.0 [0.06s/it, gradient norm=0.0016092909906259296]\n"
     ]
    },
    {
     "name": "stdout",
     "output_type": "stream",
     "text": [
      "alpha=8.257e-03, time=0.14s, n_iter=1\n"
     ]
    },
    {
     "name": "stderr",
     "output_type": "stream",
     "text": [
      "Iteration 0:  40%|███████▌           | 0.8/2.0 [0.06s/it, gradient norm=0.001579193412947952]\n"
     ]
    },
    {
     "name": "stdout",
     "output_type": "stream",
     "text": [
      "alpha=6.932e-03, time=0.15s, n_iter=1\n"
     ]
    },
    {
     "name": "stderr",
     "output_type": "stream",
     "text": [
      "Iteration 0:  36%|██████▏          | 0.73/2.0 [0.06s/it, gradient norm=0.0018420758388624058]\n"
     ]
    },
    {
     "name": "stdout",
     "output_type": "stream",
     "text": [
      "alpha=5.820e-03, time=0.15s, n_iter=1\n"
     ]
    },
    {
     "name": "stderr",
     "output_type": "stream",
     "text": [
      "Iteration 0:  40%|██████▉          | 0.81/2.0 [0.05s/it, gradient norm=0.0015447231396805432]\n"
     ]
    },
    {
     "name": "stdout",
     "output_type": "stream",
     "text": [
      "alpha=4.886e-03, time=0.13s, n_iter=1\n"
     ]
    },
    {
     "name": "stderr",
     "output_type": "stream",
     "text": [
      "Iteration 0:  40%|███████▎          | 0.81/2.0 [0.04s/it, gradient norm=0.001543079961861563]\n"
     ]
    },
    {
     "name": "stdout",
     "output_type": "stream",
     "text": [
      "alpha=4.102e-03, time=0.12s, n_iter=1\n"
     ]
    },
    {
     "name": "stderr",
     "output_type": "stream",
     "text": [
      "Iteration 0:  44%|███████▌         | 0.89/2.0 [0.04s/it, gradient norm=0.0012969401605655347]\n"
     ]
    },
    {
     "name": "stdout",
     "output_type": "stream",
     "text": [
      "alpha=3.444e-03, time=0.13s, n_iter=1\n"
     ]
    },
    {
     "name": "stderr",
     "output_type": "stream",
     "text": [
      "Iteration 0:  39%|██████▋          | 0.78/2.0 [0.05s/it, gradient norm=0.0016527589889233584]\n"
     ]
    },
    {
     "name": "stdout",
     "output_type": "stream",
     "text": [
      "alpha=2.891e-03, time=0.14s, n_iter=1\n"
     ]
    },
    {
     "name": "stderr",
     "output_type": "stream",
     "text": [
      "Iteration 0:  36%|██████▏          | 0.73/2.0 [0.06s/it, gradient norm=0.0018426127883954327]\n"
     ]
    },
    {
     "name": "stdout",
     "output_type": "stream",
     "text": [
      "alpha=2.428e-03, time=0.15s, n_iter=1\n"
     ]
    },
    {
     "name": "stderr",
     "output_type": "stream",
     "text": [
      "Iteration 0:  40%|███████▎          | 0.81/2.0 [0.06s/it, gradient norm=0.001549455602012149]\n"
     ]
    },
    {
     "name": "stdout",
     "output_type": "stream",
     "text": [
      "alpha=2.038e-03, time=0.14s, n_iter=1\n"
     ]
    },
    {
     "name": "stderr",
     "output_type": "stream",
     "text": [
      "Iteration 0:  44%|███████▌         | 0.89/2.0 [0.08s/it, gradient norm=0.0013005541883989954]\n"
     ]
    },
    {
     "name": "stdout",
     "output_type": "stream",
     "text": [
      "alpha=1.711e-03, time=0.16s, n_iter=1\n"
     ]
    },
    {
     "name": "stderr",
     "output_type": "stream",
     "text": [
      "Iteration 0:  48%|████████▏        | 0.96/2.0 [0.06s/it, gradient norm=0.0010890404274529514]\n"
     ]
    },
    {
     "name": "stdout",
     "output_type": "stream",
     "text": [
      "alpha=1.437e-03, time=0.16s, n_iter=1\n"
     ]
    },
    {
     "name": "stderr",
     "output_type": "stream",
     "text": [
      "Iteration 0:   4%|▋                | 0.04/1.0 [0.07s/it, gradient norm=0.0009139299923891073]\n"
     ]
    },
    {
     "name": "stdout",
     "output_type": "stream",
     "text": [
      "alpha=1.206e-03, time=0.15s, n_iter=1\n"
     ]
    },
    {
     "name": "stderr",
     "output_type": "stream",
     "text": [
      "Iteration 0:  12%|██▏               | 0.12/1.0 [0.07s/it, gradient norm=0.000767065730760825]\n"
     ]
    },
    {
     "name": "stdout",
     "output_type": "stream",
     "text": [
      "alpha=1.013e-03, time=0.17s, n_iter=1\n"
     ]
    },
    {
     "name": "stderr",
     "output_type": "stream",
     "text": [
      "Iteration 0:  19%|███▏             | 0.19/1.0 [0.07s/it, gradient norm=0.0006438290867742484]\n"
     ]
    },
    {
     "name": "stdout",
     "output_type": "stream",
     "text": [
      "alpha=8.501e-04, time=0.18s, n_iter=1\n"
     ]
    },
    {
     "name": "stderr",
     "output_type": "stream",
     "text": [
      "Iteration 0:  26%|████▍            | 0.26/1.0 [0.04s/it, gradient norm=0.0005503010796064727]\n"
     ]
    },
    {
     "name": "stdout",
     "output_type": "stream",
     "text": [
      "alpha=7.137e-04, time=0.12s, n_iter=1\n"
     ]
    },
    {
     "name": "stderr",
     "output_type": "stream",
     "text": [
      "Iteration 0:  32%|█████▍           | 0.32/1.0 [0.04s/it, gradient norm=0.0004768213228137336]\n"
     ]
    },
    {
     "name": "stdout",
     "output_type": "stream",
     "text": [
      "alpha=5.992e-04, time=0.12s, n_iter=1\n"
     ]
    },
    {
     "name": "stderr",
     "output_type": "stream",
     "text": [
      "Iteration 0:  38%|██████▍          | 0.38/1.0 [0.04s/it, gradient norm=0.0004151514817316295]\n"
     ]
    },
    {
     "name": "stdout",
     "output_type": "stream",
     "text": [
      "alpha=5.031e-04, time=0.10s, n_iter=1\n"
     ]
    },
    {
     "name": "stderr",
     "output_type": "stream",
     "text": [
      "Iteration 0:  44%|███████         | 0.44/1.0 [0.05s/it, gradient norm=0.00036184231833399927]\n"
     ]
    },
    {
     "name": "stdout",
     "output_type": "stream",
     "text": [
      "alpha=4.223e-04, time=0.15s, n_iter=1\n"
     ]
    },
    {
     "name": "stderr",
     "output_type": "stream",
     "text": [
      "Iteration 0:  50%|████████▌        | 0.5/1.0 [0.07s/it, gradient norm=0.00031495919071717373]\n"
     ]
    },
    {
     "name": "stdout",
     "output_type": "stream",
     "text": [
      "alpha=3.546e-04, time=0.17s, n_iter=1\n"
     ]
    },
    {
     "name": "stderr",
     "output_type": "stream",
     "text": [
      "Iteration 0:  56%|█████████▌       | 0.56/1.0 [0.06s/it, gradient norm=0.0002727853255219656]\n"
     ]
    },
    {
     "name": "stdout",
     "output_type": "stream",
     "text": [
      "alpha=2.977e-04, time=0.13s, n_iter=1\n"
     ]
    },
    {
     "name": "stderr",
     "output_type": "stream",
     "text": [
      "Iteration 0:  62%|█████████▉      | 0.62/1.0 [0.06s/it, gradient norm=0.00023819420727067998]\n"
     ]
    },
    {
     "name": "stdout",
     "output_type": "stream",
     "text": [
      "alpha=2.499e-04, time=0.16s, n_iter=1\n"
     ]
    },
    {
     "name": "stderr",
     "output_type": "stream",
     "text": [
      "Iteration 0:  69%|███████████     | 0.69/1.0 [0.07s/it, gradient norm=0.00020577723897569197]\n"
     ]
    },
    {
     "name": "stdout",
     "output_type": "stream",
     "text": [
      "alpha=2.098e-04, time=0.15s, n_iter=1\n"
     ]
    },
    {
     "name": "stderr",
     "output_type": "stream",
     "text": [
      "Iteration 0:  75%|████████████    | 0.75/1.0 [0.05s/it, gradient norm=0.00017729831865550993]\n"
     ]
    },
    {
     "name": "stdout",
     "output_type": "stream",
     "text": [
      "alpha=1.762e-04, time=0.14s, n_iter=1\n"
     ]
    },
    {
     "name": "stderr",
     "output_type": "stream",
     "text": [
      "Iteration 0:  82%|█████████████   | 0.82/1.0 [0.05s/it, gradient norm=0.00015146860800490302]\n"
     ]
    },
    {
     "name": "stdout",
     "output_type": "stream",
     "text": [
      "alpha=1.479e-04, time=0.15s, n_iter=1\n"
     ]
    },
    {
     "name": "stderr",
     "output_type": "stream",
     "text": [
      "Iteration 0:  89%|██████████████▏ | 0.89/1.0 [0.08s/it, gradient norm=0.00013002991696243056]\n"
     ]
    },
    {
     "name": "stdout",
     "output_type": "stream",
     "text": [
      "alpha=1.242e-04, time=0.17s, n_iter=1\n"
     ]
    },
    {
     "name": "stderr",
     "output_type": "stream",
     "text": [
      "Iteration 0:  95%|███████████████▏| 0.95/1.0 [0.06s/it, gradient norm=0.00011150824582001178]\n"
     ]
    },
    {
     "name": "stdout",
     "output_type": "stream",
     "text": [
      "alpha=1.042e-04, time=0.14s, n_iter=1\n"
     ]
    },
    {
     "name": "stderr",
     "output_type": "stream",
     "text": [
      "Iteration 0: |                           | 0/-0.0 [s/it, gradient norm=9.641212263523507e-05]\n"
     ]
    },
    {
     "name": "stdout",
     "output_type": "stream",
     "text": [
      "alpha=8.752e-05, time=0.07s, n_iter=0\n"
     ]
    },
    {
     "name": "stderr",
     "output_type": "stream",
     "text": [
      "Iteration 0:  79%|████████████▋   | 0.79/1.0 [0.05s/it, gradient norm=0.00016237976166248535]\n"
     ]
    },
    {
     "name": "stdout",
     "output_type": "stream",
     "text": [
      "alpha=7.348e-05, time=0.14s, n_iter=1\n"
     ]
    },
    {
     "name": "stderr",
     "output_type": "stream",
     "text": [
      "Iteration 0: |                           | 0/-0.0 [s/it, gradient norm=7.366498397630139e-05]\n"
     ]
    },
    {
     "name": "stdout",
     "output_type": "stream",
     "text": [
      "alpha=6.169e-05, time=0.08s, n_iter=0\n"
     ]
    },
    {
     "name": "stderr",
     "output_type": "stream",
     "text": [
      "Iteration 0:  92%|██████████████▋ | 0.92/1.0 [0.08s/it, gradient norm=0.00012016276274565211]\n"
     ]
    },
    {
     "name": "stdout",
     "output_type": "stream",
     "text": [
      "alpha=5.179e-05, time=0.16s, n_iter=1\n"
     ]
    },
    {
     "name": "stderr",
     "output_type": "stream",
     "text": [
      "Iteration 0: |                           | 0/-0.0 [s/it, gradient norm=5.742748650732518e-05]\n"
     ]
    },
    {
     "name": "stdout",
     "output_type": "stream",
     "text": [
      "alpha=4.348e-05, time=0.07s, n_iter=0\n"
     ]
    },
    {
     "name": "stderr",
     "output_type": "stream",
     "text": [
      "Iteration 0: |                            | 0/-0.0 [s/it, gradient norm=9.02017901259582e-05]\n"
     ]
    },
    {
     "name": "stdout",
     "output_type": "stream",
     "text": [
      "alpha=3.651e-05, time=0.05s, n_iter=0\n"
     ]
    },
    {
     "name": "stderr",
     "output_type": "stream",
     "text": [
      "Iteration 0:  93%|██████████████▉ | 0.93/1.0 [0.06s/it, gradient norm=0.00011771771440054061]\n"
     ]
    },
    {
     "name": "stdout",
     "output_type": "stream",
     "text": [
      "alpha=3.065e-05, time=0.13s, n_iter=1\n"
     ]
    },
    {
     "name": "stderr",
     "output_type": "stream",
     "text": [
      "Iteration 0: |                           | 0/-0.0 [s/it, gradient norm=4.154423349828462e-05]\n"
     ]
    },
    {
     "name": "stdout",
     "output_type": "stream",
     "text": [
      "alpha=2.573e-05, time=0.05s, n_iter=0\n"
     ]
    },
    {
     "name": "stderr",
     "output_type": "stream",
     "text": [
      "Iteration 0: |                          | 0/-0.0 [s/it, gradient norm=6.0939036441364446e-05]\n"
     ]
    },
    {
     "name": "stdout",
     "output_type": "stream",
     "text": [
      "alpha=2.160e-05, time=0.05s, n_iter=0\n"
     ]
    },
    {
     "name": "stderr",
     "output_type": "stream",
     "text": [
      "Iteration 0: |                            | 0/-0.0 [s/it, gradient norm=7.72220957341585e-05]\n"
     ]
    },
    {
     "name": "stdout",
     "output_type": "stream",
     "text": [
      "alpha=1.814e-05, time=0.05s, n_iter=0\n"
     ]
    },
    {
     "name": "stderr",
     "output_type": "stream",
     "text": [
      "Iteration 0: |                           | 0/-0.0 [s/it, gradient norm=9.089266618082784e-05]\n"
     ]
    },
    {
     "name": "stdout",
     "output_type": "stream",
     "text": [
      "alpha=1.523e-05, time=0.05s, n_iter=0\n"
     ]
    },
    {
     "name": "stderr",
     "output_type": "stream",
     "text": [
      "Iteration 0:  99%|███████████████▊| 0.99/1.0 [0.05s/it, gradient norm=0.00010236990107734725]\n"
     ]
    },
    {
     "name": "stdout",
     "output_type": "stream",
     "text": [
      "alpha=1.278e-05, time=0.14s, n_iter=1\n"
     ]
    },
    {
     "name": "stderr",
     "output_type": "stream",
     "text": [
      "Iteration 0: |                           | 0/-0.0 [s/it, gradient norm=2.768143243732247e-05]\n"
     ]
    },
    {
     "name": "stdout",
     "output_type": "stream",
     "text": [
      "alpha=1.073e-05, time=0.06s, n_iter=0\n"
     ]
    },
    {
     "name": "stderr",
     "output_type": "stream",
     "text": [
      "Iteration 0: |                          | 0/-0.0 [s/it, gradient norm=3.5771246427509116e-05]\n"
     ]
    },
    {
     "name": "stdout",
     "output_type": "stream",
     "text": [
      "alpha=9.011e-06, time=0.08s, n_iter=0\n"
     ]
    },
    {
     "name": "stderr",
     "output_type": "stream",
     "text": [
      "Iteration 0: |                           | 0/-0.0 [s/it, gradient norm=4.256311336508394e-05]\n"
     ]
    },
    {
     "name": "stdout",
     "output_type": "stream",
     "text": [
      "alpha=7.565e-06, time=0.08s, n_iter=0\n"
     ]
    },
    {
     "name": "stderr",
     "output_type": "stream",
     "text": [
      "Iteration 0: |                          | 0/-0.0 [s/it, gradient norm=4.8265278650179434e-05]\n"
     ]
    },
    {
     "name": "stdout",
     "output_type": "stream",
     "text": [
      "alpha=6.352e-06, time=0.07s, n_iter=0\n"
     ]
    },
    {
     "name": "stderr",
     "output_type": "stream",
     "text": [
      "Iteration 0: |                           | 0/-0.0 [s/it, gradient norm=5.305257634570204e-05]\n"
     ]
    },
    {
     "name": "stdout",
     "output_type": "stream",
     "text": [
      "alpha=5.333e-06, time=0.05s, n_iter=0\n"
     ]
    },
    {
     "name": "stderr",
     "output_type": "stream",
     "text": [
      "Iteration 0: |                           | 0/-0.0 [s/it, gradient norm=5.707178976371019e-05]\n"
     ]
    },
    {
     "name": "stdout",
     "output_type": "stream",
     "text": [
      "alpha=4.477e-06, time=0.05s, n_iter=0\n"
     ]
    },
    {
     "name": "stderr",
     "output_type": "stream",
     "text": [
      "Iteration 0: |                          | 0/-0.0 [s/it, gradient norm=6.0446151987852856e-05]\n"
     ]
    },
    {
     "name": "stdout",
     "output_type": "stream",
     "text": [
      "alpha=3.759e-06, time=0.05s, n_iter=0\n"
     ]
    },
    {
     "name": "stderr",
     "output_type": "stream",
     "text": [
      "Iteration 0: |                           | 0/-0.0 [s/it, gradient norm=6.327912432236598e-05]\n"
     ]
    },
    {
     "name": "stdout",
     "output_type": "stream",
     "text": [
      "alpha=3.156e-06, time=0.06s, n_iter=0\n"
     ]
    },
    {
     "name": "stderr",
     "output_type": "stream",
     "text": [
      "Iteration 0: |                           | 0/-0.0 [s/it, gradient norm=6.565756851863362e-05]\n"
     ]
    },
    {
     "name": "stdout",
     "output_type": "stream",
     "text": [
      "alpha=2.649e-06, time=0.06s, n_iter=0\n"
     ]
    },
    {
     "name": "stderr",
     "output_type": "stream",
     "text": [
      "Iteration 0: |                            | 0/-0.0 [s/it, gradient norm=6.76544100429372e-05]\n"
     ]
    },
    {
     "name": "stdout",
     "output_type": "stream",
     "text": [
      "alpha=2.224e-06, time=0.06s, n_iter=0\n"
     ]
    },
    {
     "name": "stderr",
     "output_type": "stream",
     "text": [
      "Iteration 0: |                           | 0/-0.0 [s/it, gradient norm=6.933087404383336e-05]\n"
     ]
    },
    {
     "name": "stdout",
     "output_type": "stream",
     "text": [
      "alpha=1.867e-06, time=0.05s, n_iter=0\n"
     ]
    },
    {
     "name": "stderr",
     "output_type": "stream",
     "text": [
      "Iteration 0: |                           | 0/-0.0 [s/it, gradient norm=7.073836257614489e-05]\n"
     ]
    },
    {
     "name": "stdout",
     "output_type": "stream",
     "text": [
      "alpha=1.568e-06, time=0.05s, n_iter=0\n"
     ]
    },
    {
     "name": "stderr",
     "output_type": "stream",
     "text": [
      "Iteration 0: |                           | 0/-0.0 [s/it, gradient norm=7.192003063912118e-05]\n"
     ]
    },
    {
     "name": "stdout",
     "output_type": "stream",
     "text": [
      "alpha=1.316e-06, time=0.05s, n_iter=0\n"
     ]
    },
    {
     "name": "stderr",
     "output_type": "stream",
     "text": [
      "Iteration 0: |                           | 0/-0.0 [s/it, gradient norm=7.291210935166667e-05]\n"
     ]
    },
    {
     "name": "stdout",
     "output_type": "stream",
     "text": [
      "alpha=1.105e-06, time=0.05s, n_iter=0\n"
     ]
    },
    {
     "name": "stderr",
     "output_type": "stream",
     "text": [
      "Iteration 0: |                           | 0/-0.0 [s/it, gradient norm=7.374501683450657e-05]\n"
     ]
    },
    {
     "name": "stdout",
     "output_type": "stream",
     "text": [
      "alpha=9.278e-07, time=0.07s, n_iter=0\n"
     ]
    },
    {
     "name": "stderr",
     "output_type": "stream",
     "text": [
      "Iteration 0: |                           | 0/-0.0 [s/it, gradient norm=7.444429086004305e-05]\n"
     ]
    },
    {
     "name": "stdout",
     "output_type": "stream",
     "text": [
      "alpha=7.789e-07, time=0.06s, n_iter=0\n"
     ]
    },
    {
     "name": "stderr",
     "output_type": "stream",
     "text": [
      "Iteration 0: |                           | 0/-0.0 [s/it, gradient norm=7.503137186587423e-05]\n"
     ]
    },
    {
     "name": "stdout",
     "output_type": "stream",
     "text": [
      "alpha=6.539e-07, time=0.07s, n_iter=0\n"
     ]
    },
    {
     "name": "stderr",
     "output_type": "stream",
     "text": [
      "Iteration 0: |                            | 0/-0.0 [s/it, gradient norm=7.55242603399504e-05]\n"
     ]
    },
    {
     "name": "stdout",
     "output_type": "stream",
     "text": [
      "alpha=5.490e-07, time=0.08s, n_iter=0\n"
     ]
    },
    {
     "name": "stderr",
     "output_type": "stream",
     "text": [
      "Iteration 0:  38%|██████▍          | 0.75/2.0 [0.04s/it, gradient norm=0.0017805348436242012]\n"
     ]
    },
    {
     "name": "stdout",
     "output_type": "stream",
     "text": [
      "alpha=5.490e-01, time=0.13s, n_iter=1\n"
     ]
    },
    {
     "name": "stderr",
     "output_type": "stream",
     "text": [
      "Iteration 1:  54%|█████████        | 1.07/2.0 [0.09s/it, gradient norm=0.0008527697935287407]\n"
     ]
    },
    {
     "name": "stdout",
     "output_type": "stream",
     "text": [
      "alpha=4.609e-01, time=0.24s, n_iter=2\n"
     ]
    },
    {
     "name": "stderr",
     "output_type": "stream",
     "text": [
      "Iteration 1:  64%|██████████▉      | 1.28/2.0 [0.09s/it, gradient norm=0.0005222918385084734]\n"
     ]
    },
    {
     "name": "stdout",
     "output_type": "stream",
     "text": [
      "alpha=3.870e-01, time=0.28s, n_iter=2\n"
     ]
    },
    {
     "name": "stderr",
     "output_type": "stream",
     "text": [
      "Iteration 1:  74%|███████████▊    | 1.48/2.0 [0.10s/it, gradient norm=0.00032971850579157063]\n"
     ]
    },
    {
     "name": "stdout",
     "output_type": "stream",
     "text": [
      "alpha=3.249e-01, time=0.26s, n_iter=2\n"
     ]
    },
    {
     "name": "stderr",
     "output_type": "stream",
     "text": [
      "Iteration 1:  84%|██████████████▏  | 1.67/2.0 [0.10s/it, gradient norm=0.0002136590671800425]\n"
     ]
    },
    {
     "name": "stdout",
     "output_type": "stream",
     "text": [
      "alpha=2.728e-01, time=0.27s, n_iter=2\n"
     ]
    },
    {
     "name": "stderr",
     "output_type": "stream",
     "text": [
      "Iteration 1:  92%|██████████████▊ | 1.85/2.0 [0.10s/it, gradient norm=0.00014130545666779645]\n"
     ]
    },
    {
     "name": "stdout",
     "output_type": "stream",
     "text": [
      "alpha=2.290e-01, time=0.26s, n_iter=2\n"
     ]
    },
    {
     "name": "stderr",
     "output_type": "stream",
     "text": [
      "Iteration 0:  29%|█████▏            | 0.58/2.0 [0.07s/it, gradient norm=0.002632736692646157]\n"
     ]
    },
    {
     "name": "stdout",
     "output_type": "stream",
     "text": [
      "alpha=1.923e-01, time=0.18s, n_iter=1\n"
     ]
    },
    {
     "name": "stderr",
     "output_type": "stream",
     "text": [
      "Iteration 0:  33%|█████▌           | 0.66/2.0 [0.05s/it, gradient norm=0.0021701196560599506]\n"
     ]
    },
    {
     "name": "stdout",
     "output_type": "stream",
     "text": [
      "alpha=1.614e-01, time=0.16s, n_iter=1\n"
     ]
    },
    {
     "name": "stderr",
     "output_type": "stream",
     "text": [
      "Iteration 0:  37%|███████            | 0.74/2.0 [0.08s/it, gradient norm=0.00183047461183227]\n"
     ]
    },
    {
     "name": "stdout",
     "output_type": "stream",
     "text": [
      "alpha=1.355e-01, time=0.16s, n_iter=1\n"
     ]
    },
    {
     "name": "stderr",
     "output_type": "stream",
     "text": [
      "Iteration 0:  40%|██████▉          | 0.81/2.0 [0.07s/it, gradient norm=0.0015402628945877773]\n"
     ]
    },
    {
     "name": "stdout",
     "output_type": "stream",
     "text": [
      "alpha=1.138e-01, time=0.17s, n_iter=1\n"
     ]
    },
    {
     "name": "stderr",
     "output_type": "stream",
     "text": [
      "Iteration 0:  44%|███████▌         | 0.89/2.0 [0.08s/it, gradient norm=0.0012956530479770832]\n"
     ]
    },
    {
     "name": "stdout",
     "output_type": "stream",
     "text": [
      "alpha=9.552e-02, time=0.18s, n_iter=1\n"
     ]
    },
    {
     "name": "stderr",
     "output_type": "stream",
     "text": [
      "Iteration 0:  48%|████████▏        | 0.96/2.0 [0.08s/it, gradient norm=0.0010895202352256394]\n"
     ]
    },
    {
     "name": "stdout",
     "output_type": "stream",
     "text": [
      "alpha=8.020e-02, time=0.17s, n_iter=1\n"
     ]
    },
    {
     "name": "stderr",
     "output_type": "stream",
     "text": [
      "Iteration 0:   4%|▋                | 0.04/1.0 [0.07s/it, gradient norm=0.0009159322611395934]\n"
     ]
    },
    {
     "name": "stdout",
     "output_type": "stream",
     "text": [
      "alpha=6.733e-02, time=0.15s, n_iter=1\n"
     ]
    },
    {
     "name": "stderr",
     "output_type": "stream",
     "text": [
      "Iteration 0:  11%|█▊               | 0.11/1.0 [0.09s/it, gradient norm=0.0007715676972424416]\n"
     ]
    },
    {
     "name": "stdout",
     "output_type": "stream",
     "text": [
      "alpha=5.653e-02, time=0.18s, n_iter=1\n"
     ]
    },
    {
     "name": "stderr",
     "output_type": "stream",
     "text": [
      "Iteration 0:  14%|██▍              | 0.14/1.0 [0.08s/it, gradient norm=0.0007327136192279964]\n"
     ]
    },
    {
     "name": "stdout",
     "output_type": "stream",
     "text": [
      "alpha=4.746e-02, time=0.17s, n_iter=1\n"
     ]
    },
    {
     "name": "stderr",
     "output_type": "stream",
     "text": [
      "Iteration 0:  46%|███████▋         | 0.91/2.0 [0.05s/it, gradient norm=0.0012331999516324212]\n"
     ]
    },
    {
     "name": "stdout",
     "output_type": "stream",
     "text": [
      "alpha=3.984e-02, time=0.15s, n_iter=1\n"
     ]
    },
    {
     "name": "stderr",
     "output_type": "stream",
     "text": [
      "Iteration 0:  36%|██████           | 0.71/2.0 [0.07s/it, gradient norm=0.0019325957875904955]\n"
     ]
    },
    {
     "name": "stdout",
     "output_type": "stream",
     "text": [
      "alpha=3.345e-02, time=0.17s, n_iter=1\n"
     ]
    },
    {
     "name": "stderr",
     "output_type": "stream",
     "text": [
      "Iteration 0:  31%|█████▎           | 0.62/2.0 [0.08s/it, gradient norm=0.0023925327623360157]\n"
     ]
    },
    {
     "name": "stdout",
     "output_type": "stream",
     "text": [
      "alpha=2.808e-02, time=0.18s, n_iter=1\n"
     ]
    },
    {
     "name": "stderr",
     "output_type": "stream",
     "text": [
      "Iteration 0:  33%|█████▌           | 0.66/2.0 [0.08s/it, gradient norm=0.0021890042892659736]\n"
     ]
    },
    {
     "name": "stdout",
     "output_type": "stream",
     "text": [
      "alpha=2.358e-02, time=0.19s, n_iter=1\n"
     ]
    },
    {
     "name": "stderr",
     "output_type": "stream",
     "text": [
      "Iteration 0:  37%|██████▎          | 0.74/2.0 [0.08s/it, gradient norm=0.0018392479962387634]\n"
     ]
    },
    {
     "name": "stdout",
     "output_type": "stream",
     "text": [
      "alpha=1.979e-02, time=0.20s, n_iter=1\n"
     ]
    },
    {
     "name": "stderr",
     "output_type": "stream",
     "text": [
      "Iteration 0:  32%|█████▊            | 0.64/2.0 [0.08s/it, gradient norm=0.002272546245707871]\n"
     ]
    },
    {
     "name": "stdout",
     "output_type": "stream",
     "text": [
      "alpha=1.662e-02, time=0.19s, n_iter=1\n"
     ]
    },
    {
     "name": "stderr",
     "output_type": "stream",
     "text": [
      "Iteration 0:  28%|█████             | 0.56/2.0 [0.08s/it, gradient norm=0.002733366732240942]\n"
     ]
    },
    {
     "name": "stdout",
     "output_type": "stream",
     "text": [
      "alpha=1.395e-02, time=0.21s, n_iter=1\n"
     ]
    },
    {
     "name": "stderr",
     "output_type": "stream",
     "text": [
      "Iteration 0:  32%|█████▍           | 0.64/2.0 [0.10s/it, gradient norm=0.0022917370585596457]\n"
     ]
    },
    {
     "name": "stdout",
     "output_type": "stream",
     "text": [
      "alpha=1.171e-02, time=0.22s, n_iter=1\n"
     ]
    },
    {
     "name": "stderr",
     "output_type": "stream",
     "text": [
      "Iteration 0:  36%|██████           | 0.72/2.0 [0.08s/it, gradient norm=0.0019232208962576508]\n"
     ]
    },
    {
     "name": "stdout",
     "output_type": "stream",
     "text": [
      "alpha=9.835e-03, time=0.18s, n_iter=1\n"
     ]
    },
    {
     "name": "stderr",
     "output_type": "stream",
     "text": [
      "Iteration 0:  40%|██████▋          | 0.79/2.0 [0.08s/it, gradient norm=0.0016138203008542115]\n"
     ]
    },
    {
     "name": "stdout",
     "output_type": "stream",
     "text": [
      "alpha=8.257e-03, time=0.18s, n_iter=1\n"
     ]
    },
    {
     "name": "stderr",
     "output_type": "stream",
     "text": [
      "Iteration 0:  39%|██████▋          | 0.78/2.0 [0.07s/it, gradient norm=0.0016463984138259673]\n"
     ]
    },
    {
     "name": "stdout",
     "output_type": "stream",
     "text": [
      "alpha=6.932e-03, time=0.17s, n_iter=1\n"
     ]
    },
    {
     "name": "stderr",
     "output_type": "stream",
     "text": [
      "Iteration 0:  36%|██████▏          | 0.73/2.0 [0.05s/it, gradient norm=0.0018562811640789457]\n"
     ]
    },
    {
     "name": "stdout",
     "output_type": "stream",
     "text": [
      "alpha=5.820e-03, time=0.13s, n_iter=1\n"
     ]
    },
    {
     "name": "stderr",
     "output_type": "stream",
     "text": [
      "Iteration 0:  38%|██████▍          | 0.76/2.0 [0.06s/it, gradient norm=0.0017207300169864458]\n"
     ]
    },
    {
     "name": "stdout",
     "output_type": "stream",
     "text": [
      "alpha=4.886e-03, time=0.15s, n_iter=1\n"
     ]
    },
    {
     "name": "stderr",
     "output_type": "stream",
     "text": [
      "Iteration 0:  40%|██████▉          | 0.81/2.0 [0.07s/it, gradient norm=0.0015468578190321281]\n"
     ]
    },
    {
     "name": "stdout",
     "output_type": "stream",
     "text": [
      "alpha=4.102e-03, time=0.18s, n_iter=1\n"
     ]
    },
    {
     "name": "stderr",
     "output_type": "stream",
     "text": [
      "Iteration 0:  44%|███████▌         | 0.89/2.0 [0.07s/it, gradient norm=0.0012988576275927701]\n"
     ]
    },
    {
     "name": "stdout",
     "output_type": "stream",
     "text": [
      "alpha=3.444e-03, time=0.18s, n_iter=1\n"
     ]
    },
    {
     "name": "stderr",
     "output_type": "stream",
     "text": [
      "Iteration 0:  34%|█████▊           | 0.68/2.0 [0.08s/it, gradient norm=0.0021112519021484356]\n"
     ]
    },
    {
     "name": "stdout",
     "output_type": "stream",
     "text": [
      "alpha=2.891e-03, time=0.18s, n_iter=1\n"
     ]
    },
    {
     "name": "stderr",
     "output_type": "stream",
     "text": [
      "Iteration 0:  36%|██████▏          | 0.73/2.0 [0.07s/it, gradient norm=0.0018480896493720351]\n"
     ]
    },
    {
     "name": "stdout",
     "output_type": "stream",
     "text": [
      "alpha=2.428e-03, time=0.16s, n_iter=1\n"
     ]
    },
    {
     "name": "stderr",
     "output_type": "stream",
     "text": [
      "Iteration 0:  40%|██████▉          | 0.81/2.0 [0.06s/it, gradient norm=0.0015513711372182135]\n"
     ]
    },
    {
     "name": "stdout",
     "output_type": "stream",
     "text": [
      "alpha=2.038e-03, time=0.14s, n_iter=1\n"
     ]
    },
    {
     "name": "stderr",
     "output_type": "stream",
     "text": [
      "Iteration 0:  44%|███████▌         | 0.89/2.0 [0.05s/it, gradient norm=0.0013020748055400278]\n"
     ]
    },
    {
     "name": "stdout",
     "output_type": "stream",
     "text": [
      "alpha=1.711e-03, time=0.13s, n_iter=1\n"
     ]
    },
    {
     "name": "stderr",
     "output_type": "stream",
     "text": [
      "Iteration 0:  48%|████████         | 0.95/2.0 [0.06s/it, gradient norm=0.0011137501206386615]\n"
     ]
    },
    {
     "name": "stdout",
     "output_type": "stream",
     "text": [
      "alpha=1.437e-03, time=0.16s, n_iter=1\n"
     ]
    },
    {
     "name": "stderr",
     "output_type": "stream",
     "text": [
      "Iteration 0:   2%|▎                | 0.02/1.0 [0.05s/it, gradient norm=0.0009649517399474887]\n"
     ]
    },
    {
     "name": "stdout",
     "output_type": "stream",
     "text": [
      "alpha=1.206e-03, time=0.16s, n_iter=1\n"
     ]
    },
    {
     "name": "stderr",
     "output_type": "stream",
     "text": [
      "Iteration 0:   7%|█▏               | 0.07/1.0 [0.07s/it, gradient norm=0.0008424448550223698]\n"
     ]
    },
    {
     "name": "stdout",
     "output_type": "stream",
     "text": [
      "alpha=1.013e-03, time=0.18s, n_iter=1\n"
     ]
    },
    {
     "name": "stderr",
     "output_type": "stream",
     "text": [
      "Iteration 0:  13%|██▏              | 0.13/1.0 [0.08s/it, gradient norm=0.0007380571734246358]\n"
     ]
    },
    {
     "name": "stdout",
     "output_type": "stream",
     "text": [
      "alpha=8.501e-04, time=0.21s, n_iter=1\n"
     ]
    },
    {
     "name": "stderr",
     "output_type": "stream",
     "text": [
      "Iteration 0:  19%|███▏             | 0.19/1.0 [0.07s/it, gradient norm=0.0006406881571577728]\n"
     ]
    },
    {
     "name": "stdout",
     "output_type": "stream",
     "text": [
      "alpha=7.137e-04, time=0.16s, n_iter=1\n"
     ]
    },
    {
     "name": "stderr",
     "output_type": "stream",
     "text": [
      "Iteration 0:  25%|████▎            | 0.25/1.0 [0.06s/it, gradient norm=0.0005566371792300776]\n"
     ]
    },
    {
     "name": "stdout",
     "output_type": "stream",
     "text": [
      "alpha=5.992e-04, time=0.16s, n_iter=1\n"
     ]
    },
    {
     "name": "stderr",
     "output_type": "stream",
     "text": [
      "Iteration 0:  33%|█████▌           | 0.33/1.0 [0.07s/it, gradient norm=0.0004713433864234698]\n"
     ]
    },
    {
     "name": "stdout",
     "output_type": "stream",
     "text": [
      "alpha=5.031e-04, time=0.17s, n_iter=1\n"
     ]
    },
    {
     "name": "stderr",
     "output_type": "stream",
     "text": [
      "Iteration 0:  40%|███████▏          | 0.4/1.0 [0.07s/it, gradient norm=0.0003985649805509537]\n"
     ]
    },
    {
     "name": "stdout",
     "output_type": "stream",
     "text": [
      "alpha=4.223e-04, time=0.18s, n_iter=1\n"
     ]
    },
    {
     "name": "stderr",
     "output_type": "stream",
     "text": [
      "Iteration 0:  47%|███████▉         | 0.47/1.0 [0.08s/it, gradient norm=0.0003381894529958299]\n"
     ]
    },
    {
     "name": "stdout",
     "output_type": "stream",
     "text": [
      "alpha=3.546e-04, time=0.21s, n_iter=1\n"
     ]
    },
    {
     "name": "stderr",
     "output_type": "stream",
     "text": [
      "Iteration 0:  54%|████████▋       | 0.54/1.0 [0.05s/it, gradient norm=0.00028714300715172475]\n"
     ]
    },
    {
     "name": "stdout",
     "output_type": "stream",
     "text": [
      "alpha=2.977e-04, time=0.14s, n_iter=1\n"
     ]
    },
    {
     "name": "stderr",
     "output_type": "stream",
     "text": [
      "Iteration 0:  61%|█████████▊      | 0.61/1.0 [0.07s/it, gradient norm=0.00024417970004009986]\n"
     ]
    },
    {
     "name": "stdout",
     "output_type": "stream",
     "text": [
      "alpha=2.499e-04, time=0.18s, n_iter=1\n"
     ]
    },
    {
     "name": "stderr",
     "output_type": "stream",
     "text": [
      "Iteration 0:  68%|███████████▌     | 0.68/1.0 [0.07s/it, gradient norm=0.0002081563733309907]\n"
     ]
    },
    {
     "name": "stdout",
     "output_type": "stream",
     "text": [
      "alpha=2.098e-04, time=0.18s, n_iter=1\n"
     ]
    },
    {
     "name": "stderr",
     "output_type": "stream",
     "text": [
      "Iteration 0:  75%|████████████    | 0.75/1.0 [0.06s/it, gradient norm=0.00017701324139599549]\n"
     ]
    },
    {
     "name": "stdout",
     "output_type": "stream",
     "text": [
      "alpha=1.762e-04, time=0.17s, n_iter=1\n"
     ]
    },
    {
     "name": "stderr",
     "output_type": "stream",
     "text": [
      "Iteration 0:  82%|█████████████   | 0.82/1.0 [0.06s/it, gradient norm=0.00015215823511863534]\n"
     ]
    },
    {
     "name": "stdout",
     "output_type": "stream",
     "text": [
      "alpha=1.479e-04, time=0.18s, n_iter=1\n"
     ]
    },
    {
     "name": "stderr",
     "output_type": "stream",
     "text": [
      "Iteration 0:  88%|██████████████▉  | 0.88/1.0 [0.08s/it, gradient norm=0.0001306654768893714]\n"
     ]
    },
    {
     "name": "stdout",
     "output_type": "stream",
     "text": [
      "alpha=1.242e-04, time=0.18s, n_iter=1\n"
     ]
    },
    {
     "name": "stderr",
     "output_type": "stream",
     "text": [
      "Iteration 0:  95%|███████████████▏| 0.95/1.0 [0.05s/it, gradient norm=0.00011203137276289637]\n"
     ]
    },
    {
     "name": "stdout",
     "output_type": "stream",
     "text": [
      "alpha=1.042e-04, time=0.14s, n_iter=1\n"
     ]
    },
    {
     "name": "stderr",
     "output_type": "stream",
     "text": [
      "Iteration 0: |                           | 0/-0.0 [s/it, gradient norm=9.683107979586047e-05]\n"
     ]
    },
    {
     "name": "stdout",
     "output_type": "stream",
     "text": [
      "alpha=8.752e-05, time=0.07s, n_iter=0\n"
     ]
    },
    {
     "name": "stderr",
     "output_type": "stream",
     "text": [
      "Iteration 0:  79%|████████████▋   | 0.79/1.0 [0.06s/it, gradient norm=0.00016292934740708498]\n"
     ]
    },
    {
     "name": "stdout",
     "output_type": "stream",
     "text": [
      "alpha=7.348e-05, time=0.13s, n_iter=1\n"
     ]
    },
    {
     "name": "stderr",
     "output_type": "stream",
     "text": [
      "Iteration 0: |                           | 0/-0.0 [s/it, gradient norm=7.400910517528186e-05]\n"
     ]
    },
    {
     "name": "stdout",
     "output_type": "stream",
     "text": [
      "alpha=6.169e-05, time=0.07s, n_iter=0\n"
     ]
    },
    {
     "name": "stderr",
     "output_type": "stream",
     "text": [
      "Iteration 0:  92%|██████████████▋ | 0.92/1.0 [0.05s/it, gradient norm=0.00012059895846917458]\n"
     ]
    },
    {
     "name": "stdout",
     "output_type": "stream",
     "text": [
      "alpha=5.179e-05, time=0.14s, n_iter=1\n"
     ]
    },
    {
     "name": "stderr",
     "output_type": "stream",
     "text": [
      "Iteration 0: |                          | 0/-0.0 [s/it, gradient norm=5.7685019701610204e-05]\n"
     ]
    },
    {
     "name": "stdout",
     "output_type": "stream",
     "text": [
      "alpha=4.348e-05, time=0.06s, n_iter=0\n"
     ]
    },
    {
     "name": "stderr",
     "output_type": "stream",
     "text": [
      "Iteration 0: |                           | 0/-0.0 [s/it, gradient norm=9.052422273055376e-05]\n"
     ]
    },
    {
     "name": "stdout",
     "output_type": "stream",
     "text": [
      "alpha=3.651e-05, time=0.06s, n_iter=0\n"
     ]
    },
    {
     "name": "stderr",
     "output_type": "stream",
     "text": [
      "Iteration 0:  93%|██████████████▉ | 0.93/1.0 [0.06s/it, gradient norm=0.00011809463381530147]\n"
     ]
    },
    {
     "name": "stdout",
     "output_type": "stream",
     "text": [
      "alpha=3.065e-05, time=0.15s, n_iter=1\n"
     ]
    },
    {
     "name": "stderr",
     "output_type": "stream",
     "text": [
      "Iteration 0: |                          | 0/-0.0 [s/it, gradient norm=4.1742639911510365e-05]\n"
     ]
    },
    {
     "name": "stdout",
     "output_type": "stream",
     "text": [
      "alpha=2.573e-05, time=0.06s, n_iter=0\n"
     ]
    },
    {
     "name": "stderr",
     "output_type": "stream",
     "text": [
      "Iteration 0: |                           | 0/-0.0 [s/it, gradient norm=6.117584828613621e-05]\n"
     ]
    },
    {
     "name": "stdout",
     "output_type": "stream",
     "text": [
      "alpha=2.160e-05, time=0.06s, n_iter=0\n"
     ]
    },
    {
     "name": "stderr",
     "output_type": "stream",
     "text": [
      "Iteration 0: |                           | 0/-0.0 [s/it, gradient norm=7.749115116092824e-05]\n"
     ]
    },
    {
     "name": "stdout",
     "output_type": "stream",
     "text": [
      "alpha=1.814e-05, time=0.07s, n_iter=0\n"
     ]
    },
    {
     "name": "stderr",
     "output_type": "stream",
     "text": [
      "Iteration 0: |                           | 0/-0.0 [s/it, gradient norm=9.118879196036297e-05]\n"
     ]
    },
    {
     "name": "stdout",
     "output_type": "stream",
     "text": [
      "alpha=1.523e-05, time=0.06s, n_iter=0\n"
     ]
    },
    {
     "name": "stderr",
     "output_type": "stream",
     "text": [
      "Iteration 0:  99%|███████████████▊| 0.99/1.0 [0.06s/it, gradient norm=0.00010268875398437368]\n"
     ]
    },
    {
     "name": "stdout",
     "output_type": "stream",
     "text": [
      "alpha=1.278e-05, time=0.15s, n_iter=1\n"
     ]
    },
    {
     "name": "stderr",
     "output_type": "stream",
     "text": [
      "Iteration 0: |                          | 0/-0.0 [s/it, gradient norm=2.7827633791984535e-05]\n"
     ]
    },
    {
     "name": "stdout",
     "output_type": "stream",
     "text": [
      "alpha=1.073e-05, time=0.06s, n_iter=0\n"
     ]
    },
    {
     "name": "stderr",
     "output_type": "stream",
     "text": [
      "Iteration 0: |                          | 0/-0.0 [s/it, gradient norm=3.5933467166247015e-05]\n"
     ]
    },
    {
     "name": "stdout",
     "output_type": "stream",
     "text": [
      "alpha=9.011e-06, time=0.06s, n_iter=0\n"
     ]
    },
    {
     "name": "stderr",
     "output_type": "stream",
     "text": [
      "Iteration 0: |                            | 0/-0.0 [s/it, gradient norm=4.27387833036671e-05]\n"
     ]
    },
    {
     "name": "stdout",
     "output_type": "stream",
     "text": [
      "alpha=7.565e-06, time=0.06s, n_iter=0\n"
     ]
    },
    {
     "name": "stderr",
     "output_type": "stream",
     "text": [
      "Iteration 0: |                          | 0/-0.0 [s/it, gradient norm=4.8452239970230274e-05]\n"
     ]
    },
    {
     "name": "stdout",
     "output_type": "stream",
     "text": [
      "alpha=6.352e-06, time=0.06s, n_iter=0\n"
     ]
    },
    {
     "name": "stderr",
     "output_type": "stream",
     "text": [
      "Iteration 0: |                          | 0/-0.0 [s/it, gradient norm=5.3249017433836904e-05]\n"
     ]
    },
    {
     "name": "stdout",
     "output_type": "stream",
     "text": [
      "alpha=5.333e-06, time=0.07s, n_iter=0\n"
     ]
    },
    {
     "name": "stderr",
     "output_type": "stream",
     "text": [
      "Iteration 0: |                           | 0/-0.0 [s/it, gradient norm=5.727618966566994e-05]\n"
     ]
    },
    {
     "name": "stdout",
     "output_type": "stream",
     "text": [
      "alpha=4.477e-06, time=0.06s, n_iter=0\n"
     ]
    },
    {
     "name": "stderr",
     "output_type": "stream",
     "text": [
      "Iteration 0: |                           | 0/-0.0 [s/it, gradient norm=6.065723377453147e-05]\n"
     ]
    },
    {
     "name": "stdout",
     "output_type": "stream",
     "text": [
      "alpha=3.759e-06, time=0.07s, n_iter=0\n"
     ]
    },
    {
     "name": "stderr",
     "output_type": "stream",
     "text": [
      "Iteration 0: |                            | 0/-0.0 [s/it, gradient norm=6.34958159378933e-05]\n"
     ]
    },
    {
     "name": "stdout",
     "output_type": "stream",
     "text": [
      "alpha=3.156e-06, time=0.08s, n_iter=0\n"
     ]
    },
    {
     "name": "stderr",
     "output_type": "stream",
     "text": [
      "Iteration 0: |                           | 0/-0.0 [s/it, gradient norm=6.587896991007533e-05]\n"
     ]
    },
    {
     "name": "stdout",
     "output_type": "stream",
     "text": [
      "alpha=2.649e-06, time=0.07s, n_iter=0\n"
     ]
    },
    {
     "name": "stderr",
     "output_type": "stream",
     "text": [
      "Iteration 0: |                            | 0/-0.0 [s/it, gradient norm=6.78797655637761e-05]\n"
     ]
    },
    {
     "name": "stdout",
     "output_type": "stream",
     "text": [
      "alpha=2.224e-06, time=0.08s, n_iter=0\n"
     ]
    },
    {
     "name": "stderr",
     "output_type": "stream",
     "text": [
      "Iteration 0: |                           | 0/-0.0 [s/it, gradient norm=6.955954928509502e-05]\n"
     ]
    },
    {
     "name": "stdout",
     "output_type": "stream",
     "text": [
      "alpha=1.867e-06, time=0.07s, n_iter=0\n"
     ]
    },
    {
     "name": "stderr",
     "output_type": "stream",
     "text": [
      "Iteration 0: |                           | 0/-0.0 [s/it, gradient norm=7.096982491478713e-05]\n"
     ]
    },
    {
     "name": "stdout",
     "output_type": "stream",
     "text": [
      "alpha=1.568e-06, time=0.06s, n_iter=0\n"
     ]
    },
    {
     "name": "stderr",
     "output_type": "stream",
     "text": [
      "Iteration 0: |                           | 0/-0.0 [s/it, gradient norm=7.215383290728145e-05]\n"
     ]
    },
    {
     "name": "stdout",
     "output_type": "stream",
     "text": [
      "alpha=1.316e-06, time=0.07s, n_iter=0\n"
     ]
    },
    {
     "name": "stderr",
     "output_type": "stream",
     "text": [
      "Iteration 0: |                           | 0/-0.0 [s/it, gradient norm=7.314787612605031e-05]\n"
     ]
    },
    {
     "name": "stdout",
     "output_type": "stream",
     "text": [
      "alpha=1.105e-06, time=0.07s, n_iter=0\n"
     ]
    },
    {
     "name": "stderr",
     "output_type": "stream",
     "text": [
      "Iteration 0: |                           | 0/-0.0 [s/it, gradient norm=7.398243292553502e-05]\n"
     ]
    },
    {
     "name": "stdout",
     "output_type": "stream",
     "text": [
      "alpha=9.278e-07, time=0.07s, n_iter=0\n"
     ]
    },
    {
     "name": "stderr",
     "output_type": "stream",
     "text": [
      "Iteration 0: |                           | 0/-0.0 [s/it, gradient norm=7.468309164782754e-05]\n"
     ]
    },
    {
     "name": "stdout",
     "output_type": "stream",
     "text": [
      "alpha=7.789e-07, time=0.07s, n_iter=0\n"
     ]
    },
    {
     "name": "stderr",
     "output_type": "stream",
     "text": [
      "Iteration 0: |                           | 0/-0.0 [s/it, gradient norm=7.527133518670678e-05]\n"
     ]
    },
    {
     "name": "stdout",
     "output_type": "stream",
     "text": [
      "alpha=6.539e-07, time=0.08s, n_iter=0\n"
     ]
    },
    {
     "name": "stderr",
     "output_type": "stream",
     "text": [
      "Iteration 0: |                           | 0/-0.0 [s/it, gradient norm=7.576519967454323e-05]\n"
     ]
    },
    {
     "name": "stdout",
     "output_type": "stream",
     "text": [
      "alpha=5.490e-07, time=0.08s, n_iter=0\n"
     ]
    },
    {
     "name": "stderr",
     "output_type": "stream",
     "text": [
      "Iteration 3:  57%|█████████▋       | 1.72/3.0 [0.10s/it, gradient norm=0.0019107042903115912]\n"
     ]
    },
    {
     "ename": "NameError",
     "evalue": "name 'y_test' is not defined",
     "output_type": "error",
     "traceback": [
      "\u001b[31m---------------------------------------------------------------------------\u001b[39m",
      "\u001b[31mNameError\u001b[39m                                 Traceback (most recent call last)",
      "\u001b[36mCell\u001b[39m\u001b[36m \u001b[39m\u001b[32mIn[41]\u001b[39m\u001b[32m, line 12\u001b[39m\n\u001b[32m      8\u001b[39m rate_test = lasso_cv.predict(X_test)      \u001b[38;5;66;03m# erwartete Rate\u001b[39;00m\n\u001b[32m      9\u001b[39m pred_cnt  = rate_test * w_test            \u001b[38;5;66;03m# erwartete Counts\u001b[39;00m\n\u001b[32m     11\u001b[39m \u001b[38;5;28mprint\u001b[39m(cf2(\u001b[33m\"\u001b[39m\u001b[33mClaim Frequency LASSO(+DrivAge poly), Test (Actual/Pred)\u001b[39m\u001b[33m\"\u001b[39m,\n\u001b[32m---> \u001b[39m\u001b[32m12\u001b[39m           \u001b[43my_test\u001b[49m, w_test, pred_cnt, w_test))\n\u001b[32m     13\u001b[39m \u001b[38;5;28mprint\u001b[39m(\u001b[33mf\u001b[39m\u001b[33m\"\u001b[39m\u001b[33mPoisson Deviance LASSO(+DrivAge poly), Test: \u001b[39m\u001b[38;5;132;01m{\u001b[39;00mpdw(pred_cnt,\u001b[38;5;250m \u001b[39my_test,\u001b[38;5;250m \u001b[39mw_test)\u001b[38;5;132;01m:\u001b[39;00m\u001b[33m.2f\u001b[39m\u001b[38;5;132;01m}\u001b[39;00m\u001b[33m%\u001b[39m\u001b[33m\"\u001b[39m)\n\u001b[32m     15\u001b[39m nnz = \u001b[38;5;28mint\u001b[39m(np.sum(np.abs(np.asarray(lasso_cv.coef_, \u001b[38;5;28mfloat\u001b[39m)) > \u001b[32m0\u001b[39m))\n",
      "\u001b[31mNameError\u001b[39m: name 'y_test' is not defined"
     ]
    }
   ],
   "source": [
    "from glum import GeneralizedLinearRegressorCV\n",
    "from metrics import pdw, cf2\n",
    "\n",
    "lasso_cv = GeneralizedLinearRegressorCV(\n",
    "    family=\"poisson\", l1_ratio=1.0, cv=5, n_alphas=80, random_state=42, verbose=1\n",
    ").fit(X_learn, y_learn, sample_weight=w_learn)\n",
    "\n",
    "rate_test = lasso_cv.predict(X_test)      # erwartete Rate\n",
    "pred_cnt  = rate_test * w_test            # erwartete Counts\n",
    "\n",
    "print(cf2(\"Claim Frequency LASSO(+DrivAge poly), Test (Actual/Pred)\",\n",
    "          y_test, w_test, pred_cnt, w_test))\n",
    "print(f\"Poisson Deviance LASSO(+DrivAge poly), Test: {pdw(pred_cnt, y_test, w_test):.2f}%\")\n",
    "\n",
    "nnz = int(np.sum(np.abs(np.asarray(lasso_cv.coef_, float)) > 0))\n",
    "print(\"alpha* =\", lasso_cv.alpha_, \"| non-zero (ohne Intercept):\", nnz)\n"
   ]
  },
  {
   "cell_type": "code",
   "execution_count": 15,
   "id": "e55de446-40d5-4d31-8d27-1cd3bbf9c27b",
   "metadata": {},
   "outputs": [],
   "source": [
    "learn = df_glm[df_glm[\"fold\"] != 5].copy()\n",
    "test  = df_glm[df_glm[\"fold\"] == 5].copy()\n",
    "\n",
    "# 2) Kategorien auf BASIS df_glm (nicht df!) \n",
    "cat_cols = [\"VehPowerGLM\",\"VehAgeGLM\",\"DrivAgeGLM\",\"VehBrand\",\"VehGas\",\"Region\"]\n",
    "missing = [c for c in cat_cols + [\"AreaGLM\",\"BonusMalusGLM\",\"DensityGLM\",\"VehAge\",\"DrivAge\"] if c not in df_glm.columns]\n",
    "assert not missing, f\"Fehlende Spalten in df_glm: {missing}\"\n",
    "\n",
    "for c in cat_cols:\n",
    "    cats = sorted(df_glm[c].astype(\"category\").cat.categories)\n",
    "    learn[c] = learn[c].astype(pd.CategoricalDtype(categories=cats))\n",
    "    test[c]  = test[c].astype(pd.CategoricalDtype(categories=cats))\n",
    "\n",
    "# 3) Designmatrix-Funktion auf df_glm-Spalten\n",
    "def make_X(part: pd.DataFrame) -> np.ndarray:\n",
    "    return np.column_stack([\n",
    "        part[\"VehAge\"].astype(float).to_numpy(),           # 0: s(VehAge)\n",
    "        part[\"DrivAge\"].astype(float).to_numpy(),          # 1: s(DrivAge)\n",
    "        part[\"BonusMalusGLM\"].astype(float).to_numpy(),    # 2: s(BonusMalusGLM)\n",
    "        part[\"VehPowerGLM\"].cat.codes.to_numpy(),          # 3: f(VehPowerGLM)\n",
    "        part[\"VehGas\"].cat.codes.to_numpy(),               # 4: f(VehGas)\n",
    "        part[\"VehBrand\"].cat.codes.to_numpy(),             # 5: f(VehBrand)\n",
    "        part[\"Region\"].cat.codes.to_numpy(),               # 6: f(Region)\n",
    "        part[\"AreaGLM\"].astype(float).to_numpy(),          # 7: l(AreaGLM)\n",
    "        part[\"DensityGLM\"].astype(float).to_numpy(),       # 8: l(DensityGLM)\n",
    "    ])\n",
    "\n",
    "X_learn = make_X(learn)\n",
    "X_test  = make_X(test)\n",
    "\n",
    "# 4) Ziel & Gewichte (Offset-äquivalent)\n",
    "y_learn = (learn[\"ClaimNb\"] / learn[\"Exposure\"]).to_numpy()\n",
    "w_learn = learn[\"Exposure\"].to_numpy()\n",
    "y_test_counts = test[\"ClaimNb\"].to_numpy()\n",
    "w_test = test[\"Exposure\"].to_numpy()"
   ]
  },
  {
   "cell_type": "code",
   "execution_count": 17,
   "id": "860074c7-3172-47a6-9abc-2c964affe743",
   "metadata": {},
   "outputs": [
    {
     "name": "stderr",
     "output_type": "stream",
     "text": [
      "/home/steve/code/freMTPL2-pricing/.venv/lib/python3.12/site-packages/pygam/utils.py:77: UserWarning: Could not import Scikit-Sparse or Suite-Sparse.\n",
      "This will slow down optimization for models with monotonicity/convexity penalties and many splines.\n",
      "See installation instructions for installing Scikit-Sparse and Suite-Sparse via Conda.\n",
      "  warnings.warn(msg)\n"
     ]
    }
   ],
   "source": [
    "from pygam import PoissonGAM, s, f, l\n",
    "\n",
    "terms = (\n",
    "    s(0) + s(1) + s(2) +      # VehAge, DrivAge, BonusMalusGLM\n",
    "    f(3) + f(4) + f(5) + f(6) # VehPowerGLM, VehGas, VehBrand, Region\n",
    "    + l(7) + l(8)             # AreaGLM, DensityGLM\n",
    ")\n",
    "\n",
    "gam = PoissonGAM(terms, verbose=True)\n",
    "# Wichtig: wir fitten auf die RATE und geben Exposure als weights mit (Offset-Äquivalenz)\n",
    "gam.fit(X_learn, y_learn, weights=w_learn)\n",
    "\n",
    "# Vorhersage der RATE auf Test, dann zurück zu Counts\n",
    "rate_test = gam.predict(X_test)        # E[Rate]\n",
    "pred_counts = rate_test * w_test       # E[ClaimNb]\n"
   ]
  },
  {
   "cell_type": "code",
   "execution_count": 18,
   "id": "3e238436-a070-4a48-85cd-01e6818b7ceb",
   "metadata": {},
   "outputs": [
    {
     "name": "stdout",
     "output_type": "stream",
     "text": [
      "Claim Frequency GAM, Test (Actual/Predicted): 7.38% / 7.36%\n",
      "Poisson Deviance GAM, Test: 29.16%\n"
     ]
    },
    {
     "name": "stderr",
     "output_type": "stream",
     "text": [
      "/tmp/ipykernel_33674/3271952469.py:11: FutureWarning: The default of observed=False is deprecated and will be changed to True in a future version of pandas. Pass observed=False to retain current behavior or observed=True to adopt the future default and silence this warning.\n",
      "  .groupby(\"dec\")\n"
     ]
    },
    {
     "data": {
      "image/png": "[encoded data removed]",
      "text/plain": [
       "<Figure size 640x480 with 1 Axes>"
      ]
     },
     "metadata": {},
     "output_type": "display_data"
    }
   ],
   "source": [
    "import numpy as np, pandas as pd, matplotlib.pyplot as plt\n",
    "\n",
    "print(cf2(\"Claim Frequency GAM, Test (Actual/Predicted)\",\n",
    "          y_test_counts, w_test, pred_counts, w_test))\n",
    "print(f\"Poisson Deviance GAM, Test: {pdw(pred_counts, y_test_counts, w_test):.2f}%\")\n",
    "\n",
    "# Optional: Reliability / Dezile\n",
    "pred_rate = pred_counts / w_test\n",
    "dec = pd.qcut(pred_rate, q=10, duplicates=\"drop\")\n",
    "cal = (pd.DataFrame({\"dec\":dec, \"expo\":w_test, \"claims\":y_test_counts, \"pred\":pred_counts})\n",
    "       .groupby(\"dec\")\n",
    "       .agg(expo=(\"expo\",\"sum\"), claims=(\"claims\",\"sum\"), pred=(\"pred\",\"sum\"))\n",
    "       .assign(obs_rate=lambda d: d[\"claims\"]/d[\"expo\"],\n",
    "               pred_rate=lambda d: d[\"pred\"]/d[\"expo\"])\n",
    "       .reset_index())\n",
    "\n",
    "plt.figure()\n",
    "plt.plot(range(1, len(cal)+1), cal[\"obs_rate\"], marker=\"o\", label=\"Observed\")\n",
    "plt.plot(range(1, len(cal)+1), cal[\"pred_rate\"], marker=\"s\", label=\"Predicted\")\n",
    "plt.xlabel(\"Decile of predicted rate (low → high)\")\n",
    "plt.ylabel(\"Claim rate\")\n",
    "plt.title(\"Calibration — Poisson GAM (Test)\")\n",
    "plt.legend(); plt.tight_layout(); plt.show()\n"
   ]
  },
  {
   "cell_type": "code",
   "execution_count": 19,
   "id": "7d7f081e-4b8e-40c5-8690-1d58bc42becd",
   "metadata": {},
   "outputs": [
    {
     "name": "stdout",
     "output_type": "stream",
     "text": [
      "Overall freq : 0.07368\n"
     ]
    }
   ],
   "source": [
    "import pandas as pd, numpy as np\n",
    "\n",
    "df = pd.read_parquet(\"../data/work/freMTPL2_joined_capped.parquet\")\n",
    "overall = df[\"ClaimNb\"].sum()/df[\"Exposure\"].sum()\n",
    "print(f\"Overall freq : {overall:.5f}\")  # \n"
   ]
  },
  {
   "cell_type": "markdown",
   "id": "1bac6ee8-6cb4-4b62-9a46-b0484b376b4e",
   "metadata": {},
   "source": [
    "## GAM – Kurzfazit & Vergleich zu GLM1/GLM2\n",
    "\n",
    "**Setup.**  \n",
    "Poisson-GAM für die **Rate** $y=\\frac{\\text{ClaimNb}}{\\text{Exposure}}$ mit **Gewichten** $w=\\text{Exposure}$  \n",
    "(äquivalent zu einem Offset $\\log(\\text{Exposure})$). Terme:\n",
    "- glatt: $s(\\text{VehAge}) + s(\\text{DrivAge}) + s(\\text{BonusMalusGLM})$\n",
    "- kategorial: $f(\\text{VehPowerGLM}) + f(\\text{VehGas}) + f(\\text{VehBrand}) + f(\\text{Region})$\n",
    "- linear: $l(\\text{AreaGLM}) + l(\\text{DensityGLM})$  \n",
    "Split: 5 Folds (Seed 42), **Fold 5 = Test (~20 %)**.  \n",
    "Vorhersage der Counts über $\\hat\\mu = \\hat r \\cdot \\text{Exposure}$.\n",
    "\n",
    "**Ergebnisse (Test).**\n",
    "- Claim Frequency (Actual/Predicted): **7.38 % / 7.36 %**  → **Niveau-Kalibrierung passt**\n",
    "- Poisson Deviance: **GAM 29.16 %**  *(besser als GLM1 **29.55 %** und GLM2 **29.52 %**; INT **31.26 %**)*\n",
    "\n",
    "**Interpretation.**  \n",
    "Die glatten Terme bilden die erwartete **U-Form** von Fahreralter sowie die **nichtlineare** Wirkung des Bonus-Malus plausibel ab. Das führt zu einer **robust besseren Güte** (PDW↓) bei unveränderter Mittelwertkalibrierung.\n",
    "\n",
    "\n",
    "\n"
   ]
  },
  {
   "cell_type": "code",
   "execution_count": 32,
   "id": "ab15550b-73e7-4540-a07c-1a0a3acccbca",
   "metadata": {},
   "outputs": [
    {
     "data": {
      "text/plain": [
       "<Figure size 640x480 with 0 Axes>"
      ]
     },
     "metadata": {},
     "output_type": "display_data"
    }
   ],
   "source": [
    "import os\n",
    "PROJECT_ROOT = os.path.abspath(\"..\")\n",
    "FIG_DIR = os.path.join(PROJECT_ROOT, \"figures\")\n",
    "os.makedirs(FIG_DIR, exist_ok=True)\n",
    "\n"
   ]
  },
  {
   "cell_type": "code",
   "execution_count": 34,
   "id": "e9d9d723-53fb-4b63-a45d-f41e5b4c0f06",
   "metadata": {},
   "outputs": [
    {
     "name": "stderr",
     "output_type": "stream",
     "text": [
      "/tmp/ipykernel_33674/4005618328.py:4: FutureWarning: DataFrameGroupBy.apply operated on the grouping columns. This behavior is deprecated, and in a future version of pandas the grouping columns will be excluded from the operation. Either pass `include_groups=False` to exclude the groupings or explicitly select the grouping columns after groupby to silence this warning.\n",
      "  out = dfc.groupby('dec').apply(lambda g: pd.Series({\n"
     ]
    },
    {
     "data": {
      "image/png": "[encoded data removed]",
      "text/plain": [
       "<Figure size 900x600 with 1 Axes>"
      ]
     },
     "metadata": {},
     "output_type": "display_data"
    }
   ],
   "source": [
    "cal = decile_calibration(\n",
    "    y_test_counts,           # Zielvariable (observed claim counts)\n",
    "    test_pred_glm2,          # deine beste Schätzung, z.B. GLM2 oder GAM\n",
    "    w=w_test                 # Exposure\n",
    ")\n",
    "\n",
    "plt.figure(figsize=(6,4), dpi=150)\n",
    "plt.plot(cal['dec'], cal['actual'], 'o-', label='Actual')\n",
    "plt.plot(cal['dec'], cal['pred'], 'o-', label='Predicted')\n",
    "plt.xlabel('Decile (by predicted claim frequency)')\n",
    "plt.ylabel('Claim frequency')\n",
    "plt.legend(); plt.tight_layout()\n",
    "plt.savefig(os.path.join(FIG_DIR, \"calibration_glm2.png\"), dpi=150, bbox_inches=\"tight\")\n",
    "plt.show()\n"
   ]
  },
  {
   "cell_type": "code",
   "execution_count": 38,
   "id": "35036948-4021-48be-ac08-aadd6b907399",
   "metadata": {},
   "outputs": [
    {
     "data": {
      "image/png": "[encoded data removed]",
      "text/plain": [
       "<Figure size 900x600 with 1 Axes>"
      ]
     },
     "metadata": {},
     "output_type": "display_data"
    }
   ],
   "source": [
    "XX = gam.generate_X_grid(term=0)\n",
    "pdep, confi = gam.partial_dependence(term=0, width=0.95)\n",
    "\n",
    "#passt die form?\n",
    "if confi.shape[0] == pdep.shape[0] and confi.shape[1] == 2:\n",
    "    lower, upper = confi[:, 0], confi[:, 1]\n",
    "elif confi.shape[0] == 2 and confi.shape[1] == pdep.shape[0]:\n",
    "    lower, upper = confi[0], confi[1]\n",
    "else:\n",
    "    raise ValueError(f\"Unexpected shape for confi: {confi.shape}\")\n",
    "\n",
    "plt.figure(figsize=(6,4), dpi=150)\n",
    "plt.plot(XX[:, 0], pdep, label=\"Effect\")\n",
    "plt.fill_between(XX[:, 0], lower, upper, alpha=0.2)\n",
    "plt.xlabel(\"Driver Age\")\n",
    "plt.ylabel(\"Partial effect on log frequency\")\n",
    "plt.title(\"GAM spline – Driver Age\")\n",
    "plt.legend(); plt.tight_layout()\n",
    "plt.savefig(\"../figures/gam_spline_drivage.png\", dpi=150, bbox_inches=\"tight\")\n",
    "plt.show()\n"
   ]
  },
  {
   "cell_type": "code",
   "execution_count": 39,
   "id": "0e0b65b3-f31d-4aa1-8da1-4b442847d5ff",
   "metadata": {},
   "outputs": [
    {
     "data": {
      "image/png": "[encoded data removed]",
      "text/plain": [
       "<Figure size 900x600 with 1 Axes>"
      ]
     },
     "metadata": {},
     "output_type": "display_data"
    }
   ],
   "source": [
    "XX = gam.generate_X_grid(term=1)  \n",
    "pdep, confi = gam.partial_dependence(term=1, width=0.95)\n",
    "if confi.shape[0] == pdep.shape[0] and confi.shape[1] == 2:\n",
    "    lower, upper = confi[:, 0], confi[:, 1]\n",
    "else:\n",
    "    lower, upper = confi[0], confi[1]\n",
    "\n",
    "plt.figure(figsize=(6,4), dpi=150)\n",
    "plt.plot(XX[:, 1], pdep, label=\"Effect\")\n",
    "plt.fill_between(XX[:, 1], lower, upper, alpha=0.2)\n",
    "plt.xlabel(\"Vehicle Age\")\n",
    "plt.ylabel(\"Partial effect on log frequency\")\n",
    "plt.title(\"GAM spline – Vehicle Age\")\n",
    "plt.legend(); plt.tight_layout()\n",
    "plt.savefig(\"../figures/gam_spline_vehage.png\", dpi=150, bbox_inches=\"tight\")\n",
    "plt.show()\n"
   ]
  },
  {
   "cell_type": "code",
   "execution_count": 44,
   "id": "144bf891-35f4-45a6-912c-0ad89f4a83f1",
   "metadata": {},
   "outputs": [
    {
     "name": "stdout",
     "output_type": "stream",
     "text": [
      "Gini (GLM2): 0.301\n",
      "Gini (GAM):  0.299\n"
     ]
    },
    {
     "data": {
      "image/png": "[encoded data removed]",
      "text/plain": [
       "<Figure size 750x750 with 1 Axes>"
      ]
     },
     "metadata": {},
     "output_type": "display_data"
    }
   ],
   "source": [
    "def gini(actual, pred, w=None):\n",
    "    \"\"\"Berechnet gewichteten Gini-Koeffizienten.\"\"\"\n",
    "    if w is None:\n",
    "        w = np.ones_like(actual)\n",
    "    order = np.argsort(-pred)  \n",
    "    actual, w = actual[order], w[order]\n",
    "    cum_actual = np.cumsum(actual * w)\n",
    "    cum_weight = np.cumsum(w)\n",
    "    total_actual = cum_actual[-1]\n",
    "    total_weight = cum_weight[-1]\n",
    "    lorenz = cum_actual / total_actual\n",
    "    cum_weight = cum_weight / total_weight\n",
    "    gini_coef = 2 * np.trapezoid(lorenz, cum_weight) - 1\n",
    "    return gini_coef, lorenz, cum_weight\n",
    "\n",
    "\n",
    "g_glm2, lor_glm2, cw = gini(y_test_counts, test_pred_glm2, w_test)\n",
    "g_gam,  lor_gam,  _  = gini(y_test_counts, test_pred, w_test)\n",
    "\n",
    "print(f\"Gini (GLM2): {g_glm2:.3f}\")\n",
    "print(f\"Gini (GAM):  {g_gam:.3f}\")\n",
    "\n",
    "# Lorenz-Plot speichern\n",
    "plt.figure(figsize=(5,5), dpi=150)\n",
    "plt.plot(cw, lor_glm2, label=f\"GLM2 (G={g_glm2:.3f})\")\n",
    "plt.plot(cw, lor_gam, label=f\"GAM (G={g_gam:.3f})\")\n",
    "plt.plot([0,1],[0,1],'k--',alpha=0.4)\n",
    "plt.xlabel(\"Kumulierte Exponierung\")\n",
    "plt.ylabel(\"Kumulierte Schadenfrequenz\")\n",
    "plt.title(\"Lorenz-Kurve\")\n",
    "plt.legend(); plt.tight_layout()\n",
    "plt.savefig(\"../figures/lorenz_glm_gam.png\", dpi=150, bbox_inches=\"tight\")\n",
    "plt.show()\n"
   ]
  }
 ],
 "metadata": {
  "kernelspec": {
   "display_name": "Python 3 (ipykernel)",
   "language": "python",
   "name": "python3"
  },
  "language_info": {
   "codemirror_mode": {
    "name": "ipython",
    "version": 3
   },
   "file_extension": ".py",
   "mimetype": "text/x-python",
   "name": "python",
   "nbconvert_exporter": "python",
   "pygments_lexer": "ipython3",
   "version": "3.12.3"
  }
 },
 "nbformat": 4,
 "nbformat_minor": 5
}
